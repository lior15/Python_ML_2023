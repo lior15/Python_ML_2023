{
 "cells": [
  {
   "cell_type": "markdown",
   "metadata": {},
   "source": [
    "# Wines Points prediction "
   ]
  },
  {
   "cell_type": "markdown",
   "metadata": {},
   "source": [
    "Submission Date : 3.6.2023\n",
    "Task: Predict the wine score given the inputs\n",
    "Instructions:\n",
    " * Use logistic regression as benchmark model\n",
    " * Use sklearn pipeliens + cv + grid search with sklearn models (e.g. KNNs, RandomForest, etc.)\n",
    " * Compare all models on proper metric (your choice)"
   ]
  },
  {
   "cell_type": "markdown",
   "metadata": {},
   "source": [
    "For DNN course project:\n",
    "* Use sklearn pipeliens with tensorflow models (w/wo embeddings, LSTMs, RNNs, Transformers etc.)\n",
    "* Compare all models on proper metric (your choice)"
   ]
  },
  {
   "cell_type": "code",
   "execution_count": 1,
   "metadata": {},
   "outputs": [],
   "source": [
    "%load_ext autoreload\n",
    "%autoreload 2\n",
    "import sys; sys.path.append('../')"
   ]
  },
  {
   "cell_type": "markdown",
   "metadata": {},
   "source": [
    "Here we will try to predict the points a wine will get based on known characteristics (i.e. features, in the ML terminology). The mine point in this stage is to establish a simple, ideally super cost effective, basline.\n",
    "In the real world there is a tradeoff between complexity and perforamnce, and the DS job, among others, is to present a tradeoff tables of what performance is achivalbel at what complexity level. \n",
    "\n",
    "to which models with increased complexity and resource demands will be compared. Complexity should then be translated into cost. For example:\n",
    " * Compute cost \n",
    " * Maintenance cost\n",
    " * Serving costs (i.e. is new platform needed?) \n",
    " "
   ]
  },
  {
   "cell_type": "markdown",
   "metadata": {},
   "source": [
    "## Loading the data"
   ]
  },
  {
   "cell_type": "code",
   "execution_count": 2,
   "metadata": {},
   "outputs": [
    {
     "data": {
      "text/html": [
       "        <script type=\"text/javascript\">\n",
       "        window.PlotlyConfig = {MathJaxConfig: 'local'};\n",
       "        if (window.MathJax && window.MathJax.Hub && window.MathJax.Hub.Config) {window.MathJax.Hub.Config({SVG: {font: \"STIX-Web\"}});}\n",
       "        if (typeof require !== 'undefined') {\n",
       "        require.undef(\"plotly\");\n",
       "        requirejs.config({\n",
       "            paths: {\n",
       "                'plotly': ['https://cdn.plot.ly/plotly-2.12.1.min']\n",
       "            }\n",
       "        });\n",
       "        require(['plotly'], function(Plotly) {\n",
       "            window._Plotly = Plotly;\n",
       "        });\n",
       "        }\n",
       "        </script>\n",
       "        "
      ]
     },
     "metadata": {},
     "output_type": "display_data"
    }
   ],
   "source": [
    "import pandas as pd\n",
    "import cufflinks as cf; cf.go_offline()"
   ]
  },
  {
   "cell_type": "code",
   "execution_count": 3,
   "metadata": {},
   "outputs": [],
   "source": [
    "\n",
    "import numpy as np\n",
    "import pandas as pd\n",
    "import tensorflow as tf\n",
    "from tensorflow.keras import layers, models\n",
    "from tensorflow.keras.models import Model, Sequential\n",
    "from tensorflow.keras.layers import Input, Dense, Embedding, Concatenate, Flatten, TextVectorization, Dropout\n",
    "from tensorflow.keras.optimizers import Adam\n",
    "from tensorflow.keras.metrics import MeanSquaredError\n",
    "from tensorflow.keras.losses import MeanSquaredError\n",
    "from tensorflow.keras.preprocessing.text import Tokenizer\n",
    "from tensorflow.keras.utils import to_categorical, plot_model, pad_sequences\n",
    "from tensorflow.keras.callbacks import EarlyStopping\n",
    "from tensorflow.keras import activations\n",
    "\n",
    "from sklearn.model_selection import train_test_split\n",
    "from sklearn.preprocessing import MinMaxScaler, OneHotEncoder\n"
   ]
  },
  {
   "cell_type": "markdown",
   "metadata": {},
   "source": [
    "# Embedding"
   ]
  },
  {
   "cell_type": "code",
   "execution_count": 131,
   "metadata": {},
   "outputs": [
    {
     "name": "stderr",
     "output_type": "stream",
     "text": [
      "C:\\Users\\lior\\anaconda3\\lib\\site-packages\\sklearn\\preprocessing\\_encoders.py:868: FutureWarning:\n",
      "\n",
      "`sparse` was renamed to `sparse_output` in version 1.2 and will be removed in 1.4. `sparse_output` is ignored unless you leave `sparse` to its default value.\n",
      "\n"
     ]
    },
    {
     "name": "stdout",
     "output_type": "stream",
     "text": [
      "Epoch 1/10\n",
      "1012/1012 [==============================] - 80s 74ms/step - loss: 467.8390 - mse: 467.8390 - val_loss: 6.1965 - val_mse: 6.1965\n",
      "Epoch 2/10\n",
      "1012/1012 [==============================] - 137s 135ms/step - loss: 5.9820 - mse: 5.9820 - val_loss: 5.8643 - val_mse: 5.8643\n",
      "Epoch 3/10\n",
      "1012/1012 [==============================] - 81s 80ms/step - loss: 5.8069 - mse: 5.8069 - val_loss: 5.8129 - val_mse: 5.8129\n",
      "Epoch 4/10\n",
      "1012/1012 [==============================] - 73s 72ms/step - loss: 5.7820 - mse: 5.7820 - val_loss: 5.7795 - val_mse: 5.7795\n",
      "Epoch 5/10\n",
      "1012/1012 [==============================] - 93s 92ms/step - loss: 5.7959 - mse: 5.7959 - val_loss: 5.7881 - val_mse: 5.7881\n",
      "Epoch 6/10\n",
      "1012/1012 [==============================] - 151s 149ms/step - loss: 5.8024 - mse: 5.8024 - val_loss: 6.0474 - val_mse: 6.0474\n",
      "Epoch 7/10\n",
      "1012/1012 [==============================] - 129s 128ms/step - loss: 5.8364 - mse: 5.8364 - val_loss: 6.2460 - val_mse: 6.2460\n",
      "Epoch 8/10\n",
      "1012/1012 [==============================] - 101s 100ms/step - loss: 5.8259 - mse: 5.8259 - val_loss: 5.8068 - val_mse: 5.8068\n",
      "Epoch 9/10\n",
      "1012/1012 [==============================] - 101s 99ms/step - loss: 5.8324 - mse: 5.8324 - val_loss: 5.9040 - val_mse: 5.9040\n",
      "Epoch 10/10\n",
      "1012/1012 [==============================] - 145s 143ms/step - loss: 5.8482 - mse: 5.8482 - val_loss: 5.8347 - val_mse: 5.8347\n"
     ]
    },
    {
     "data": {
      "text/plain": [
       "<keras.src.callbacks.History at 0x1fda4871850>"
      ]
     },
     "execution_count": 131,
     "metadata": {},
     "output_type": "execute_result"
    }
   ],
   "source": [
    "import pandas as pd\n",
    "import numpy as np\n",
    "import tensorflow as tf\n",
    "from sklearn.model_selection import train_test_split\n",
    "from sklearn.preprocessing import StandardScaler, OneHotEncoder\n",
    "from tensorflow.keras.layers import Input, Embedding, LSTM, Concatenate, Dense\n",
    "from tensorflow.keras.models import Model\n",
    "\n",
    "# Load your dataset\n",
    "wine_reviews = pd.read_csv(\"clean_wine_reviews_data.csv\")\n",
    "summary_df = pd.read_csv(\"summary_df.csv\")\n",
    "\n",
    "# Preprocessing\n",
    "wine_reviews = wine_reviews.drop(['Unnamed: 0', 'taster_twitter_handle', 'region_1', 'region_2', 'designation'], axis=1)\n",
    "wine_reviews['description_length'] = wine_reviews.description.str.len()\n",
    "wine_reviews = wine_reviews.dropna(subset=['year', 'points'])\n",
    "wine_reviews['year'] = wine_reviews['year'].astype(int).astype(str)\n",
    "wine_reviews[\"description_length\"] = wine_reviews[\"description_length\"].astype(np.int32)\n",
    "\n",
    "# Split data\n",
    "y = wine_reviews['points']\n",
    "X = wine_reviews.drop(['points'], axis=1)\n",
    "X_train, X_test, y_train, y_test = train_test_split(X, y, test_size=0.25, random_state=29)\n",
    "\n",
    "# Preprocess categorical data\n",
    "categorical_cols = ['country', 'taster_name', 'variety', 'province', 'year']\n",
    "numeric_cols = ['price']\n",
    "\n",
    "# Use StandardScaler for numeric columns\n",
    "numeric_transformer = StandardScaler()\n",
    "\n",
    "# Use OneHotEncoder for categorical columns\n",
    "categorical_transformer = OneHotEncoder(handle_unknown=\"ignore\", sparse=False)\n",
    "\n",
    "# Preprocess features using ColumnTransformer\n",
    "from sklearn.compose import ColumnTransformer\n",
    "\n",
    "preprocessor = ColumnTransformer(\n",
    "    transformers=[\n",
    "        ('num', numeric_transformer, numeric_cols),\n",
    "        ('cat', categorical_transformer, categorical_cols)\n",
    "    ])\n",
    "\n",
    "# Fit and transform preprocessing on training data\n",
    "X_train_transformed = preprocessor.fit_transform(X_train)\n",
    "X_test_transformed = preprocessor.transform(X_test)\n",
    "\n",
    "# Text Vectorization\n",
    "max_vocab_length = 10000\n",
    "max_length = 60\n",
    "\n",
    "text_vectorizer = tf.keras.layers.TextVectorization(\n",
    "    max_tokens=max_vocab_length,\n",
    "    output_mode=\"int\",\n",
    "    output_sequence_length=max_length)\n",
    "\n",
    "text_vectorizer.adapt(X_train['description'])\n",
    "text_input = Input(shape=(1,), dtype=\"string\")\n",
    "text_vector = text_vectorizer(text_input)\n",
    "text_embedding = Embedding(\n",
    "    input_dim=max_vocab_length,\n",
    "    output_dim=128,\n",
    "    embeddings_initializer=\"uniform\",\n",
    "    input_length=max_length)(text_vector)\n",
    "text_lstm = LSTM(64)(text_embedding)\n",
    "\n",
    "# Combine numeric and categorical data\n",
    "combined_input = Input(shape=(X_train_transformed.shape[1],), dtype=\"float32\")\n",
    "concatenated = Concatenate()([text_lstm, combined_input])\n",
    "\n",
    "# Build the model\n",
    "x = Dense(16, activation='relu')(concatenated)\n",
    "x = Dense(8, activation='relu')(x)\n",
    "output = Dense(1, activation=\"linear\")(x)\n",
    "\n",
    "model = Model(inputs=[text_input, combined_input], outputs=output)\n",
    "\n",
    "# Compile the model\n",
    "model.compile(loss=tf.keras.losses.MeanSquaredError(),\n",
    "              optimizer=tf.keras.optimizers.Adam(),\n",
    "              metrics=['mse'])\n",
    "\n",
    "# Train the model\n",
    "model.fit([X_train['description'], X_train_transformed], y_train,\n",
    "          batch_size=64,\n",
    "          epochs=10,\n",
    "          validation_split=0.2) \n",
    "\n"
   ]
  },
  {
   "cell_type": "code",
   "execution_count": 161,
   "metadata": {},
   "outputs": [
    {
     "ename": "ValueError",
     "evalue": "Data cardinality is ambiguous:\n  x sizes: 1618200, 26970\nMake sure all arrays contain the same number of samples.",
     "output_type": "error",
     "traceback": [
      "\u001b[1;31m---------------------------------------------------------------------------\u001b[0m",
      "\u001b[1;31mValueError\u001b[0m                                Traceback (most recent call last)",
      "Cell \u001b[1;32mIn[161], line 20\u001b[0m\n\u001b[0;32m     17\u001b[0m numeric_categorical_input_test \u001b[38;5;241m=\u001b[39m X_test_transformed  \u001b[38;5;66;03m# Numeric and categorical input\u001b[39;00m\n\u001b[0;32m     19\u001b[0m \u001b[38;5;66;03m# Make predictions\u001b[39;00m\n\u001b[1;32m---> 20\u001b[0m predictions \u001b[38;5;241m=\u001b[39m \u001b[43mmodel\u001b[49m\u001b[38;5;241;43m.\u001b[39;49m\u001b[43mpredict\u001b[49m\u001b[43m(\u001b[49m\u001b[43m[\u001b[49m\u001b[43mtext_input_test\u001b[49m\u001b[43m,\u001b[49m\u001b[43m \u001b[49m\u001b[43mnumeric_categorical_input_test\u001b[49m\u001b[43m]\u001b[49m\u001b[43m)\u001b[49m\n\u001b[0;32m     22\u001b[0m \u001b[38;5;66;03m# Print the predictions\u001b[39;00m\n\u001b[0;32m     23\u001b[0m \u001b[38;5;28mprint\u001b[39m(predictions)\n",
      "File \u001b[1;32m~\\anaconda3\\lib\\site-packages\\keras\\src\\utils\\traceback_utils.py:70\u001b[0m, in \u001b[0;36mfilter_traceback.<locals>.error_handler\u001b[1;34m(*args, **kwargs)\u001b[0m\n\u001b[0;32m     67\u001b[0m     filtered_tb \u001b[38;5;241m=\u001b[39m _process_traceback_frames(e\u001b[38;5;241m.\u001b[39m__traceback__)\n\u001b[0;32m     68\u001b[0m     \u001b[38;5;66;03m# To get the full stack trace, call:\u001b[39;00m\n\u001b[0;32m     69\u001b[0m     \u001b[38;5;66;03m# `tf.debugging.disable_traceback_filtering()`\u001b[39;00m\n\u001b[1;32m---> 70\u001b[0m     \u001b[38;5;28;01mraise\u001b[39;00m e\u001b[38;5;241m.\u001b[39mwith_traceback(filtered_tb) \u001b[38;5;28;01mfrom\u001b[39;00m \u001b[38;5;28;01mNone\u001b[39;00m\n\u001b[0;32m     71\u001b[0m \u001b[38;5;28;01mfinally\u001b[39;00m:\n\u001b[0;32m     72\u001b[0m     \u001b[38;5;28;01mdel\u001b[39;00m filtered_tb\n",
      "File \u001b[1;32m~\\anaconda3\\lib\\site-packages\\keras\\src\\engine\\data_adapter.py:1950\u001b[0m, in \u001b[0;36m_check_data_cardinality\u001b[1;34m(data)\u001b[0m\n\u001b[0;32m   1943\u001b[0m     msg \u001b[38;5;241m+\u001b[39m\u001b[38;5;241m=\u001b[39m \u001b[38;5;124m\"\u001b[39m\u001b[38;5;124m  \u001b[39m\u001b[38;5;132;01m{}\u001b[39;00m\u001b[38;5;124m sizes: \u001b[39m\u001b[38;5;132;01m{}\u001b[39;00m\u001b[38;5;130;01m\\n\u001b[39;00m\u001b[38;5;124m\"\u001b[39m\u001b[38;5;241m.\u001b[39mformat(\n\u001b[0;32m   1944\u001b[0m         label,\n\u001b[0;32m   1945\u001b[0m         \u001b[38;5;124m\"\u001b[39m\u001b[38;5;124m, \u001b[39m\u001b[38;5;124m\"\u001b[39m\u001b[38;5;241m.\u001b[39mjoin(\n\u001b[0;32m   1946\u001b[0m             \u001b[38;5;28mstr\u001b[39m(i\u001b[38;5;241m.\u001b[39mshape[\u001b[38;5;241m0\u001b[39m]) \u001b[38;5;28;01mfor\u001b[39;00m i \u001b[38;5;129;01min\u001b[39;00m tf\u001b[38;5;241m.\u001b[39mnest\u001b[38;5;241m.\u001b[39mflatten(single_data)\n\u001b[0;32m   1947\u001b[0m         ),\n\u001b[0;32m   1948\u001b[0m     )\n\u001b[0;32m   1949\u001b[0m msg \u001b[38;5;241m+\u001b[39m\u001b[38;5;241m=\u001b[39m \u001b[38;5;124m\"\u001b[39m\u001b[38;5;124mMake sure all arrays contain the same number of samples.\u001b[39m\u001b[38;5;124m\"\u001b[39m\n\u001b[1;32m-> 1950\u001b[0m \u001b[38;5;28;01mraise\u001b[39;00m \u001b[38;5;167;01mValueError\u001b[39;00m(msg)\n",
      "\u001b[1;31mValueError\u001b[0m: Data cardinality is ambiguous:\n  x sizes: 1618200, 26970\nMake sure all arrays contain the same number of samples."
     ]
    }
   ],
   "source": [
    "# Adapt the text vectorizer to the test data\n",
    "text_description_test = X_test['description'].values\n",
    "text_vectorizer.adapt(text_description_test)\n",
    "\n",
    "# Vectorize the test data\n",
    "text_description_vectorized = text_vectorizer(text_description_test)\n",
    "text_description_vectorized = tf.reshape(text_description_vectorized, (-1, 1))\n",
    "\n",
    "# Preprocess numeric and categorical data for test data\n",
    "X_test_transformed = preprocessor.transform(X_test)\n",
    "\n",
    "# Convert to float32\n",
    "X_test_transformed = X_test_transformed.astype(np.float32)\n",
    "\n",
    "# Create input data for predictions\n",
    "text_input_test = text_description_vectorized  # Text input\n",
    "numeric_categorical_input_test = X_test_transformed  # Numeric and categorical input\n",
    "\n",
    "# Make predictions\n",
    "predictions = model.predict([text_input_test, numeric_categorical_input_test])\n",
    "\n",
    "# Print the predictions\n",
    "print(predictions)\n"
   ]
  },
  {
   "cell_type": "code",
   "execution_count": 165,
   "metadata": {},
   "outputs": [
    {
     "data": {
      "text/plain": [
       "(26970, 537)"
      ]
     },
     "execution_count": 165,
     "metadata": {},
     "output_type": "execute_result"
    }
   ],
   "source": [
    "numeric_categorical_input_test.shape"
   ]
  },
  {
   "cell_type": "code",
   "execution_count": null,
   "metadata": {},
   "outputs": [
    {
     "name": "stdout",
     "output_type": "stream",
     "text": [
      "Training model with 16 layers, 8 units per layer, and learning rate 0.001\n"
     ]
    },
    {
     "name": "stderr",
     "output_type": "stream",
     "text": [
      "C:\\Users\\lior\\anaconda3\\lib\\site-packages\\sklearn\\preprocessing\\_encoders.py:868: FutureWarning:\n",
      "\n",
      "`sparse` was renamed to `sparse_output` in version 1.2 and will be removed in 1.4. `sparse_output` is ignored unless you leave `sparse` to its default value.\n",
      "\n"
     ]
    },
    {
     "name": "stdout",
     "output_type": "stream",
     "text": [
      "Epoch 1/10\n",
      "1012/1012 [==============================] - 100s 95ms/step - loss: 766.7939 - mse: 766.7939 - val_loss: 6.3922 - val_mse: 6.3922\n",
      "Epoch 2/10\n",
      "1012/1012 [==============================] - 99s 97ms/step - loss: 6.0957 - mse: 6.0957 - val_loss: 5.9298 - val_mse: 5.9298\n",
      "Epoch 3/10\n",
      "1012/1012 [==============================] - 102s 101ms/step - loss: 5.8472 - mse: 5.8472 - val_loss: 5.8354 - val_mse: 5.8354\n",
      "Epoch 4/10\n",
      "1012/1012 [==============================] - 100s 99ms/step - loss: 5.7909 - mse: 5.7909 - val_loss: 5.7853 - val_mse: 5.7853\n",
      "Epoch 5/10\n",
      "1012/1012 [==============================] - 98s 97ms/step - loss: 5.7901 - mse: 5.7901 - val_loss: 5.7890 - val_mse: 5.7890\n",
      "Epoch 6/10\n",
      "1012/1012 [==============================] - 100s 99ms/step - loss: 5.7869 - mse: 5.7869 - val_loss: 5.8161 - val_mse: 5.8161\n",
      "Epoch 7/10\n",
      "1012/1012 [==============================] - 99s 98ms/step - loss: 5.8130 - mse: 5.8130 - val_loss: 5.9673 - val_mse: 5.9673\n",
      "Epoch 8/10\n",
      "1012/1012 [==============================] - 99s 98ms/step - loss: 5.7983 - mse: 5.7983 - val_loss: 5.8040 - val_mse: 5.8040\n",
      "Epoch 9/10\n",
      "1012/1012 [==============================] - 99s 98ms/step - loss: 5.8144 - mse: 5.8144 - val_loss: 5.7833 - val_mse: 5.7833\n",
      "Epoch 10/10\n",
      "1012/1012 [==============================] - 101s 99ms/step - loss: 5.8210 - mse: 5.8210 - val_loss: 5.8021 - val_mse: 5.8021\n",
      "Training model with 16 layers, 8 units per layer, and learning rate 0.01\n"
     ]
    },
    {
     "name": "stderr",
     "output_type": "stream",
     "text": [
      "C:\\Users\\lior\\anaconda3\\lib\\site-packages\\sklearn\\preprocessing\\_encoders.py:868: FutureWarning:\n",
      "\n",
      "`sparse` was renamed to `sparse_output` in version 1.2 and will be removed in 1.4. `sparse_output` is ignored unless you leave `sparse` to its default value.\n",
      "\n"
     ]
    },
    {
     "name": "stdout",
     "output_type": "stream",
     "text": [
      "Epoch 1/10\n",
      "1012/1012 [==============================] - 142s 134ms/step - loss: 806.8312 - mse: 806.8312 - val_loss: 6.5091 - val_mse: 6.5091\n",
      "Epoch 2/10\n",
      "1012/1012 [==============================] - 135s 133ms/step - loss: 6.1795 - mse: 6.1795 - val_loss: 5.9797 - val_mse: 5.9797\n",
      "Epoch 3/10\n",
      "1012/1012 [==============================] - 135s 133ms/step - loss: 5.8820 - mse: 5.8820 - val_loss: 5.8622 - val_mse: 5.8622\n",
      "Epoch 4/10\n",
      "1012/1012 [==============================] - 133s 132ms/step - loss: 5.8005 - mse: 5.8005 - val_loss: 5.7945 - val_mse: 5.7945\n",
      "Epoch 5/10\n",
      "1012/1012 [==============================] - 136s 134ms/step - loss: 5.7780 - mse: 5.7780 - val_loss: 5.8245 - val_mse: 5.8245\n",
      "Epoch 6/10\n",
      "1012/1012 [==============================] - 134s 133ms/step - loss: 5.7722 - mse: 5.7722 - val_loss: 5.7858 - val_mse: 5.7858\n",
      "Epoch 7/10\n",
      "1012/1012 [==============================] - 133s 132ms/step - loss: 5.7916 - mse: 5.7916 - val_loss: 5.7945 - val_mse: 5.7945\n",
      "Epoch 8/10\n",
      "1012/1012 [==============================] - 131s 130ms/step - loss: 5.7788 - mse: 5.7788 - val_loss: 5.7703 - val_mse: 5.7703\n",
      "Epoch 9/10\n",
      "1012/1012 [==============================] - 26333s 26s/step - loss: 5.7992 - mse: 5.7992 - val_loss: 5.8156 - val_mse: 5.8156\n",
      "Epoch 10/10\n",
      "1012/1012 [==============================] - 102s 101ms/step - loss: 5.7981 - mse: 5.7981 - val_loss: 5.7704 - val_mse: 5.7704\n",
      "Training model with 16 layers, 8 units per layer, and learning rate 0.1\n"
     ]
    },
    {
     "name": "stderr",
     "output_type": "stream",
     "text": [
      "C:\\Users\\lior\\anaconda3\\lib\\site-packages\\sklearn\\preprocessing\\_encoders.py:868: FutureWarning:\n",
      "\n",
      "`sparse` was renamed to `sparse_output` in version 1.2 and will be removed in 1.4. `sparse_output` is ignored unless you leave `sparse` to its default value.\n",
      "\n"
     ]
    },
    {
     "name": "stdout",
     "output_type": "stream",
     "text": [
      "Epoch 1/10\n",
      "1012/1012 [==============================] - 98s 94ms/step - loss: 740.8046 - mse: 740.8046 - val_loss: 6.3629 - val_mse: 6.3629\n",
      "Epoch 2/10\n",
      "1012/1012 [==============================] - 86s 85ms/step - loss: 6.0931 - mse: 6.0931 - val_loss: 5.9355 - val_mse: 5.9355\n",
      "Epoch 3/10\n",
      "1012/1012 [==============================] - 86s 85ms/step - loss: 5.8541 - mse: 5.8541 - val_loss: 5.8413 - val_mse: 5.8413\n",
      "Epoch 4/10\n",
      "1012/1012 [==============================] - 82s 81ms/step - loss: 5.7930 - mse: 5.7930 - val_loss: 5.7868 - val_mse: 5.7868\n",
      "Epoch 5/10\n",
      "1012/1012 [==============================] - 85s 84ms/step - loss: 5.7880 - mse: 5.7880 - val_loss: 5.7908 - val_mse: 5.7908\n",
      "Epoch 6/10\n",
      "1012/1012 [==============================] - 95s 94ms/step - loss: 5.7839 - mse: 5.7839 - val_loss: 5.8037 - val_mse: 5.8037\n",
      "Epoch 7/10\n",
      "1012/1012 [==============================] - 107s 106ms/step - loss: 5.8094 - mse: 5.8094 - val_loss: 5.9044 - val_mse: 5.9044\n",
      "Epoch 8/10\n",
      "1012/1012 [==============================] - 89s 87ms/step - loss: 5.7955 - mse: 5.7955 - val_loss: 5.7999 - val_mse: 5.7999\n",
      "Epoch 9/10\n",
      "1012/1012 [==============================] - 89s 87ms/step - loss: 5.8129 - mse: 5.8129 - val_loss: 5.7764 - val_mse: 5.7764\n",
      "Epoch 10/10\n",
      "1012/1012 [==============================] - 99s 98ms/step - loss: 5.8176 - mse: 5.8176 - val_loss: 5.7972 - val_mse: 5.7972\n",
      "Training model with 16 layers, 16 units per layer, and learning rate 0.001\n"
     ]
    },
    {
     "name": "stderr",
     "output_type": "stream",
     "text": [
      "C:\\Users\\lior\\anaconda3\\lib\\site-packages\\sklearn\\preprocessing\\_encoders.py:868: FutureWarning:\n",
      "\n",
      "`sparse` was renamed to `sparse_output` in version 1.2 and will be removed in 1.4. `sparse_output` is ignored unless you leave `sparse` to its default value.\n",
      "\n"
     ]
    },
    {
     "name": "stdout",
     "output_type": "stream",
     "text": [
      "Epoch 1/10\n",
      "1012/1012 [==============================] - 97s 93ms/step - loss: 624.4804 - mse: 624.4804 - val_loss: 6.1407 - val_mse: 6.1407\n",
      "Epoch 2/10\n",
      "1012/1012 [==============================] - 85s 84ms/step - loss: 5.9572 - mse: 5.9572 - val_loss: 5.8622 - val_mse: 5.8622\n",
      "Epoch 3/10\n",
      "1012/1012 [==============================] - 81s 80ms/step - loss: 5.8083 - mse: 5.8083 - val_loss: 5.8117 - val_mse: 5.8117\n",
      "Epoch 4/10\n",
      "1012/1012 [==============================] - 73s 72ms/step - loss: 5.7892 - mse: 5.7892 - val_loss: 5.7925 - val_mse: 5.7925\n",
      "Epoch 5/10\n",
      "1012/1012 [==============================] - 76s 75ms/step - loss: 5.7999 - mse: 5.7999 - val_loss: 5.7789 - val_mse: 5.7789\n",
      "Epoch 6/10\n",
      "1012/1012 [==============================] - 74s 73ms/step - loss: 5.8069 - mse: 5.8069 - val_loss: 6.2953 - val_mse: 6.2953\n",
      "Epoch 7/10\n",
      "1012/1012 [==============================] - 73s 72ms/step - loss: 5.8395 - mse: 5.8395 - val_loss: 6.2671 - val_mse: 6.2671\n",
      "Epoch 8/10\n",
      "1012/1012 [==============================] - 77s 76ms/step - loss: 5.8288 - mse: 5.8288 - val_loss: 5.7899 - val_mse: 5.7899\n",
      "Epoch 9/10\n",
      "1012/1012 [==============================] - 75s 74ms/step - loss: 5.8306 - mse: 5.8306 - val_loss: 5.9334 - val_mse: 5.9334\n",
      "Epoch 10/10\n",
      "1012/1012 [==============================] - 73s 72ms/step - loss: 5.8469 - mse: 5.8469 - val_loss: 5.8282 - val_mse: 5.8282\n",
      "Training model with 16 layers, 16 units per layer, and learning rate 0.01\n"
     ]
    },
    {
     "name": "stderr",
     "output_type": "stream",
     "text": [
      "C:\\Users\\lior\\anaconda3\\lib\\site-packages\\sklearn\\preprocessing\\_encoders.py:868: FutureWarning:\n",
      "\n",
      "`sparse` was renamed to `sparse_output` in version 1.2 and will be removed in 1.4. `sparse_output` is ignored unless you leave `sparse` to its default value.\n",
      "\n"
     ]
    },
    {
     "name": "stdout",
     "output_type": "stream",
     "text": [
      "Epoch 1/10\n",
      "1012/1012 [==============================] - 80s 76ms/step - loss: 911.0970 - mse: 911.0970 - val_loss: 6.2378 - val_mse: 6.2378\n",
      "Epoch 2/10\n",
      "1012/1012 [==============================] - 99s 98ms/step - loss: 6.0143 - mse: 6.0143 - val_loss: 5.8877 - val_mse: 5.8877\n",
      "Epoch 3/10\n",
      "1012/1012 [==============================] - 100s 99ms/step - loss: 5.8197 - mse: 5.8197 - val_loss: 5.8100 - val_mse: 5.8100\n",
      "Epoch 4/10\n",
      "1012/1012 [==============================] - 100s 99ms/step - loss: 5.7585 - mse: 5.7585 - val_loss: 5.7470 - val_mse: 5.7470\n",
      "Epoch 5/10\n",
      "1012/1012 [==============================] - 102s 101ms/step - loss: 5.7186 - mse: 5.7186 - val_loss: 5.6640 - val_mse: 5.6640\n",
      "Epoch 6/10\n",
      "1012/1012 [==============================] - 102s 101ms/step - loss: 5.6141 - mse: 5.6141 - val_loss: 5.6132 - val_mse: 5.6132\n",
      "Epoch 7/10\n",
      "1012/1012 [==============================] - 105s 104ms/step - loss: 5.5192 - mse: 5.5192 - val_loss: 5.6428 - val_mse: 5.6428\n",
      "Epoch 8/10\n",
      "1012/1012 [==============================] - 95s 94ms/step - loss: 5.4524 - mse: 5.4524 - val_loss: 5.4395 - val_mse: 5.4395\n",
      "Epoch 9/10\n",
      "1012/1012 [==============================] - 100s 98ms/step - loss: 5.4221 - mse: 5.4221 - val_loss: 5.4095 - val_mse: 5.4095\n",
      "Epoch 10/10\n",
      "1012/1012 [==============================] - 100s 99ms/step - loss: 5.4180 - mse: 5.4180 - val_loss: 5.4268 - val_mse: 5.4268\n",
      "Training model with 16 layers, 16 units per layer, and learning rate 0.1\n"
     ]
    },
    {
     "name": "stderr",
     "output_type": "stream",
     "text": [
      "C:\\Users\\lior\\anaconda3\\lib\\site-packages\\sklearn\\preprocessing\\_encoders.py:868: FutureWarning:\n",
      "\n",
      "`sparse` was renamed to `sparse_output` in version 1.2 and will be removed in 1.4. `sparse_output` is ignored unless you leave `sparse` to its default value.\n",
      "\n"
     ]
    },
    {
     "name": "stdout",
     "output_type": "stream",
     "text": [
      "Epoch 1/10\n",
      "1012/1012 [==============================] - 98s 94ms/step - loss: 652.4693 - mse: 652.4693 - val_loss: 6.2159 - val_mse: 6.2159\n",
      "Epoch 2/10\n",
      "1012/1012 [==============================] - 91s 90ms/step - loss: 5.9947 - mse: 5.9947 - val_loss: 5.8763 - val_mse: 5.8763\n",
      "Epoch 3/10\n",
      "1012/1012 [==============================] - 96s 95ms/step - loss: 5.8125 - mse: 5.8125 - val_loss: 5.8138 - val_mse: 5.8138\n",
      "Epoch 4/10\n",
      "1012/1012 [==============================] - 96s 95ms/step - loss: 5.7771 - mse: 5.7771 - val_loss: 5.7679 - val_mse: 5.7679\n",
      "Epoch 5/10\n",
      "1012/1012 [==============================] - 94s 93ms/step - loss: 5.7736 - mse: 5.7736 - val_loss: 5.7467 - val_mse: 5.7467\n",
      "Epoch 6/10\n",
      "1012/1012 [==============================] - 98s 97ms/step - loss: 5.7486 - mse: 5.7486 - val_loss: 6.0880 - val_mse: 6.0880\n",
      "Epoch 7/10\n",
      "1012/1012 [==============================] - 91s 90ms/step - loss: 5.7052 - mse: 5.7052 - val_loss: 6.0733 - val_mse: 6.0733\n",
      "Epoch 8/10\n",
      "1012/1012 [==============================] - 336s 332ms/step - loss: 5.5784 - mse: 5.5784 - val_loss: 5.4986 - val_mse: 5.4986\n",
      "Epoch 9/10\n",
      "1012/1012 [==============================] - 95s 93ms/step - loss: 5.4922 - mse: 5.4922 - val_loss: 5.4678 - val_mse: 5.4678\n",
      "Epoch 10/10\n",
      "1012/1012 [==============================] - 96s 95ms/step - loss: 5.4881 - mse: 5.4881 - val_loss: 5.4855 - val_mse: 5.4855\n",
      "Training model with 16 layers, 32 units per layer, and learning rate 0.001\n"
     ]
    },
    {
     "name": "stderr",
     "output_type": "stream",
     "text": [
      "C:\\Users\\lior\\anaconda3\\lib\\site-packages\\sklearn\\preprocessing\\_encoders.py:868: FutureWarning:\n",
      "\n",
      "`sparse` was renamed to `sparse_output` in version 1.2 and will be removed in 1.4. `sparse_output` is ignored unless you leave `sparse` to its default value.\n",
      "\n"
     ]
    },
    {
     "name": "stdout",
     "output_type": "stream",
     "text": [
      "Epoch 1/10\n",
      "1012/1012 [==============================] - 91s 86ms/step - loss: 511.3090 - mse: 511.3090 - val_loss: 6.0514 - val_mse: 6.0514\n",
      "Epoch 2/10\n",
      "1012/1012 [==============================] - 452s 447ms/step - loss: 5.9055 - mse: 5.9055 - val_loss: 5.8362 - val_mse: 5.8362\n",
      "Epoch 3/10\n",
      "1012/1012 [==============================] - 82s 81ms/step - loss: 5.7964 - mse: 5.7964 - val_loss: 5.7909 - val_mse: 5.7909\n",
      "Epoch 4/10\n",
      "1012/1012 [==============================] - 78s 77ms/step - loss: 5.7962 - mse: 5.7962 - val_loss: 5.8185 - val_mse: 5.8185\n",
      "Epoch 5/10\n",
      "1012/1012 [==============================] - 80s 79ms/step - loss: 5.8121 - mse: 5.8121 - val_loss: 5.7747 - val_mse: 5.7747\n",
      "Epoch 6/10\n",
      "1012/1012 [==============================] - 77s 76ms/step - loss: 5.8304 - mse: 5.8304 - val_loss: 6.2193 - val_mse: 6.2193\n",
      "Epoch 7/10\n",
      "1012/1012 [==============================] - 77s 77ms/step - loss: 5.8575 - mse: 5.8575 - val_loss: 5.9673 - val_mse: 5.9673\n",
      "Epoch 8/10\n",
      "1012/1012 [==============================] - 77s 76ms/step - loss: 5.8745 - mse: 5.8745 - val_loss: 5.7816 - val_mse: 5.7816\n",
      "Epoch 9/10\n",
      "1012/1012 [==============================] - 77s 76ms/step - loss: 5.8556 - mse: 5.8556 - val_loss: 5.8196 - val_mse: 5.8196\n",
      "Epoch 10/10\n",
      "1012/1012 [==============================] - 80s 79ms/step - loss: 5.8770 - mse: 5.8770 - val_loss: 5.7804 - val_mse: 5.7804\n",
      "Training model with 16 layers, 32 units per layer, and learning rate 0.01\n"
     ]
    },
    {
     "name": "stderr",
     "output_type": "stream",
     "text": [
      "C:\\Users\\lior\\anaconda3\\lib\\site-packages\\sklearn\\preprocessing\\_encoders.py:868: FutureWarning:\n",
      "\n",
      "`sparse` was renamed to `sparse_output` in version 1.2 and will be removed in 1.4. `sparse_output` is ignored unless you leave `sparse` to its default value.\n",
      "\n"
     ]
    },
    {
     "name": "stdout",
     "output_type": "stream",
     "text": [
      "Epoch 1/10\n",
      "1012/1012 [==============================] - 94s 90ms/step - loss: 499.2271 - mse: 499.2271 - val_loss: 6.0279 - val_mse: 6.0279\n",
      "Epoch 2/10\n",
      "1012/1012 [==============================] - 113s 111ms/step - loss: 5.8926 - mse: 5.8926 - val_loss: 5.8255 - val_mse: 5.8255\n",
      "Epoch 3/10\n",
      "1012/1012 [==============================] - 112s 111ms/step - loss: 5.7958 - mse: 5.7958 - val_loss: 5.7828 - val_mse: 5.7828\n",
      "Epoch 4/10\n",
      "1012/1012 [==============================] - 113s 112ms/step - loss: 5.7987 - mse: 5.7987 - val_loss: 5.8230 - val_mse: 5.8230\n",
      "Epoch 5/10\n",
      "1012/1012 [==============================] - 112s 111ms/step - loss: 5.8177 - mse: 5.8177 - val_loss: 5.7747 - val_mse: 5.7747\n",
      "Epoch 6/10\n",
      "1012/1012 [==============================] - 113s 111ms/step - loss: 5.8401 - mse: 5.8401 - val_loss: 6.0548 - val_mse: 6.0548\n",
      "Epoch 7/10\n",
      "1012/1012 [==============================] - 167s 166ms/step - loss: 5.8629 - mse: 5.8629 - val_loss: 5.9094 - val_mse: 5.9094\n",
      "Epoch 8/10\n",
      "1012/1012 [==============================] - 118s 116ms/step - loss: 5.8906 - mse: 5.8906 - val_loss: 5.7846 - val_mse: 5.7846\n",
      "Epoch 9/10\n",
      "1012/1012 [==============================] - 86s 85ms/step - loss: 5.8637 - mse: 5.8637 - val_loss: 5.7871 - val_mse: 5.7871\n",
      "Epoch 10/10\n",
      "1012/1012 [==============================] - 83s 82ms/step - loss: 5.8811 - mse: 5.8811 - val_loss: 5.8063 - val_mse: 5.8063\n",
      "Training model with 16 layers, 32 units per layer, and learning rate 0.1\n"
     ]
    },
    {
     "name": "stderr",
     "output_type": "stream",
     "text": [
      "C:\\Users\\lior\\anaconda3\\lib\\site-packages\\sklearn\\preprocessing\\_encoders.py:868: FutureWarning:\n",
      "\n",
      "`sparse` was renamed to `sparse_output` in version 1.2 and will be removed in 1.4. `sparse_output` is ignored unless you leave `sparse` to its default value.\n",
      "\n"
     ]
    },
    {
     "name": "stdout",
     "output_type": "stream",
     "text": [
      "Epoch 1/10\n",
      "1012/1012 [==============================] - 99s 91ms/step - loss: 556.6260 - mse: 556.6260 - val_loss: 6.0323 - val_mse: 6.0323\n",
      "Epoch 2/10\n",
      "1012/1012 [==============================] - 91s 89ms/step - loss: 5.8851 - mse: 5.8851 - val_loss: 5.8334 - val_mse: 5.8334\n",
      "Epoch 3/10\n",
      "1012/1012 [==============================] - 90s 89ms/step - loss: 5.7917 - mse: 5.7917 - val_loss: 5.7796 - val_mse: 5.7796\n",
      "Epoch 4/10\n",
      "1012/1012 [==============================] - 92s 91ms/step - loss: 5.7798 - mse: 5.7798 - val_loss: 5.7905 - val_mse: 5.7905\n",
      "Epoch 5/10\n",
      "1012/1012 [==============================] - 91s 90ms/step - loss: 5.7595 - mse: 5.7595 - val_loss: 5.6762 - val_mse: 5.6762\n",
      "Epoch 6/10\n",
      "1012/1012 [==============================] - 90s 89ms/step - loss: 5.6680 - mse: 5.6680 - val_loss: 5.9896 - val_mse: 5.9896\n",
      "Epoch 7/10\n",
      "1012/1012 [==============================] - 90s 89ms/step - loss: 5.5538 - mse: 5.5538 - val_loss: 5.6533 - val_mse: 5.6533\n",
      "Epoch 8/10\n",
      "1012/1012 [==============================] - 92s 91ms/step - loss: 5.5286 - mse: 5.5286 - val_loss: 5.4224 - val_mse: 5.4224\n",
      "Epoch 9/10\n",
      "1012/1012 [==============================] - 92s 91ms/step - loss: 5.4802 - mse: 5.4802 - val_loss: 5.4453 - val_mse: 5.4453\n",
      "Epoch 10/10\n",
      "1012/1012 [==============================] - 92s 91ms/step - loss: 5.4991 - mse: 5.4991 - val_loss: 5.3973 - val_mse: 5.3973\n",
      "Training model with 16 layers, 64 units per layer, and learning rate 0.001\n"
     ]
    },
    {
     "name": "stderr",
     "output_type": "stream",
     "text": [
      "C:\\Users\\lior\\anaconda3\\lib\\site-packages\\sklearn\\preprocessing\\_encoders.py:868: FutureWarning:\n",
      "\n",
      "`sparse` was renamed to `sparse_output` in version 1.2 and will be removed in 1.4. `sparse_output` is ignored unless you leave `sparse` to its default value.\n",
      "\n"
     ]
    },
    {
     "name": "stdout",
     "output_type": "stream",
     "text": [
      "Epoch 1/10\n",
      "1012/1012 [==============================] - 88s 84ms/step - loss: 433.9040 - mse: 433.9040 - val_loss: 5.9840 - val_mse: 5.9840\n",
      "Epoch 2/10\n",
      "1012/1012 [==============================] - 85s 84ms/step - loss: 5.8682 - mse: 5.8682 - val_loss: 5.8359 - val_mse: 5.8359\n",
      "Epoch 3/10\n",
      "1012/1012 [==============================] - 83s 82ms/step - loss: 5.8002 - mse: 5.8002 - val_loss: 5.7801 - val_mse: 5.7801\n",
      "Epoch 4/10\n",
      "1012/1012 [==============================] - 84s 83ms/step - loss: 5.8058 - mse: 5.8058 - val_loss: 5.7863 - val_mse: 5.7863\n",
      "Epoch 5/10\n",
      "1012/1012 [==============================] - 85s 84ms/step - loss: 5.8312 - mse: 5.8312 - val_loss: 5.7854 - val_mse: 5.7854\n",
      "Epoch 6/10\n",
      "1012/1012 [==============================] - 84s 83ms/step - loss: 5.8784 - mse: 5.8784 - val_loss: 5.7989 - val_mse: 5.7989\n",
      "Epoch 7/10\n",
      "1012/1012 [==============================] - 84s 83ms/step - loss: 5.8903 - mse: 5.8903 - val_loss: 5.9345 - val_mse: 5.9345\n",
      "Epoch 8/10\n",
      "1012/1012 [==============================] - 83s 82ms/step - loss: 5.9507 - mse: 5.9507 - val_loss: 5.7857 - val_mse: 5.7857\n",
      "Epoch 9/10\n",
      "1012/1012 [==============================] - 84s 83ms/step - loss: 5.8825 - mse: 5.8825 - val_loss: 5.8098 - val_mse: 5.8098\n",
      "Epoch 10/10\n",
      "1012/1012 [==============================] - 86s 85ms/step - loss: 5.8938 - mse: 5.8938 - val_loss: 6.2077 - val_mse: 6.2077\n",
      "Training model with 16 layers, 64 units per layer, and learning rate 0.01\n"
     ]
    },
    {
     "name": "stderr",
     "output_type": "stream",
     "text": [
      "C:\\Users\\lior\\anaconda3\\lib\\site-packages\\sklearn\\preprocessing\\_encoders.py:868: FutureWarning:\n",
      "\n",
      "`sparse` was renamed to `sparse_output` in version 1.2 and will be removed in 1.4. `sparse_output` is ignored unless you leave `sparse` to its default value.\n",
      "\n"
     ]
    },
    {
     "name": "stdout",
     "output_type": "stream",
     "text": [
      "Epoch 1/10\n",
      "1012/1012 [==============================] - 85s 81ms/step - loss: 433.4354 - mse: 433.4354 - val_loss: 5.9449 - val_mse: 5.9449\n",
      "Epoch 2/10\n",
      "1012/1012 [==============================] - 81s 81ms/step - loss: 5.8486 - mse: 5.8486 - val_loss: 5.8278 - val_mse: 5.8278\n",
      "Epoch 3/10\n",
      "1012/1012 [==============================] - 82s 81ms/step - loss: 5.8025 - mse: 5.8025 - val_loss: 5.7765 - val_mse: 5.7765\n",
      "Epoch 4/10\n",
      "1012/1012 [==============================] - 82s 81ms/step - loss: 5.8079 - mse: 5.8079 - val_loss: 5.7801 - val_mse: 5.7801\n",
      "Epoch 5/10\n",
      "1012/1012 [==============================] - 81s 80ms/step - loss: 5.8346 - mse: 5.8346 - val_loss: 5.7941 - val_mse: 5.7941\n",
      "Epoch 6/10\n",
      "1012/1012 [==============================] - 81s 80ms/step - loss: 5.8887 - mse: 5.8887 - val_loss: 5.7945 - val_mse: 5.7945\n",
      "Epoch 7/10\n",
      "1012/1012 [==============================] - 82s 81ms/step - loss: 5.8966 - mse: 5.8966 - val_loss: 5.9763 - val_mse: 5.9763\n",
      "Epoch 8/10\n",
      "1012/1012 [==============================] - 101s 100ms/step - loss: 5.9606 - mse: 5.9606 - val_loss: 5.7879 - val_mse: 5.7879\n",
      "Epoch 9/10\n",
      "1012/1012 [==============================] - 95s 94ms/step - loss: 5.8852 - mse: 5.8852 - val_loss: 5.8044 - val_mse: 5.8044\n",
      "Epoch 10/10\n",
      "1012/1012 [==============================] - 85s 84ms/step - loss: 5.8974 - mse: 5.8974 - val_loss: 6.2665 - val_mse: 6.2665\n",
      "Training model with 16 layers, 64 units per layer, and learning rate 0.1\n"
     ]
    },
    {
     "name": "stderr",
     "output_type": "stream",
     "text": [
      "C:\\Users\\lior\\anaconda3\\lib\\site-packages\\sklearn\\preprocessing\\_encoders.py:868: FutureWarning:\n",
      "\n",
      "`sparse` was renamed to `sparse_output` in version 1.2 and will be removed in 1.4. `sparse_output` is ignored unless you leave `sparse` to its default value.\n",
      "\n"
     ]
    },
    {
     "name": "stdout",
     "output_type": "stream",
     "text": [
      "Epoch 1/10\n",
      "1012/1012 [==============================] - 86s 81ms/step - loss: 456.4096 - mse: 456.4096 - val_loss: 5.9688 - val_mse: 5.9688\n",
      "Epoch 2/10\n",
      "1012/1012 [==============================] - 83s 82ms/step - loss: 5.8605 - mse: 5.8605 - val_loss: 5.8319 - val_mse: 5.8319\n",
      "Epoch 3/10\n",
      "1012/1012 [==============================] - 83s 82ms/step - loss: 5.7980 - mse: 5.7980 - val_loss: 5.7796 - val_mse: 5.7796\n",
      "Epoch 4/10\n",
      "1012/1012 [==============================] - 86s 85ms/step - loss: 5.8048 - mse: 5.8048 - val_loss: 5.7895 - val_mse: 5.7895\n",
      "Epoch 5/10\n",
      "1012/1012 [==============================] - 89s 88ms/step - loss: 5.8299 - mse: 5.8299 - val_loss: 5.7837 - val_mse: 5.7837\n",
      "Epoch 6/10\n",
      "1012/1012 [==============================] - 90s 89ms/step - loss: 5.8735 - mse: 5.8735 - val_loss: 5.8051 - val_mse: 5.8051\n",
      "Epoch 7/10\n",
      "1012/1012 [==============================] - 90s 89ms/step - loss: 5.8863 - mse: 5.8863 - val_loss: 5.9084 - val_mse: 5.9084\n",
      "Epoch 8/10\n",
      "1012/1012 [==============================] - 91s 90ms/step - loss: 5.9430 - mse: 5.9430 - val_loss: 5.7851 - val_mse: 5.7851\n",
      "Epoch 9/10\n",
      "1012/1012 [==============================] - 90s 89ms/step - loss: 5.8808 - mse: 5.8808 - val_loss: 5.8152 - val_mse: 5.8152\n",
      "Epoch 10/10\n",
      "1012/1012 [==============================] - 90s 89ms/step - loss: 5.8912 - mse: 5.8912 - val_loss: 6.1563 - val_mse: 6.1563\n",
      "Training model with 32 layers, 8 units per layer, and learning rate 0.001\n"
     ]
    },
    {
     "name": "stderr",
     "output_type": "stream",
     "text": [
      "C:\\Users\\lior\\anaconda3\\lib\\site-packages\\sklearn\\preprocessing\\_encoders.py:868: FutureWarning:\n",
      "\n",
      "`sparse` was renamed to `sparse_output` in version 1.2 and will be removed in 1.4. `sparse_output` is ignored unless you leave `sparse` to its default value.\n",
      "\n"
     ]
    },
    {
     "name": "stdout",
     "output_type": "stream",
     "text": [
      "Epoch 1/10\n",
      "1012/1012 [==============================] - 114s 107ms/step - loss: 558.9922 - mse: 558.9922 - val_loss: 6.1400 - val_mse: 6.1400\n",
      "Epoch 2/10\n",
      "1012/1012 [==============================] - 108s 106ms/step - loss: 5.9467 - mse: 5.9467 - val_loss: 5.8566 - val_mse: 5.8566\n",
      "Epoch 3/10\n",
      "1012/1012 [==============================] - 109s 107ms/step - loss: 5.8025 - mse: 5.8025 - val_loss: 5.8080 - val_mse: 5.8080\n",
      "Epoch 4/10\n",
      "1012/1012 [==============================] - 108s 107ms/step - loss: 5.7882 - mse: 5.7882 - val_loss: 5.7975 - val_mse: 5.7975\n",
      "Epoch 5/10\n",
      "1012/1012 [==============================] - 142s 140ms/step - loss: 5.8004 - mse: 5.8004 - val_loss: 5.7778 - val_mse: 5.7778\n",
      "Epoch 6/10\n",
      "1012/1012 [==============================] - 142s 140ms/step - loss: 5.8097 - mse: 5.8097 - val_loss: 6.3773 - val_mse: 6.3773\n",
      "Epoch 7/10\n",
      "1012/1012 [==============================] - 144s 142ms/step - loss: 5.8432 - mse: 5.8432 - val_loss: 6.2509 - val_mse: 6.2509\n",
      "Epoch 8/10\n",
      "1012/1012 [==============================] - 143s 142ms/step - loss: 5.8365 - mse: 5.8365 - val_loss: 5.7860 - val_mse: 5.7860\n",
      "Epoch 9/10\n",
      "1012/1012 [==============================] - 144s 142ms/step - loss: 5.8362 - mse: 5.8362 - val_loss: 5.9523 - val_mse: 5.9523\n",
      "Epoch 10/10\n",
      "1012/1012 [==============================] - 143s 141ms/step - loss: 5.8541 - mse: 5.8541 - val_loss: 5.8257 - val_mse: 5.8257\n",
      "Training model with 32 layers, 8 units per layer, and learning rate 0.01\n"
     ]
    },
    {
     "name": "stderr",
     "output_type": "stream",
     "text": [
      "C:\\Users\\lior\\anaconda3\\lib\\site-packages\\sklearn\\preprocessing\\_encoders.py:868: FutureWarning:\n",
      "\n",
      "`sparse` was renamed to `sparse_output` in version 1.2 and will be removed in 1.4. `sparse_output` is ignored unless you leave `sparse` to its default value.\n",
      "\n"
     ]
    },
    {
     "name": "stdout",
     "output_type": "stream",
     "text": [
      "Epoch 1/10\n",
      "1012/1012 [==============================] - 142s 136ms/step - loss: 501.5191 - mse: 501.5191 - val_loss: 6.1260 - val_mse: 6.1260\n",
      "Epoch 2/10\n",
      "1012/1012 [==============================] - 132s 130ms/step - loss: 5.9371 - mse: 5.9371 - val_loss: 5.8520 - val_mse: 5.8520\n",
      "Epoch 3/10\n",
      "1012/1012 [==============================] - 128s 126ms/step - loss: 5.7975 - mse: 5.7975 - val_loss: 5.8072 - val_mse: 5.8072\n",
      "Epoch 4/10\n",
      "1012/1012 [==============================] - 127s 125ms/step - loss: 5.7856 - mse: 5.7856 - val_loss: 5.7955 - val_mse: 5.7955\n",
      "Epoch 5/10\n",
      "1012/1012 [==============================] - 133s 131ms/step - loss: 5.8002 - mse: 5.8002 - val_loss: 5.7809 - val_mse: 5.7809\n",
      "Epoch 6/10\n",
      "1012/1012 [==============================] - 124s 123ms/step - loss: 5.8106 - mse: 5.8106 - val_loss: 6.3519 - val_mse: 6.3519\n",
      "Epoch 7/10\n",
      "1012/1012 [==============================] - 125s 124ms/step - loss: 5.8454 - mse: 5.8454 - val_loss: 6.2552 - val_mse: 6.2552\n",
      "Epoch 8/10\n",
      "1012/1012 [==============================] - 125s 124ms/step - loss: 5.8397 - mse: 5.8397 - val_loss: 5.7897 - val_mse: 5.7897\n",
      "Epoch 9/10\n",
      "1012/1012 [==============================] - 125s 124ms/step - loss: 5.8396 - mse: 5.8396 - val_loss: 5.9539 - val_mse: 5.9539\n",
      "Epoch 10/10\n",
      "1012/1012 [==============================] - 125s 123ms/step - loss: 5.8578 - mse: 5.8578 - val_loss: 5.8293 - val_mse: 5.8293\n",
      "Training model with 32 layers, 8 units per layer, and learning rate 0.1\n"
     ]
    },
    {
     "name": "stderr",
     "output_type": "stream",
     "text": [
      "C:\\Users\\lior\\anaconda3\\lib\\site-packages\\sklearn\\preprocessing\\_encoders.py:868: FutureWarning:\n",
      "\n",
      "`sparse` was renamed to `sparse_output` in version 1.2 and will be removed in 1.4. `sparse_output` is ignored unless you leave `sparse` to its default value.\n",
      "\n"
     ]
    },
    {
     "name": "stdout",
     "output_type": "stream",
     "text": [
      "Epoch 1/10\n",
      "1012/1012 [==============================] - 123s 117ms/step - loss: 784.3257 - mse: 784.3257 - val_loss: 6.5212 - val_mse: 6.5212\n",
      "Epoch 2/10\n",
      "1012/1012 [==============================] - 118s 116ms/step - loss: 6.1771 - mse: 6.1771 - val_loss: 5.9775 - val_mse: 5.9775\n",
      "Epoch 3/10\n",
      "1012/1012 [==============================] - 118s 117ms/step - loss: 5.8785 - mse: 5.8785 - val_loss: 5.8593 - val_mse: 5.8593\n",
      "Epoch 4/10\n",
      "1012/1012 [==============================] - 119s 117ms/step - loss: 5.7988 - mse: 5.7988 - val_loss: 5.7929 - val_mse: 5.7929\n",
      "Epoch 5/10\n",
      "1012/1012 [==============================] - 123s 122ms/step - loss: 5.7801 - mse: 5.7801 - val_loss: 5.8142 - val_mse: 5.8142\n",
      "Epoch 6/10\n",
      "1012/1012 [==============================] - 123s 121ms/step - loss: 5.7747 - mse: 5.7747 - val_loss: 5.7905 - val_mse: 5.7905\n",
      "Epoch 7/10\n",
      "1012/1012 [==============================] - 118s 117ms/step - loss: 5.7968 - mse: 5.7968 - val_loss: 5.7761 - val_mse: 5.7761\n",
      "Epoch 8/10\n",
      "1012/1012 [==============================] - 118s 116ms/step - loss: 5.7839 - mse: 5.7839 - val_loss: 5.7787 - val_mse: 5.7787\n",
      "Epoch 9/10\n",
      "1012/1012 [==============================] - 119s 118ms/step - loss: 5.8045 - mse: 5.8045 - val_loss: 5.8013 - val_mse: 5.8013\n",
      "Epoch 10/10\n",
      "1012/1012 [==============================] - 121s 120ms/step - loss: 5.8039 - mse: 5.8039 - val_loss: 5.7761 - val_mse: 5.7761\n",
      "Training model with 32 layers, 16 units per layer, and learning rate 0.001\n"
     ]
    },
    {
     "name": "stderr",
     "output_type": "stream",
     "text": [
      "C:\\Users\\lior\\anaconda3\\lib\\site-packages\\sklearn\\preprocessing\\_encoders.py:868: FutureWarning:\n",
      "\n",
      "`sparse` was renamed to `sparse_output` in version 1.2 and will be removed in 1.4. `sparse_output` is ignored unless you leave `sparse` to its default value.\n",
      "\n"
     ]
    },
    {
     "name": "stdout",
     "output_type": "stream",
     "text": [
      "Epoch 1/10\n",
      "1012/1012 [==============================] - 137s 130ms/step - loss: 508.6905 - mse: 508.6905 - val_loss: 6.0119 - val_mse: 6.0119\n",
      "Epoch 2/10\n",
      "1012/1012 [==============================] - 130s 128ms/step - loss: 5.8819 - mse: 5.8819 - val_loss: 5.8254 - val_mse: 5.8254\n",
      "Epoch 3/10\n",
      "1012/1012 [==============================] - 130s 128ms/step - loss: 5.7909 - mse: 5.7909 - val_loss: 5.7848 - val_mse: 5.7848\n",
      "Epoch 4/10\n",
      "1012/1012 [==============================] - 130s 129ms/step - loss: 5.7963 - mse: 5.7963 - val_loss: 5.8207 - val_mse: 5.8207\n",
      "Epoch 5/10\n",
      "1012/1012 [==============================] - 131s 129ms/step - loss: 5.8154 - mse: 5.8154 - val_loss: 5.7764 - val_mse: 5.7764\n",
      "Epoch 6/10\n",
      "1012/1012 [==============================] - 140s 138ms/step - loss: 5.8363 - mse: 5.8363 - val_loss: 6.1541 - val_mse: 6.1541\n",
      "Epoch 7/10\n",
      "1012/1012 [==============================] - 131s 129ms/step - loss: 5.8622 - mse: 5.8622 - val_loss: 5.9358 - val_mse: 5.9358\n",
      "Epoch 8/10\n",
      "1012/1012 [==============================] - 130s 129ms/step - loss: 5.8844 - mse: 5.8844 - val_loss: 5.7853 - val_mse: 5.7853\n",
      "Epoch 9/10\n",
      "1012/1012 [==============================] - 140s 139ms/step - loss: 5.8618 - mse: 5.8618 - val_loss: 5.8000 - val_mse: 5.8000\n",
      "Epoch 10/10\n",
      "1012/1012 [==============================] - 130s 129ms/step - loss: 5.8815 - mse: 5.8815 - val_loss: 5.7898 - val_mse: 5.7898\n",
      "Training model with 32 layers, 16 units per layer, and learning rate 0.01\n"
     ]
    },
    {
     "name": "stderr",
     "output_type": "stream",
     "text": [
      "C:\\Users\\lior\\anaconda3\\lib\\site-packages\\sklearn\\preprocessing\\_encoders.py:868: FutureWarning:\n",
      "\n",
      "`sparse` was renamed to `sparse_output` in version 1.2 and will be removed in 1.4. `sparse_output` is ignored unless you leave `sparse` to its default value.\n",
      "\n"
     ]
    },
    {
     "name": "stdout",
     "output_type": "stream",
     "text": [
      "Epoch 1/10\n",
      "1012/1012 [==============================] - 129s 123ms/step - loss: 492.6660 - mse: 492.6660 - val_loss: 6.0225 - val_mse: 6.0225\n",
      "Epoch 2/10\n",
      "1012/1012 [==============================] - 123s 122ms/step - loss: 5.8857 - mse: 5.8857 - val_loss: 5.8263 - val_mse: 5.8263\n",
      "Epoch 3/10\n",
      "1012/1012 [==============================] - 127s 125ms/step - loss: 5.7425 - mse: 5.7425 - val_loss: 5.6098 - val_mse: 5.6098\n",
      "Epoch 4/10\n",
      "1012/1012 [==============================] - 124s 123ms/step - loss: 5.5135 - mse: 5.5135 - val_loss: 5.4902 - val_mse: 5.4902\n",
      "Epoch 5/10\n",
      "1012/1012 [==============================] - 124s 122ms/step - loss: 5.4310 - mse: 5.4310 - val_loss: 5.4224 - val_mse: 5.4224\n",
      "Epoch 6/10\n",
      "1012/1012 [==============================] - 140s 138ms/step - loss: 5.4334 - mse: 5.4334 - val_loss: 5.7556 - val_mse: 5.7556\n",
      "Epoch 7/10\n",
      "1012/1012 [==============================] - 131s 129ms/step - loss: 5.4226 - mse: 5.4226 - val_loss: 5.5256 - val_mse: 5.5256\n",
      "Epoch 8/10\n",
      "1012/1012 [==============================] - 124s 123ms/step - loss: 5.4578 - mse: 5.4578 - val_loss: 5.3859 - val_mse: 5.3859\n",
      "Epoch 9/10\n",
      "1012/1012 [==============================] - 125s 124ms/step - loss: 5.4159 - mse: 5.4159 - val_loss: 5.4465 - val_mse: 5.4465\n",
      "Epoch 10/10\n",
      "1012/1012 [==============================] - 125s 124ms/step - loss: 5.4488 - mse: 5.4488 - val_loss: 5.3939 - val_mse: 5.3939\n",
      "Training model with 32 layers, 16 units per layer, and learning rate 0.1\n"
     ]
    },
    {
     "name": "stderr",
     "output_type": "stream",
     "text": [
      "C:\\Users\\lior\\anaconda3\\lib\\site-packages\\sklearn\\preprocessing\\_encoders.py:868: FutureWarning:\n",
      "\n",
      "`sparse` was renamed to `sparse_output` in version 1.2 and will be removed in 1.4. `sparse_output` is ignored unless you leave `sparse` to its default value.\n",
      "\n"
     ]
    },
    {
     "name": "stdout",
     "output_type": "stream",
     "text": [
      "Epoch 1/10\n",
      "1012/1012 [==============================] - 128s 122ms/step - loss: 327.5301 - mse: 327.5301 - val_loss: 5.9106 - val_mse: 5.9106\n",
      "Epoch 2/10\n",
      "1012/1012 [==============================] - 119s 117ms/step - loss: 5.8332 - mse: 5.8332 - val_loss: 5.8207 - val_mse: 5.8207\n",
      "Epoch 3/10\n",
      "1012/1012 [==============================] - 119s 118ms/step - loss: 5.7980 - mse: 5.7980 - val_loss: 5.7779 - val_mse: 5.7779\n",
      "Epoch 4/10\n",
      "1012/1012 [==============================] - 120s 119ms/step - loss: 5.8107 - mse: 5.8107 - val_loss: 5.7842 - val_mse: 5.7842\n",
      "Epoch 5/10\n",
      "1012/1012 [==============================] - 126s 124ms/step - loss: 5.8413 - mse: 5.8413 - val_loss: 5.8086 - val_mse: 5.8086\n",
      "Epoch 6/10\n",
      "1012/1012 [==============================] - 120s 119ms/step - loss: 5.9028 - mse: 5.9028 - val_loss: 5.8034 - val_mse: 5.8034\n",
      "Epoch 7/10\n",
      "1012/1012 [==============================] - 119s 118ms/step - loss: 5.9087 - mse: 5.9087 - val_loss: 6.0577 - val_mse: 6.0577\n",
      "Epoch 8/10\n",
      "1012/1012 [==============================] - 128s 126ms/step - loss: 5.9796 - mse: 5.9796 - val_loss: 5.7966 - val_mse: 5.7966\n",
      "Epoch 9/10\n",
      "1012/1012 [==============================] - 120s 119ms/step - loss: 5.8957 - mse: 5.8957 - val_loss: 5.8112 - val_mse: 5.8112\n",
      "Epoch 10/10\n",
      "1012/1012 [==============================] - 120s 119ms/step - loss: 5.9099 - mse: 5.9099 - val_loss: 6.3416 - val_mse: 6.3416\n",
      "Training model with 32 layers, 32 units per layer, and learning rate 0.001\n"
     ]
    },
    {
     "name": "stderr",
     "output_type": "stream",
     "text": [
      "C:\\Users\\lior\\anaconda3\\lib\\site-packages\\sklearn\\preprocessing\\_encoders.py:868: FutureWarning:\n",
      "\n",
      "`sparse` was renamed to `sparse_output` in version 1.2 and will be removed in 1.4. `sparse_output` is ignored unless you leave `sparse` to its default value.\n",
      "\n"
     ]
    },
    {
     "name": "stdout",
     "output_type": "stream",
     "text": [
      "Epoch 1/10\n",
      "1012/1012 [==============================] - 117s 112ms/step - loss: 398.9845 - mse: 398.9845 - val_loss: 5.9335 - val_mse: 5.9335\n",
      "Epoch 2/10\n",
      "1012/1012 [==============================] - 112s 111ms/step - loss: 5.8392 - mse: 5.8392 - val_loss: 5.8268 - val_mse: 5.8268\n",
      "Epoch 3/10\n",
      "1012/1012 [==============================] - 121s 119ms/step - loss: 5.8054 - mse: 5.8054 - val_loss: 5.7774 - val_mse: 5.7774\n",
      "Epoch 4/10\n",
      "1012/1012 [==============================] - 119s 117ms/step - loss: 5.8124 - mse: 5.8124 - val_loss: 5.7840 - val_mse: 5.7840\n",
      "Epoch 5/10\n",
      "1012/1012 [==============================] - 111s 109ms/step - loss: 5.8412 - mse: 5.8412 - val_loss: 5.8253 - val_mse: 5.8253\n",
      "Epoch 6/10\n",
      "1012/1012 [==============================] - 111s 110ms/step - loss: 5.9075 - mse: 5.9075 - val_loss: 5.7960 - val_mse: 5.7960\n",
      "Epoch 7/10\n",
      "1012/1012 [==============================] - 112s 110ms/step - loss: 5.9076 - mse: 5.9076 - val_loss: 6.1568 - val_mse: 6.1568\n",
      "Epoch 8/10\n",
      "1012/1012 [==============================] - 125s 123ms/step - loss: 5.9817 - mse: 5.9817 - val_loss: 5.7908 - val_mse: 5.7908\n",
      "Epoch 9/10\n",
      "1012/1012 [==============================] - 121s 120ms/step - loss: 5.8902 - mse: 5.8902 - val_loss: 5.7969 - val_mse: 5.7969\n",
      "Epoch 10/10\n",
      "1012/1012 [==============================] - 115s 114ms/step - loss: 5.9081 - mse: 5.9081 - val_loss: 6.3843 - val_mse: 6.3843\n",
      "Training model with 32 layers, 32 units per layer, and learning rate 0.01\n"
     ]
    },
    {
     "name": "stderr",
     "output_type": "stream",
     "text": [
      "C:\\Users\\lior\\anaconda3\\lib\\site-packages\\sklearn\\preprocessing\\_encoders.py:868: FutureWarning:\n",
      "\n",
      "`sparse` was renamed to `sparse_output` in version 1.2 and will be removed in 1.4. `sparse_output` is ignored unless you leave `sparse` to its default value.\n",
      "\n"
     ]
    },
    {
     "name": "stdout",
     "output_type": "stream",
     "text": [
      "Epoch 1/10\n",
      "1012/1012 [==============================] - 134s 127ms/step - loss: 457.4416 - mse: 457.4416 - val_loss: 5.9488 - val_mse: 5.9488\n",
      "Epoch 2/10\n",
      "1012/1012 [==============================] - 129s 128ms/step - loss: 5.8534 - mse: 5.8534 - val_loss: 5.8236 - val_mse: 5.8236\n",
      "Epoch 3/10\n",
      "1012/1012 [==============================] - 119s 118ms/step - loss: 5.7956 - mse: 5.7956 - val_loss: 5.7766 - val_mse: 5.7766\n",
      "Epoch 4/10\n",
      "1012/1012 [==============================] - 131s 129ms/step - loss: 5.8046 - mse: 5.8046 - val_loss: 5.7889 - val_mse: 5.7889\n",
      "Epoch 5/10\n",
      "1012/1012 [==============================] - 120s 118ms/step - loss: 5.8306 - mse: 5.8306 - val_loss: 5.7827 - val_mse: 5.7827\n",
      "Epoch 6/10\n",
      "1012/1012 [==============================] - 119s 118ms/step - loss: 5.8732 - mse: 5.8732 - val_loss: 5.8101 - val_mse: 5.8101\n",
      "Epoch 7/10\n",
      "1012/1012 [==============================] - 119s 118ms/step - loss: 5.8872 - mse: 5.8872 - val_loss: 5.9039 - val_mse: 5.9039\n",
      "Epoch 8/10\n",
      "1012/1012 [==============================] - 127s 125ms/step - loss: 5.9437 - mse: 5.9437 - val_loss: 5.7857 - val_mse: 5.7857\n",
      "Epoch 9/10\n",
      "1012/1012 [==============================] - 129s 127ms/step - loss: 5.8826 - mse: 5.8826 - val_loss: 5.8173 - val_mse: 5.8173\n",
      "Epoch 10/10\n",
      "1012/1012 [==============================] - 124s 122ms/step - loss: 5.8930 - mse: 5.8930 - val_loss: 6.1492 - val_mse: 6.1492\n",
      "Training model with 32 layers, 32 units per layer, and learning rate 0.1\n"
     ]
    },
    {
     "name": "stderr",
     "output_type": "stream",
     "text": [
      "C:\\Users\\lior\\anaconda3\\lib\\site-packages\\sklearn\\preprocessing\\_encoders.py:868: FutureWarning:\n",
      "\n",
      "`sparse` was renamed to `sparse_output` in version 1.2 and will be removed in 1.4. `sparse_output` is ignored unless you leave `sparse` to its default value.\n",
      "\n"
     ]
    },
    {
     "name": "stdout",
     "output_type": "stream",
     "text": [
      "Epoch 1/10\n",
      "1012/1012 [==============================] - 118s 113ms/step - loss: 417.4276 - mse: 417.4276 - val_loss: 5.9091 - val_mse: 5.9091\n",
      "Epoch 2/10\n",
      "1012/1012 [==============================] - 115s 114ms/step - loss: 5.8290 - mse: 5.8290 - val_loss: 5.8221 - val_mse: 5.8221\n",
      "Epoch 3/10\n",
      "1012/1012 [==============================] - 116s 114ms/step - loss: 5.7972 - mse: 5.7972 - val_loss: 5.7767 - val_mse: 5.7767\n",
      "Epoch 4/10\n",
      "1012/1012 [==============================] - 117s 115ms/step - loss: 5.8079 - mse: 5.8079 - val_loss: 5.7819 - val_mse: 5.7819\n",
      "Epoch 5/10\n",
      "1012/1012 [==============================] - 116s 115ms/step - loss: 5.8368 - mse: 5.8368 - val_loss: 5.8057 - val_mse: 5.8057\n",
      "Epoch 6/10\n",
      "1012/1012 [==============================] - 119s 117ms/step - loss: 5.8964 - mse: 5.8964 - val_loss: 5.7973 - val_mse: 5.7973\n",
      "Epoch 7/10\n",
      "1012/1012 [==============================] - 120s 119ms/step - loss: 5.9018 - mse: 5.9018 - val_loss: 6.0270 - val_mse: 6.0270\n",
      "Epoch 8/10\n",
      "1012/1012 [==============================] - 117s 115ms/step - loss: 5.9702 - mse: 5.9702 - val_loss: 5.7921 - val_mse: 5.7921\n",
      "Epoch 9/10\n",
      "1012/1012 [==============================] - 119s 118ms/step - loss: 5.8885 - mse: 5.8885 - val_loss: 5.8053 - val_mse: 5.8053\n",
      "Epoch 10/10\n",
      "1012/1012 [==============================] - 124s 122ms/step - loss: 5.9030 - mse: 5.9030 - val_loss: 6.3138 - val_mse: 6.3138\n",
      "Training model with 32 layers, 64 units per layer, and learning rate 0.001\n"
     ]
    },
    {
     "name": "stderr",
     "output_type": "stream",
     "text": [
      "C:\\Users\\lior\\anaconda3\\lib\\site-packages\\sklearn\\preprocessing\\_encoders.py:868: FutureWarning:\n",
      "\n",
      "`sparse` was renamed to `sparse_output` in version 1.2 and will be removed in 1.4. `sparse_output` is ignored unless you leave `sparse` to its default value.\n",
      "\n"
     ]
    },
    {
     "name": "stdout",
     "output_type": "stream",
     "text": [
      "Epoch 1/10\n",
      "1012/1012 [==============================] - 118s 112ms/step - loss: 319.1068 - mse: 319.1068 - val_loss: 5.8968 - val_mse: 5.8968\n",
      "Epoch 2/10\n",
      "1012/1012 [==============================] - 123s 122ms/step - loss: 5.8231 - mse: 5.8231 - val_loss: 5.8002 - val_mse: 5.8002\n",
      "Epoch 3/10\n",
      "1012/1012 [==============================] - 124s 123ms/step - loss: 5.8281 - mse: 5.8281 - val_loss: 5.7926 - val_mse: 5.7926\n",
      "Epoch 4/10\n",
      "1012/1012 [==============================] - 112s 111ms/step - loss: 5.8841 - mse: 5.8841 - val_loss: 5.9172 - val_mse: 5.9172\n",
      "Epoch 5/10\n",
      "1012/1012 [==============================] - 113s 112ms/step - loss: 5.9026 - mse: 5.9026 - val_loss: 5.8297 - val_mse: 5.8297\n",
      "Epoch 6/10\n",
      "1012/1012 [==============================] - 113s 111ms/step - loss: 5.9626 - mse: 5.9626 - val_loss: 5.8238 - val_mse: 5.8238\n",
      "Epoch 7/10\n",
      "1012/1012 [==============================] - 113s 111ms/step - loss: 5.9609 - mse: 5.9609 - val_loss: 6.4538 - val_mse: 6.4538\n",
      "Epoch 8/10\n",
      "1012/1012 [==============================] - 113s 111ms/step - loss: 6.0176 - mse: 6.0176 - val_loss: 6.9208 - val_mse: 6.9208\n",
      "Epoch 9/10\n",
      "1012/1012 [==============================] - 124s 123ms/step - loss: 5.9484 - mse: 5.9484 - val_loss: 5.8446 - val_mse: 5.8446\n",
      "Epoch 10/10\n",
      "1012/1012 [==============================] - 114s 112ms/step - loss: 5.9522 - mse: 5.9522 - val_loss: 6.4383 - val_mse: 6.4383\n",
      "Training model with 32 layers, 64 units per layer, and learning rate 0.01\n"
     ]
    },
    {
     "name": "stderr",
     "output_type": "stream",
     "text": [
      "C:\\Users\\lior\\anaconda3\\lib\\site-packages\\sklearn\\preprocessing\\_encoders.py:868: FutureWarning:\n",
      "\n",
      "`sparse` was renamed to `sparse_output` in version 1.2 and will be removed in 1.4. `sparse_output` is ignored unless you leave `sparse` to its default value.\n",
      "\n"
     ]
    },
    {
     "name": "stdout",
     "output_type": "stream",
     "text": [
      "Epoch 1/10\n",
      "1012/1012 [==============================] - 117s 112ms/step - loss: 314.5693 - mse: 314.5693 - val_loss: 5.8936 - val_mse: 5.8936\n",
      "Epoch 2/10\n",
      "1012/1012 [==============================] - 110s 109ms/step - loss: 5.8233 - mse: 5.8233 - val_loss: 5.8011 - val_mse: 5.8011\n",
      "Epoch 3/10\n",
      "1012/1012 [==============================] - 112s 110ms/step - loss: 5.8307 - mse: 5.8307 - val_loss: 5.7928 - val_mse: 5.7928\n",
      "Epoch 4/10\n",
      "1012/1012 [==============================] - 109s 108ms/step - loss: 5.8888 - mse: 5.8888 - val_loss: 5.9158 - val_mse: 5.9158\n",
      "Epoch 5/10\n",
      "1012/1012 [==============================] - 109s 108ms/step - loss: 5.9092 - mse: 5.9092 - val_loss: 5.8293 - val_mse: 5.8293\n",
      "Epoch 6/10\n",
      "1012/1012 [==============================] - 109s 108ms/step - loss: 5.9684 - mse: 5.9684 - val_loss: 5.8252 - val_mse: 5.8252\n",
      "Epoch 7/10\n",
      "1012/1012 [==============================] - 108s 107ms/step - loss: 5.9673 - mse: 5.9673 - val_loss: 6.4425 - val_mse: 6.4425\n",
      "Epoch 8/10\n",
      "1012/1012 [==============================] - 109s 108ms/step - loss: 6.0211 - mse: 6.0211 - val_loss: 7.0270 - val_mse: 7.0270\n",
      "Epoch 9/10\n",
      "1012/1012 [==============================] - 129s 127ms/step - loss: 5.9561 - mse: 5.9561 - val_loss: 5.8478 - val_mse: 5.8478\n",
      "Epoch 10/10\n",
      "1012/1012 [==============================] - 123s 122ms/step - loss: 5.9570 - mse: 5.9570 - val_loss: 6.4286 - val_mse: 6.4286\n",
      "Training model with 32 layers, 64 units per layer, and learning rate 0.1\n"
     ]
    },
    {
     "name": "stderr",
     "output_type": "stream",
     "text": [
      "C:\\Users\\lior\\anaconda3\\lib\\site-packages\\sklearn\\preprocessing\\_encoders.py:868: FutureWarning:\n",
      "\n",
      "`sparse` was renamed to `sparse_output` in version 1.2 and will be removed in 1.4. `sparse_output` is ignored unless you leave `sparse` to its default value.\n",
      "\n"
     ]
    },
    {
     "name": "stdout",
     "output_type": "stream",
     "text": [
      "Epoch 1/10\n",
      "1012/1012 [==============================] - 125s 120ms/step - loss: 325.5052 - mse: 325.5052 - val_loss: 5.9213 - val_mse: 5.9213\n",
      "Epoch 2/10\n",
      "1012/1012 [==============================] - 129s 127ms/step - loss: 5.8324 - mse: 5.8324 - val_loss: 5.8079 - val_mse: 5.8079\n",
      "Epoch 3/10\n",
      "1012/1012 [==============================] - 122s 120ms/step - loss: 5.8260 - mse: 5.8260 - val_loss: 5.8011 - val_mse: 5.8011\n",
      "Epoch 4/10\n",
      "1012/1012 [==============================] - 115s 114ms/step - loss: 5.8713 - mse: 5.8713 - val_loss: 5.9200 - val_mse: 5.9200\n",
      "Epoch 5/10\n",
      "1012/1012 [==============================] - 121s 120ms/step - loss: 5.8882 - mse: 5.8882 - val_loss: 5.8336 - val_mse: 5.8336\n",
      "Epoch 6/10\n",
      "1012/1012 [==============================] - 117s 116ms/step - loss: 5.9531 - mse: 5.9531 - val_loss: 5.8265 - val_mse: 5.8265\n",
      "Epoch 7/10\n",
      "1012/1012 [==============================] - 124s 123ms/step - loss: 5.9510 - mse: 5.9510 - val_loss: 6.4808 - val_mse: 6.4808\n",
      "Epoch 8/10\n",
      "1012/1012 [==============================] - 121s 119ms/step - loss: 6.0149 - mse: 6.0149 - val_loss: 6.6295 - val_mse: 6.6295\n",
      "Epoch 9/10\n",
      "1012/1012 [==============================] - 120s 118ms/step - loss: 5.9366 - mse: 5.9366 - val_loss: 5.8352 - val_mse: 5.8352\n",
      "Epoch 10/10\n",
      "1012/1012 [==============================] - 115s 113ms/step - loss: 5.9470 - mse: 5.9470 - val_loss: 6.4983 - val_mse: 6.4983\n",
      "Training model with 64 layers, 8 units per layer, and learning rate 0.001\n"
     ]
    },
    {
     "name": "stderr",
     "output_type": "stream",
     "text": [
      "C:\\Users\\lior\\anaconda3\\lib\\site-packages\\sklearn\\preprocessing\\_encoders.py:868: FutureWarning:\n",
      "\n",
      "`sparse` was renamed to `sparse_output` in version 1.2 and will be removed in 1.4. `sparse_output` is ignored unless you leave `sparse` to its default value.\n",
      "\n"
     ]
    },
    {
     "name": "stdout",
     "output_type": "stream",
     "text": [
      "Epoch 1/10\n",
      "1012/1012 [==============================] - 115s 110ms/step - loss: 668.1122 - mse: 668.1122 - val_loss: 6.2453 - val_mse: 6.2453\n",
      "Epoch 2/10\n",
      "1012/1012 [==============================] - 111s 110ms/step - loss: 6.0149 - mse: 6.0149 - val_loss: 5.8882 - val_mse: 5.8882\n",
      "Epoch 3/10\n",
      "1012/1012 [==============================] - 118s 116ms/step - loss: 5.8222 - mse: 5.8222 - val_loss: 5.8224 - val_mse: 5.8224\n",
      "Epoch 4/10\n",
      "1012/1012 [==============================] - 122s 121ms/step - loss: 5.7834 - mse: 5.7834 - val_loss: 5.7798 - val_mse: 5.7798\n",
      "Epoch 5/10\n",
      "1012/1012 [==============================] - 119s 117ms/step - loss: 5.7911 - mse: 5.7911 - val_loss: 5.7883 - val_mse: 5.7883\n",
      "Epoch 6/10\n",
      "1012/1012 [==============================] - 118s 117ms/step - loss: 5.7921 - mse: 5.7921 - val_loss: 5.8607 - val_mse: 5.8607\n",
      "Epoch 7/10\n",
      "1012/1012 [==============================] - 110s 109ms/step - loss: 5.8217 - mse: 5.8217 - val_loss: 6.1226 - val_mse: 6.1226\n",
      "Epoch 8/10\n",
      "1012/1012 [==============================] - 111s 109ms/step - loss: 5.8087 - mse: 5.8087 - val_loss: 5.8118 - val_mse: 5.8118\n",
      "Epoch 9/10\n",
      "1012/1012 [==============================] - 119s 117ms/step - loss: 5.8210 - mse: 5.8210 - val_loss: 5.8301 - val_mse: 5.8301\n",
      "Epoch 10/10\n",
      "1012/1012 [==============================] - 116s 114ms/step - loss: 5.8333 - mse: 5.8333 - val_loss: 5.8205 - val_mse: 5.8205\n",
      "Training model with 64 layers, 8 units per layer, and learning rate 0.01\n"
     ]
    },
    {
     "name": "stderr",
     "output_type": "stream",
     "text": [
      "C:\\Users\\lior\\anaconda3\\lib\\site-packages\\sklearn\\preprocessing\\_encoders.py:868: FutureWarning:\n",
      "\n",
      "`sparse` was renamed to `sparse_output` in version 1.2 and will be removed in 1.4. `sparse_output` is ignored unless you leave `sparse` to its default value.\n",
      "\n"
     ]
    },
    {
     "name": "stdout",
     "output_type": "stream",
     "text": [
      "Epoch 1/10\n",
      "1012/1012 [==============================] - 107s 102ms/step - loss: 368.7040 - mse: 368.7040 - val_loss: 5.9278 - val_mse: 5.9278\n",
      "Epoch 2/10\n",
      "1012/1012 [==============================] - 105s 103ms/step - loss: 5.8402 - mse: 5.8402 - val_loss: 5.8269 - val_mse: 5.8269\n",
      "Epoch 3/10\n",
      "1012/1012 [==============================] - 91s 90ms/step - loss: 5.7972 - mse: 5.7972 - val_loss: 5.7791 - val_mse: 5.7791\n",
      "Epoch 4/10\n",
      "1012/1012 [==============================] - 82s 81ms/step - loss: 5.8076 - mse: 5.8076 - val_loss: 5.7889 - val_mse: 5.7889\n",
      "Epoch 5/10\n",
      "1012/1012 [==============================] - 82s 81ms/step - loss: 5.8365 - mse: 5.8365 - val_loss: 5.7924 - val_mse: 5.7924\n",
      "Epoch 6/10\n",
      "1012/1012 [==============================] - 82s 81ms/step - loss: 5.8851 - mse: 5.8851 - val_loss: 5.8112 - val_mse: 5.8112\n",
      "Epoch 7/10\n",
      "1012/1012 [==============================] - 82s 81ms/step - loss: 5.8979 - mse: 5.8979 - val_loss: 5.9346 - val_mse: 5.9346\n",
      "Epoch 8/10\n",
      "1012/1012 [==============================] - 92s 91ms/step - loss: 5.9219 - mse: 5.9219 - val_loss: 5.6513 - val_mse: 5.6513\n",
      "Epoch 9/10\n",
      "1012/1012 [==============================] - 98s 97ms/step - loss: 5.6073 - mse: 5.6073 - val_loss: 5.4869 - val_mse: 5.4869\n",
      "Epoch 10/10\n",
      "1012/1012 [==============================] - 89s 88ms/step - loss: 5.5122 - mse: 5.5122 - val_loss: 5.9982 - val_mse: 5.9982\n",
      "Training model with 64 layers, 8 units per layer, and learning rate 0.1\n"
     ]
    },
    {
     "name": "stderr",
     "output_type": "stream",
     "text": [
      "C:\\Users\\lior\\anaconda3\\lib\\site-packages\\sklearn\\preprocessing\\_encoders.py:868: FutureWarning:\n",
      "\n",
      "`sparse` was renamed to `sparse_output` in version 1.2 and will be removed in 1.4. `sparse_output` is ignored unless you leave `sparse` to its default value.\n",
      "\n"
     ]
    },
    {
     "name": "stdout",
     "output_type": "stream",
     "text": [
      "Epoch 1/10\n",
      "1012/1012 [==============================] - 96s 90ms/step - loss: 338.7926 - mse: 338.7926 - val_loss: 5.9332 - val_mse: 5.9332\n",
      "Epoch 2/10\n",
      "1012/1012 [==============================] - 92s 91ms/step - loss: 5.8406 - mse: 5.8406 - val_loss: 5.8251 - val_mse: 5.8251\n",
      "Epoch 3/10\n",
      "1012/1012 [==============================] - 113s 111ms/step - loss: 5.7946 - mse: 5.7946 - val_loss: 5.7795 - val_mse: 5.7795\n",
      "Epoch 4/10\n",
      "1012/1012 [==============================] - 113s 111ms/step - loss: 5.8082 - mse: 5.8082 - val_loss: 5.7932 - val_mse: 5.7932\n",
      "Epoch 5/10\n",
      "1012/1012 [==============================] - 118s 116ms/step - loss: 5.8376 - mse: 5.8376 - val_loss: 5.7924 - val_mse: 5.7924\n",
      "Epoch 6/10\n",
      "1012/1012 [==============================] - 112s 110ms/step - loss: 5.8856 - mse: 5.8856 - val_loss: 5.8159 - val_mse: 5.8159\n",
      "Epoch 7/10\n",
      "1012/1012 [==============================] - 114s 112ms/step - loss: 5.9006 - mse: 5.9006 - val_loss: 5.9359 - val_mse: 5.9359\n",
      "Epoch 8/10\n",
      "1012/1012 [==============================] - 113s 111ms/step - loss: 5.9628 - mse: 5.9628 - val_loss: 5.7960 - val_mse: 5.7960\n",
      "Epoch 9/10\n",
      "1012/1012 [==============================] - 113s 111ms/step - loss: 5.8950 - mse: 5.8950 - val_loss: 5.8308 - val_mse: 5.8308\n",
      "Epoch 10/10\n",
      "1012/1012 [==============================] - 122s 121ms/step - loss: 5.9051 - mse: 5.9051 - val_loss: 6.2221 - val_mse: 6.2221\n",
      "Training model with 64 layers, 16 units per layer, and learning rate 0.001\n"
     ]
    },
    {
     "name": "stderr",
     "output_type": "stream",
     "text": [
      "C:\\Users\\lior\\anaconda3\\lib\\site-packages\\sklearn\\preprocessing\\_encoders.py:868: FutureWarning:\n",
      "\n",
      "`sparse` was renamed to `sparse_output` in version 1.2 and will be removed in 1.4. `sparse_output` is ignored unless you leave `sparse` to its default value.\n",
      "\n"
     ]
    },
    {
     "name": "stdout",
     "output_type": "stream",
     "text": [
      "Epoch 1/10\n",
      "1012/1012 [==============================] - 111s 106ms/step - loss: 455.1553 - mse: 455.1553 - val_loss: 5.9707 - val_mse: 5.9707\n",
      "Epoch 2/10\n",
      "1012/1012 [==============================] - 112s 110ms/step - loss: 5.8593 - mse: 5.8593 - val_loss: 5.8211 - val_mse: 5.8211\n",
      "Epoch 3/10\n",
      "1012/1012 [==============================] - 115s 114ms/step - loss: 5.7924 - mse: 5.7924 - val_loss: 5.7786 - val_mse: 5.7786\n",
      "Epoch 4/10\n",
      "1012/1012 [==============================] - 107s 106ms/step - loss: 5.8023 - mse: 5.8023 - val_loss: 5.8134 - val_mse: 5.8134\n",
      "Epoch 5/10\n",
      "1012/1012 [==============================] - 109s 108ms/step - loss: 5.8274 - mse: 5.8274 - val_loss: 5.7799 - val_mse: 5.7799\n",
      "Epoch 6/10\n",
      " 236/1012 [=====>........................] - ETA: 1:15 - loss: 5.8870 - mse: 5.8870"
     ]
    }
   ],
   "source": [
    "import tensorflow as tf\n",
    "from tensorflow.keras.layers import Input, Embedding, LSTM, Dense, Concatenate\n",
    "from sklearn.preprocessing import StandardScaler, OneHotEncoder\n",
    "from sklearn.compose import ColumnTransformer\n",
    "from sklearn.model_selection import train_test_split\n",
    "import numpy as np\n",
    "import pandas as pd\n",
    "from sklearn.metrics import r2_score\n",
    "\n",
    "# Load your dataset\n",
    "wine_reviews = pd.read_csv(\"clean_wine_reviews_data.csv\")\n",
    "\n",
    "            \n",
    "# Preprocessing\n",
    "wine_reviews = wine_reviews.drop(['Unnamed: 0', 'taster_twitter_handle', 'region_1', 'region_2', 'designation'], axis=1)\n",
    "wine_reviews['description_length'] = wine_reviews.description.str.len()\n",
    "wine_reviews = wine_reviews.dropna(subset=['year', 'points'])\n",
    "wine_reviews['year'] = wine_reviews['year'].astype(int).astype(str)\n",
    "wine_reviews[\"description_length\"] = wine_reviews[\"description_length\"].astype(np.int32)\n",
    "\n",
    "# Split data\n",
    "y = wine_reviews['points']\n",
    "X = wine_reviews.drop(['points'], axis=1)\n",
    "X_train, X_test, y_train, y_test = train_test_split(X, y, test_size=0.25, random_state=29)\n",
    "\n",
    "# Define a range of hyperparameters to search over\n",
    "first_layer_list = [16, 32, 64, 128]\n",
    "second_layer_list = [8, 16, 32, 64]\n",
    "learning_rate_list = [0.001, 0.01, 0.1]\n",
    "\n",
    "best_model = None\n",
    "best_score = float('inf')\n",
    "\n",
    "for first_layer in first_layer_list:\n",
    "    for second_layer in second_layer_list:\n",
    "        for lrn_rate in learning_rate_list:\n",
    "            print(f\"Training model with {first_layer} layers, {second_layer} units per layer, and learning rate {lrn_rate}\")\n",
    "\n",
    "\n",
    "            # Preprocess categorical data\n",
    "            categorical_cols = ['country', 'taster_name', 'variety', 'province', 'year']\n",
    "            numeric_cols = ['price']\n",
    "\n",
    "            # Use StandardScaler for numeric columns\n",
    "            numeric_transformer = StandardScaler()\n",
    "\n",
    "            # Use OneHotEncoder for categorical columns\n",
    "            categorical_transformer = OneHotEncoder(handle_unknown=\"ignore\", sparse=False)\n",
    "\n",
    "            # Preprocess features using ColumnTransformer\n",
    "            from sklearn.compose import ColumnTransformer\n",
    "\n",
    "            preprocessor = ColumnTransformer(\n",
    "                transformers=[\n",
    "                    ('num', numeric_transformer, numeric_cols),\n",
    "                    ('cat', categorical_transformer, categorical_cols)\n",
    "                ])\n",
    "\n",
    "            # Fit and transform preprocessing on training data\n",
    "            X_train_transformed = preprocessor.fit_transform(X_train)\n",
    "            X_test_transformed = preprocessor.transform(X_test)\n",
    "\n",
    "            # Text Vectorization\n",
    "            max_vocab_length = 10000\n",
    "            max_length = 60\n",
    "\n",
    "            text_vectorizer = tf.keras.layers.TextVectorization(\n",
    "                max_tokens=max_vocab_length,\n",
    "                output_mode=\"int\",\n",
    "                output_sequence_length=max_length)\n",
    "\n",
    "            text_vectorizer.adapt(X_train['description'])\n",
    "            text_input = Input(shape=(1,), dtype=\"string\")\n",
    "            text_vector = text_vectorizer(text_input)\n",
    "            text_embedding = Embedding(\n",
    "                input_dim=max_vocab_length,\n",
    "                output_dim=128,\n",
    "                embeddings_initializer=\"uniform\",\n",
    "                input_length=max_length)(text_vector)\n",
    "            text_lstm = LSTM(64)(text_embedding)\n",
    "\n",
    "            # Combine numeric and categorical data\n",
    "            combined_input = Input(shape=(X_train_transformed.shape[1],), dtype=\"float32\")\n",
    "            concatenated = Concatenate()([text_lstm, combined_input])\n",
    "\n",
    "            # Build the model\n",
    "            x = Dense(first_layer, activation='relu')(concatenated)\n",
    "            x = Dense(second_layer, activation='relu')(x)\n",
    "            output = Dense(1, activation=\"linear\")(x)\n",
    "            \n",
    "    \n",
    "            # Define the learning rate variable\n",
    "            learning_rate = tf.Variable(lrn_rate, trainable=False)\n",
    "            tf.keras.backend.set_value(learning_rate, lrn_rate)\n",
    "\n",
    "            model = Model(inputs=[text_input, combined_input], outputs=output)\n",
    "\n",
    "            # Compile the model\n",
    "            model.compile(loss=tf.keras.losses.MeanSquaredError(),\n",
    "                          optimizer=tf.keras.optimizers.Adam(),\n",
    "                          metrics=['mse'])\n",
    "\n",
    "            # Train the model\n",
    "            model.fit([X_train['description'], X_train_transformed], y_train,\n",
    "                      batch_size=64,\n",
    "                      epochs=10,\n",
    "                      validation_split=0.2) \n",
    "\n",
    "\n",
    "            loss, mse = model.evaluate([X_test['description'], X_test_transformed], y_test, verbose=0)\n",
    "\n",
    "            # Check if this is the best model so far\n",
    "            if mse < best_score:\n",
    "                best_score = mse\n",
    "                best_model = model\n",
    "                \n",
    "\n",
    "print(f\"Best Model: {best_params}\")\n",
    "predictions = best_model.predict([X_test['description'], X_test_transformed])\n"
   ]
  },
  {
   "cell_type": "code",
   "execution_count": null,
   "metadata": {},
   "outputs": [],
   "source": []
  }
 ],
 "metadata": {
  "kernelspec": {
   "display_name": "Python 3 (ipykernel)",
   "language": "python",
   "name": "python3"
  },
  "language_info": {
   "codemirror_mode": {
    "name": "ipython",
    "version": 3
   },
   "file_extension": ".py",
   "mimetype": "text/x-python",
   "name": "python",
   "nbconvert_exporter": "python",
   "pygments_lexer": "ipython3",
   "version": "3.9.12"
  }
 },
 "nbformat": 4,
 "nbformat_minor": 4
}
