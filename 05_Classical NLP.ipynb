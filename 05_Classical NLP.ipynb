{
 "cells": [
  {
   "cell_type": "markdown",
   "id": "913f51b2-bcea-4c4f-9328-b492bcd4be21",
   "metadata": {},
   "source": [
    "## Classical NLP - With NLTK/SpaCy"
   ]
  },
  {
   "cell_type": "markdown",
   "id": "9bd965e3-e4eb-4cac-91eb-f001d47f6e23",
   "metadata": {},
   "source": [
    "Natural Language Processing, or NLP for short, is broadly defined as the automatic manipulation of natural language, like speech and text, by software.\n",
    "The study of natural language processing has been around for more than 50 years and grew out of the field of linguistics with the rise of computers. \n",
    "\n",
    "As machine learning practitioners interested in working with text data, we are concerned with the tools and methods from the field of Natural Language Processing.\n",
    "\n"
   ]
  },
  {
   "cell_type": "markdown",
   "id": "86090393-0fad-43a1-ba35-6d6e8394d280",
   "metadata": {},
   "source": [
    "Text is an extremely rich source of information. Each minute, people send hundreds of millions of new emails and text messages. There’s a veritable mountain of text data waiting to be mined for insights. But data scientists who want to glean meaning from all of that text data face a challenge: it is difficult to analyze and process because it exists in **unstructured form**."
   ]
  },
  {
   "cell_type": "markdown",
   "id": "f6c290ae-e974-462f-a0c9-284615fa2531",
   "metadata": {},
   "source": [
    "In this tutorial, we’ll take a look at how we can transform all of that unstructured text data into something more useful for analysis and natural language processing, using the helpful Python package spaCy [(documentation)](https://spacy.io/), NLTK [(docs)](https://www.nltk.org/) and scikit learn.\n",
    "\n",
    "Once we’ve done this, we’ll be able to derive meaningful patterns and themes from text data. This is useful in a wide variety of data science applications: \n",
    "* spam filtering\n",
    "* support tickets\n",
    "* social media analysis\n",
    "* contextual advertising\n",
    "* reviewing customer feedback\n",
    "* and more."
   ]
  },
  {
   "cell_type": "markdown",
   "id": "c0a2db28-fff9-4f34-bfba-245bfaecd615",
   "metadata": {},
   "source": [
    "### Text tokenization"
   ]
  },
  {
   "cell_type": "markdown",
   "id": "c4f4e1e3-c5bb-4ceb-a6ec-2ae3086d41cd",
   "metadata": {},
   "source": [
    "Tokenization is the process of breaking text into pieces, called tokens, and ignoring characters like punctuation marks (,. “ ‘) and spaces. spaCy‘s tokenizer takes input in form of unicode text and outputs a sequence of token objects:"
   ]
  },
  {
   "cell_type": "code",
   "execution_count": 1,
   "id": "d9ffd842-09a7-4728-8321-36ddd0bff019",
   "metadata": {},
   "outputs": [
    {
     "name": "stdout",
     "output_type": "stream",
     "text": [
      "Collecting package metadata (current_repodata.json): done\n",
      "Solving environment: done\n",
      "\n",
      "\n",
      "==> WARNING: A newer version of conda exists. <==\n",
      "  current version: 22.9.0\n",
      "  latest version: 23.3.1\n",
      "\n",
      "Please update conda by running\n",
      "\n",
      "    $ conda update -n base -c defaults conda\n",
      "\n",
      "\n",
      "\n",
      "# All requested packages already installed.\n",
      "\n",
      "Retrieving notices: ...working... done\n",
      "\n",
      "Note: you may need to restart the kernel to use updated packages.\n"
     ]
    }
   ],
   "source": [
    "%conda install spacy nltk"
   ]
  },
  {
   "cell_type": "code",
   "execution_count": 2,
   "id": "7c9cb86f-24a4-485c-913b-aa8f1e736a17",
   "metadata": {},
   "outputs": [
    {
     "name": "stderr",
     "output_type": "stream",
     "text": [
      "[nltk_data] Downloading package stopwords to\n",
      "[nltk_data]     /Users/idodavid/nltk_data...\n",
      "[nltk_data]   Package stopwords is already up-to-date!\n",
      "[nltk_data] Downloading package punkt to /Users/idodavid/nltk_data...\n",
      "[nltk_data]   Package punkt is already up-to-date!\n",
      "[nltk_data] Downloading package averaged_perceptron_tagger to\n",
      "[nltk_data]     /Users/idodavid/nltk_data...\n",
      "[nltk_data]   Package averaged_perceptron_tagger is already up-to-\n",
      "[nltk_data]       date!\n"
     ]
    },
    {
     "data": {
      "text/plain": [
       "True"
      ]
     },
     "execution_count": 2,
     "metadata": {},
     "output_type": "execute_result"
    }
   ],
   "source": [
    "import nltk\n",
    "nltk.download('stopwords')\n",
    "nltk.download('punkt')\n",
    "nltk.download('averaged_perceptron_tagger')"
   ]
  },
  {
   "cell_type": "code",
   "execution_count": 3,
   "id": "ccdc3d25-e9d6-4cf2-bcc5-3e65c3153f4c",
   "metadata": {},
   "outputs": [
    {
     "data": {
      "text/plain": [
       "['When',\n",
       " 'learning',\n",
       " 'data',\n",
       " 'science',\n",
       " ',',\n",
       " 'you',\n",
       " 'should',\n",
       " \"n't\",\n",
       " 'get',\n",
       " 'discouraged',\n",
       " '!',\n",
       " 'Challenges',\n",
       " 'and',\n",
       " 'setbacks',\n",
       " 'are',\n",
       " \"n't\",\n",
       " 'failures',\n",
       " ',',\n",
       " 'they',\n",
       " \"'re\",\n",
       " 'just',\n",
       " 'part',\n",
       " 'of',\n",
       " 'the',\n",
       " 'journey',\n",
       " '.',\n",
       " 'You',\n",
       " \"'ve\",\n",
       " 'got',\n",
       " 'this',\n",
       " '!']"
      ]
     },
     "execution_count": 3,
     "metadata": {},
     "output_type": "execute_result"
    }
   ],
   "source": [
    "text = \"\"\"When learning data science, you shouldn't get discouraged!\n",
    "Challenges and setbacks aren't failures, they're just part of the journey. You've got this!\"\"\"\n",
    "\n",
    "text_tokens = nltk.word_tokenize(text)\n",
    "text_tokens"
   ]
  },
  {
   "cell_type": "markdown",
   "id": "07152a14-0ac7-408a-bcf0-627409fe205a",
   "metadata": {},
   "source": [
    "### Cleaning Text Data: Removing Stopwords\n"
   ]
  },
  {
   "cell_type": "markdown",
   "id": "0794cf6a-9988-44c3-b8ea-25b15b08ae3d",
   "metadata": {},
   "source": [
    "Most text data that we work with is going to contain a lot of words that aren’t actually useful to us. These words, called stopwords, are useful in human speech, but they don’t have much to contribute to data analysis. Removing stopwords helps us eliminate noise and distraction from our text data, and also speeds up the time analysis takes (since there are fewer words to process).\n",
    "\n",
    "Let’s take a look at the stopwords spaCy includes by default:"
   ]
  },
  {
   "cell_type": "code",
   "execution_count": 4,
   "id": "bfcbdb54-c1c9-4d9b-b7f5-6795503658f0",
   "metadata": {},
   "outputs": [
    {
     "data": {
      "text/plain": [
       "['i', 'me', 'my', 'myself', 'we']"
      ]
     },
     "execution_count": 4,
     "metadata": {},
     "output_type": "execute_result"
    }
   ],
   "source": [
    "stopwords=nltk.corpus.stopwords.words(\"english\") + nltk.corpus.stopwords.words(\"italian\") + nltk.corpus.stopwords.words(\"spanish\")\n",
    "stopwords[:5]"
   ]
  },
  {
   "cell_type": "markdown",
   "id": "1bf6983d-44c7-4f6b-ab2a-e38969201714",
   "metadata": {},
   "source": [
    "**Removing Stopwords:**"
   ]
  },
  {
   "cell_type": "code",
   "execution_count": 5,
   "id": "bdba88a6-ace7-4d4c-9989-4919836290b9",
   "metadata": {},
   "outputs": [
    {
     "data": {
      "text/plain": [
       "['you', 'should', 'and', 'are', 'they', 'just', 'of', 'the', 'this']"
      ]
     },
     "execution_count": 5,
     "metadata": {},
     "output_type": "execute_result"
    }
   ],
   "source": [
    "[t for t in text_tokens if t in stopwords]"
   ]
  },
  {
   "cell_type": "markdown",
   "id": "292c850a-6e75-4fc0-b781-38801f9e645c",
   "metadata": {},
   "source": [
    "### Lexicon Normalization"
   ]
  },
  {
   "cell_type": "markdown",
   "id": "13592f80-dc28-4536-9e9a-3875d8dcb943",
   "metadata": {},
   "source": [
    "In NLP, a lexicon is the set of words composing all known words. We will usually keep it as small as possible, but this changes depending on the problam we are trying to solve. One of the methods to keep a lexicon small is to normalize it using stemming/lemmatization, both ways of processing words that reduces them to their roots."
   ]
  },
  {
   "cell_type": "markdown",
   "id": "7e9d2982-ca72-434a-a936-bb9a593f9f96",
   "metadata": {},
   "source": [
    "while words like connect, connection, connecting, connected, etc. aren’t exactly the same, they all have the same essential meaning: connect. The differences in spelling have grammatical functions in spoken language, but for machine processing, those differences can be confusing, so we need a way to change all the words that are forms of the word connect into the word connect itself."
   ]
  },
  {
   "cell_type": "code",
   "execution_count": 6,
   "id": "e4809c21-345c-4bba-ba97-2af9e949708c",
   "metadata": {},
   "outputs": [],
   "source": [
    "from nltk.stem import PorterStemmer\n",
    "from nltk.tokenize import word_tokenize"
   ]
  },
  {
   "cell_type": "code",
   "execution_count": 7,
   "id": "06c2a1b7-7732-4c49-a8c5-99b184c7191f",
   "metadata": {},
   "outputs": [
    {
     "name": "stdout",
     "output_type": "stream",
     "text": [
      "program  :  program\n",
      "programs  :  program\n",
      "programmer  :  programm\n",
      "programming  :  program\n",
      "programmers  :  programm\n"
     ]
    }
   ],
   "source": [
    "ps = PorterStemmer()\n",
    "words = [\"program\", \"programs\", \"programmer\", \"programming\", \"programmers\"]\n",
    " \n",
    "for w in words:\n",
    "    print(w, \" : \", ps.stem(w))"
   ]
  },
  {
   "cell_type": "markdown",
   "id": "71b3dc0e-12c3-4fc9-8fd5-b6b848fb9202",
   "metadata": {},
   "source": [
    "### Part of Speech (POS) Tagging"
   ]
  },
  {
   "cell_type": "markdown",
   "id": "61bd99b8-8cde-4dfd-8651-6a63a5975664",
   "metadata": {},
   "source": [
    "A word’s part of speech defines its function within a sentence. A noun, for example, identifies an object. An adjective describes an object. A verb describes action. Identifying and tagging each word’s part of speech in the context of a sentence is called Part-of-Speech Tagging, or POS Tagging."
   ]
  },
  {
   "cell_type": "code",
   "execution_count": 8,
   "id": "c939b952-ee2b-4d3f-97cb-05843c948309",
   "metadata": {},
   "outputs": [],
   "source": [
    "from nltk import pos_tag"
   ]
  },
  {
   "cell_type": "code",
   "execution_count": 9,
   "id": "4659bafc-5ba0-48bb-8e5d-b3bbfdfdce7d",
   "metadata": {},
   "outputs": [
    {
     "name": "stdout",
     "output_type": "stream",
     "text": [
      "learn ('learn', 'NN')\n",
      "about ('about', 'IN')\n",
      "natural ('natural', 'JJ')\n",
      "language ('language', 'NN')\n",
      "processing ('processing', 'NN')\n",
      "is ('is', 'VBZ')\n",
      "easy ('easy', 'JJ')\n",
      "and ('and', 'CC')\n",
      "fun ('fun', 'NN')\n"
     ]
    }
   ],
   "source": [
    "text =\"learn about natural language processing is easy and fun\"\n",
    "tokens =  nltk.word_tokenize(text)\n",
    "tokens_tag = pos_tag(tokens)\n",
    "for token, token_tag in zip(tokens, tokens_tag):\n",
    "    print(token, token_tag)"
   ]
  },
  {
   "cell_type": "markdown",
   "id": "df86a9ab-af93-4196-b9ac-d86c8bc30971",
   "metadata": {},
   "source": [
    "### More NLP tools"
   ]
  },
  {
   "cell_type": "markdown",
   "id": "a77ad1f5-8273-4a14-8fd9-71006de129d3",
   "metadata": {},
   "source": [
    "* Entity Detection - Entity detection, also called entity recognition, is a more advanced form of language processing that identifies important elements like places, people, organizations, and languages within an input string of text. This is really helpful for quickly extracting information from text, since you can quickly pick out important topics or indentify key sections of text.\n",
    "* Dependency Parsing - Depenency parsing is a language processing technique that allows us to better determine the meaning of a sentence by analyzing how it’s constructed to determine how the individual words relate to each other:\n",
    "![alt](https://www.dataquest.io/wp-content/uploads/2019/04/text-expressions-python-chart-1.png)\n",
    "* Word Vector Representation - A word vector is a numeric representation of a word that commuicates its relationship to other words, Also known as embedding vector"
   ]
  },
  {
   "cell_type": "markdown",
   "id": "f7166f51-6890-487e-8598-79afc9e2d399",
   "metadata": {},
   "source": [
    "## The Bag of words model"
   ]
  },
  {
   "cell_type": "markdown",
   "id": "630d8e90-fc24-4238-9762-bd940af13cf2",
   "metadata": {},
   "source": [
    "The Bag of Words (BoW) model is the simplest form of text representation in numbers. Like the term itself, we can represent a sentence as a bag of words vector (a string of numbers).\n",
    "\n",
    "Let’s recall the three types of movie reviews we saw earlier:\n",
    "\n",
    "* Review 1: This movie is very scary and long\n",
    "* Review 2: This movie is not scary and is slow\n",
    "* Review 3: This movie is spooky and good\n",
    "\n",
    "We will first build a vocabulary from all the unique words in the above three reviews. The vocabulary consists of these 11 words: ‘This’, ‘movie’, ‘is’, ‘very’, ‘scary’, ‘and’, ‘long’, ‘not’,  ‘slow’, ‘spooky’,  ‘good’.\n",
    "\n",
    "We can now take each of these words and mark their occurrence in the three movie reviews above with 1s and 0s. This will give us 3 vectors for 3 reviews:\n",
    "\n"
   ]
  },
  {
   "cell_type": "markdown",
   "id": "f12a99d9-1d6e-4b72-85e4-207a5e637362",
   "metadata": {},
   "source": [
    "![alt](https://cdn.analyticsvidhya.com/wp-content/uploads/2020/02/BoWBag-of-Words-model-2.png)"
   ]
  },
  {
   "cell_type": "markdown",
   "id": "8df28236-a96b-4d37-90a9-57277255373f",
   "metadata": {},
   "source": [
    "Drawbacks of using a Bag-of-Words (BoW) Model:\n",
    "    \n",
    "In the above example, we can have vectors of length 11. However, we start facing issues when we come across new sentences:\n",
    "\n",
    "* Out of Vocabulary words (OOV) - If the new sentences contain new words, then our vocabulary size would increase and thereby, the length of the vectors would increase too.\n",
    "* Sparsity - the vectors contain many 0s, thereby resulting in a sparse matrix \n",
    "* We are retaining no information on the grammar of the sentences nor on the ordering of the words in the text"
   ]
  },
  {
   "cell_type": "markdown",
   "id": "a3c7dc45-5592-4c4f-a700-c18b04114822",
   "metadata": {},
   "source": [
    "<div class=\"alert alert-block alert-warning\">\n",
    "<b>Consider the following sentneces:\n",
    "<ul>\n",
    "    <li> The movie was bad. Not good at all. </li>\n",
    "    <li> The movive was good. Not bad at all. </li>\n",
    "</ul>\n",
    "     \n",
    "\n",
    "What would be their bag-of-words representation? </b>\n",
    "</div>"
   ]
  },
  {
   "cell_type": "markdown",
   "id": "8c93f03a-4ba0-4d27-b053-d3bf6d534796",
   "metadata": {},
   "source": [
    "## Term Frequency and Inverse Document Frequency (TF-IDF)\n"
   ]
  },
  {
   "cell_type": "markdown",
   "id": "bd2b641d-dbe6-4786-bb01-0e1abcda8e59",
   "metadata": {},
   "source": [
    "Term frequency–inverse document frequency, is a numerical statistic that is intended to reflect how important a word is to a document in a collection or corpus.\n",
    "* Term frequency - The number of times a word appeared in the text\n",
    "* Inverse document frequency - A measure of how unique is a given word "
   ]
  },
  {
   "cell_type": "markdown",
   "id": "5f49b42f-2db1-4672-af10-248e2226f280",
   "metadata": {},
   "source": [
    "### Term Frequency (TF)"
   ]
  },
  {
   "cell_type": "markdown",
   "id": "a64de1eb-66c8-48c6-8d63-f1f0ccb1b101",
   "metadata": {},
   "source": [
    "The number of times the token “t” appears in the document “d”:"
   ]
  },
  {
   "cell_type": "markdown",
   "id": "e75a8fcd-f60a-4bb2-b069-b30ab72477d5",
   "metadata": {},
   "source": [
    "![alt](https://cdn.analyticsvidhya.com/wp-content/uploads/2020/02/tf.jpg)"
   ]
  },
  {
   "cell_type": "markdown",
   "id": "d3a0f684-899b-460c-9d35-3456849372a9",
   "metadata": {},
   "source": [
    "![alt](https://cdn.analyticsvidhya.com/wp-content/uploads/2020/02/TF-matrix-1.png)"
   ]
  },
  {
   "cell_type": "markdown",
   "id": "82a87327-ad39-4ce6-8907-4510f622f343",
   "metadata": {},
   "source": [
    "### Inverse Document Frequency (IDF)\n"
   ]
  },
  {
   "cell_type": "markdown",
   "id": "955448df-1915-44b4-855a-eb229d36d761",
   "metadata": {},
   "source": [
    "IDF is a measure of how important a term is. We need the IDF value because computing just the TF alone is not sufficient to understand the importance of words (The word \"The\" would have a high TF value cause it is used a lot, but it bears very minimal information):"
   ]
  },
  {
   "cell_type": "markdown",
   "id": "c64d58ec-43fe-491c-a811-bc7ea573dff3",
   "metadata": {},
   "source": [
    "![alt](https://cdn.analyticsvidhya.com/wp-content/uploads/2020/02/idf.jpg)"
   ]
  },
  {
   "cell_type": "markdown",
   "id": "78e5f689-b793-459e-a371-28d5d25755ed",
   "metadata": {},
   "source": [
    "![alt](https://cdn.analyticsvidhya.com/wp-content/uploads/2020/02/IDF-matrix.png)"
   ]
  },
  {
   "cell_type": "markdown",
   "id": "d87d055a-161e-43ca-a803-504056e03841",
   "metadata": {},
   "source": [
    "<div class=\"alert alert-block alert-warning\">\n",
    "<b>Consider the following sentneces:\n",
    "<ul>\n",
    "    <li> The movie was bad. Not good at all. </li>\n",
    "    <li> The movive was good. Not bad at all. </li>\n",
    "</ul>\n",
    "     \n",
    "\n",
    "What would be their bag-of-words representation? </b>\n",
    "</div>"
   ]
  },
  {
   "cell_type": "markdown",
   "id": "abba309e-529f-4151-beb8-6b42ea0ff4ad",
   "metadata": {},
   "source": [
    "# Text classification"
   ]
  },
  {
   "cell_type": "code",
   "execution_count": 10,
   "id": "a591f6ee-ca7b-491f-a3aa-fc9130c67e97",
   "metadata": {},
   "outputs": [],
   "source": [
    "import pandas as pd"
   ]
  },
  {
   "cell_type": "code",
   "execution_count": 11,
   "id": "e85cf184-9e95-4c85-afc5-fda54409b7d1",
   "metadata": {},
   "outputs": [],
   "source": [
    "bad = pd.read_csv('data/bad_tweets.txt', names = ['id','tweet'], sep='\\t')\n",
    "good = pd.read_csv('data/good_tweets.txt', names = ['id','tweet'], sep='\\t')"
   ]
  },
  {
   "cell_type": "code",
   "execution_count": 12,
   "id": "b776f422-0dbc-4be5-a281-945794b4d0a4",
   "metadata": {},
   "outputs": [
    {
     "data": {
      "text/plain": [
       "((3490, 2), (3522, 2))"
      ]
     },
     "execution_count": 12,
     "metadata": {},
     "output_type": "execute_result"
    }
   ],
   "source": [
    "bad.shape, good.shape"
   ]
  },
  {
   "cell_type": "code",
   "execution_count": 13,
   "id": "b2d7d977-b192-4d91-b039-2b7a6930641b",
   "metadata": {},
   "outputs": [
    {
     "data": {
      "text/html": [
       "<div>\n",
       "<style scoped>\n",
       "    .dataframe tbody tr th:only-of-type {\n",
       "        vertical-align: middle;\n",
       "    }\n",
       "\n",
       "    .dataframe tbody tr th {\n",
       "        vertical-align: top;\n",
       "    }\n",
       "\n",
       "    .dataframe thead th {\n",
       "        text-align: right;\n",
       "    }\n",
       "</style>\n",
       "<table border=\"1\" class=\"dataframe\">\n",
       "  <thead>\n",
       "    <tr style=\"text-align: right;\">\n",
       "      <th></th>\n",
       "      <th>id</th>\n",
       "      <th>tweet</th>\n",
       "    </tr>\n",
       "  </thead>\n",
       "  <tbody>\n",
       "    <tr>\n",
       "      <th>0</th>\n",
       "      <td>100068216876965888</td>\n",
       "      <td>Social Media - Impact of Social Media on Small...</td>\n",
       "    </tr>\n",
       "    <tr>\n",
       "      <th>1</th>\n",
       "      <td>100523164500631552</td>\n",
       "      <td>Local Business Blogging - What to Blog About h...</td>\n",
       "    </tr>\n",
       "    <tr>\n",
       "      <th>2</th>\n",
       "      <td>100991945391878144</td>\n",
       "      <td>13 Hot Facebook Marketing Tips From the Top Pr...</td>\n",
       "    </tr>\n",
       "    <tr>\n",
       "      <th>3</th>\n",
       "      <td>101021386058903553</td>\n",
       "      <td>Short of blog ideas? \"Local Business Blogging ...</td>\n",
       "    </tr>\n",
       "    <tr>\n",
       "      <th>4</th>\n",
       "      <td>101417008050094080</td>\n",
       "      <td>Eleven Books That Will Rock Your World http://...</td>\n",
       "    </tr>\n",
       "  </tbody>\n",
       "</table>\n",
       "</div>"
      ],
      "text/plain": [
       "                   id                                              tweet\n",
       "0  100068216876965888  Social Media - Impact of Social Media on Small...\n",
       "1  100523164500631552  Local Business Blogging - What to Blog About h...\n",
       "2  100991945391878144  13 Hot Facebook Marketing Tips From the Top Pr...\n",
       "3  101021386058903553  Short of blog ideas? \"Local Business Blogging ...\n",
       "4  101417008050094080  Eleven Books That Will Rock Your World http://..."
      ]
     },
     "execution_count": 13,
     "metadata": {},
     "output_type": "execute_result"
    }
   ],
   "source": [
    "bad.head()"
   ]
  },
  {
   "cell_type": "markdown",
   "id": "f80f7b0e-0ffe-407c-8b5a-e3534b109f7c",
   "metadata": {},
   "source": [
    "## Data exploration"
   ]
  },
  {
   "cell_type": "code",
   "execution_count": 84,
   "id": "cbee1518-89d2-48fe-900f-5640cbcaf0eb",
   "metadata": {},
   "outputs": [],
   "source": [
    "%pip install cufflinks"
   ]
  },
  {
   "cell_type": "code",
   "execution_count": 15,
   "id": "fb34ac39-c218-4f1a-baa3-49170faccc7d",
   "metadata": {},
   "outputs": [
    {
     "data": {
      "text/html": [
       "        <script type=\"text/javascript\">\n",
       "        window.PlotlyConfig = {MathJaxConfig: 'local'};\n",
       "        if (window.MathJax && window.MathJax.Hub && window.MathJax.Hub.Config) {window.MathJax.Hub.Config({SVG: {font: \"STIX-Web\"}});}\n",
       "        if (typeof require !== 'undefined') {\n",
       "        require.undef(\"plotly\");\n",
       "        requirejs.config({\n",
       "            paths: {\n",
       "                'plotly': ['https://cdn.plot.ly/plotly-2.12.1.min']\n",
       "            }\n",
       "        });\n",
       "        require(['plotly'], function(Plotly) {\n",
       "            window._Plotly = Plotly;\n",
       "        });\n",
       "        }\n",
       "        </script>\n",
       "        "
      ]
     },
     "metadata": {},
     "output_type": "display_data"
    }
   ],
   "source": [
    "from pandas import * \n",
    "import cufflinks as cf; cf.go_offline()"
   ]
  },
  {
   "cell_type": "code",
   "execution_count": 16,
   "id": "bce0e36a-8289-44ba-9d4c-6c541c34d585",
   "metadata": {},
   "outputs": [],
   "source": [
    "set_option('display.max_colwidth',200)"
   ]
  },
  {
   "cell_type": "code",
   "execution_count": 17,
   "id": "cbaa3435-25f8-4439-9218-cba4611cba90",
   "metadata": {},
   "outputs": [
    {
     "data": {
      "text/html": [
       "<div>\n",
       "<style scoped>\n",
       "    .dataframe tbody tr th:only-of-type {\n",
       "        vertical-align: middle;\n",
       "    }\n",
       "\n",
       "    .dataframe tbody tr th {\n",
       "        vertical-align: top;\n",
       "    }\n",
       "\n",
       "    .dataframe thead th {\n",
       "        text-align: right;\n",
       "    }\n",
       "</style>\n",
       "<table border=\"1\" class=\"dataframe\">\n",
       "  <thead>\n",
       "    <tr style=\"text-align: right;\">\n",
       "      <th></th>\n",
       "      <th>id</th>\n",
       "      <th>tweet</th>\n",
       "      <th>cls</th>\n",
       "    </tr>\n",
       "  </thead>\n",
       "  <tbody>\n",
       "    <tr>\n",
       "      <th>95</th>\n",
       "      <td>161580880006090752</td>\n",
       "      <td>@nakedlaughing fair enough I was just wondering, I was not a big fan of the iPhone until I got one</td>\n",
       "      <td>1</td>\n",
       "    </tr>\n",
       "    <tr>\n",
       "      <th>2108</th>\n",
       "      <td>403498585666236416</td>\n",
       "      <td>@shermeydane Sira! Hahahaha. Ikaw ha!</td>\n",
       "      <td>1</td>\n",
       "    </tr>\n",
       "    <tr>\n",
       "      <th>3238</th>\n",
       "      <td>457996584933138432</td>\n",
       "      <td>I'm taking a break from wow so what do I do? Play #Hearthstone of course, makes perfect sense #notevenclosetosmart</td>\n",
       "      <td>1</td>\n",
       "    </tr>\n",
       "    <tr>\n",
       "      <th>1418</th>\n",
       "      <td>394137536068849664</td>\n",
       "      <td>@SimoneTheWanted @SivaTheWanted Lol a yes they fit would be fine ;)</td>\n",
       "      <td>1</td>\n",
       "    </tr>\n",
       "    <tr>\n",
       "      <th>2403</th>\n",
       "      <td>407995412843618304</td>\n",
       "      <td>@GypsyLullaby7 #PaleandTasty http://t.co/O6PRyCUm4J</td>\n",
       "      <td>1</td>\n",
       "    </tr>\n",
       "  </tbody>\n",
       "</table>\n",
       "</div>"
      ],
      "text/plain": [
       "                      id  \\\n",
       "95    161580880006090752   \n",
       "2108  403498585666236416   \n",
       "3238  457996584933138432   \n",
       "1418  394137536068849664   \n",
       "2403  407995412843618304   \n",
       "\n",
       "                                                                                                                   tweet  \\\n",
       "95                    @nakedlaughing fair enough I was just wondering, I was not a big fan of the iPhone until I got one   \n",
       "2108                                                                               @shermeydane Sira! Hahahaha. Ikaw ha!   \n",
       "3238  I'm taking a break from wow so what do I do? Play #Hearthstone of course, makes perfect sense #notevenclosetosmart   \n",
       "1418                                                 @SimoneTheWanted @SivaTheWanted Lol a yes they fit would be fine ;)   \n",
       "2403                                                                 @GypsyLullaby7 #PaleandTasty http://t.co/O6PRyCUm4J   \n",
       "\n",
       "      cls  \n",
       "95      1  \n",
       "2108    1  \n",
       "3238    1  \n",
       "1418    1  \n",
       "2403    1  "
      ]
     },
     "execution_count": 17,
     "metadata": {},
     "output_type": "execute_result"
    }
   ],
   "source": [
    "good['cls'] = 1\n",
    "good.sample(5)"
   ]
  },
  {
   "cell_type": "code",
   "execution_count": 18,
   "id": "38ff7158-5e0b-47b6-b2c4-a28526f6fb1e",
   "metadata": {},
   "outputs": [
    {
     "data": {
      "text/html": [
       "<div>\n",
       "<style scoped>\n",
       "    .dataframe tbody tr th:only-of-type {\n",
       "        vertical-align: middle;\n",
       "    }\n",
       "\n",
       "    .dataframe tbody tr th {\n",
       "        vertical-align: top;\n",
       "    }\n",
       "\n",
       "    .dataframe thead th {\n",
       "        text-align: right;\n",
       "    }\n",
       "</style>\n",
       "<table border=\"1\" class=\"dataframe\">\n",
       "  <thead>\n",
       "    <tr style=\"text-align: right;\">\n",
       "      <th></th>\n",
       "      <th>id</th>\n",
       "      <th>tweet</th>\n",
       "      <th>cls</th>\n",
       "    </tr>\n",
       "  </thead>\n",
       "  <tbody>\n",
       "    <tr>\n",
       "      <th>1992</th>\n",
       "      <td>295038233778196480</td>\n",
       "      <td>If you've never studied English before, the True Stories English Fluency Course probably won't help you -   http://t.co/F4hdJ2i6</td>\n",
       "      <td>0</td>\n",
       "    </tr>\n",
       "    <tr>\n",
       "      <th>2848</th>\n",
       "      <td>467696425417973760</td>\n",
       "      <td>RT @Brylane_Home: RT &amp;amp; follow us to win $100 Mystery Prize A #bhomegiveaway NoPurNec18+RulesApply@ http://t.co/T9zDRFnIB4 http://t.co/90Hfaâ€¦</td>\n",
       "      <td>0</td>\n",
       "    </tr>\n",
       "    <tr>\n",
       "      <th>750</th>\n",
       "      <td>281387530723684352</td>\n",
       "      <td>Brother 5300 Universal Sewing Machine Carrying Case - by Brother  http://t.co/VfO0xmYO</td>\n",
       "      <td>0</td>\n",
       "    </tr>\n",
       "    <tr>\n",
       "      <th>300</th>\n",
       "      <td>165933956456386560</td>\n",
       "      <td>FEAR F=False E=Evidence A=Appearing R=Real Remember this next time you get that feeling! @csspecialists [Very true; mind can amplify FEAR]</td>\n",
       "      <td>0</td>\n",
       "    </tr>\n",
       "    <tr>\n",
       "      <th>1945</th>\n",
       "      <td>294412160950489091</td>\n",
       "      <td>Mediterranean Diet for the Heart - Learn the secrets of healthy living that the Mediterraneans have known</td>\n",
       "      <td>0</td>\n",
       "    </tr>\n",
       "  </tbody>\n",
       "</table>\n",
       "</div>"
      ],
      "text/plain": [
       "                      id  \\\n",
       "1992  295038233778196480   \n",
       "2848  467696425417973760   \n",
       "750   281387530723684352   \n",
       "300   165933956456386560   \n",
       "1945  294412160950489091   \n",
       "\n",
       "                                                                                                                                                   tweet  \\\n",
       "1992                    If you've never studied English before, the True Stories English Fluency Course probably won't help you -   http://t.co/F4hdJ2i6   \n",
       "2848  RT @Brylane_Home: RT &amp; follow us to win $100 Mystery Prize A #bhomegiveaway NoPurNec18+RulesApply@ http://t.co/T9zDRFnIB4 http://t.co/90Hfaâ€¦   \n",
       "750                                                               Brother 5300 Universal Sewing Machine Carrying Case - by Brother  http://t.co/VfO0xmYO   \n",
       "300           FEAR F=False E=Evidence A=Appearing R=Real Remember this next time you get that feeling! @csspecialists [Very true; mind can amplify FEAR]   \n",
       "1945                                           Mediterranean Diet for the Heart - Learn the secrets of healthy living that the Mediterraneans have known   \n",
       "\n",
       "      cls  \n",
       "1992    0  \n",
       "2848    0  \n",
       "750     0  \n",
       "300     0  \n",
       "1945    0  "
      ]
     },
     "execution_count": 18,
     "metadata": {},
     "output_type": "execute_result"
    }
   ],
   "source": [
    "bad['cls'] = 0\n",
    "bad.sample(5)"
   ]
  },
  {
   "cell_type": "code",
   "execution_count": 19,
   "id": "4563228e-8888-4582-88c2-6e6176af5590",
   "metadata": {},
   "outputs": [
    {
     "name": "stderr",
     "output_type": "stream",
     "text": [
      "/var/folders/bs/g6pz0yts3fg0jn57qwt68lt80000gn/T/ipykernel_55400/2752880091.py:1: FutureWarning:\n",
      "\n",
      "The frame.append method is deprecated and will be removed from pandas in a future version. Use pandas.concat instead.\n",
      "\n"
     ]
    },
    {
     "data": {
      "text/plain": [
       "1    3522\n",
       "0    3490\n",
       "Name: cls, dtype: int64"
      ]
     },
     "execution_count": 19,
     "metadata": {},
     "output_type": "execute_result"
    }
   ],
   "source": [
    "df = good.append(bad, ignore_index = True)\n",
    "df.cls.value_counts()"
   ]
  },
  {
   "cell_type": "markdown",
   "id": "a2bf81ba-7056-4e7b-ac3b-97f65523878d",
   "metadata": {},
   "source": [
    "## Content based model"
   ]
  },
  {
   "cell_type": "code",
   "execution_count": 20,
   "id": "c3fed506-42e4-420f-a13b-141f56eb0d42",
   "metadata": {},
   "outputs": [
    {
     "name": "stdout",
     "output_type": "stream",
     "text": [
      "Requirement already satisfied: ttp in /Users/idodavid/miniforge3/envs/python_ml/lib/python3.9/site-packages (0.9.4)\n",
      "Note: you may need to restart the kernel to use updated packages.\n"
     ]
    }
   ],
   "source": [
    "%pip install ttp"
   ]
  },
  {
   "cell_type": "code",
   "execution_count": 21,
   "id": "e936efcc-7eaf-4530-aacc-2320a19b2ce5",
   "metadata": {},
   "outputs": [
    {
     "name": "stdout",
     "output_type": "stream",
     "text": [
      "Requirement already satisfied: emoji in /Users/idodavid/miniforge3/envs/python_ml/lib/python3.9/site-packages (2.2.0)\n",
      "Note: you may need to restart the kernel to use updated packages.\n"
     ]
    }
   ],
   "source": [
    "%pip install emoji"
   ]
  },
  {
   "cell_type": "code",
   "execution_count": 22,
   "id": "b1922201-fc91-4c42-8c0a-fceeb8ebf11a",
   "metadata": {},
   "outputs": [],
   "source": [
    "import string\n",
    "import emoji\n",
    "import re as regex"
   ]
  },
  {
   "cell_type": "code",
   "execution_count": 23,
   "id": "f84aaa93-f83b-47c1-a75d-202186459170",
   "metadata": {},
   "outputs": [],
   "source": [
    "specialChars = ''.join([\",\", \":\", \"\\\"\", \"=\", \"&\", \";\", \"%\", \"$\",\"@\", \"%\", \"^\", \"*\", \"(\", \")\", \"{\", \"}\",'–','“', '”'\n",
    "                      \"[\", \"]\", \"|\", \"/\", \"\\\\\", \">\", \"<\", \"-\",\"!\", \"?\", \".\", \"'\",\"--\", \"---\", \"#\", '‘', '’', '…'])  \n",
    "space_chars = ['.',',',';', '&', '?','!']\n",
    "def remove_by_regex(tweets, regexp):\n",
    "    return tweets.replace(regexp, \"\")\n",
    "\n",
    "def remove_urls(tweets):\n",
    "    return remove_by_regex(tweets, regex.compile(r\"http\\S+\"))\n",
    "\n",
    "def remove_special_chars(tweets): \n",
    "    return tweets.apply(lambda tweet: ''.join([c for c in tweet if c not in specialChars]))\n",
    "\n",
    "def remove_usernames(tweets):\n",
    "    return remove_by_regex(tweets, regex.compile(r\"@[^\\s]+[\\s]?\"))\n",
    "\n",
    "def remove_numbers(tweets):\n",
    "    return remove_by_regex(tweets, regex.compile(r\"\\s?[0-9]+\\.?[0-9]*\"))\n",
    "\n",
    "def remove_emojis(tweets):\n",
    "    return tweets.apply(lambda tweet: ''.join(c for c in tweet if c not in emoji.distinct_emoji_list(tweet)))\n",
    "\n",
    "def add_spaces(tweets):\n",
    "    def add_spaces_int(tweet):\n",
    "        for char in space_chars:\n",
    "            tweet = tweet.replace(char, char + ' ')\n",
    "        return tweet\n",
    "    return tweets.apply(lambda tweet: add_spaces_int(tweet))\n",
    "\n",
    "def leave_language_only(tweets):\n",
    "    for f in [remove_urls, remove_emojis, add_spaces, remove_numbers, remove_usernames, remove_special_chars]:\n",
    "        tweets = f(tweets)\n",
    "    return tweets"
   ]
  },
  {
   "cell_type": "code",
   "execution_count": 24,
   "id": "01c2d6ad-94a5-4270-a193-d992b8ce0ea8",
   "metadata": {},
   "outputs": [
    {
     "name": "stdout",
     "output_type": "stream",
     "text": [
      "<class 'pandas.core.frame.DataFrame'>\n",
      "RangeIndex: 7012 entries, 0 to 7011\n",
      "Data columns (total 4 columns):\n",
      " #   Column         Non-Null Count  Dtype \n",
      "---  ------         --------------  ----- \n",
      " 0   id             7012 non-null   int64 \n",
      " 1   tweet          7012 non-null   object\n",
      " 2   cls            7012 non-null   int64 \n",
      " 3   pureTextTweet  7012 non-null   object\n",
      "dtypes: int64(2), object(2)\n",
      "memory usage: 219.2+ KB\n"
     ]
    }
   ],
   "source": [
    "df['pureTextTweet'] = leave_language_only(df.tweet.str.lower())\n",
    "df.info()"
   ]
  },
  {
   "cell_type": "code",
   "execution_count": 25,
   "id": "04c0a471-b95b-4200-b2d6-b50f47607272",
   "metadata": {},
   "outputs": [
    {
     "data": {
      "text/html": [
       "<div>\n",
       "<style scoped>\n",
       "    .dataframe tbody tr th:only-of-type {\n",
       "        vertical-align: middle;\n",
       "    }\n",
       "\n",
       "    .dataframe tbody tr th {\n",
       "        vertical-align: top;\n",
       "    }\n",
       "\n",
       "    .dataframe thead th {\n",
       "        text-align: right;\n",
       "    }\n",
       "</style>\n",
       "<table border=\"1\" class=\"dataframe\">\n",
       "  <thead>\n",
       "    <tr style=\"text-align: right;\">\n",
       "      <th></th>\n",
       "      <th>tweet</th>\n",
       "      <th>pureTextTweet</th>\n",
       "    </tr>\n",
       "  </thead>\n",
       "  <tbody>\n",
       "    <tr>\n",
       "      <th>3543</th>\n",
       "      <td>How to Create Value and Build Customer Loyalty: http://t.co/GE1IFVX</td>\n",
       "      <td>how to create value and build customer loyalty</td>\n",
       "    </tr>\n",
       "    <tr>\n",
       "      <th>3867</th>\n",
       "      <td>RT @BousquetCMP New #Blogboost Post: 4 Types Of Public Speakers-Which Speaking Style Is Yours? http://t.co/MMelNxi4 [Important differences!]</td>\n",
       "      <td>rt new blogboost post types of public speakerswhich speaking style is yours   important differences</td>\n",
       "    </tr>\n",
       "    <tr>\n",
       "      <th>5573</th>\n",
       "      <td>Gostei de um vÃ­deo @YouTube http://t.co/y9Zi29bFUg - Forget To Remember</td>\n",
       "      <td>gostei de um vã­deo   forget to remember</td>\n",
       "    </tr>\n",
       "    <tr>\n",
       "      <th>572</th>\n",
       "      <td>RT @justinbieber: regardless of what happens i see all of the tweets and all the love you guys are sending me. thank u. love u too #SUND ...</td>\n",
       "      <td>rt regardless of what happens i see all of the tweets and all the love you guys are sending me  thank u  love u too sund</td>\n",
       "    </tr>\n",
       "    <tr>\n",
       "      <th>2894</th>\n",
       "      <td>In a way</td>\n",
       "      <td>in a way</td>\n",
       "    </tr>\n",
       "  </tbody>\n",
       "</table>\n",
       "</div>"
      ],
      "text/plain": [
       "                                                                                                                                             tweet  \\\n",
       "3543                                                                           How to Create Value and Build Customer Loyalty: http://t.co/GE1IFVX   \n",
       "3867  RT @BousquetCMP New #Blogboost Post: 4 Types Of Public Speakers-Which Speaking Style Is Yours? http://t.co/MMelNxi4 [Important differences!]   \n",
       "5573                                                                      Gostei de um vÃ­deo @YouTube http://t.co/y9Zi29bFUg - Forget To Remember   \n",
       "572   RT @justinbieber: regardless of what happens i see all of the tweets and all the love you guys are sending me. thank u. love u too #SUND ...   \n",
       "2894                                                                                                                                      In a way   \n",
       "\n",
       "                                                                                                                     pureTextTweet  \n",
       "3543                                                                               how to create value and build customer loyalty   \n",
       "3867                          rt new blogboost post types of public speakerswhich speaking style is yours   important differences   \n",
       "5573                                                                                      gostei de um vã­deo   forget to remember  \n",
       "572   rt regardless of what happens i see all of the tweets and all the love you guys are sending me  thank u  love u too sund      \n",
       "2894                                                                                                                      in a way  "
      ]
     },
     "execution_count": 25,
     "metadata": {},
     "output_type": "execute_result"
    }
   ],
   "source": [
    "df[['tweet','pureTextTweet']].sample(5)"
   ]
  },
  {
   "cell_type": "code",
   "execution_count": 26,
   "id": "360a9440-6617-40d6-bd9b-8fe231ef527c",
   "metadata": {},
   "outputs": [
    {
     "data": {
      "text/plain": [
       "['i', 'me', 'my', 'myself', 'we']"
      ]
     },
     "execution_count": 26,
     "metadata": {},
     "output_type": "execute_result"
    }
   ],
   "source": [
    "stopwords=nltk.corpus.stopwords.words(\"english\") + nltk.corpus.stopwords.words(\"italian\") + nltk.corpus.stopwords.words(\"spanish\")\n",
    "stopwords[:5]"
   ]
  },
  {
   "cell_type": "code",
   "execution_count": 27,
   "id": "c47b8d8a-9966-4f00-9438-46752b936aa4",
   "metadata": {},
   "outputs": [
    {
     "data": {
      "text/plain": [
       "['what',\n",
       " 'a',\n",
       " 'great',\n",
       " 'tip',\n",
       " 'ali',\n",
       " 'no',\n",
       " 'more',\n",
       " 'leaving',\n",
       " 'things',\n",
       " 'behind',\n",
       " 'and',\n",
       " 'having',\n",
       " 'to',\n",
       " 'call',\n",
       " 'the',\n",
       " 'hotel',\n",
       " 'in',\n",
       " 'a',\n",
       " 'panic']"
      ]
     },
     "execution_count": 27,
     "metadata": {},
     "output_type": "execute_result"
    }
   ],
   "source": [
    "nltk.word_tokenize(df.pureTextTweet.iloc[0])"
   ]
  },
  {
   "cell_type": "code",
   "execution_count": 28,
   "id": "6fbcf46e-81cd-4e89-90e0-a5e8520b6b98",
   "metadata": {},
   "outputs": [
    {
     "data": {
      "text/html": [
       "<div>\n",
       "<style scoped>\n",
       "    .dataframe tbody tr th:only-of-type {\n",
       "        vertical-align: middle;\n",
       "    }\n",
       "\n",
       "    .dataframe tbody tr th {\n",
       "        vertical-align: top;\n",
       "    }\n",
       "\n",
       "    .dataframe thead th {\n",
       "        text-align: right;\n",
       "    }\n",
       "</style>\n",
       "<table border=\"1\" class=\"dataframe\">\n",
       "  <thead>\n",
       "    <tr style=\"text-align: right;\">\n",
       "      <th></th>\n",
       "      <th>word</th>\n",
       "      <th>wordCount</th>\n",
       "      <th>wordImportance</th>\n",
       "    </tr>\n",
       "  </thead>\n",
       "  <tbody>\n",
       "    <tr>\n",
       "      <th>0</th>\n",
       "      <td>rt</td>\n",
       "      <td>1338</td>\n",
       "      <td>0.007115</td>\n",
       "    </tr>\n",
       "    <tr>\n",
       "      <th>1</th>\n",
       "      <td>win</td>\n",
       "      <td>507</td>\n",
       "      <td>0.018776</td>\n",
       "    </tr>\n",
       "    <tr>\n",
       "      <th>2</th>\n",
       "      <td>giveaway</td>\n",
       "      <td>452</td>\n",
       "      <td>0.021061</td>\n",
       "    </tr>\n",
       "    <tr>\n",
       "      <th>3</th>\n",
       "      <td>enter</td>\n",
       "      <td>299</td>\n",
       "      <td>0.031838</td>\n",
       "    </tr>\n",
       "    <tr>\n",
       "      <th>4</th>\n",
       "      <td>im</td>\n",
       "      <td>279</td>\n",
       "      <td>0.034120</td>\n",
       "    </tr>\n",
       "  </tbody>\n",
       "</table>\n",
       "</div>"
      ],
      "text/plain": [
       "       word  wordCount  wordImportance\n",
       "0        rt       1338        0.007115\n",
       "1       win        507        0.018776\n",
       "2  giveaway        452        0.021061\n",
       "3     enter        299        0.031838\n",
       "4        im        279        0.034120"
      ]
     },
     "execution_count": 28,
     "metadata": {},
     "output_type": "execute_result"
    }
   ],
   "source": [
    "all_words = [word for tweet in df.pureTextTweet for word in nltk.word_tokenize(tweet) if word.lower() not in stopwords] # Words without stop words\n",
    "words_df = DataFrame(data = all_words, columns = ['word']).word.value_counts().reset_index()\n",
    "words_df.columns = ['word','wordCount']\n",
    "words_df['wordImportance'] = len(words_df) / words_df.wordCount / words_df.wordCount.max()\n",
    "words_df.head()"
   ]
  },
  {
   "cell_type": "code",
   "execution_count": 82,
   "id": "695be5d1-3c06-49b0-9d33-e9ef52e83673",
   "metadata": {},
   "outputs": [],
   "source": [
    "%pip install --upgrade nbformat"
   ]
  },
  {
   "cell_type": "code",
   "execution_count": 30,
   "id": "51a89834-d06b-4b7c-a367-57f3dd9a5e45",
   "metadata": {},
   "outputs": [
    {
     "data": {
      "application/vnd.plotly.v1+json": {
       "config": {
        "linkText": "Export to plot.ly",
        "plotlyServerURL": "https://plot.ly",
        "showLink": true
       },
       "data": [
        {
         "marker": {
          "color": "rgba(255, 153, 51, 0.6)",
          "line": {
           "color": "rgba(255, 153, 51, 1.0)",
           "width": 1
          }
         },
         "name": "wordCount",
         "orientation": "v",
         "text": "",
         "type": "bar",
         "x": [
          "rt",
          "win",
          "giveaway",
          "enter",
          "im",
          "via",
          "amp",
          "new",
          "um",
          "gift",
          "get",
          "card",
          "vã­deo",
          "gostei",
          "like",
          "good",
          "one",
          "dont",
          "today",
          "blogboost"
         ],
         "y": [
          1338,
          507,
          452,
          299,
          279,
          273,
          259,
          234,
          221,
          217,
          213,
          203,
          201,
          200,
          185,
          184,
          181,
          176,
          169,
          145
         ]
        }
       ],
       "layout": {
        "autosize": true,
        "legend": {
         "bgcolor": "#F5F6F9",
         "font": {
          "color": "#4D5663"
         }
        },
        "paper_bgcolor": "#F5F6F9",
        "plot_bgcolor": "#F5F6F9",
        "template": {
         "data": {
          "bar": [
           {
            "error_x": {
             "color": "#2a3f5f"
            },
            "error_y": {
             "color": "#2a3f5f"
            },
            "marker": {
             "line": {
              "color": "#E5ECF6",
              "width": 0.5
             },
             "pattern": {
              "fillmode": "overlay",
              "size": 10,
              "solidity": 0.2
             }
            },
            "type": "bar"
           }
          ],
          "barpolar": [
           {
            "marker": {
             "line": {
              "color": "#E5ECF6",
              "width": 0.5
             },
             "pattern": {
              "fillmode": "overlay",
              "size": 10,
              "solidity": 0.2
             }
            },
            "type": "barpolar"
           }
          ],
          "carpet": [
           {
            "aaxis": {
             "endlinecolor": "#2a3f5f",
             "gridcolor": "white",
             "linecolor": "white",
             "minorgridcolor": "white",
             "startlinecolor": "#2a3f5f"
            },
            "baxis": {
             "endlinecolor": "#2a3f5f",
             "gridcolor": "white",
             "linecolor": "white",
             "minorgridcolor": "white",
             "startlinecolor": "#2a3f5f"
            },
            "type": "carpet"
           }
          ],
          "choropleth": [
           {
            "colorbar": {
             "outlinewidth": 0,
             "ticks": ""
            },
            "type": "choropleth"
           }
          ],
          "contour": [
           {
            "colorbar": {
             "outlinewidth": 0,
             "ticks": ""
            },
            "colorscale": [
             [
              0,
              "#0d0887"
             ],
             [
              0.1111111111111111,
              "#46039f"
             ],
             [
              0.2222222222222222,
              "#7201a8"
             ],
             [
              0.3333333333333333,
              "#9c179e"
             ],
             [
              0.4444444444444444,
              "#bd3786"
             ],
             [
              0.5555555555555556,
              "#d8576b"
             ],
             [
              0.6666666666666666,
              "#ed7953"
             ],
             [
              0.7777777777777778,
              "#fb9f3a"
             ],
             [
              0.8888888888888888,
              "#fdca26"
             ],
             [
              1,
              "#f0f921"
             ]
            ],
            "type": "contour"
           }
          ],
          "contourcarpet": [
           {
            "colorbar": {
             "outlinewidth": 0,
             "ticks": ""
            },
            "type": "contourcarpet"
           }
          ],
          "heatmap": [
           {
            "colorbar": {
             "outlinewidth": 0,
             "ticks": ""
            },
            "colorscale": [
             [
              0,
              "#0d0887"
             ],
             [
              0.1111111111111111,
              "#46039f"
             ],
             [
              0.2222222222222222,
              "#7201a8"
             ],
             [
              0.3333333333333333,
              "#9c179e"
             ],
             [
              0.4444444444444444,
              "#bd3786"
             ],
             [
              0.5555555555555556,
              "#d8576b"
             ],
             [
              0.6666666666666666,
              "#ed7953"
             ],
             [
              0.7777777777777778,
              "#fb9f3a"
             ],
             [
              0.8888888888888888,
              "#fdca26"
             ],
             [
              1,
              "#f0f921"
             ]
            ],
            "type": "heatmap"
           }
          ],
          "heatmapgl": [
           {
            "colorbar": {
             "outlinewidth": 0,
             "ticks": ""
            },
            "colorscale": [
             [
              0,
              "#0d0887"
             ],
             [
              0.1111111111111111,
              "#46039f"
             ],
             [
              0.2222222222222222,
              "#7201a8"
             ],
             [
              0.3333333333333333,
              "#9c179e"
             ],
             [
              0.4444444444444444,
              "#bd3786"
             ],
             [
              0.5555555555555556,
              "#d8576b"
             ],
             [
              0.6666666666666666,
              "#ed7953"
             ],
             [
              0.7777777777777778,
              "#fb9f3a"
             ],
             [
              0.8888888888888888,
              "#fdca26"
             ],
             [
              1,
              "#f0f921"
             ]
            ],
            "type": "heatmapgl"
           }
          ],
          "histogram": [
           {
            "marker": {
             "pattern": {
              "fillmode": "overlay",
              "size": 10,
              "solidity": 0.2
             }
            },
            "type": "histogram"
           }
          ],
          "histogram2d": [
           {
            "colorbar": {
             "outlinewidth": 0,
             "ticks": ""
            },
            "colorscale": [
             [
              0,
              "#0d0887"
             ],
             [
              0.1111111111111111,
              "#46039f"
             ],
             [
              0.2222222222222222,
              "#7201a8"
             ],
             [
              0.3333333333333333,
              "#9c179e"
             ],
             [
              0.4444444444444444,
              "#bd3786"
             ],
             [
              0.5555555555555556,
              "#d8576b"
             ],
             [
              0.6666666666666666,
              "#ed7953"
             ],
             [
              0.7777777777777778,
              "#fb9f3a"
             ],
             [
              0.8888888888888888,
              "#fdca26"
             ],
             [
              1,
              "#f0f921"
             ]
            ],
            "type": "histogram2d"
           }
          ],
          "histogram2dcontour": [
           {
            "colorbar": {
             "outlinewidth": 0,
             "ticks": ""
            },
            "colorscale": [
             [
              0,
              "#0d0887"
             ],
             [
              0.1111111111111111,
              "#46039f"
             ],
             [
              0.2222222222222222,
              "#7201a8"
             ],
             [
              0.3333333333333333,
              "#9c179e"
             ],
             [
              0.4444444444444444,
              "#bd3786"
             ],
             [
              0.5555555555555556,
              "#d8576b"
             ],
             [
              0.6666666666666666,
              "#ed7953"
             ],
             [
              0.7777777777777778,
              "#fb9f3a"
             ],
             [
              0.8888888888888888,
              "#fdca26"
             ],
             [
              1,
              "#f0f921"
             ]
            ],
            "type": "histogram2dcontour"
           }
          ],
          "mesh3d": [
           {
            "colorbar": {
             "outlinewidth": 0,
             "ticks": ""
            },
            "type": "mesh3d"
           }
          ],
          "parcoords": [
           {
            "line": {
             "colorbar": {
              "outlinewidth": 0,
              "ticks": ""
             }
            },
            "type": "parcoords"
           }
          ],
          "pie": [
           {
            "automargin": true,
            "type": "pie"
           }
          ],
          "scatter": [
           {
            "fillpattern": {
             "fillmode": "overlay",
             "size": 10,
             "solidity": 0.2
            },
            "type": "scatter"
           }
          ],
          "scatter3d": [
           {
            "line": {
             "colorbar": {
              "outlinewidth": 0,
              "ticks": ""
             }
            },
            "marker": {
             "colorbar": {
              "outlinewidth": 0,
              "ticks": ""
             }
            },
            "type": "scatter3d"
           }
          ],
          "scattercarpet": [
           {
            "marker": {
             "colorbar": {
              "outlinewidth": 0,
              "ticks": ""
             }
            },
            "type": "scattercarpet"
           }
          ],
          "scattergeo": [
           {
            "marker": {
             "colorbar": {
              "outlinewidth": 0,
              "ticks": ""
             }
            },
            "type": "scattergeo"
           }
          ],
          "scattergl": [
           {
            "marker": {
             "colorbar": {
              "outlinewidth": 0,
              "ticks": ""
             }
            },
            "type": "scattergl"
           }
          ],
          "scattermapbox": [
           {
            "marker": {
             "colorbar": {
              "outlinewidth": 0,
              "ticks": ""
             }
            },
            "type": "scattermapbox"
           }
          ],
          "scatterpolar": [
           {
            "marker": {
             "colorbar": {
              "outlinewidth": 0,
              "ticks": ""
             }
            },
            "type": "scatterpolar"
           }
          ],
          "scatterpolargl": [
           {
            "marker": {
             "colorbar": {
              "outlinewidth": 0,
              "ticks": ""
             }
            },
            "type": "scatterpolargl"
           }
          ],
          "scatterternary": [
           {
            "marker": {
             "colorbar": {
              "outlinewidth": 0,
              "ticks": ""
             }
            },
            "type": "scatterternary"
           }
          ],
          "surface": [
           {
            "colorbar": {
             "outlinewidth": 0,
             "ticks": ""
            },
            "colorscale": [
             [
              0,
              "#0d0887"
             ],
             [
              0.1111111111111111,
              "#46039f"
             ],
             [
              0.2222222222222222,
              "#7201a8"
             ],
             [
              0.3333333333333333,
              "#9c179e"
             ],
             [
              0.4444444444444444,
              "#bd3786"
             ],
             [
              0.5555555555555556,
              "#d8576b"
             ],
             [
              0.6666666666666666,
              "#ed7953"
             ],
             [
              0.7777777777777778,
              "#fb9f3a"
             ],
             [
              0.8888888888888888,
              "#fdca26"
             ],
             [
              1,
              "#f0f921"
             ]
            ],
            "type": "surface"
           }
          ],
          "table": [
           {
            "cells": {
             "fill": {
              "color": "#EBF0F8"
             },
             "line": {
              "color": "white"
             }
            },
            "header": {
             "fill": {
              "color": "#C8D4E3"
             },
             "line": {
              "color": "white"
             }
            },
            "type": "table"
           }
          ]
         },
         "layout": {
          "annotationdefaults": {
           "arrowcolor": "#2a3f5f",
           "arrowhead": 0,
           "arrowwidth": 1
          },
          "autotypenumbers": "strict",
          "coloraxis": {
           "colorbar": {
            "outlinewidth": 0,
            "ticks": ""
           }
          },
          "colorscale": {
           "diverging": [
            [
             0,
             "#8e0152"
            ],
            [
             0.1,
             "#c51b7d"
            ],
            [
             0.2,
             "#de77ae"
            ],
            [
             0.3,
             "#f1b6da"
            ],
            [
             0.4,
             "#fde0ef"
            ],
            [
             0.5,
             "#f7f7f7"
            ],
            [
             0.6,
             "#e6f5d0"
            ],
            [
             0.7,
             "#b8e186"
            ],
            [
             0.8,
             "#7fbc41"
            ],
            [
             0.9,
             "#4d9221"
            ],
            [
             1,
             "#276419"
            ]
           ],
           "sequential": [
            [
             0,
             "#0d0887"
            ],
            [
             0.1111111111111111,
             "#46039f"
            ],
            [
             0.2222222222222222,
             "#7201a8"
            ],
            [
             0.3333333333333333,
             "#9c179e"
            ],
            [
             0.4444444444444444,
             "#bd3786"
            ],
            [
             0.5555555555555556,
             "#d8576b"
            ],
            [
             0.6666666666666666,
             "#ed7953"
            ],
            [
             0.7777777777777778,
             "#fb9f3a"
            ],
            [
             0.8888888888888888,
             "#fdca26"
            ],
            [
             1,
             "#f0f921"
            ]
           ],
           "sequentialminus": [
            [
             0,
             "#0d0887"
            ],
            [
             0.1111111111111111,
             "#46039f"
            ],
            [
             0.2222222222222222,
             "#7201a8"
            ],
            [
             0.3333333333333333,
             "#9c179e"
            ],
            [
             0.4444444444444444,
             "#bd3786"
            ],
            [
             0.5555555555555556,
             "#d8576b"
            ],
            [
             0.6666666666666666,
             "#ed7953"
            ],
            [
             0.7777777777777778,
             "#fb9f3a"
            ],
            [
             0.8888888888888888,
             "#fdca26"
            ],
            [
             1,
             "#f0f921"
            ]
           ]
          },
          "colorway": [
           "#636efa",
           "#EF553B",
           "#00cc96",
           "#ab63fa",
           "#FFA15A",
           "#19d3f3",
           "#FF6692",
           "#B6E880",
           "#FF97FF",
           "#FECB52"
          ],
          "font": {
           "color": "#2a3f5f"
          },
          "geo": {
           "bgcolor": "white",
           "lakecolor": "white",
           "landcolor": "#E5ECF6",
           "showlakes": true,
           "showland": true,
           "subunitcolor": "white"
          },
          "hoverlabel": {
           "align": "left"
          },
          "hovermode": "closest",
          "mapbox": {
           "style": "light"
          },
          "paper_bgcolor": "white",
          "plot_bgcolor": "#E5ECF6",
          "polar": {
           "angularaxis": {
            "gridcolor": "white",
            "linecolor": "white",
            "ticks": ""
           },
           "bgcolor": "#E5ECF6",
           "radialaxis": {
            "gridcolor": "white",
            "linecolor": "white",
            "ticks": ""
           }
          },
          "scene": {
           "xaxis": {
            "backgroundcolor": "#E5ECF6",
            "gridcolor": "white",
            "gridwidth": 2,
            "linecolor": "white",
            "showbackground": true,
            "ticks": "",
            "zerolinecolor": "white"
           },
           "yaxis": {
            "backgroundcolor": "#E5ECF6",
            "gridcolor": "white",
            "gridwidth": 2,
            "linecolor": "white",
            "showbackground": true,
            "ticks": "",
            "zerolinecolor": "white"
           },
           "zaxis": {
            "backgroundcolor": "#E5ECF6",
            "gridcolor": "white",
            "gridwidth": 2,
            "linecolor": "white",
            "showbackground": true,
            "ticks": "",
            "zerolinecolor": "white"
           }
          },
          "shapedefaults": {
           "line": {
            "color": "#2a3f5f"
           }
          },
          "ternary": {
           "aaxis": {
            "gridcolor": "white",
            "linecolor": "white",
            "ticks": ""
           },
           "baxis": {
            "gridcolor": "white",
            "linecolor": "white",
            "ticks": ""
           },
           "bgcolor": "#E5ECF6",
           "caxis": {
            "gridcolor": "white",
            "linecolor": "white",
            "ticks": ""
           }
          },
          "title": {
           "x": 0.05
          },
          "xaxis": {
           "automargin": true,
           "gridcolor": "white",
           "linecolor": "white",
           "ticks": "",
           "title": {
            "standoff": 15
           },
           "zerolinecolor": "white",
           "zerolinewidth": 2
          },
          "yaxis": {
           "automargin": true,
           "gridcolor": "white",
           "linecolor": "white",
           "ticks": "",
           "title": {
            "standoff": 15
           },
           "zerolinecolor": "white",
           "zerolinewidth": 2
          }
         }
        },
        "title": {
         "font": {
          "color": "#4D5663"
         },
         "text": "Most frequent words in Corpus"
        },
        "xaxis": {
         "autorange": true,
         "gridcolor": "#E1E5ED",
         "range": [
          -0.5,
          19.5
         ],
         "showgrid": true,
         "tickfont": {
          "color": "#4D5663"
         },
         "title": {
          "font": {
           "color": "#4D5663"
          },
          "text": "Word"
         },
         "type": "category",
         "zerolinecolor": "#E1E5ED"
        },
        "yaxis": {
         "autorange": true,
         "gridcolor": "#E1E5ED",
         "range": [
          0,
          1408.421052631579
         ],
         "showgrid": true,
         "tickfont": {
          "color": "#4D5663"
         },
         "title": {
          "font": {
           "color": "#4D5663"
          },
          "text": "Count"
         },
         "type": "linear",
         "zerolinecolor": "#E1E5ED"
        }
       }
      },
      "image/png": "[encoded data removed]",
      "text/html": [
       "<div>                            <div id=\"489af133-1994-47e3-819a-4f610994703e\" class=\"plotly-graph-div\" style=\"height:525px; width:100%;\"></div>            <script type=\"text/javascript\">                require([\"plotly\"], function(Plotly) {                    window.PLOTLYENV=window.PLOTLYENV || {};\n",
       "                    window.PLOTLYENV.BASE_URL='https://plot.ly';                                    if (document.getElementById(\"489af133-1994-47e3-819a-4f610994703e\")) {                    Plotly.newPlot(                        \"489af133-1994-47e3-819a-4f610994703e\",                        [{\"marker\":{\"color\":\"rgba(255, 153, 51, 0.6)\",\"line\":{\"color\":\"rgba(255, 153, 51, 1.0)\",\"width\":1}},\"name\":\"wordCount\",\"orientation\":\"v\",\"text\":\"\",\"x\":[\"rt\",\"win\",\"giveaway\",\"enter\",\"im\",\"via\",\"amp\",\"new\",\"um\",\"gift\",\"get\",\"card\",\"v\\u00e3\\u00addeo\",\"gostei\",\"like\",\"good\",\"one\",\"dont\",\"today\",\"blogboost\"],\"y\":[1338,507,452,299,279,273,259,234,221,217,213,203,201,200,185,184,181,176,169,145],\"type\":\"bar\"}],                        {\"legend\":{\"bgcolor\":\"#F5F6F9\",\"font\":{\"color\":\"#4D5663\"}},\"paper_bgcolor\":\"#F5F6F9\",\"plot_bgcolor\":\"#F5F6F9\",\"template\":{\"data\":{\"barpolar\":[{\"marker\":{\"line\":{\"color\":\"#E5ECF6\",\"width\":0.5},\"pattern\":{\"fillmode\":\"overlay\",\"size\":10,\"solidity\":0.2}},\"type\":\"barpolar\"}],\"bar\":[{\"error_x\":{\"color\":\"#2a3f5f\"},\"error_y\":{\"color\":\"#2a3f5f\"},\"marker\":{\"line\":{\"color\":\"#E5ECF6\",\"width\":0.5},\"pattern\":{\"fillmode\":\"overlay\",\"size\":10,\"solidity\":0.2}},\"type\":\"bar\"}],\"carpet\":[{\"aaxis\":{\"endlinecolor\":\"#2a3f5f\",\"gridcolor\":\"white\",\"linecolor\":\"white\",\"minorgridcolor\":\"white\",\"startlinecolor\":\"#2a3f5f\"},\"baxis\":{\"endlinecolor\":\"#2a3f5f\",\"gridcolor\":\"white\",\"linecolor\":\"white\",\"minorgridcolor\":\"white\",\"startlinecolor\":\"#2a3f5f\"},\"type\":\"carpet\"}],\"choropleth\":[{\"colorbar\":{\"outlinewidth\":0,\"ticks\":\"\"},\"type\":\"choropleth\"}],\"contourcarpet\":[{\"colorbar\":{\"outlinewidth\":0,\"ticks\":\"\"},\"type\":\"contourcarpet\"}],\"contour\":[{\"colorbar\":{\"outlinewidth\":0,\"ticks\":\"\"},\"colorscale\":[[0.0,\"#0d0887\"],[0.1111111111111111,\"#46039f\"],[0.2222222222222222,\"#7201a8\"],[0.3333333333333333,\"#9c179e\"],[0.4444444444444444,\"#bd3786\"],[0.5555555555555556,\"#d8576b\"],[0.6666666666666666,\"#ed7953\"],[0.7777777777777778,\"#fb9f3a\"],[0.8888888888888888,\"#fdca26\"],[1.0,\"#f0f921\"]],\"type\":\"contour\"}],\"heatmapgl\":[{\"colorbar\":{\"outlinewidth\":0,\"ticks\":\"\"},\"colorscale\":[[0.0,\"#0d0887\"],[0.1111111111111111,\"#46039f\"],[0.2222222222222222,\"#7201a8\"],[0.3333333333333333,\"#9c179e\"],[0.4444444444444444,\"#bd3786\"],[0.5555555555555556,\"#d8576b\"],[0.6666666666666666,\"#ed7953\"],[0.7777777777777778,\"#fb9f3a\"],[0.8888888888888888,\"#fdca26\"],[1.0,\"#f0f921\"]],\"type\":\"heatmapgl\"}],\"heatmap\":[{\"colorbar\":{\"outlinewidth\":0,\"ticks\":\"\"},\"colorscale\":[[0.0,\"#0d0887\"],[0.1111111111111111,\"#46039f\"],[0.2222222222222222,\"#7201a8\"],[0.3333333333333333,\"#9c179e\"],[0.4444444444444444,\"#bd3786\"],[0.5555555555555556,\"#d8576b\"],[0.6666666666666666,\"#ed7953\"],[0.7777777777777778,\"#fb9f3a\"],[0.8888888888888888,\"#fdca26\"],[1.0,\"#f0f921\"]],\"type\":\"heatmap\"}],\"histogram2dcontour\":[{\"colorbar\":{\"outlinewidth\":0,\"ticks\":\"\"},\"colorscale\":[[0.0,\"#0d0887\"],[0.1111111111111111,\"#46039f\"],[0.2222222222222222,\"#7201a8\"],[0.3333333333333333,\"#9c179e\"],[0.4444444444444444,\"#bd3786\"],[0.5555555555555556,\"#d8576b\"],[0.6666666666666666,\"#ed7953\"],[0.7777777777777778,\"#fb9f3a\"],[0.8888888888888888,\"#fdca26\"],[1.0,\"#f0f921\"]],\"type\":\"histogram2dcontour\"}],\"histogram2d\":[{\"colorbar\":{\"outlinewidth\":0,\"ticks\":\"\"},\"colorscale\":[[0.0,\"#0d0887\"],[0.1111111111111111,\"#46039f\"],[0.2222222222222222,\"#7201a8\"],[0.3333333333333333,\"#9c179e\"],[0.4444444444444444,\"#bd3786\"],[0.5555555555555556,\"#d8576b\"],[0.6666666666666666,\"#ed7953\"],[0.7777777777777778,\"#fb9f3a\"],[0.8888888888888888,\"#fdca26\"],[1.0,\"#f0f921\"]],\"type\":\"histogram2d\"}],\"histogram\":[{\"marker\":{\"pattern\":{\"fillmode\":\"overlay\",\"size\":10,\"solidity\":0.2}},\"type\":\"histogram\"}],\"mesh3d\":[{\"colorbar\":{\"outlinewidth\":0,\"ticks\":\"\"},\"type\":\"mesh3d\"}],\"parcoords\":[{\"line\":{\"colorbar\":{\"outlinewidth\":0,\"ticks\":\"\"}},\"type\":\"parcoords\"}],\"pie\":[{\"automargin\":true,\"type\":\"pie\"}],\"scatter3d\":[{\"line\":{\"colorbar\":{\"outlinewidth\":0,\"ticks\":\"\"}},\"marker\":{\"colorbar\":{\"outlinewidth\":0,\"ticks\":\"\"}},\"type\":\"scatter3d\"}],\"scattercarpet\":[{\"marker\":{\"colorbar\":{\"outlinewidth\":0,\"ticks\":\"\"}},\"type\":\"scattercarpet\"}],\"scattergeo\":[{\"marker\":{\"colorbar\":{\"outlinewidth\":0,\"ticks\":\"\"}},\"type\":\"scattergeo\"}],\"scattergl\":[{\"marker\":{\"colorbar\":{\"outlinewidth\":0,\"ticks\":\"\"}},\"type\":\"scattergl\"}],\"scattermapbox\":[{\"marker\":{\"colorbar\":{\"outlinewidth\":0,\"ticks\":\"\"}},\"type\":\"scattermapbox\"}],\"scatterpolargl\":[{\"marker\":{\"colorbar\":{\"outlinewidth\":0,\"ticks\":\"\"}},\"type\":\"scatterpolargl\"}],\"scatterpolar\":[{\"marker\":{\"colorbar\":{\"outlinewidth\":0,\"ticks\":\"\"}},\"type\":\"scatterpolar\"}],\"scatter\":[{\"fillpattern\":{\"fillmode\":\"overlay\",\"size\":10,\"solidity\":0.2},\"type\":\"scatter\"}],\"scatterternary\":[{\"marker\":{\"colorbar\":{\"outlinewidth\":0,\"ticks\":\"\"}},\"type\":\"scatterternary\"}],\"surface\":[{\"colorbar\":{\"outlinewidth\":0,\"ticks\":\"\"},\"colorscale\":[[0.0,\"#0d0887\"],[0.1111111111111111,\"#46039f\"],[0.2222222222222222,\"#7201a8\"],[0.3333333333333333,\"#9c179e\"],[0.4444444444444444,\"#bd3786\"],[0.5555555555555556,\"#d8576b\"],[0.6666666666666666,\"#ed7953\"],[0.7777777777777778,\"#fb9f3a\"],[0.8888888888888888,\"#fdca26\"],[1.0,\"#f0f921\"]],\"type\":\"surface\"}],\"table\":[{\"cells\":{\"fill\":{\"color\":\"#EBF0F8\"},\"line\":{\"color\":\"white\"}},\"header\":{\"fill\":{\"color\":\"#C8D4E3\"},\"line\":{\"color\":\"white\"}},\"type\":\"table\"}]},\"layout\":{\"annotationdefaults\":{\"arrowcolor\":\"#2a3f5f\",\"arrowhead\":0,\"arrowwidth\":1},\"autotypenumbers\":\"strict\",\"coloraxis\":{\"colorbar\":{\"outlinewidth\":0,\"ticks\":\"\"}},\"colorscale\":{\"diverging\":[[0,\"#8e0152\"],[0.1,\"#c51b7d\"],[0.2,\"#de77ae\"],[0.3,\"#f1b6da\"],[0.4,\"#fde0ef\"],[0.5,\"#f7f7f7\"],[0.6,\"#e6f5d0\"],[0.7,\"#b8e186\"],[0.8,\"#7fbc41\"],[0.9,\"#4d9221\"],[1,\"#276419\"]],\"sequential\":[[0.0,\"#0d0887\"],[0.1111111111111111,\"#46039f\"],[0.2222222222222222,\"#7201a8\"],[0.3333333333333333,\"#9c179e\"],[0.4444444444444444,\"#bd3786\"],[0.5555555555555556,\"#d8576b\"],[0.6666666666666666,\"#ed7953\"],[0.7777777777777778,\"#fb9f3a\"],[0.8888888888888888,\"#fdca26\"],[1.0,\"#f0f921\"]],\"sequentialminus\":[[0.0,\"#0d0887\"],[0.1111111111111111,\"#46039f\"],[0.2222222222222222,\"#7201a8\"],[0.3333333333333333,\"#9c179e\"],[0.4444444444444444,\"#bd3786\"],[0.5555555555555556,\"#d8576b\"],[0.6666666666666666,\"#ed7953\"],[0.7777777777777778,\"#fb9f3a\"],[0.8888888888888888,\"#fdca26\"],[1.0,\"#f0f921\"]]},\"colorway\":[\"#636efa\",\"#EF553B\",\"#00cc96\",\"#ab63fa\",\"#FFA15A\",\"#19d3f3\",\"#FF6692\",\"#B6E880\",\"#FF97FF\",\"#FECB52\"],\"font\":{\"color\":\"#2a3f5f\"},\"geo\":{\"bgcolor\":\"white\",\"lakecolor\":\"white\",\"landcolor\":\"#E5ECF6\",\"showlakes\":true,\"showland\":true,\"subunitcolor\":\"white\"},\"hoverlabel\":{\"align\":\"left\"},\"hovermode\":\"closest\",\"mapbox\":{\"style\":\"light\"},\"paper_bgcolor\":\"white\",\"plot_bgcolor\":\"#E5ECF6\",\"polar\":{\"angularaxis\":{\"gridcolor\":\"white\",\"linecolor\":\"white\",\"ticks\":\"\"},\"bgcolor\":\"#E5ECF6\",\"radialaxis\":{\"gridcolor\":\"white\",\"linecolor\":\"white\",\"ticks\":\"\"}},\"scene\":{\"xaxis\":{\"backgroundcolor\":\"#E5ECF6\",\"gridcolor\":\"white\",\"gridwidth\":2,\"linecolor\":\"white\",\"showbackground\":true,\"ticks\":\"\",\"zerolinecolor\":\"white\"},\"yaxis\":{\"backgroundcolor\":\"#E5ECF6\",\"gridcolor\":\"white\",\"gridwidth\":2,\"linecolor\":\"white\",\"showbackground\":true,\"ticks\":\"\",\"zerolinecolor\":\"white\"},\"zaxis\":{\"backgroundcolor\":\"#E5ECF6\",\"gridcolor\":\"white\",\"gridwidth\":2,\"linecolor\":\"white\",\"showbackground\":true,\"ticks\":\"\",\"zerolinecolor\":\"white\"}},\"shapedefaults\":{\"line\":{\"color\":\"#2a3f5f\"}},\"ternary\":{\"aaxis\":{\"gridcolor\":\"white\",\"linecolor\":\"white\",\"ticks\":\"\"},\"baxis\":{\"gridcolor\":\"white\",\"linecolor\":\"white\",\"ticks\":\"\"},\"bgcolor\":\"#E5ECF6\",\"caxis\":{\"gridcolor\":\"white\",\"linecolor\":\"white\",\"ticks\":\"\"}},\"title\":{\"x\":0.05},\"xaxis\":{\"automargin\":true,\"gridcolor\":\"white\",\"linecolor\":\"white\",\"ticks\":\"\",\"title\":{\"standoff\":15},\"zerolinecolor\":\"white\",\"zerolinewidth\":2},\"yaxis\":{\"automargin\":true,\"gridcolor\":\"white\",\"linecolor\":\"white\",\"ticks\":\"\",\"title\":{\"standoff\":15},\"zerolinecolor\":\"white\",\"zerolinewidth\":2}}},\"title\":{\"font\":{\"color\":\"#4D5663\"},\"text\":\"Most frequent words in Corpus\"},\"xaxis\":{\"gridcolor\":\"#E1E5ED\",\"showgrid\":true,\"tickfont\":{\"color\":\"#4D5663\"},\"title\":{\"font\":{\"color\":\"#4D5663\"},\"text\":\"Word\"},\"zerolinecolor\":\"#E1E5ED\"},\"yaxis\":{\"gridcolor\":\"#E1E5ED\",\"showgrid\":true,\"tickfont\":{\"color\":\"#4D5663\"},\"title\":{\"font\":{\"color\":\"#4D5663\"},\"text\":\"Count\"},\"zerolinecolor\":\"#E1E5ED\"}},                        {\"showLink\": true, \"linkText\": \"Export to plot.ly\", \"plotlyServerURL\": \"https://plot.ly\", \"responsive\": true}                    ).then(function(){\n",
       "                            \n",
       "var gd = document.getElementById('489af133-1994-47e3-819a-4f610994703e');\n",
       "var x = new MutationObserver(function (mutations, observer) {{\n",
       "        var display = window.getComputedStyle(gd).display;\n",
       "        if (!display || display === 'none') {{\n",
       "            console.log([gd, 'removed!']);\n",
       "            Plotly.purge(gd);\n",
       "            observer.disconnect();\n",
       "        }}\n",
       "}});\n",
       "\n",
       "// Listen for the removal of the full notebook cells\n",
       "var notebookContainer = gd.closest('#notebook-container');\n",
       "if (notebookContainer) {{\n",
       "    x.observe(notebookContainer, {childList: true});\n",
       "}}\n",
       "\n",
       "// Listen for the clearing of the current output cell\n",
       "var outputEl = gd.closest('.output');\n",
       "if (outputEl) {{\n",
       "    x.observe(outputEl, {childList: true});\n",
       "}}\n",
       "\n",
       "                        })                };                });            </script>        </div>"
      ]
     },
     "metadata": {},
     "output_type": "display_data"
    }
   ],
   "source": [
    "words_df.set_index('word').wordCount.head(20).iplot(kind = 'bar', title = 'Most frequent words in Corpus', yTitle = 'Count', xTitle = 'Word')"
   ]
  },
  {
   "cell_type": "code",
   "execution_count": 31,
   "id": "6adf9243-97b2-473e-8dd5-df3dfa04006f",
   "metadata": {},
   "outputs": [
    {
     "name": "stdout",
     "output_type": "stream",
     "text": [
      "Total of 50795 words, 12737 unique words\n"
     ]
    }
   ],
   "source": [
    "print(\"Total of {} words, {} unique words\".format(len(all_words), len(words_df)))"
   ]
  },
  {
   "cell_type": "markdown",
   "id": "76a6a66e-1939-4621-9892-53d529fcbadf",
   "metadata": {},
   "source": [
    "to reduce the corpus size more, we probably don't care about words that appear to little. Let's drop any word which have under 5 appearnces:"
   ]
  },
  {
   "cell_type": "code",
   "execution_count": 32,
   "id": "0da329ba-b7b6-4522-b0f0-c0f0c6560c72",
   "metadata": {},
   "outputs": [
    {
     "name": "stdout",
     "output_type": "stream",
     "text": [
      "Using words with 5 or more appearnces will reduce the corpus size to: 2015\n"
     ]
    }
   ],
   "source": [
    "print (\"Using words with 5 or more appearnces will reduce the corpus size to: {}\".format(sum(words_df.wordCount >= 5)))"
   ]
  },
  {
   "cell_type": "code",
   "execution_count": 33,
   "id": "9b787fb9-d30f-434e-9faa-7613888b2fab",
   "metadata": {},
   "outputs": [],
   "source": [
    "words_df = words_df[words_df.wordCount >= 5]"
   ]
  },
  {
   "cell_type": "markdown",
   "id": "4b3d2569-c180-4bf5-9fc7-fe0474f2621c",
   "metadata": {},
   "source": [
    "### Bag of words (One-hot-encoding)"
   ]
  },
  {
   "cell_type": "code",
   "execution_count": 85,
   "id": "d0ee007e-a732-48ee-b557-d129eb364b39",
   "metadata": {},
   "outputs": [],
   "source": [
    "from sklearn.model_selection import train_test_split\n",
    "from sklearn.feature_extraction.text import CountVectorizer\n",
    "from sklearn.feature_extraction.text import TfidfVectorizer"
   ]
  },
  {
   "cell_type": "code",
   "execution_count": 88,
   "id": "bbe2dfb5-cc0d-48c9-aeb1-42584d6b4b64",
   "metadata": {},
   "outputs": [
    {
     "data": {
      "text/plain": [
       "((5610, 10), (1402, 10))"
      ]
     },
     "execution_count": 88,
     "metadata": {},
     "output_type": "execute_result"
    }
   ],
   "source": [
    "test_df, train_df = train_test_split(df, test_size=0.8, random_state=42)\n",
    "train_df.shape, test_df.shape"
   ]
  },
  {
   "cell_type": "code",
   "execution_count": 103,
   "id": "c0039180-0a73-4d28-a919-3144ec990c03",
   "metadata": {},
   "outputs": [
    {
     "data": {
      "text/plain": [
       "(2110, 2)"
      ]
     },
     "execution_count": 103,
     "metadata": {},
     "output_type": "execute_result"
    }
   ],
   "source": [
    "all_words = [word for tweet in train_df.pureTextTweet for word in nltk.word_tokenize(tweet) if word.lower() not in stopwords] # Words without stop words\n",
    "words_df = DataFrame(data = all_words, columns = ['word']).word.value_counts().reset_index()\n",
    "words_df.columns = ['word','wordCount']\n",
    "words_df = words_df[words_df.wordCount > 3]\n",
    "words_df.shape"
   ]
  },
  {
   "cell_type": "code",
   "execution_count": 104,
   "id": "eeedd261-bb3b-4a75-b7ee-5a95b61fe38a",
   "metadata": {},
   "outputs": [
    {
     "name": "stderr",
     "output_type": "stream",
     "text": [
      "/Users/idodavid/miniforge3/envs/python_ml/lib/python3.9/site-packages/sklearn/feature_extraction/text.py:528: UserWarning:\n",
      "\n",
      "The parameter 'token_pattern' will not be used since 'tokenizer' is not None'\n",
      "\n"
     ]
    },
    {
     "data": {
      "text/plain": [
       "((5610, 2110), (1402, 10))"
      ]
     },
     "execution_count": 104,
     "metadata": {},
     "output_type": "execute_result"
    }
   ],
   "source": [
    "clean_vocab = set(words_df.word)\n",
    "count_vect = CountVectorizer(vocabulary = clean_vocab, tokenizer=nltk.word_tokenize)\n",
    "train_bow_counts = count_vect.fit_transform(train_df.pureTextTweet)\n",
    "test_bow_counts = count_vect.transform(test_df.pureTextTweet)\n",
    "train_bow_counts.shape, test_df.shape"
   ]
  },
  {
   "cell_type": "code",
   "execution_count": 105,
   "id": "8c5fa40e-ddc9-4e5a-872f-a8f457467884",
   "metadata": {},
   "outputs": [
    {
     "data": {
      "text/plain": [
       "'rt your chérie amour will simply adore the new sweet monogram insolite wallet  how chic   '"
      ]
     },
     "execution_count": 105,
     "metadata": {},
     "output_type": "execute_result"
    }
   ],
   "source": [
    "train_df.iloc[0].pureTextTweet"
   ]
  },
  {
   "cell_type": "code",
   "execution_count": 106,
   "id": "b59181d7-38a4-4e0b-8666-f1cc511b4106",
   "metadata": {},
   "outputs": [
    {
     "name": "stdout",
     "output_type": "stream",
     "text": [
      "  (0, 1223)\t1\n",
      "  (0, 1521)\t1\n",
      "  (0, 1622)\t1\n",
      "  (0, 1760)\t1\n"
     ]
    }
   ],
   "source": [
    "print(train_bow_counts[0])"
   ]
  },
  {
   "cell_type": "code",
   "execution_count": 108,
   "id": "fd3266b7-cc68-4919-8dd0-a96207906067",
   "metadata": {},
   "outputs": [
    {
     "name": "stdout",
     "output_type": "stream",
     "text": [
      "new\n",
      "rt\n",
      "simply\n",
      "sweet\n"
     ]
    }
   ],
   "source": [
    "rev_dict = {v:k for k,v in count_vect.vocabulary_.items()}\n",
    "print(rev_dict[1223])\n",
    "print(rev_dict[1521])\n",
    "print(rev_dict[1622])\n",
    "print(rev_dict[1760])"
   ]
  },
  {
   "cell_type": "code",
   "execution_count": 110,
   "id": "101a1f98-ccf6-419f-84b4-ebbe59182886",
   "metadata": {},
   "outputs": [
    {
     "data": {
      "text/plain": [
       "(<5610x2110 sparse matrix of type '<class 'numpy.float64'>'\n",
       " \twith 26633 stored elements in Compressed Sparse Row format>,\n",
       " <1402x2110 sparse matrix of type '<class 'numpy.float64'>'\n",
       " \twith 6155 stored elements in Compressed Sparse Row format>)"
      ]
     },
     "execution_count": 110,
     "metadata": {},
     "output_type": "execute_result"
    }
   ],
   "source": [
    "tf_idf_vectorizer = TfidfVectorizer(vocabulary = clean_vocab)\n",
    "train_bow_tfidf = tf_idf_vectorizer.fit_transform(train_df.pureTextTweet)\n",
    "test_bow_tfidf = tf_idf_vectorizer.transform(test_df.pureTextTweet)\n",
    "train_bow_tfidf, test_bow_tfidf"
   ]
  },
  {
   "cell_type": "markdown",
   "id": "2ca616d2-c667-47a1-a0c9-82204220d545",
   "metadata": {},
   "source": [
    "## Classification"
   ]
  },
  {
   "cell_type": "code",
   "execution_count": 111,
   "id": "27a4313f-77db-4ced-ab53-6bfe4910cc83",
   "metadata": {},
   "outputs": [],
   "source": [
    "import numpy as np\n",
    "from sklearn.model_selection import train_test_split, cross_val_score\n",
    "from sklearn.metrics import roc_auc_score, precision_score, recall_score, accuracy_score"
   ]
  },
  {
   "cell_type": "code",
   "execution_count": 112,
   "id": "8e21c928-8ed3-4375-8105-8fea4c7927c7",
   "metadata": {},
   "outputs": [],
   "source": [
    "from sklearn.linear_model import LogisticRegression"
   ]
  },
  {
   "cell_type": "code",
   "execution_count": 114,
   "id": "1b6624d5-92f3-4569-a298-78f15a2dea59",
   "metadata": {},
   "outputs": [],
   "source": [
    "%%capture\n",
    "search_grid = np.logspace(-2, 4, num=50, endpoint=True, base=10.0)\n",
    "auc_by_alpha = []\n",
    "for alpha in search_grid:\n",
    "    model = LogisticRegression(penalty='l2', C=alpha)\n",
    "    avg_score = cross_val_score(model, train_bow_counts, y = train_df.cls, cv = 10, scoring = 'roc_auc').mean()\n",
    "    auc_by_alpha.append((alpha,avg_score))"
   ]
  },
  {
   "cell_type": "code",
   "execution_count": 115,
   "id": "7d4d1489-e599-4026-9329-c74859741563",
   "metadata": {},
   "outputs": [
    {
     "data": {
      "application/vnd.plotly.v1+json": {
       "config": {
        "linkText": "Export to plot.ly",
        "plotlyServerURL": "https://plot.ly",
        "showLink": true
       },
       "data": [
        {
         "line": {
          "color": "rgba(255, 153, 51, 1.0)",
          "dash": "solid",
          "shape": "linear",
          "width": 3
         },
         "mode": "lines",
         "name": "AUC",
         "text": "",
         "type": "scatter",
         "x": [
          0.01,
          0.013257113655901088,
          0.017575106248547922,
          0.023299518105153717,
          0.030888435964774818,
          0.040949150623804255,
          0.054286754393238594,
          0.07196856730011521,
          0.09540954763499938,
          0.12648552168552957,
          0.16768329368110083,
          0.22229964825261944,
          0.29470517025518095,
          0.3906939937054617,
          0.517947467923121,
          0.6866488450043002,
          0.9102981779915218,
          1.2067926406393288,
          1.5998587196060574,
          2.1209508879201904,
          2.8117686979742307,
          3.727593720314938,
          4.941713361323833,
          6.551285568595509
         ],
         "y": [
          0.8950808195607814,
          0.9002257992339683,
          0.9047429113391627,
          0.9088355082675115,
          0.9127272852158482,
          0.9160738063556705,
          0.9193809272645825,
          0.9223372533221295,
          0.9249809180528776,
          0.9271593984079542,
          0.9291167298052272,
          0.9307868127375805,
          0.931973919024591,
          0.9328127765054175,
          0.9331356105112324,
          0.9332385613932667,
          0.9328521784809689,
          0.9321925305634947,
          0.9312621677891622,
          0.9299123739482287,
          0.928374473003702,
          0.9267781067460064,
          0.9248932269001477,
          0.9230528294569542
         ]
        }
       ],
       "layout": {
        "autosize": true,
        "legend": {
         "bgcolor": "#F5F6F9",
         "font": {
          "color": "#4D5663"
         }
        },
        "paper_bgcolor": "#F5F6F9",
        "plot_bgcolor": "#F5F6F9",
        "shapes": [
         {
          "line": {
           "color": "#db4052",
           "dash": "solid",
           "width": 1
          },
          "type": "line",
          "x0": 0,
          "x1": 1,
          "xref": "paper",
          "y0": [
           0,
           0
          ],
          "y1": [
           0,
           0
          ],
          "yref": "y"
         }
        ],
        "title": {
         "font": {
          "color": "#4D5663"
         },
         "text": "BOW Counts - AUC as a function of learning rate (alpha)"
        },
        "xaxis": {
         "autorange": true,
         "gridcolor": "#E1E5ED",
         "range": [
          0.01,
          6.551285568595509
         ],
         "showgrid": true,
         "tickfont": {
          "color": "#4D5663"
         },
         "title": {
          "font": {
           "color": "#4D5663"
          },
          "text": "alpha"
         },
         "type": "linear",
         "zerolinecolor": "#E1E5ED"
        },
        "yaxis": {
         "autorange": true,
         "gridcolor": "#E1E5ED",
         "range": [
          0.8929609450145323,
          0.9353584359395158
         ],
         "showgrid": true,
         "tickfont": {
          "color": "#4D5663"
         },
         "title": {
          "font": {
           "color": "#4D5663"
          },
          "text": "AUC"
         },
         "type": "linear",
         "zerolinecolor": "#E1E5ED"
        }
       }
      },
      "image/png": "[encoded data removed]",
      "text/html": [
       "<div>                            <div id=\"141df26e-6793-4d18-ba73-f324a380e0a2\" class=\"plotly-graph-div\" style=\"height:525px; width:100%;\"></div>            <script type=\"text/javascript\">                require([\"plotly\"], function(Plotly) {                    window.PLOTLYENV=window.PLOTLYENV || {};\n",
       "                    window.PLOTLYENV.BASE_URL='https://plot.ly';                                    if (document.getElementById(\"141df26e-6793-4d18-ba73-f324a380e0a2\")) {                    Plotly.newPlot(                        \"141df26e-6793-4d18-ba73-f324a380e0a2\",                        [{\"line\":{\"color\":\"rgba(255, 153, 51, 1.0)\",\"dash\":\"solid\",\"shape\":\"linear\",\"width\":3},\"mode\":\"lines\",\"name\":\"AUC\",\"text\":\"\",\"x\":[0.01,0.013257113655901088,0.017575106248547922,0.023299518105153717,0.030888435964774818,0.040949150623804255,0.054286754393238594,0.07196856730011521,0.09540954763499938,0.12648552168552957,0.16768329368110083,0.22229964825261944,0.29470517025518095,0.3906939937054617,0.517947467923121,0.6866488450043002,0.9102981779915218,1.2067926406393288,1.5998587196060574,2.1209508879201904,2.8117686979742307,3.727593720314938,4.941713361323833,6.551285568595509],\"y\":[0.8950808195607814,0.9002257992339683,0.9047429113391627,0.9088355082675115,0.9127272852158482,0.9160738063556705,0.9193809272645825,0.9223372533221295,0.9249809180528776,0.9271593984079542,0.9291167298052272,0.9307868127375805,0.931973919024591,0.9328127765054175,0.9331356105112324,0.9332385613932667,0.9328521784809689,0.9321925305634947,0.9312621677891622,0.9299123739482287,0.928374473003702,0.9267781067460064,0.9248932269001477,0.9230528294569542],\"type\":\"scatter\"}],                        {\"legend\":{\"bgcolor\":\"#F5F6F9\",\"font\":{\"color\":\"#4D5663\"}},\"paper_bgcolor\":\"#F5F6F9\",\"plot_bgcolor\":\"#F5F6F9\",\"yaxis\":{\"tickfont\":{\"color\":\"#4D5663\"},\"gridcolor\":\"#E1E5ED\",\"titlefont\":{\"color\":\"#4D5663\"},\"zerolinecolor\":\"#E1E5ED\",\"showgrid\":true,\"title\":\"AUC\"},\"xaxis\":{\"tickfont\":{\"color\":\"#4D5663\"},\"gridcolor\":\"#E1E5ED\",\"titlefont\":{\"color\":\"#4D5663\"},\"zerolinecolor\":\"#E1E5ED\",\"showgrid\":true,\"title\":\"alpha\"},\"titlefont\":{\"color\":\"#4D5663\"},\"title\":\"BOW Counts - AUC as a function of learning rate (alpha)\",\"shapes\":[{\"x0\":0,\"y0\":[0,0],\"x1\":1,\"y1\":[0,0],\"line\":{\"color\":\"#db4052\",\"width\":1,\"dash\":\"solid\"},\"xref\":\"paper\",\"yref\":\"y\",\"type\":\"line\"}]},                        {\"showLink\": true, \"linkText\": \"Export to plot.ly\", \"plotlyServerURL\": \"https://plot.ly\", \"responsive\": true}                    ).then(function(){\n",
       "                            \n",
       "var gd = document.getElementById('141df26e-6793-4d18-ba73-f324a380e0a2');\n",
       "var x = new MutationObserver(function (mutations, observer) {{\n",
       "        var display = window.getComputedStyle(gd).display;\n",
       "        if (!display || display === 'none') {{\n",
       "            console.log([gd, 'removed!']);\n",
       "            Plotly.purge(gd);\n",
       "            observer.disconnect();\n",
       "        }}\n",
       "}});\n",
       "\n",
       "// Listen for the removal of the full notebook cells\n",
       "var notebookContainer = gd.closest('#notebook-container');\n",
       "if (notebookContainer) {{\n",
       "    x.observe(notebookContainer, {childList: true});\n",
       "}}\n",
       "\n",
       "// Listen for the clearing of the current output cell\n",
       "var outputEl = gd.closest('.output');\n",
       "if (outputEl) {{\n",
       "    x.observe(outputEl, {childList: true});\n",
       "}}\n",
       "\n",
       "                        })                };                });            </script>        </div>"
      ]
     },
     "metadata": {},
     "output_type": "display_data"
    }
   ],
   "source": [
    "cv_results = DataFrame(auc_by_alpha, columns = ['alpha', 'AUC'])\n",
    "cv_results.query('alpha < 8').set_index('alpha').AUC.iplot(title = 'BOW Counts - AUC as a function of learning rate (alpha)', xTitle = 'alpha', yTitle = 'AUC', width = 3, hline=(0,0))"
   ]
  },
  {
   "cell_type": "code",
   "execution_count": 116,
   "id": "dbb984ca-50e9-4301-9889-87d91e8e4377",
   "metadata": {},
   "outputs": [
    {
     "name": "stdout",
     "output_type": "stream",
     "text": [
      "0.6866488450043002 0.9332385613932667\n"
     ]
    }
   ],
   "source": [
    "opt_alpha, max_auc = cv_results.loc[cv_results.AUC.idxmax()]\n",
    "print(opt_alpha, max_auc)"
   ]
  },
  {
   "cell_type": "markdown",
   "id": "bc2aa366-ff9c-4ef9-8ee2-efcdba0474ca",
   "metadata": {},
   "source": [
    "### Optimal Model"
   ]
  },
  {
   "cell_type": "markdown",
   "id": "5b159d04-f88c-4cd4-ae97-699aaa822b32",
   "metadata": {},
   "source": [
    "Let's use the optimal model regularization parameter and train a model on the **entire dataset**:"
   ]
  },
  {
   "cell_type": "code",
   "execution_count": 117,
   "id": "47e01934-810a-4493-a6d4-f3f2100cb53f",
   "metadata": {},
   "outputs": [
    {
     "data": {
      "text/html": [
       "<style>#sk-container-id-3 {color: black;background-color: white;}#sk-container-id-3 pre{padding: 0;}#sk-container-id-3 div.sk-toggleable {background-color: white;}#sk-container-id-3 label.sk-toggleable__label {cursor: pointer;display: block;width: 100%;margin-bottom: 0;padding: 0.3em;box-sizing: border-box;text-align: center;}#sk-container-id-3 label.sk-toggleable__label-arrow:before {content: \"▸\";float: left;margin-right: 0.25em;color: #696969;}#sk-container-id-3 label.sk-toggleable__label-arrow:hover:before {color: black;}#sk-container-id-3 div.sk-estimator:hover label.sk-toggleable__label-arrow:before {color: black;}#sk-container-id-3 div.sk-toggleable__content {max-height: 0;max-width: 0;overflow: hidden;text-align: left;background-color: #f0f8ff;}#sk-container-id-3 div.sk-toggleable__content pre {margin: 0.2em;color: black;border-radius: 0.25em;background-color: #f0f8ff;}#sk-container-id-3 input.sk-toggleable__control:checked~div.sk-toggleable__content {max-height: 200px;max-width: 100%;overflow: auto;}#sk-container-id-3 input.sk-toggleable__control:checked~label.sk-toggleable__label-arrow:before {content: \"▾\";}#sk-container-id-3 div.sk-estimator input.sk-toggleable__control:checked~label.sk-toggleable__label {background-color: #d4ebff;}#sk-container-id-3 div.sk-label input.sk-toggleable__control:checked~label.sk-toggleable__label {background-color: #d4ebff;}#sk-container-id-3 input.sk-hidden--visually {border: 0;clip: rect(1px 1px 1px 1px);clip: rect(1px, 1px, 1px, 1px);height: 1px;margin: -1px;overflow: hidden;padding: 0;position: absolute;width: 1px;}#sk-container-id-3 div.sk-estimator {font-family: monospace;background-color: #f0f8ff;border: 1px dotted black;border-radius: 0.25em;box-sizing: border-box;margin-bottom: 0.5em;}#sk-container-id-3 div.sk-estimator:hover {background-color: #d4ebff;}#sk-container-id-3 div.sk-parallel-item::after {content: \"\";width: 100%;border-bottom: 1px solid gray;flex-grow: 1;}#sk-container-id-3 div.sk-label:hover label.sk-toggleable__label {background-color: #d4ebff;}#sk-container-id-3 div.sk-serial::before {content: \"\";position: absolute;border-left: 1px solid gray;box-sizing: border-box;top: 0;bottom: 0;left: 50%;z-index: 0;}#sk-container-id-3 div.sk-serial {display: flex;flex-direction: column;align-items: center;background-color: white;padding-right: 0.2em;padding-left: 0.2em;position: relative;}#sk-container-id-3 div.sk-item {position: relative;z-index: 1;}#sk-container-id-3 div.sk-parallel {display: flex;align-items: stretch;justify-content: center;background-color: white;position: relative;}#sk-container-id-3 div.sk-item::before, #sk-container-id-3 div.sk-parallel-item::before {content: \"\";position: absolute;border-left: 1px solid gray;box-sizing: border-box;top: 0;bottom: 0;left: 50%;z-index: -1;}#sk-container-id-3 div.sk-parallel-item {display: flex;flex-direction: column;z-index: 1;position: relative;background-color: white;}#sk-container-id-3 div.sk-parallel-item:first-child::after {align-self: flex-end;width: 50%;}#sk-container-id-3 div.sk-parallel-item:last-child::after {align-self: flex-start;width: 50%;}#sk-container-id-3 div.sk-parallel-item:only-child::after {width: 0;}#sk-container-id-3 div.sk-dashed-wrapped {border: 1px dashed gray;margin: 0 0.4em 0.5em 0.4em;box-sizing: border-box;padding-bottom: 0.4em;background-color: white;}#sk-container-id-3 div.sk-label label {font-family: monospace;font-weight: bold;display: inline-block;line-height: 1.2em;}#sk-container-id-3 div.sk-label-container {text-align: center;}#sk-container-id-3 div.sk-container {/* jupyter's `normalize.less` sets `[hidden] { display: none; }` but bootstrap.min.css set `[hidden] { display: none !important; }` so we also need the `!important` here to be able to override the default hidden behavior on the sphinx rendered scikit-learn.org. See: https://github.com/scikit-learn/scikit-learn/issues/21755 */display: inline-block !important;position: relative;}#sk-container-id-3 div.sk-text-repr-fallback {display: none;}</style><div id=\"sk-container-id-3\" class=\"sk-top-container\"><div class=\"sk-text-repr-fallback\"><pre>LogisticRegression(C=0.6866488450043002)</pre><b>In a Jupyter environment, please rerun this cell to show the HTML representation or trust the notebook. <br />On GitHub, the HTML representation is unable to render, please try loading this page with nbviewer.org.</b></div><div class=\"sk-container\" hidden><div class=\"sk-item\"><div class=\"sk-estimator sk-toggleable\"><input class=\"sk-toggleable__control sk-hidden--visually\" id=\"sk-estimator-id-3\" type=\"checkbox\" checked><label for=\"sk-estimator-id-3\" class=\"sk-toggleable__label sk-toggleable__label-arrow\">LogisticRegression</label><div class=\"sk-toggleable__content\"><pre>LogisticRegression(C=0.6866488450043002)</pre></div></div></div></div></div>"
      ],
      "text/plain": [
       "LogisticRegression(C=0.6866488450043002)"
      ]
     },
     "execution_count": 117,
     "metadata": {},
     "output_type": "execute_result"
    }
   ],
   "source": [
    "model = LogisticRegression(penalty='l2', C=opt_alpha)\n",
    "model.fit(train_bow_counts, train_df.cls)"
   ]
  },
  {
   "cell_type": "code",
   "execution_count": 118,
   "id": "2e3e9fa5-4e5c-469a-a303-f38b72928cd1",
   "metadata": {},
   "outputs": [],
   "source": [
    "test_df['predicted_class'] = model.predict(test_bow_counts)\n",
    "test_df[['class_0_prob','class_1_prob']] = model.predict_proba(test_bow_counts)\n",
    "test_df['prediction_certainty'] = test_df.apply(lambda row: row.class_0_prob if row.predicted_class == 0 else row.class_1_prob, axis=1)"
   ]
  },
  {
   "cell_type": "code",
   "execution_count": 119,
   "id": "cfb64459-ddfb-4c94-b64b-accc78e392a5",
   "metadata": {},
   "outputs": [
    {
     "data": {
      "text/plain": [
       "0.8452211126961484"
      ]
     },
     "execution_count": 119,
     "metadata": {},
     "output_type": "execute_result"
    }
   ],
   "source": [
    "accuracy_score(test_df.predicted_class, test_df.cls) # Training accuracy, for sanity only"
   ]
  },
  {
   "cell_type": "markdown",
   "id": "da14aa07-ecd3-402d-854b-5ab2ff945809",
   "metadata": {},
   "source": [
    "### Feature importance"
   ]
  },
  {
   "cell_type": "code",
   "execution_count": 120,
   "id": "1a38c403-0643-4da2-b2cb-7155fbeecf53",
   "metadata": {},
   "outputs": [
    {
     "data": {
      "text/html": [
       "<div>\n",
       "<style scoped>\n",
       "    .dataframe tbody tr th:only-of-type {\n",
       "        vertical-align: middle;\n",
       "    }\n",
       "\n",
       "    .dataframe tbody tr th {\n",
       "        vertical-align: top;\n",
       "    }\n",
       "\n",
       "    .dataframe thead th {\n",
       "        text-align: right;\n",
       "    }\n",
       "</style>\n",
       "<table border=\"1\" class=\"dataframe\">\n",
       "  <thead>\n",
       "    <tr style=\"text-align: right;\">\n",
       "      <th></th>\n",
       "      <th>word</th>\n",
       "      <th>weight</th>\n",
       "      <th>absW</th>\n",
       "    </tr>\n",
       "  </thead>\n",
       "  <tbody>\n",
       "    <tr>\n",
       "      <th>751</th>\n",
       "      <td>giveaway</td>\n",
       "      <td>-2.687704</td>\n",
       "      <td>2.687704</td>\n",
       "    </tr>\n",
       "    <tr>\n",
       "      <th>1949</th>\n",
       "      <td>via</td>\n",
       "      <td>-2.281838</td>\n",
       "      <td>2.281838</td>\n",
       "    </tr>\n",
       "    <tr>\n",
       "      <th>189</th>\n",
       "      <td>blogboost</td>\n",
       "      <td>-1.980356</td>\n",
       "      <td>1.980356</td>\n",
       "    </tr>\n",
       "    <tr>\n",
       "      <th>1062</th>\n",
       "      <td>lol</td>\n",
       "      <td>1.840904</td>\n",
       "      <td>1.840904</td>\n",
       "    </tr>\n",
       "    <tr>\n",
       "      <th>1803</th>\n",
       "      <td>thank</td>\n",
       "      <td>1.799492</td>\n",
       "      <td>1.799492</td>\n",
       "    </tr>\n",
       "  </tbody>\n",
       "</table>\n",
       "</div>"
      ],
      "text/plain": [
       "           word    weight      absW\n",
       "751    giveaway -2.687704  2.687704\n",
       "1949        via -2.281838  2.281838\n",
       "189   blogboost -1.980356  1.980356\n",
       "1062        lol  1.840904  1.840904\n",
       "1803      thank  1.799492  1.799492"
      ]
     },
     "execution_count": 120,
     "metadata": {},
     "output_type": "execute_result"
    }
   ],
   "source": [
    "weights = model.coef_.flatten()\n",
    "words = [rev_dict[i] for i in range(len(weights))]\n",
    "feature_weights = DataFrame({'word': words, 'weight': weights, 'absW': abs(weights)})\n",
    "feature_weights.sort_values(by = 'absW', ascending = False, inplace = True)\n",
    "feature_weights.head(5)"
   ]
  },
  {
   "cell_type": "code",
   "execution_count": 121,
   "id": "65895d6d-9ab2-4e70-8c94-05d148c87302",
   "metadata": {},
   "outputs": [
    {
     "data": {
      "application/vnd.plotly.v1+json": {
       "config": {
        "linkText": "Export to plot.ly",
        "plotlyServerURL": "https://plot.ly",
        "showLink": true
       },
       "data": [
        {
         "marker": {
          "color": "rgba(255, 153, 51, 0.6)",
          "line": {
           "color": "rgba(255, 153, 51, 1.0)",
           "width": 1
          }
         },
         "name": "weight",
         "orientation": "v",
         "text": "",
         "type": "bar",
         "x": [
          "giveaway",
          "via",
          "blogboost",
          "lol",
          "thank",
          "hahaha",
          "vã­deo",
          "gostei",
          "win",
          "pack",
          "haha",
          "learn",
          "thanks",
          "quote",
          "getglue",
          "tonight",
          "high",
          "shit",
          "system",
          "online",
          "cant",
          "im",
          "company",
          "oh",
          "nikeplus",
          "black",
          "dies",
          "years",
          "fox",
          "fuck",
          "ass",
          "program",
          "womens",
          "grt",
          "instagram",
          "yeah",
          "fire",
          "cute",
          "download",
          "recipes",
          "stories",
          "complete",
          "omg",
          "power",
          "maybe",
          "guess",
          "got",
          "hope",
          "training",
          "birthday",
          "factor",
          "—",
          "secrets",
          "business",
          "software",
          "apple",
          "ebook",
          "customers",
          "kitchen",
          "morning"
         ],
         "y": [
          -2.6877040106535963,
          -2.2818383235201587,
          -1.9803559342592116,
          1.8409040274047244,
          1.7994923876195257,
          1.7712068839184991,
          -1.7517219016692698,
          -1.7436169445748593,
          -1.7296451423359143,
          -1.710158259127503,
          1.6236369017536454,
          -1.5829585517345635,
          1.5537119957578174,
          -1.541303619628742,
          1.5403387730747835,
          1.5401037307615815,
          -1.5137169111481388,
          1.4797448580121433,
          -1.4701409272124057,
          -1.4331479137312755,
          1.4181685477397534,
          1.4057920004151683,
          -1.399060122418532,
          1.3817311781525996,
          -1.3730148841446208,
          -1.329806223867266,
          -1.3248381188906393,
          -1.3246067052447899,
          -1.3121401459281805,
          1.2771324710684018,
          1.273292725801581,
          -1.2682614481640366,
          -1.2550890811344626,
          -1.2547459764423867,
          -1.2515406833665899,
          1.2344838680189851,
          -1.2079175965275197,
          1.1976626763374885,
          -1.1904730901990404,
          -1.1892363762043705,
          -1.1824843508183625,
          -1.1763025687488746,
          1.1721202326201912,
          -1.162413355547408,
          1.1370725714717043,
          1.1368099609073063,
          1.1364052069738448,
          1.1327579602346471,
          -1.1234898587972313,
          1.1233155887497202,
          -1.1221251582018794,
          -1.118408119441831,
          -1.1135017886449599,
          -1.1100563774575505,
          -1.1056554171325756,
          -1.1041064540678653,
          -1.0992168657840742,
          -1.0976964246393917,
          -1.0966867557822244,
          1.0901272330902712
         ]
        }
       ],
       "layout": {
        "autosize": true,
        "legend": {
         "bgcolor": "#F5F6F9",
         "font": {
          "color": "#4D5663"
         }
        },
        "paper_bgcolor": "#F5F6F9",
        "plot_bgcolor": "#F5F6F9",
        "shapes": [
         {
          "line": {
           "color": "#db4052",
           "dash": "solid",
           "width": 1
          },
          "type": "line",
          "x0": 0,
          "x1": 1,
          "xref": "paper",
          "y0": [
           0,
           0
          ],
          "y1": [
           0,
           0
          ],
          "yref": "y"
         }
        ],
        "title": {
         "font": {
          "color": "#4D5663"
         },
         "text": "Signicance of word to \"Good Tweet\" classification"
        },
        "xaxis": {
         "autorange": true,
         "gridcolor": "#E1E5ED",
         "range": [
          -0.5,
          59.5
         ],
         "showgrid": true,
         "tickfont": {
          "color": "#4D5663"
         },
         "title": {
          "font": {
           "color": "#4D5663"
          },
          "text": ""
         },
         "type": "category",
         "zerolinecolor": "#E1E5ED"
        },
        "yaxis": {
         "autorange": true,
         "gridcolor": "#E1E5ED",
         "range": [
          -2.9392933461012807,
          2.0924933628524087
         ],
         "showgrid": true,
         "tickfont": {
          "color": "#4D5663"
         },
         "title": {
          "font": {
           "color": "#4D5663"
          },
          "text": ""
         },
         "type": "linear",
         "zerolinecolor": "#E1E5ED"
        }
       }
      },
      "image/png": "[encoded data removed]",
      "text/html": [
       "<div>                            <div id=\"3eafc415-8586-4fce-b497-1519c36f6fb8\" class=\"plotly-graph-div\" style=\"height:525px; width:100%;\"></div>            <script type=\"text/javascript\">                require([\"plotly\"], function(Plotly) {                    window.PLOTLYENV=window.PLOTLYENV || {};\n",
       "                    window.PLOTLYENV.BASE_URL='https://plot.ly';                                    if (document.getElementById(\"3eafc415-8586-4fce-b497-1519c36f6fb8\")) {                    Plotly.newPlot(                        \"3eafc415-8586-4fce-b497-1519c36f6fb8\",                        [{\"marker\":{\"color\":\"rgba(255, 153, 51, 0.6)\",\"line\":{\"color\":\"rgba(255, 153, 51, 1.0)\",\"width\":1}},\"name\":\"weight\",\"text\":\"\",\"x\":[\"giveaway\",\"via\",\"blogboost\",\"lol\",\"thank\",\"hahaha\",\"v\\u00e3\\u00addeo\",\"gostei\",\"win\",\"pack\",\"haha\",\"learn\",\"thanks\",\"quote\",\"getglue\",\"tonight\",\"high\",\"shit\",\"system\",\"online\",\"cant\",\"im\",\"company\",\"oh\",\"nikeplus\",\"black\",\"dies\",\"years\",\"fox\",\"fuck\",\"ass\",\"program\",\"womens\",\"grt\",\"instagram\",\"yeah\",\"fire\",\"cute\",\"download\",\"recipes\",\"stories\",\"complete\",\"omg\",\"power\",\"maybe\",\"guess\",\"got\",\"hope\",\"training\",\"birthday\",\"factor\",\"\\u2014\",\"secrets\",\"business\",\"software\",\"apple\",\"ebook\",\"customers\",\"kitchen\",\"morning\"],\"y\":[-2.6877040106535963,-2.2818383235201587,-1.9803559342592116,1.8409040274047244,1.7994923876195257,1.7712068839184991,-1.7517219016692698,-1.7436169445748593,-1.7296451423359143,-1.710158259127503,1.6236369017536454,-1.5829585517345635,1.5537119957578174,-1.541303619628742,1.5403387730747835,1.5401037307615815,-1.5137169111481388,1.4797448580121433,-1.4701409272124057,-1.4331479137312755,1.4181685477397534,1.4057920004151683,-1.399060122418532,1.3817311781525996,-1.3730148841446208,-1.329806223867266,-1.3248381188906393,-1.3246067052447899,-1.3121401459281805,1.2771324710684018,1.273292725801581,-1.2682614481640366,-1.2550890811344626,-1.2547459764423867,-1.2515406833665899,1.2344838680189851,-1.2079175965275197,1.1976626763374885,-1.1904730901990404,-1.1892363762043705,-1.1824843508183625,-1.1763025687488746,1.1721202326201912,-1.162413355547408,1.1370725714717043,1.1368099609073063,1.1364052069738448,1.1327579602346471,-1.1234898587972313,1.1233155887497202,-1.1221251582018794,-1.118408119441831,-1.1135017886449599,-1.1100563774575505,-1.1056554171325756,-1.1041064540678653,-1.0992168657840742,-1.0976964246393917,-1.0966867557822244,1.0901272330902712],\"type\":\"bar\",\"orientation\":\"v\"}],                        {\"legend\":{\"bgcolor\":\"#F5F6F9\",\"font\":{\"color\":\"#4D5663\"}},\"paper_bgcolor\":\"#F5F6F9\",\"plot_bgcolor\":\"#F5F6F9\",\"yaxis\":{\"tickfont\":{\"color\":\"#4D5663\"},\"gridcolor\":\"#E1E5ED\",\"titlefont\":{\"color\":\"#4D5663\"},\"zerolinecolor\":\"#E1E5ED\",\"showgrid\":true,\"title\":\"\"},\"xaxis\":{\"tickfont\":{\"color\":\"#4D5663\"},\"gridcolor\":\"#E1E5ED\",\"titlefont\":{\"color\":\"#4D5663\"},\"zerolinecolor\":\"#E1E5ED\",\"showgrid\":true,\"title\":\"\"},\"titlefont\":{\"color\":\"#4D5663\"},\"title\":\"Signicance of word to \\\"Good Tweet\\\" classification\",\"shapes\":[{\"x0\":0,\"y0\":[0,0],\"x1\":1,\"y1\":[0,0],\"line\":{\"color\":\"#db4052\",\"width\":1,\"dash\":\"solid\"},\"xref\":\"paper\",\"yref\":\"y\",\"type\":\"line\"}]},                        {\"showLink\": true, \"linkText\": \"Export to plot.ly\", \"plotlyServerURL\": \"https://plot.ly\", \"responsive\": true}                    ).then(function(){\n",
       "                            \n",
       "var gd = document.getElementById('3eafc415-8586-4fce-b497-1519c36f6fb8');\n",
       "var x = new MutationObserver(function (mutations, observer) {{\n",
       "        var display = window.getComputedStyle(gd).display;\n",
       "        if (!display || display === 'none') {{\n",
       "            console.log([gd, 'removed!']);\n",
       "            Plotly.purge(gd);\n",
       "            observer.disconnect();\n",
       "        }}\n",
       "}});\n",
       "\n",
       "// Listen for the removal of the full notebook cells\n",
       "var notebookContainer = gd.closest('#notebook-container');\n",
       "if (notebookContainer) {{\n",
       "    x.observe(notebookContainer, {childList: true});\n",
       "}}\n",
       "\n",
       "// Listen for the clearing of the current output cell\n",
       "var outputEl = gd.closest('.output');\n",
       "if (outputEl) {{\n",
       "    x.observe(outputEl, {childList: true});\n",
       "}}\n",
       "\n",
       "                        })                };                });            </script>        </div>"
      ]
     },
     "metadata": {},
     "output_type": "display_data"
    }
   ],
   "source": [
    "feature_weights.set_index('word').weight.head(60).iplot(kind = 'bar', title = 'Signicance of word to \"Good Tweet\" classification', hline=(0,0))\n"
   ]
  },
  {
   "cell_type": "markdown",
   "id": "cdd228d8-6684-4029-8cc4-356cfa995b65",
   "metadata": {},
   "source": [
    "So we see that giveaway, via and blogboost are all highly indicative of a bot generated tweet, while haha is the most signifcant indication of a good tweet. "
   ]
  },
  {
   "cell_type": "markdown",
   "id": "ede7cf48-5052-444c-9cf6-7ec8e9fbb76e",
   "metadata": {},
   "source": [
    "<span style='background :yellow' > Class discussion: Suggests methods to verify that the results presented are indeed correct and there's no bug in the process of extraction feature importance</span>"
   ]
  },
  {
   "cell_type": "code",
   "execution_count": 122,
   "id": "8eb51df9-0808-478b-9225-c011dd46a7af",
   "metadata": {
    "tags": []
   },
   "outputs": [
    {
     "data": {
      "text/plain": [
       "1    79\n",
       "Name: cls, dtype: int64"
      ]
     },
     "execution_count": 122,
     "metadata": {},
     "output_type": "execute_result"
    }
   ],
   "source": [
    "df[df.tweet.apply(lambda x: 'haha' in x)].cls.value_counts()"
   ]
  },
  {
   "cell_type": "markdown",
   "id": "61ef4af9-8379-4585-ae9a-29456196a4b7",
   "metadata": {},
   "source": [
    "## Improving the initial model"
   ]
  },
  {
   "cell_type": "markdown",
   "id": "d3d00e73-78c5-4c90-b835-39f7e61bc7d1",
   "metadata": {},
   "source": [
    "To understand to imidiate steps to improve the model, let's look at the most significant errors, i.e., all the examples on which the model was very confident at the wrong class."
   ]
  },
  {
   "cell_type": "code",
   "execution_count": 123,
   "id": "9cd1e88c-61e0-493c-8b6b-041e618487fb",
   "metadata": {},
   "outputs": [],
   "source": [
    "test_df['is_pred_error'] = test_df.cls != test_df.predicted_class"
   ]
  },
  {
   "cell_type": "code",
   "execution_count": 124,
   "id": "75380318-b91b-4cf0-8347-beed20a55532",
   "metadata": {},
   "outputs": [
    {
     "data": {
      "text/html": [
       "<div>\n",
       "<style scoped>\n",
       "    .dataframe tbody tr th:only-of-type {\n",
       "        vertical-align: middle;\n",
       "    }\n",
       "\n",
       "    .dataframe tbody tr th {\n",
       "        vertical-align: top;\n",
       "    }\n",
       "\n",
       "    .dataframe thead th {\n",
       "        text-align: right;\n",
       "    }\n",
       "</style>\n",
       "<table border=\"1\" class=\"dataframe\">\n",
       "  <thead>\n",
       "    <tr style=\"text-align: right;\">\n",
       "      <th></th>\n",
       "      <th>id</th>\n",
       "      <th>tweet</th>\n",
       "      <th>cls</th>\n",
       "      <th>pureTextTweet</th>\n",
       "      <th>predicted_class</th>\n",
       "      <th>class_0_prob</th>\n",
       "      <th>class_1_prob</th>\n",
       "      <th>prediction_certainty</th>\n",
       "      <th>is_pred_error</th>\n",
       "      <th>original_lower_cased_tweet</th>\n",
       "    </tr>\n",
       "  </thead>\n",
       "  <tbody>\n",
       "    <tr>\n",
       "      <th>3766</th>\n",
       "      <td>154434078588940288</td>\n",
       "      <td>Winter has arrived in South Florida and I'm not liking it!Temps to go down to 30's tonight.Hope farmers able to harvest strawberries in time</td>\n",
       "      <td>0</td>\n",
       "      <td>winter has arrived in south florida and im not liking it temps to go down tos tonight hope farmers able to harvest strawberries in time</td>\n",
       "      <td>1</td>\n",
       "      <td>0.004067</td>\n",
       "      <td>0.995933</td>\n",
       "      <td>0.995933</td>\n",
       "      <td>True</td>\n",
       "      <td>winter has arrived in south florida and i'm not liking it!temps to go down to 30's tonight.hope farmers able to harvest strawberries in time</td>\n",
       "    </tr>\n",
       "    <tr>\n",
       "      <th>5496</th>\n",
       "      <td>294779844296847360</td>\n",
       "      <td>I realized that going to community college actually gave me double the friends I would have had going str</td>\n",
       "      <td>0</td>\n",
       "      <td>i realized that going to community college actually gave me double the friends i would have had going str</td>\n",
       "      <td>1</td>\n",
       "      <td>0.037148</td>\n",
       "      <td>0.962852</td>\n",
       "      <td>0.962852</td>\n",
       "      <td>True</td>\n",
       "      <td>i realized that going to community college actually gave me double the friends i would have had going str</td>\n",
       "    </tr>\n",
       "    <tr>\n",
       "      <th>6985</th>\n",
       "      <td>92053939649904640</td>\n",
       "      <td>â€It starts with respect.If you respect the customer and  honor their right to be treated fairly &amp; honestly,every thing else is much easier.â€</td>\n",
       "      <td>0</td>\n",
       "      <td>â€it starts with respect if you respect the customer and  honor their right to be treated fairly   honestly every thing else is much easier â€</td>\n",
       "      <td>1</td>\n",
       "      <td>0.043986</td>\n",
       "      <td>0.956014</td>\n",
       "      <td>0.956014</td>\n",
       "      <td>True</td>\n",
       "      <td>â€it starts with respect.if you respect the customer and  honor their right to be treated fairly &amp; honestly,every thing else is much easier.â€</td>\n",
       "    </tr>\n",
       "    <tr>\n",
       "      <th>4565</th>\n",
       "      <td>283159466336202752</td>\n",
       "      <td>If you are on this site right now I think it is safe to say that you would like to have all of those thin http://t.co/QdFq2nLI</td>\n",
       "      <td>0</td>\n",
       "      <td>if you are on this site right now i think it is safe to say that you would like to have all of those thin</td>\n",
       "      <td>1</td>\n",
       "      <td>0.069717</td>\n",
       "      <td>0.930283</td>\n",
       "      <td>0.930283</td>\n",
       "      <td>True</td>\n",
       "      <td>if you are on this site right now i think it is safe to say that you would like to have all of those thin http://t.co/qdfq2nli</td>\n",
       "    </tr>\n",
       "    <tr>\n",
       "      <th>3890</th>\n",
       "      <td>178476067663781889</td>\n",
       "      <td>Happy Saturday morning to you as well @MarthaGiffen Make it a fabulous weekend!</td>\n",
       "      <td>0</td>\n",
       "      <td>happy saturday morning to you as well make it a fabulous weekend</td>\n",
       "      <td>1</td>\n",
       "      <td>0.076399</td>\n",
       "      <td>0.923601</td>\n",
       "      <td>0.923601</td>\n",
       "      <td>True</td>\n",
       "      <td>happy saturday morning to you as well @marthagiffen make it a fabulous weekend!</td>\n",
       "    </tr>\n",
       "    <tr>\n",
       "      <th>5805</th>\n",
       "      <td>425991714126712832</td>\n",
       "      <td>RT @VogueParis: Go backstage at @CHANEL's couture Spring/Summer show and see all the make-up looks from the runway http://t.co/exkI6Cqdfl</td>\n",
       "      <td>0</td>\n",
       "      <td>rt go backstage at couture springsummer show and see all the makeup looks from the runway</td>\n",
       "      <td>1</td>\n",
       "      <td>0.078957</td>\n",
       "      <td>0.921043</td>\n",
       "      <td>0.921043</td>\n",
       "      <td>True</td>\n",
       "      <td>rt @vogueparis: go backstage at @chanel's couture spring/summer show and see all the make-up looks from the runway http://t.co/exki6cqdfl</td>\n",
       "    </tr>\n",
       "    <tr>\n",
       "      <th>6553</th>\n",
       "      <td>468344906620993538</td>\n",
       "      <td>@familyfocusblog Hi Scarlet. My weekend was busy but good! Hope you have a great week!</td>\n",
       "      <td>0</td>\n",
       "      <td>hi scarlet  my weekend was busy but good  hope you have a great week</td>\n",
       "      <td>1</td>\n",
       "      <td>0.081605</td>\n",
       "      <td>0.918395</td>\n",
       "      <td>0.918395</td>\n",
       "      <td>True</td>\n",
       "      <td>@familyfocusblog hi scarlet. my weekend was busy but good! hope you have a great week!</td>\n",
       "    </tr>\n",
       "    <tr>\n",
       "      <th>3510</th>\n",
       "      <td>66647235529687040</td>\n",
       "      <td>@dannychoo I want to watch it but it says I have to wait until May 19 to watch full episodes. T__T</td>\n",
       "      <td>1</td>\n",
       "      <td>i want to watch it but it says i have to wait until may to watch full episodes  t__t</td>\n",
       "      <td>0</td>\n",
       "      <td>0.912530</td>\n",
       "      <td>0.087470</td>\n",
       "      <td>0.912530</td>\n",
       "      <td>True</td>\n",
       "      <td>@dannychoo i want to watch it but it says i have to wait until may 19 to watch full episodes. t__t</td>\n",
       "    </tr>\n",
       "    <tr>\n",
       "      <th>3600</th>\n",
       "      <td>126645352840445952</td>\n",
       "      <td>Life is an escalator: You can move forward or backward; you can not remain still. Patricia Russell-MCCloud [Must know your destination]</td>\n",
       "      <td>0</td>\n",
       "      <td>life is an escalator you can move forward or backward  you can not remain still  patricia russellmccloud must know your destination</td>\n",
       "      <td>1</td>\n",
       "      <td>0.097250</td>\n",
       "      <td>0.902750</td>\n",
       "      <td>0.902750</td>\n",
       "      <td>True</td>\n",
       "      <td>life is an escalator: you can move forward or backward; you can not remain still. patricia russell-mccloud [must know your destination]</td>\n",
       "    </tr>\n",
       "    <tr>\n",
       "      <th>4858</th>\n",
       "      <td>284814790008901632</td>\n",
       "      <td>Newt Gingrich On Mitt Romney: 'I Would Have Probably Done Better' Against ... -</td>\n",
       "      <td>0</td>\n",
       "      <td>newt gingrich on mitt romney i would have probably done better against</td>\n",
       "      <td>1</td>\n",
       "      <td>0.100605</td>\n",
       "      <td>0.899395</td>\n",
       "      <td>0.899395</td>\n",
       "      <td>True</td>\n",
       "      <td>newt gingrich on mitt romney: 'i would have probably done better' against ... -</td>\n",
       "    </tr>\n",
       "  </tbody>\n",
       "</table>\n",
       "</div>"
      ],
      "text/plain": [
       "                      id  \\\n",
       "3766  154434078588940288   \n",
       "5496  294779844296847360   \n",
       "6985   92053939649904640   \n",
       "4565  283159466336202752   \n",
       "3890  178476067663781889   \n",
       "5805  425991714126712832   \n",
       "6553  468344906620993538   \n",
       "3510   66647235529687040   \n",
       "3600  126645352840445952   \n",
       "4858  284814790008901632   \n",
       "\n",
       "                                                                                                                                                 tweet  \\\n",
       "3766      Winter has arrived in South Florida and I'm not liking it!Temps to go down to 30's tonight.Hope farmers able to harvest strawberries in time   \n",
       "5496                                         I realized that going to community college actually gave me double the friends I would have had going str   \n",
       "6985  â€It starts with respect.If you respect the customer and  honor their right to be treated fairly & honestly,every thing else is much easier.â€   \n",
       "4565                    If you are on this site right now I think it is safe to say that you would like to have all of those thin http://t.co/QdFq2nLI   \n",
       "3890                                                                   Happy Saturday morning to you as well @MarthaGiffen Make it a fabulous weekend!   \n",
       "5805         RT @VogueParis: Go backstage at @CHANEL's couture Spring/Summer show and see all the make-up looks from the runway http://t.co/exkI6Cqdfl   \n",
       "6553                                                            @familyfocusblog Hi Scarlet. My weekend was busy but good! Hope you have a great week!   \n",
       "3510                                                @dannychoo I want to watch it but it says I have to wait until May 19 to watch full episodes. T__T   \n",
       "3600           Life is an escalator: You can move forward or backward; you can not remain still. Patricia Russell-MCCloud [Must know your destination]   \n",
       "4858                                                                   Newt Gingrich On Mitt Romney: 'I Would Have Probably Done Better' Against ... -   \n",
       "\n",
       "      cls  \\\n",
       "3766    0   \n",
       "5496    0   \n",
       "6985    0   \n",
       "4565    0   \n",
       "3890    0   \n",
       "5805    0   \n",
       "6553    0   \n",
       "3510    1   \n",
       "3600    0   \n",
       "4858    0   \n",
       "\n",
       "                                                                                                                                         pureTextTweet  \\\n",
       "3766           winter has arrived in south florida and im not liking it temps to go down tos tonight hope farmers able to harvest strawberries in time   \n",
       "5496                                         i realized that going to community college actually gave me double the friends i would have had going str   \n",
       "6985  â€it starts with respect if you respect the customer and  honor their right to be treated fairly   honestly every thing else is much easier â€   \n",
       "4565                                        if you are on this site right now i think it is safe to say that you would like to have all of those thin    \n",
       "3890                                                                                 happy saturday morning to you as well make it a fabulous weekend    \n",
       "5805                                                        rt go backstage at couture springsummer show and see all the makeup looks from the runway    \n",
       "6553                                                                             hi scarlet  my weekend was busy but good  hope you have a great week    \n",
       "3510                                                              i want to watch it but it says i have to wait until may to watch full episodes  t__t   \n",
       "3600               life is an escalator you can move forward or backward  you can not remain still  patricia russellmccloud must know your destination   \n",
       "4858                                                                       newt gingrich on mitt romney i would have probably done better against        \n",
       "\n",
       "      predicted_class  class_0_prob  class_1_prob  prediction_certainty  \\\n",
       "3766                1      0.004067      0.995933              0.995933   \n",
       "5496                1      0.037148      0.962852              0.962852   \n",
       "6985                1      0.043986      0.956014              0.956014   \n",
       "4565                1      0.069717      0.930283              0.930283   \n",
       "3890                1      0.076399      0.923601              0.923601   \n",
       "5805                1      0.078957      0.921043              0.921043   \n",
       "6553                1      0.081605      0.918395              0.918395   \n",
       "3510                0      0.912530      0.087470              0.912530   \n",
       "3600                1      0.097250      0.902750              0.902750   \n",
       "4858                1      0.100605      0.899395              0.899395   \n",
       "\n",
       "      is_pred_error  \\\n",
       "3766           True   \n",
       "5496           True   \n",
       "6985           True   \n",
       "4565           True   \n",
       "3890           True   \n",
       "5805           True   \n",
       "6553           True   \n",
       "3510           True   \n",
       "3600           True   \n",
       "4858           True   \n",
       "\n",
       "                                                                                                                            original_lower_cased_tweet  \n",
       "3766      winter has arrived in south florida and i'm not liking it!temps to go down to 30's tonight.hope farmers able to harvest strawberries in time  \n",
       "5496                                         i realized that going to community college actually gave me double the friends i would have had going str  \n",
       "6985  â€it starts with respect.if you respect the customer and  honor their right to be treated fairly & honestly,every thing else is much easier.â€  \n",
       "4565                    if you are on this site right now i think it is safe to say that you would like to have all of those thin http://t.co/qdfq2nli  \n",
       "3890                                                                   happy saturday morning to you as well @marthagiffen make it a fabulous weekend!  \n",
       "5805         rt @vogueparis: go backstage at @chanel's couture spring/summer show and see all the make-up looks from the runway http://t.co/exki6cqdfl  \n",
       "6553                                                            @familyfocusblog hi scarlet. my weekend was busy but good! hope you have a great week!  \n",
       "3510                                                @dannychoo i want to watch it but it says i have to wait until may 19 to watch full episodes. t__t  \n",
       "3600           life is an escalator: you can move forward or backward; you can not remain still. patricia russell-mccloud [must know your destination]  \n",
       "4858                                                                   newt gingrich on mitt romney: 'i would have probably done better' against ... -  "
      ]
     },
     "execution_count": 124,
     "metadata": {},
     "output_type": "execute_result"
    }
   ],
   "source": [
    "test_df[test_df.is_pred_error].sort_values(by='prediction_certainty', ascending=False).head(10)"
   ]
  },
  {
   "cell_type": "markdown",
   "id": "6580bfbc-0d8a-44f6-b8d0-246145985a8b",
   "metadata": {},
   "source": [
    "We can see some patterns:\n",
    "* What makes good/bad is not clear, and sometimes seems erroneous\n",
    "* Bad tweets often contain dollars, hashtags, @s and links - are those captured in the vocabulary we've created? * "
   ]
  },
  {
   "cell_type": "markdown",
   "id": "6984473d-976b-401c-aa6f-f6e2ac7cf45d",
   "metadata": {},
   "source": [
    "<span style='background :yellow' > Class discussion: Suggests methods to verify that the characters discussed above are in the corpus and are available for the classifier</span>"
   ]
  },
  {
   "cell_type": "code",
   "execution_count": 125,
   "id": "3b7c57a0-f60a-4600-92f4-aa84b8a8d595",
   "metadata": {
    "tags": []
   },
   "outputs": [],
   "source": [
    "for c in ['@', '#', '$','http']: \n",
    "    for token in clean_vocab:\n",
    "        if c in token:\n",
    "            print(token, c)"
   ]
  },
  {
   "cell_type": "markdown",
   "id": "f9cd32ac-2087-4436-a5ac-22c4b233c244",
   "metadata": {
    "tags": []
   },
   "source": [
    "<span style='background :yellow' > Class discussion: Suggests methods to include the missing information to the classifier</span>"
   ]
  },
  {
   "cell_type": "code",
   "execution_count": 56,
   "id": "84fba14c-8491-420c-9b41-afb2ef018cdb",
   "metadata": {
    "tags": []
   },
   "outputs": [
    {
     "data": {
      "text/plain": [
       "['I',\n",
       " 'just',\n",
       " 'joined',\n",
       " '#',\n",
       " 'naturebox',\n",
       " 'and',\n",
       " 'ca',\n",
       " \"n't\",\n",
       " 'wait',\n",
       " 'to',\n",
       " 'start',\n",
       " 'snacking',\n",
       " '.',\n",
       " 'Get',\n",
       " '$',\n",
       " '10',\n",
       " 'off',\n",
       " 'these',\n",
       " 'awesome',\n",
       " 'snacks',\n",
       " 'too',\n",
       " ':',\n",
       " 'http',\n",
       " ':',\n",
       " '//t.co/V3BLDmHKYg',\n",
       " 'by',\n",
       " '@',\n",
       " 'NatureBox']"
      ]
     },
     "execution_count": 56,
     "metadata": {},
     "output_type": "execute_result"
    }
   ],
   "source": [
    "nltk.word_tokenize(\"I just joined #naturebox and can't wait to start snacking. Get $10 off these awesome snacks too: http://t.co/V3BLDmHKYg by @NatureBox\t\")"
   ]
  },
  {
   "cell_type": "markdown",
   "id": "79b836bb-6da4-4a09-8284-e75721fb0227",
   "metadata": {
    "tags": []
   },
   "source": [
    "We have several options:\n",
    "* Working on the original text without \"cleaning it\", or doing a better clean up job to not clean relevant information\n",
    "* Add some ad-hoc features to the the bag-of-words vector"
   ]
  },
  {
   "cell_type": "markdown",
   "id": "8e7fc0b7-7f94-4ef6-bd61-f28289337bdf",
   "metadata": {},
   "source": [
    "## Working on the original text"
   ]
  },
  {
   "cell_type": "code",
   "execution_count": 129,
   "id": "89cbef3a-6121-4786-bd32-f7477bb0a64e",
   "metadata": {},
   "outputs": [],
   "source": [
    "df['original_lower_cased_tweet'] = df.tweet.str.lower()"
   ]
  },
  {
   "cell_type": "code",
   "execution_count": 130,
   "id": "7c7aeb80-b5b3-466e-aa8a-89604a936c97",
   "metadata": {},
   "outputs": [
    {
     "data": {
      "text/plain": [
       "((5610, 10), (1402, 10))"
      ]
     },
     "execution_count": 130,
     "metadata": {},
     "output_type": "execute_result"
    }
   ],
   "source": [
    "test_df, train_df = train_test_split(df, test_size=0.8, random_state=42)\n",
    "train_df.shape, test_df.shape"
   ]
  },
  {
   "cell_type": "code",
   "execution_count": 131,
   "id": "1405ad9a-22df-4fd0-9b15-66e6822d6b0a",
   "metadata": {},
   "outputs": [
    {
     "data": {
      "text/html": [
       "<div>\n",
       "<style scoped>\n",
       "    .dataframe tbody tr th:only-of-type {\n",
       "        vertical-align: middle;\n",
       "    }\n",
       "\n",
       "    .dataframe tbody tr th {\n",
       "        vertical-align: top;\n",
       "    }\n",
       "\n",
       "    .dataframe thead th {\n",
       "        text-align: right;\n",
       "    }\n",
       "</style>\n",
       "<table border=\"1\" class=\"dataframe\">\n",
       "  <thead>\n",
       "    <tr style=\"text-align: right;\">\n",
       "      <th></th>\n",
       "      <th>word</th>\n",
       "      <th>wordCount</th>\n",
       "    </tr>\n",
       "  </thead>\n",
       "  <tbody>\n",
       "    <tr>\n",
       "      <th>0</th>\n",
       "      <td>:</td>\n",
       "      <td>4874</td>\n",
       "    </tr>\n",
       "    <tr>\n",
       "      <th>1</th>\n",
       "      <td>@</td>\n",
       "      <td>4025</td>\n",
       "    </tr>\n",
       "    <tr>\n",
       "      <th>2</th>\n",
       "      <td>http</td>\n",
       "      <td>3036</td>\n",
       "    </tr>\n",
       "    <tr>\n",
       "      <th>3</th>\n",
       "      <td>!</td>\n",
       "      <td>2345</td>\n",
       "    </tr>\n",
       "    <tr>\n",
       "      <th>4</th>\n",
       "      <td>#</td>\n",
       "      <td>2145</td>\n",
       "    </tr>\n",
       "  </tbody>\n",
       "</table>\n",
       "</div>"
      ],
      "text/plain": [
       "   word  wordCount\n",
       "0     :       4874\n",
       "1     @       4025\n",
       "2  http       3036\n",
       "3     !       2345\n",
       "4     #       2145"
      ]
     },
     "execution_count": 131,
     "metadata": {},
     "output_type": "execute_result"
    }
   ],
   "source": [
    "all_words = [word for tweet in train_df.original_lower_cased_tweet for word in nltk.word_tokenize(tweet) if word not in stopwords] # Words without stop words\n",
    "words_df = DataFrame(data = all_words, columns = ['word']).word.value_counts().reset_index()\n",
    "words_df.columns = ['word','wordCount']\n",
    "words_df.head()"
   ]
  },
  {
   "cell_type": "code",
   "execution_count": 132,
   "id": "8e070f39-5eb6-4bc6-8819-8494d74c7994",
   "metadata": {},
   "outputs": [
    {
     "name": "stdout",
     "output_type": "stream",
     "text": [
      "Total of 75373 words, 15660 unique words\n",
      "Using words with 5 or more appearnces will reduce the corpus size to: 1929\n"
     ]
    }
   ],
   "source": [
    "print(\"Total of {} words, {} unique words\".format(len(all_words), len(words_df)))\n",
    "print (\"Using words with 5 or more appearnces will reduce the corpus size to: {}\".format(sum(words_df.wordCount >= 5)))"
   ]
  },
  {
   "cell_type": "code",
   "execution_count": 134,
   "id": "5f925972-95ab-4a65-897d-697797a2e14e",
   "metadata": {},
   "outputs": [
    {
     "name": "stderr",
     "output_type": "stream",
     "text": [
      "/Users/idodavid/miniforge3/envs/python_ml/lib/python3.9/site-packages/sklearn/feature_extraction/text.py:528: UserWarning:\n",
      "\n",
      "The parameter 'token_pattern' will not be used since 'tokenizer' is not None'\n",
      "\n"
     ]
    },
    {
     "data": {
      "text/plain": [
       "((5610, 3499), (1402, 3499))"
      ]
     },
     "execution_count": 134,
     "metadata": {},
     "output_type": "execute_result"
    }
   ],
   "source": [
    "vocab = set(words_df[words_df.wordCount >= 3].word)\n",
    "count_vect = CountVectorizer(vocabulary = vocab, tokenizer=nltk.word_tokenize)\n",
    "train_bow_counts = count_vect.fit_transform(train_df.original_lower_cased_tweet)\n",
    "test_bow_counts = count_vect.transform(test_df.original_lower_cased_tweet)\n",
    "train_bow_counts.shape, test_bow_counts.shape"
   ]
  },
  {
   "cell_type": "code",
   "execution_count": 138,
   "id": "1355f0cf-7540-499c-b732-f7be20633d0e",
   "metadata": {},
   "outputs": [
    {
     "data": {
      "text/plain": [
       "'and here i thought the 92% was bad -___-ll'"
      ]
     },
     "execution_count": 138,
     "metadata": {},
     "output_type": "execute_result"
    }
   ],
   "source": [
    "train_df.iloc[1].original_lower_cased_tweet"
   ]
  },
  {
   "cell_type": "code",
   "execution_count": 141,
   "id": "520521fc-3068-44a6-a679-946432863b7c",
   "metadata": {},
   "outputs": [
    {
     "name": "stdout",
     "output_type": "stream",
     "text": [
      "  (0, 3)\t1\n",
      "  (0, 253)\t1\n",
      "  (0, 456)\t1\n",
      "  (0, 3062)\t1\n"
     ]
    }
   ],
   "source": [
    "print(train_bow_counts[1])"
   ]
  },
  {
   "cell_type": "code",
   "execution_count": 142,
   "id": "fdc07438-3019-4509-9aa4-1cd08146b134",
   "metadata": {},
   "outputs": [
    {
     "name": "stdout",
     "output_type": "stream",
     "text": [
      "%\n",
      "92\n",
      "bad\n",
      "thought\n"
     ]
    }
   ],
   "source": [
    "rev_dict = {v:k for k,v in count_vect.vocabulary_.items()}\n",
    "print(rev_dict[3])\n",
    "print(rev_dict[253])\n",
    "print(rev_dict[456])\n",
    "print(rev_dict[3062])"
   ]
  },
  {
   "cell_type": "markdown",
   "id": "7d4ecb1a-75ea-4c68-8970-9452e5f84331",
   "metadata": {},
   "source": [
    "## Classification"
   ]
  },
  {
   "cell_type": "code",
   "execution_count": 143,
   "id": "0263d915-69ad-440e-af69-0e7f45ca19fc",
   "metadata": {},
   "outputs": [],
   "source": [
    "import numpy as np\n",
    "from sklearn.model_selection import train_test_split, cross_val_score\n",
    "from sklearn.metrics import roc_auc_score, precision_score, recall_score, accuracy_score"
   ]
  },
  {
   "cell_type": "code",
   "execution_count": 144,
   "id": "223df2d0-2b9e-473f-acb2-3309ff53e25c",
   "metadata": {},
   "outputs": [],
   "source": [
    "from sklearn.linear_model import LogisticRegression"
   ]
  },
  {
   "cell_type": "code",
   "execution_count": 145,
   "id": "26bef4e1-1ebf-4ec7-aab0-bfee6fd9b516",
   "metadata": {},
   "outputs": [],
   "source": [
    "%%capture\n",
    "search_grid = np.logspace(-2, 4, num=50, endpoint=True, base=10.0)\n",
    "auc_by_alpha = []\n",
    "for alpha in search_grid:\n",
    "    model = LogisticRegression(penalty='l2', C=alpha)\n",
    "    avg_score = cross_val_score(model, train_bow_counts, y = train_df.cls, cv = 10, scoring = 'roc_auc').mean()\n",
    "    auc_by_alpha.append((alpha,avg_score))"
   ]
  },
  {
   "cell_type": "code",
   "execution_count": 146,
   "id": "f4ec1615-cdf8-4e49-896f-69231290d017",
   "metadata": {},
   "outputs": [
    {
     "data": {
      "application/vnd.plotly.v1+json": {
       "config": {
        "linkText": "Export to plot.ly",
        "plotlyServerURL": "https://plot.ly",
        "showLink": true
       },
       "data": [
        {
         "line": {
          "color": "rgba(255, 153, 51, 1.0)",
          "dash": "solid",
          "shape": "linear",
          "width": 3
         },
         "mode": "lines",
         "name": "AUC",
         "text": "",
         "type": "scatter",
         "x": [
          0.01,
          0.013257113655901088,
          0.017575106248547922,
          0.023299518105153717,
          0.030888435964774818,
          0.040949150623804255,
          0.054286754393238594,
          0.07196856730011521,
          0.09540954763499938,
          0.12648552168552957,
          0.16768329368110083,
          0.22229964825261944,
          0.29470517025518095,
          0.3906939937054617,
          0.517947467923121,
          0.6866488450043002,
          0.9102981779915218,
          1.2067926406393288,
          1.5998587196060574,
          2.1209508879201904,
          2.8117686979742307,
          3.727593720314938,
          4.941713361323833,
          6.551285568595509
         ],
         "y": [
          0.9475512077193828,
          0.9507935165693666,
          0.9542023236570758,
          0.9575996886778467,
          0.9606221120455538,
          0.9634144848766951,
          0.9658255592934815,
          0.9680968240870523,
          0.9700694054242545,
          0.9719098038690014,
          0.9735112545277153,
          0.9750860154411333,
          0.9764434353020471,
          0.9775606383443961,
          0.9784655837660139,
          0.9791709847664016,
          0.9796984462698302,
          0.9800327166886538,
          0.9801725254718565,
          0.9802157396173857,
          0.9800708463685485,
          0.9798052098387726,
          0.9796120191095576,
          0.9793247751677819
         ]
        }
       ],
       "layout": {
        "autosize": true,
        "legend": {
         "bgcolor": "#F5F6F9",
         "font": {
          "color": "#4D5663"
         }
        },
        "paper_bgcolor": "#F5F6F9",
        "plot_bgcolor": "#F5F6F9",
        "shapes": [
         {
          "line": {
           "color": "#db4052",
           "dash": "solid",
           "width": 1
          },
          "type": "line",
          "x0": 0,
          "x1": 1,
          "xref": "paper",
          "y0": [
           0,
           0
          ],
          "y1": [
           0,
           0
          ],
          "yref": "y"
         }
        ],
        "title": {
         "font": {
          "color": "#4D5663"
         },
         "text": "BOW Counts - AUC as a function of learning rate (alpha)"
        },
        "xaxis": {
         "autorange": true,
         "gridcolor": "#E1E5ED",
         "range": [
          0.01,
          6.551285568595509
         ],
         "showgrid": true,
         "tickfont": {
          "color": "#4D5663"
         },
         "title": {
          "font": {
           "color": "#4D5663"
          },
          "text": "alpha"
         },
         "type": "linear",
         "zerolinecolor": "#E1E5ED"
        },
        "yaxis": {
         "autorange": true,
         "gridcolor": "#E1E5ED",
         "range": [
          0.9457365115028271,
          0.9820304358339415
         ],
         "showgrid": true,
         "tickfont": {
          "color": "#4D5663"
         },
         "title": {
          "font": {
           "color": "#4D5663"
          },
          "text": "AUC"
         },
         "type": "linear",
         "zerolinecolor": "#E1E5ED"
        }
       }
      },
      "image/png": "[encoded data removed]",
      "text/html": [
       "<div>                            <div id=\"fa43db37-bc84-4f90-b31b-7d8c5289fada\" class=\"plotly-graph-div\" style=\"height:525px; width:100%;\"></div>            <script type=\"text/javascript\">                require([\"plotly\"], function(Plotly) {                    window.PLOTLYENV=window.PLOTLYENV || {};\n",
       "                    window.PLOTLYENV.BASE_URL='https://plot.ly';                                    if (document.getElementById(\"fa43db37-bc84-4f90-b31b-7d8c5289fada\")) {                    Plotly.newPlot(                        \"fa43db37-bc84-4f90-b31b-7d8c5289fada\",                        [{\"line\":{\"color\":\"rgba(255, 153, 51, 1.0)\",\"dash\":\"solid\",\"shape\":\"linear\",\"width\":3},\"mode\":\"lines\",\"name\":\"AUC\",\"text\":\"\",\"x\":[0.01,0.013257113655901088,0.017575106248547922,0.023299518105153717,0.030888435964774818,0.040949150623804255,0.054286754393238594,0.07196856730011521,0.09540954763499938,0.12648552168552957,0.16768329368110083,0.22229964825261944,0.29470517025518095,0.3906939937054617,0.517947467923121,0.6866488450043002,0.9102981779915218,1.2067926406393288,1.5998587196060574,2.1209508879201904,2.8117686979742307,3.727593720314938,4.941713361323833,6.551285568595509],\"y\":[0.9475512077193828,0.9507935165693666,0.9542023236570758,0.9575996886778467,0.9606221120455538,0.9634144848766951,0.9658255592934815,0.9680968240870523,0.9700694054242545,0.9719098038690014,0.9735112545277153,0.9750860154411333,0.9764434353020471,0.9775606383443961,0.9784655837660139,0.9791709847664016,0.9796984462698302,0.9800327166886538,0.9801725254718565,0.9802157396173857,0.9800708463685485,0.9798052098387726,0.9796120191095576,0.9793247751677819],\"type\":\"scatter\"}],                        {\"legend\":{\"bgcolor\":\"#F5F6F9\",\"font\":{\"color\":\"#4D5663\"}},\"paper_bgcolor\":\"#F5F6F9\",\"plot_bgcolor\":\"#F5F6F9\",\"yaxis\":{\"tickfont\":{\"color\":\"#4D5663\"},\"gridcolor\":\"#E1E5ED\",\"titlefont\":{\"color\":\"#4D5663\"},\"zerolinecolor\":\"#E1E5ED\",\"showgrid\":true,\"title\":\"AUC\"},\"xaxis\":{\"tickfont\":{\"color\":\"#4D5663\"},\"gridcolor\":\"#E1E5ED\",\"titlefont\":{\"color\":\"#4D5663\"},\"zerolinecolor\":\"#E1E5ED\",\"showgrid\":true,\"title\":\"alpha\"},\"titlefont\":{\"color\":\"#4D5663\"},\"title\":\"BOW Counts - AUC as a function of learning rate (alpha)\",\"shapes\":[{\"x0\":0,\"y0\":[0,0],\"x1\":1,\"y1\":[0,0],\"line\":{\"color\":\"#db4052\",\"width\":1,\"dash\":\"solid\"},\"xref\":\"paper\",\"yref\":\"y\",\"type\":\"line\"}]},                        {\"showLink\": true, \"linkText\": \"Export to plot.ly\", \"plotlyServerURL\": \"https://plot.ly\", \"responsive\": true}                    ).then(function(){\n",
       "                            \n",
       "var gd = document.getElementById('fa43db37-bc84-4f90-b31b-7d8c5289fada');\n",
       "var x = new MutationObserver(function (mutations, observer) {{\n",
       "        var display = window.getComputedStyle(gd).display;\n",
       "        if (!display || display === 'none') {{\n",
       "            console.log([gd, 'removed!']);\n",
       "            Plotly.purge(gd);\n",
       "            observer.disconnect();\n",
       "        }}\n",
       "}});\n",
       "\n",
       "// Listen for the removal of the full notebook cells\n",
       "var notebookContainer = gd.closest('#notebook-container');\n",
       "if (notebookContainer) {{\n",
       "    x.observe(notebookContainer, {childList: true});\n",
       "}}\n",
       "\n",
       "// Listen for the clearing of the current output cell\n",
       "var outputEl = gd.closest('.output');\n",
       "if (outputEl) {{\n",
       "    x.observe(outputEl, {childList: true});\n",
       "}}\n",
       "\n",
       "                        })                };                });            </script>        </div>"
      ]
     },
     "metadata": {},
     "output_type": "display_data"
    }
   ],
   "source": [
    "cv_results = DataFrame(auc_by_alpha, columns = ['alpha', 'AUC'])\n",
    "cv_results.query('alpha < 8').set_index('alpha').AUC.iplot(title = 'BOW Counts - AUC as a function of learning rate (alpha)', xTitle = 'alpha', yTitle = 'AUC', width = 3, hline=(0,0))"
   ]
  },
  {
   "cell_type": "code",
   "execution_count": 148,
   "id": "88e4042c-8a37-439b-8d22-731a627d2e2a",
   "metadata": {},
   "outputs": [
    {
     "name": "stdout",
     "output_type": "stream",
     "text": [
      "2.1209508879201904 0.9802157396173857\n"
     ]
    }
   ],
   "source": [
    "opt_alpha, max_auc = cv_results.loc[cv_results.AUC.idxmax()]\n",
    "print(opt_alpha, max_auc)"
   ]
  },
  {
   "cell_type": "markdown",
   "id": "ec419313-203e-4aaf-aa1d-29066ef21e8a",
   "metadata": {},
   "source": [
    "### Optimal Model"
   ]
  },
  {
   "cell_type": "markdown",
   "id": "c1f71e50-cddd-4d80-a61a-c1f66466b6a1",
   "metadata": {},
   "source": [
    "Let's use the optimal model regularization parameter and train a model on the **entire dataset**:"
   ]
  },
  {
   "cell_type": "code",
   "execution_count": 182,
   "id": "4e0f7cda-e0a1-4343-b15b-db900aac8e94",
   "metadata": {},
   "outputs": [
    {
     "data": {
      "text/html": [
       "<style>#sk-container-id-9 {color: black;background-color: white;}#sk-container-id-9 pre{padding: 0;}#sk-container-id-9 div.sk-toggleable {background-color: white;}#sk-container-id-9 label.sk-toggleable__label {cursor: pointer;display: block;width: 100%;margin-bottom: 0;padding: 0.3em;box-sizing: border-box;text-align: center;}#sk-container-id-9 label.sk-toggleable__label-arrow:before {content: \"▸\";float: left;margin-right: 0.25em;color: #696969;}#sk-container-id-9 label.sk-toggleable__label-arrow:hover:before {color: black;}#sk-container-id-9 div.sk-estimator:hover label.sk-toggleable__label-arrow:before {color: black;}#sk-container-id-9 div.sk-toggleable__content {max-height: 0;max-width: 0;overflow: hidden;text-align: left;background-color: #f0f8ff;}#sk-container-id-9 div.sk-toggleable__content pre {margin: 0.2em;color: black;border-radius: 0.25em;background-color: #f0f8ff;}#sk-container-id-9 input.sk-toggleable__control:checked~div.sk-toggleable__content {max-height: 200px;max-width: 100%;overflow: auto;}#sk-container-id-9 input.sk-toggleable__control:checked~label.sk-toggleable__label-arrow:before {content: \"▾\";}#sk-container-id-9 div.sk-estimator input.sk-toggleable__control:checked~label.sk-toggleable__label {background-color: #d4ebff;}#sk-container-id-9 div.sk-label input.sk-toggleable__control:checked~label.sk-toggleable__label {background-color: #d4ebff;}#sk-container-id-9 input.sk-hidden--visually {border: 0;clip: rect(1px 1px 1px 1px);clip: rect(1px, 1px, 1px, 1px);height: 1px;margin: -1px;overflow: hidden;padding: 0;position: absolute;width: 1px;}#sk-container-id-9 div.sk-estimator {font-family: monospace;background-color: #f0f8ff;border: 1px dotted black;border-radius: 0.25em;box-sizing: border-box;margin-bottom: 0.5em;}#sk-container-id-9 div.sk-estimator:hover {background-color: #d4ebff;}#sk-container-id-9 div.sk-parallel-item::after {content: \"\";width: 100%;border-bottom: 1px solid gray;flex-grow: 1;}#sk-container-id-9 div.sk-label:hover label.sk-toggleable__label {background-color: #d4ebff;}#sk-container-id-9 div.sk-serial::before {content: \"\";position: absolute;border-left: 1px solid gray;box-sizing: border-box;top: 0;bottom: 0;left: 50%;z-index: 0;}#sk-container-id-9 div.sk-serial {display: flex;flex-direction: column;align-items: center;background-color: white;padding-right: 0.2em;padding-left: 0.2em;position: relative;}#sk-container-id-9 div.sk-item {position: relative;z-index: 1;}#sk-container-id-9 div.sk-parallel {display: flex;align-items: stretch;justify-content: center;background-color: white;position: relative;}#sk-container-id-9 div.sk-item::before, #sk-container-id-9 div.sk-parallel-item::before {content: \"\";position: absolute;border-left: 1px solid gray;box-sizing: border-box;top: 0;bottom: 0;left: 50%;z-index: -1;}#sk-container-id-9 div.sk-parallel-item {display: flex;flex-direction: column;z-index: 1;position: relative;background-color: white;}#sk-container-id-9 div.sk-parallel-item:first-child::after {align-self: flex-end;width: 50%;}#sk-container-id-9 div.sk-parallel-item:last-child::after {align-self: flex-start;width: 50%;}#sk-container-id-9 div.sk-parallel-item:only-child::after {width: 0;}#sk-container-id-9 div.sk-dashed-wrapped {border: 1px dashed gray;margin: 0 0.4em 0.5em 0.4em;box-sizing: border-box;padding-bottom: 0.4em;background-color: white;}#sk-container-id-9 div.sk-label label {font-family: monospace;font-weight: bold;display: inline-block;line-height: 1.2em;}#sk-container-id-9 div.sk-label-container {text-align: center;}#sk-container-id-9 div.sk-container {/* jupyter's `normalize.less` sets `[hidden] { display: none; }` but bootstrap.min.css set `[hidden] { display: none !important; }` so we also need the `!important` here to be able to override the default hidden behavior on the sphinx rendered scikit-learn.org. See: https://github.com/scikit-learn/scikit-learn/issues/21755 */display: inline-block !important;position: relative;}#sk-container-id-9 div.sk-text-repr-fallback {display: none;}</style><div id=\"sk-container-id-9\" class=\"sk-top-container\"><div class=\"sk-text-repr-fallback\"><pre>LogisticRegression(C=1.5998587196060574, max_iter=10000)</pre><b>In a Jupyter environment, please rerun this cell to show the HTML representation or trust the notebook. <br />On GitHub, the HTML representation is unable to render, please try loading this page with nbviewer.org.</b></div><div class=\"sk-container\" hidden><div class=\"sk-item\"><div class=\"sk-estimator sk-toggleable\"><input class=\"sk-toggleable__control sk-hidden--visually\" id=\"sk-estimator-id-9\" type=\"checkbox\" checked><label for=\"sk-estimator-id-9\" class=\"sk-toggleable__label sk-toggleable__label-arrow\">LogisticRegression</label><div class=\"sk-toggleable__content\"><pre>LogisticRegression(C=1.5998587196060574, max_iter=10000)</pre></div></div></div></div></div>"
      ],
      "text/plain": [
       "LogisticRegression(C=1.5998587196060574, max_iter=10000)"
      ]
     },
     "execution_count": 182,
     "metadata": {},
     "output_type": "execute_result"
    }
   ],
   "source": [
    "model = LogisticRegression(penalty='l2', C=opt_alpha, max_iter=10000)\n",
    "model.fit(train_bow_counts, train_df.cls)"
   ]
  },
  {
   "cell_type": "code",
   "execution_count": 183,
   "id": "3217f7bf-e459-4e0b-87b7-5092fd8839cf",
   "metadata": {},
   "outputs": [],
   "source": [
    "test_df['predicted_class'] = model.predict(test_bow_counts)\n",
    "test_df[['class_0_prob','class_1_prob']] = model.predict_proba(test_bow_counts)\n",
    "test_df['prediction_certainty'] = test_df.apply(lambda row: row.class_0_prob if row.predicted_class == 0 else row.class_1_prob, axis=1)"
   ]
  },
  {
   "cell_type": "code",
   "execution_count": 184,
   "id": "bfcbddbe-c400-4f4c-b758-b92c10dc73f5",
   "metadata": {},
   "outputs": [
    {
     "data": {
      "text/plain": [
       "0.9522111269614836"
      ]
     },
     "execution_count": 184,
     "metadata": {},
     "output_type": "execute_result"
    }
   ],
   "source": [
    "accuracy_score(test_df.predicted_class, test_df.cls)"
   ]
  },
  {
   "cell_type": "markdown",
   "id": "abd16f7d-f65e-41ad-b76b-78205bc4cf86",
   "metadata": {},
   "source": [
    "### Feature importance"
   ]
  },
  {
   "cell_type": "code",
   "execution_count": 155,
   "id": "b848b1b5-011f-4e6a-9ef1-b8be50836f09",
   "metadata": {},
   "outputs": [
    {
     "data": {
      "text/html": [
       "<div>\n",
       "<style scoped>\n",
       "    .dataframe tbody tr th:only-of-type {\n",
       "        vertical-align: middle;\n",
       "    }\n",
       "\n",
       "    .dataframe tbody tr th {\n",
       "        vertical-align: top;\n",
       "    }\n",
       "\n",
       "    .dataframe thead th {\n",
       "        text-align: right;\n",
       "    }\n",
       "</style>\n",
       "<table border=\"1\" class=\"dataframe\">\n",
       "  <thead>\n",
       "    <tr style=\"text-align: right;\">\n",
       "      <th></th>\n",
       "      <th>word</th>\n",
       "      <th>weight</th>\n",
       "      <th>absW</th>\n",
       "    </tr>\n",
       "  </thead>\n",
       "  <tbody>\n",
       "    <tr>\n",
       "      <th>21</th>\n",
       "      <td>-</td>\n",
       "      <td>-4.272479</td>\n",
       "      <td>4.272479</td>\n",
       "    </tr>\n",
       "    <tr>\n",
       "      <th>1720</th>\n",
       "      <td>justinbieber</td>\n",
       "      <td>4.256776</td>\n",
       "      <td>4.256776</td>\n",
       "    </tr>\n",
       "    <tr>\n",
       "      <th>3099</th>\n",
       "      <td>tmr15</td>\n",
       "      <td>3.320326</td>\n",
       "      <td>3.320326</td>\n",
       "    </tr>\n",
       "    <tr>\n",
       "      <th>1385</th>\n",
       "      <td>getglue</td>\n",
       "      <td>3.038992</td>\n",
       "      <td>3.038992</td>\n",
       "    </tr>\n",
       "    <tr>\n",
       "      <th>1398</th>\n",
       "      <td>giveaway</td>\n",
       "      <td>-2.736973</td>\n",
       "      <td>2.736973</td>\n",
       "    </tr>\n",
       "  </tbody>\n",
       "</table>\n",
       "</div>"
      ],
      "text/plain": [
       "              word    weight      absW\n",
       "21               - -4.272479  4.272479\n",
       "1720  justinbieber  4.256776  4.256776\n",
       "3099         tmr15  3.320326  3.320326\n",
       "1385       getglue  3.038992  3.038992\n",
       "1398      giveaway -2.736973  2.736973"
      ]
     },
     "execution_count": 155,
     "metadata": {},
     "output_type": "execute_result"
    }
   ],
   "source": [
    "weights = model.coef_.flatten()\n",
    "words = [rev_dict[i] for i in range(len(weights))]\n",
    "feature_weights = DataFrame({'word': words, 'weight': weights, 'absW': abs(weights)})\n",
    "feature_weights.sort_values(by = 'absW', ascending = False, inplace = True)\n",
    "feature_weights.head(5)"
   ]
  },
  {
   "cell_type": "code",
   "execution_count": 156,
   "id": "4f1f066d-5b54-4a02-9860-909f260e13bb",
   "metadata": {},
   "outputs": [
    {
     "data": {
      "application/vnd.plotly.v1+json": {
       "config": {
        "linkText": "Export to plot.ly",
        "plotlyServerURL": "https://plot.ly",
        "showLink": true
       },
       "data": [
        {
         "marker": {
          "color": "rgba(255, 153, 51, 0.6)",
          "line": {
           "color": "rgba(255, 153, 51, 1.0)",
           "width": 1
          }
         },
         "name": "weight",
         "orientation": "v",
         "text": "",
         "type": "bar",
         "x": [
          "-",
          "justinbieber",
          "tmr15",
          "getglue",
          "giveaway",
          "jasyla_",
          "imagecomics",
          "high_times_mag",
          "tamed",
          "familyfocusblog",
          "http",
          "menshealthmag",
          "vrzone",
          "arielrebel",
          "create",
          "high",
          "independence",
          "gypsylullaby7",
          "ao",
          "em",
          "hunger",
          "bossypally",
          "conniegreen",
          "colors",
          "02",
          "teaser",
          "learn",
          "muhreeuh24",
          "quote",
          "http…",
          "rcwilley",
          "via",
          "yvonneajones",
          "cute",
          "tonight",
          "aww",
          "blogboost",
          "bed",
          "w/",
          "oh",
          "{",
          "^__^",
          "10",
          "jeff",
          "wonderfulvap",
          "thanks",
          "bem",
          "customers",
          "biz",
          "â€œ",
          "walkingdead_amc",
          "$",
          "morning",
          "vã­deo",
          "gostei",
          "income",
          "pokemon",
          "win",
          "blogging",
          "um"
         ],
         "y": [
          -4.272478925077141,
          4.256776434986124,
          3.3203261360706784,
          3.0389917059076215,
          -2.7369725721012013,
          2.722154832749673,
          -2.490390044193434,
          -2.452304744368176,
          2.451160650682257,
          -2.351305582382962,
          -2.331454371080665,
          -2.2237579565798637,
          -2.2167697529590336,
          -2.2042940389685626,
          -2.1948675557465984,
          -2.180887878344376,
          2.1691436938409905,
          2.1666216769291142,
          -2.143393707014967,
          -2.1144495042995564,
          1.9621931178111478,
          1.9499419472636346,
          -1.9311336845728688,
          -1.9006721792902546,
          1.8907851794697002,
          1.8716830452381796,
          -1.8692953661338505,
          1.8273625602110455,
          -1.820338040869109,
          -1.7990219598360138,
          -1.7698534110352913,
          -1.7689214590728342,
          -1.7668603526238438,
          1.7664155173587472,
          1.7569787331682005,
          1.7531027583839276,
          -1.7420313464712038,
          1.7308246532706386,
          1.729817127653325,
          1.7269632148132752,
          -1.720447571730566,
          1.713132243879133,
          -1.712854819366805,
          -1.702290014688926,
          -1.6875943903307609,
          1.6661507669377242,
          -1.6639340667248896,
          -1.6549820715945465,
          -1.6518099142887441,
          -1.6477544795338328,
          -1.6450290330801356,
          -1.6405633717472787,
          1.6347758525205702,
          -1.6327318133353983,
          -1.6316848321053268,
          -1.6226861171986569,
          1.6141806664538605,
          -1.6094530636358042,
          1.6058397350719529,
          -1.6019622943058323
         ]
        }
       ],
       "layout": {
        "autosize": true,
        "legend": {
         "bgcolor": "#F5F6F9",
         "font": {
          "color": "#4D5663"
         }
        },
        "paper_bgcolor": "#F5F6F9",
        "plot_bgcolor": "#F5F6F9",
        "shapes": [
         {
          "line": {
           "color": "#db4052",
           "dash": "solid",
           "width": 1
          },
          "type": "line",
          "x0": 0,
          "x1": 1,
          "xref": "paper",
          "y0": [
           0,
           0
          ],
          "y1": [
           0,
           0
          ],
          "yref": "y"
         }
        ],
        "title": {
         "font": {
          "color": "#4D5663"
         },
         "text": "Signicance of word to \"Good Tweet\" classification"
        },
        "xaxis": {
         "autorange": true,
         "gridcolor": "#E1E5ED",
         "range": [
          -0.5,
          59.5
         ],
         "showgrid": true,
         "tickfont": {
          "color": "#4D5663"
         },
         "title": {
          "font": {
           "color": "#4D5663"
          },
          "text": ""
         },
         "type": "category",
         "zerolinecolor": "#E1E5ED"
        },
        "yaxis": {
         "autorange": true,
         "gridcolor": "#E1E5ED",
         "range": [
          -4.746326445080656,
          4.730623954989639
         ],
         "showgrid": true,
         "tickfont": {
          "color": "#4D5663"
         },
         "title": {
          "font": {
           "color": "#4D5663"
          },
          "text": ""
         },
         "type": "linear",
         "zerolinecolor": "#E1E5ED"
        }
       }
      },
      "image/png": "[encoded data removed]",
      "text/html": [
       "<div>                            <div id=\"a2e9fedb-824e-4cdf-bff7-38598ed86862\" class=\"plotly-graph-div\" style=\"height:525px; width:100%;\"></div>            <script type=\"text/javascript\">                require([\"plotly\"], function(Plotly) {                    window.PLOTLYENV=window.PLOTLYENV || {};\n",
       "                    window.PLOTLYENV.BASE_URL='https://plot.ly';                                    if (document.getElementById(\"a2e9fedb-824e-4cdf-bff7-38598ed86862\")) {                    Plotly.newPlot(                        \"a2e9fedb-824e-4cdf-bff7-38598ed86862\",                        [{\"marker\":{\"color\":\"rgba(255, 153, 51, 0.6)\",\"line\":{\"color\":\"rgba(255, 153, 51, 1.0)\",\"width\":1}},\"name\":\"weight\",\"text\":\"\",\"x\":[\"-\",\"justinbieber\",\"tmr15\",\"getglue\",\"giveaway\",\"jasyla_\",\"imagecomics\",\"high_times_mag\",\"tamed\",\"familyfocusblog\",\"http\",\"menshealthmag\",\"vrzone\",\"arielrebel\",\"create\",\"high\",\"independence\",\"gypsylullaby7\",\"ao\",\"em\",\"hunger\",\"bossypally\",\"conniegreen\",\"colors\",\"02\",\"teaser\",\"learn\",\"muhreeuh24\",\"quote\",\"http\\u2026\",\"rcwilley\",\"via\",\"yvonneajones\",\"cute\",\"tonight\",\"aww\",\"blogboost\",\"bed\",\"w/\",\"oh\",\"{\",\"^__^\",\"10\",\"jeff\",\"wonderfulvap\",\"thanks\",\"bem\",\"customers\",\"biz\",\"\\u00e2\\u20ac\\u0153\",\"walkingdead_amc\",\"$\",\"morning\",\"v\\u00e3\\u00addeo\",\"gostei\",\"income\",\"pokemon\",\"win\",\"blogging\",\"um\"],\"y\":[-4.272478925077141,4.256776434986124,3.3203261360706784,3.0389917059076215,-2.7369725721012013,2.722154832749673,-2.490390044193434,-2.452304744368176,2.451160650682257,-2.351305582382962,-2.331454371080665,-2.2237579565798637,-2.2167697529590336,-2.2042940389685626,-2.1948675557465984,-2.180887878344376,2.1691436938409905,2.1666216769291142,-2.143393707014967,-2.1144495042995564,1.9621931178111478,1.9499419472636346,-1.9311336845728688,-1.9006721792902546,1.8907851794697002,1.8716830452381796,-1.8692953661338505,1.8273625602110455,-1.820338040869109,-1.7990219598360138,-1.7698534110352913,-1.7689214590728342,-1.7668603526238438,1.7664155173587472,1.7569787331682005,1.7531027583839276,-1.7420313464712038,1.7308246532706386,1.729817127653325,1.7269632148132752,-1.720447571730566,1.713132243879133,-1.712854819366805,-1.702290014688926,-1.6875943903307609,1.6661507669377242,-1.6639340667248896,-1.6549820715945465,-1.6518099142887441,-1.6477544795338328,-1.6450290330801356,-1.6405633717472787,1.6347758525205702,-1.6327318133353983,-1.6316848321053268,-1.6226861171986569,1.6141806664538605,-1.6094530636358042,1.6058397350719529,-1.6019622943058323],\"type\":\"bar\",\"orientation\":\"v\"}],                        {\"legend\":{\"bgcolor\":\"#F5F6F9\",\"font\":{\"color\":\"#4D5663\"}},\"paper_bgcolor\":\"#F5F6F9\",\"plot_bgcolor\":\"#F5F6F9\",\"yaxis\":{\"tickfont\":{\"color\":\"#4D5663\"},\"gridcolor\":\"#E1E5ED\",\"titlefont\":{\"color\":\"#4D5663\"},\"zerolinecolor\":\"#E1E5ED\",\"showgrid\":true,\"title\":\"\"},\"xaxis\":{\"tickfont\":{\"color\":\"#4D5663\"},\"gridcolor\":\"#E1E5ED\",\"titlefont\":{\"color\":\"#4D5663\"},\"zerolinecolor\":\"#E1E5ED\",\"showgrid\":true,\"title\":\"\"},\"titlefont\":{\"color\":\"#4D5663\"},\"title\":\"Signicance of word to \\\"Good Tweet\\\" classification\",\"shapes\":[{\"x0\":0,\"y0\":[0,0],\"x1\":1,\"y1\":[0,0],\"line\":{\"color\":\"#db4052\",\"width\":1,\"dash\":\"solid\"},\"xref\":\"paper\",\"yref\":\"y\",\"type\":\"line\"}]},                        {\"showLink\": true, \"linkText\": \"Export to plot.ly\", \"plotlyServerURL\": \"https://plot.ly\", \"responsive\": true}                    ).then(function(){\n",
       "                            \n",
       "var gd = document.getElementById('a2e9fedb-824e-4cdf-bff7-38598ed86862');\n",
       "var x = new MutationObserver(function (mutations, observer) {{\n",
       "        var display = window.getComputedStyle(gd).display;\n",
       "        if (!display || display === 'none') {{\n",
       "            console.log([gd, 'removed!']);\n",
       "            Plotly.purge(gd);\n",
       "            observer.disconnect();\n",
       "        }}\n",
       "}});\n",
       "\n",
       "// Listen for the removal of the full notebook cells\n",
       "var notebookContainer = gd.closest('#notebook-container');\n",
       "if (notebookContainer) {{\n",
       "    x.observe(notebookContainer, {childList: true});\n",
       "}}\n",
       "\n",
       "// Listen for the clearing of the current output cell\n",
       "var outputEl = gd.closest('.output');\n",
       "if (outputEl) {{\n",
       "    x.observe(outputEl, {childList: true});\n",
       "}}\n",
       "\n",
       "                        })                };                });            </script>        </div>"
      ]
     },
     "metadata": {},
     "output_type": "display_data"
    }
   ],
   "source": [
    "feature_weights.set_index('word').weight.head(60).iplot(kind = 'bar', title = 'Signicance of word to \"Good Tweet\" classification', hline=(0,0))\n"
   ]
  },
  {
   "cell_type": "markdown",
   "id": "d1302468-0097-409c-909b-5879b9f262e1",
   "metadata": {},
   "source": [
    "## Hand crafted features"
   ]
  },
  {
   "cell_type": "code",
   "execution_count": 157,
   "id": "ad2443ca-bcc2-48aa-941f-85c7500ca2e5",
   "metadata": {},
   "outputs": [],
   "source": [
    "def extract_featurs(tweet):\n",
    "    return pd.Series({'has_at': '@' in tweet,\n",
    "                      'has_url': 'http' in tweet,\n",
    "                      'has_giveaway': 'giveaway' in tweet,\n",
    "                      'has_blogboost': 'blog_boost' in tweet,\n",
    "                      'has_dollar': '$' in tweet,\n",
    "                      'has_hashtags': '#' in tweet })"
   ]
  },
  {
   "cell_type": "code",
   "execution_count": 159,
   "id": "263466a1-2bbf-4095-bc6c-6e80d0cde470",
   "metadata": {},
   "outputs": [
    {
     "data": {
      "text/html": [
       "<div>\n",
       "<style scoped>\n",
       "    .dataframe tbody tr th:only-of-type {\n",
       "        vertical-align: middle;\n",
       "    }\n",
       "\n",
       "    .dataframe tbody tr th {\n",
       "        vertical-align: top;\n",
       "    }\n",
       "\n",
       "    .dataframe thead th {\n",
       "        text-align: right;\n",
       "    }\n",
       "</style>\n",
       "<table border=\"1\" class=\"dataframe\">\n",
       "  <thead>\n",
       "    <tr style=\"text-align: right;\">\n",
       "      <th></th>\n",
       "      <th>has_at</th>\n",
       "      <th>has_url</th>\n",
       "      <th>has_giveaway</th>\n",
       "      <th>has_blogboost</th>\n",
       "      <th>has_dollar</th>\n",
       "      <th>has_hashtags</th>\n",
       "    </tr>\n",
       "  </thead>\n",
       "  <tbody>\n",
       "    <tr>\n",
       "      <th>5921</th>\n",
       "      <td>True</td>\n",
       "      <td>True</td>\n",
       "      <td>False</td>\n",
       "      <td>False</td>\n",
       "      <td>False</td>\n",
       "      <td>False</td>\n",
       "    </tr>\n",
       "    <tr>\n",
       "      <th>3470</th>\n",
       "      <td>False</td>\n",
       "      <td>False</td>\n",
       "      <td>False</td>\n",
       "      <td>False</td>\n",
       "      <td>False</td>\n",
       "      <td>False</td>\n",
       "    </tr>\n",
       "    <tr>\n",
       "      <th>245</th>\n",
       "      <td>True</td>\n",
       "      <td>False</td>\n",
       "      <td>False</td>\n",
       "      <td>False</td>\n",
       "      <td>False</td>\n",
       "      <td>False</td>\n",
       "    </tr>\n",
       "    <tr>\n",
       "      <th>4506</th>\n",
       "      <td>False</td>\n",
       "      <td>False</td>\n",
       "      <td>False</td>\n",
       "      <td>False</td>\n",
       "      <td>False</td>\n",
       "      <td>False</td>\n",
       "    </tr>\n",
       "    <tr>\n",
       "      <th>4122</th>\n",
       "      <td>False</td>\n",
       "      <td>True</td>\n",
       "      <td>False</td>\n",
       "      <td>False</td>\n",
       "      <td>False</td>\n",
       "      <td>False</td>\n",
       "    </tr>\n",
       "  </tbody>\n",
       "</table>\n",
       "</div>"
      ],
      "text/plain": [
       "      has_at  has_url  has_giveaway  has_blogboost  has_dollar  has_hashtags\n",
       "5921    True     True         False          False       False         False\n",
       "3470   False    False         False          False       False         False\n",
       "245     True    False         False          False       False         False\n",
       "4506   False    False         False          False       False         False\n",
       "4122   False     True         False          False       False         False"
      ]
     },
     "execution_count": 159,
     "metadata": {},
     "output_type": "execute_result"
    }
   ],
   "source": [
    "train_features = train_df.original_lower_cased_tweet.apply(extract_featurs)\n",
    "test_features = test_df.original_lower_cased_tweet.apply(extract_featurs)\n",
    "train_features.head()"
   ]
  },
  {
   "cell_type": "code",
   "execution_count": 160,
   "id": "79eec941-cf4c-4090-a5d7-17c81f812ae6",
   "metadata": {},
   "outputs": [],
   "source": [
    "%%capture\n",
    "search_grid = np.logspace(-2, 4, num=50, endpoint=True, base=10.0)\n",
    "auc_by_alpha = []\n",
    "for alpha in search_grid:\n",
    "    model = LogisticRegression(penalty='l2', C=alpha)\n",
    "    avg_score = cross_val_score(model, train_features, y = train_df.cls, cv = 10, scoring = 'roc_auc').mean()\n",
    "    auc_by_alpha.append((alpha,avg_score))"
   ]
  },
  {
   "cell_type": "code",
   "execution_count": 161,
   "id": "cfd363a6-7594-4221-831a-0a4f9c7736d6",
   "metadata": {},
   "outputs": [
    {
     "data": {
      "application/vnd.plotly.v1+json": {
       "config": {
        "linkText": "Export to plot.ly",
        "plotlyServerURL": "https://plot.ly",
        "showLink": true
       },
       "data": [
        {
         "line": {
          "color": "rgba(255, 153, 51, 1.0)",
          "dash": "solid",
          "shape": "linear",
          "width": 3
         },
         "mode": "lines",
         "name": "AUC",
         "text": "",
         "type": "scatter",
         "x": [
          0.01,
          0.013257113655901088,
          0.017575106248547922,
          0.023299518105153717,
          0.030888435964774818,
          0.040949150623804255,
          0.054286754393238594,
          0.07196856730011521,
          0.09540954763499938,
          0.12648552168552957,
          0.16768329368110083,
          0.22229964825261944,
          0.29470517025518095,
          0.3906939937054617,
          0.517947467923121,
          0.6866488450043002,
          0.9102981779915218,
          1.2067926406393288,
          1.5998587196060574,
          2.1209508879201904,
          2.8117686979742307,
          3.727593720314938,
          4.941713361323833,
          6.551285568595509
         ],
         "y": [
          0.896866446598288,
          0.896866446598288,
          0.896866446598288,
          0.8968969506782084,
          0.8968969506782084,
          0.8969503324303716,
          0.8978489275846402,
          0.8985111171856929,
          0.8989928234415607,
          0.899796101164654,
          0.900472270283853,
          0.9007124878455057,
          0.9006959648022154,
          0.9006959648022154,
          0.9006959648022154,
          0.9006959648022154,
          0.9006959648022154,
          0.9007213848688158,
          0.9007722250020169,
          0.9007722250020169,
          0.9007722250020169,
          0.9007722250020169,
          0.9007773088861045,
          0.9007773088861045
         ]
        }
       ],
       "layout": {
        "autosize": true,
        "legend": {
         "bgcolor": "#F5F6F9",
         "font": {
          "color": "#4D5663"
         }
        },
        "paper_bgcolor": "#F5F6F9",
        "plot_bgcolor": "#F5F6F9",
        "shapes": [
         {
          "line": {
           "color": "#db4052",
           "dash": "solid",
           "width": 1
          },
          "type": "line",
          "x0": 0,
          "x1": 1,
          "xref": "paper",
          "y0": [
           0,
           0
          ],
          "y1": [
           0,
           0
          ],
          "yref": "y"
         }
        ],
        "title": {
         "font": {
          "color": "#4D5663"
         },
         "text": "BOW Counts - AUC as a function of learning rate (alpha)"
        },
        "xaxis": {
         "autorange": true,
         "gridcolor": "#E1E5ED",
         "range": [
          0.01,
          6.551285568595509
         ],
         "showgrid": true,
         "tickfont": {
          "color": "#4D5663"
         },
         "title": {
          "font": {
           "color": "#4D5663"
          },
          "text": "alpha"
         },
         "type": "linear",
         "zerolinecolor": "#E1E5ED"
        },
        "yaxis": {
         "autorange": true,
         "gridcolor": "#E1E5ED",
         "range": [
          0.896649176471187,
          0.9009945790132055
         ],
         "showgrid": true,
         "tickfont": {
          "color": "#4D5663"
         },
         "title": {
          "font": {
           "color": "#4D5663"
          },
          "text": "AUC"
         },
         "type": "linear",
         "zerolinecolor": "#E1E5ED"
        }
       }
      },
      "image/png": "[encoded data removed]",
      "text/html": [
       "<div>                            <div id=\"2e8a537f-d3ce-4485-9b1a-fc2e9d26cd10\" class=\"plotly-graph-div\" style=\"height:525px; width:100%;\"></div>            <script type=\"text/javascript\">                require([\"plotly\"], function(Plotly) {                    window.PLOTLYENV=window.PLOTLYENV || {};\n",
       "                    window.PLOTLYENV.BASE_URL='https://plot.ly';                                    if (document.getElementById(\"2e8a537f-d3ce-4485-9b1a-fc2e9d26cd10\")) {                    Plotly.newPlot(                        \"2e8a537f-d3ce-4485-9b1a-fc2e9d26cd10\",                        [{\"line\":{\"color\":\"rgba(255, 153, 51, 1.0)\",\"dash\":\"solid\",\"shape\":\"linear\",\"width\":3},\"mode\":\"lines\",\"name\":\"AUC\",\"text\":\"\",\"x\":[0.01,0.013257113655901088,0.017575106248547922,0.023299518105153717,0.030888435964774818,0.040949150623804255,0.054286754393238594,0.07196856730011521,0.09540954763499938,0.12648552168552957,0.16768329368110083,0.22229964825261944,0.29470517025518095,0.3906939937054617,0.517947467923121,0.6866488450043002,0.9102981779915218,1.2067926406393288,1.5998587196060574,2.1209508879201904,2.8117686979742307,3.727593720314938,4.941713361323833,6.551285568595509],\"y\":[0.896866446598288,0.896866446598288,0.896866446598288,0.8968969506782084,0.8968969506782084,0.8969503324303716,0.8978489275846402,0.8985111171856929,0.8989928234415607,0.899796101164654,0.900472270283853,0.9007124878455057,0.9006959648022154,0.9006959648022154,0.9006959648022154,0.9006959648022154,0.9006959648022154,0.9007213848688158,0.9007722250020169,0.9007722250020169,0.9007722250020169,0.9007722250020169,0.9007773088861045,0.9007773088861045],\"type\":\"scatter\"}],                        {\"legend\":{\"bgcolor\":\"#F5F6F9\",\"font\":{\"color\":\"#4D5663\"}},\"paper_bgcolor\":\"#F5F6F9\",\"plot_bgcolor\":\"#F5F6F9\",\"yaxis\":{\"tickfont\":{\"color\":\"#4D5663\"},\"gridcolor\":\"#E1E5ED\",\"titlefont\":{\"color\":\"#4D5663\"},\"zerolinecolor\":\"#E1E5ED\",\"showgrid\":true,\"title\":\"AUC\"},\"xaxis\":{\"tickfont\":{\"color\":\"#4D5663\"},\"gridcolor\":\"#E1E5ED\",\"titlefont\":{\"color\":\"#4D5663\"},\"zerolinecolor\":\"#E1E5ED\",\"showgrid\":true,\"title\":\"alpha\"},\"titlefont\":{\"color\":\"#4D5663\"},\"title\":\"BOW Counts - AUC as a function of learning rate (alpha)\",\"shapes\":[{\"x0\":0,\"y0\":[0,0],\"x1\":1,\"y1\":[0,0],\"line\":{\"color\":\"#db4052\",\"width\":1,\"dash\":\"solid\"},\"xref\":\"paper\",\"yref\":\"y\",\"type\":\"line\"}]},                        {\"showLink\": true, \"linkText\": \"Export to plot.ly\", \"plotlyServerURL\": \"https://plot.ly\", \"responsive\": true}                    ).then(function(){\n",
       "                            \n",
       "var gd = document.getElementById('2e8a537f-d3ce-4485-9b1a-fc2e9d26cd10');\n",
       "var x = new MutationObserver(function (mutations, observer) {{\n",
       "        var display = window.getComputedStyle(gd).display;\n",
       "        if (!display || display === 'none') {{\n",
       "            console.log([gd, 'removed!']);\n",
       "            Plotly.purge(gd);\n",
       "            observer.disconnect();\n",
       "        }}\n",
       "}});\n",
       "\n",
       "// Listen for the removal of the full notebook cells\n",
       "var notebookContainer = gd.closest('#notebook-container');\n",
       "if (notebookContainer) {{\n",
       "    x.observe(notebookContainer, {childList: true});\n",
       "}}\n",
       "\n",
       "// Listen for the clearing of the current output cell\n",
       "var outputEl = gd.closest('.output');\n",
       "if (outputEl) {{\n",
       "    x.observe(outputEl, {childList: true});\n",
       "}}\n",
       "\n",
       "                        })                };                });            </script>        </div>"
      ]
     },
     "metadata": {},
     "output_type": "display_data"
    }
   ],
   "source": [
    "cv_results = DataFrame(auc_by_alpha, columns = ['alpha', 'AUC'])\n",
    "cv_results.query('alpha < 8').set_index('alpha').AUC.iplot(title = 'BOW Counts - AUC as a function of learning rate (alpha)', xTitle = 'alpha', yTitle = 'AUC', width = 3, hline=(0,0))"
   ]
  },
  {
   "cell_type": "code",
   "execution_count": 162,
   "id": "b566af02-cc46-46c1-bc13-a2f487c9469f",
   "metadata": {},
   "outputs": [
    {
     "name": "stdout",
     "output_type": "stream",
     "text": [
      "11.513953993264469 0.9007963739360549\n"
     ]
    }
   ],
   "source": [
    "opt_alpha, max_auc = cv_results.loc[cv_results.AUC.idxmax()]\n",
    "print(opt_alpha, max_auc)"
   ]
  },
  {
   "cell_type": "markdown",
   "id": "8a70a6bd-a58a-491b-8a15-396cf0fa1845",
   "metadata": {},
   "source": [
    "Good training result. Let's check on the test:"
   ]
  },
  {
   "cell_type": "code",
   "execution_count": 169,
   "id": "45a6e613-3d42-4f1e-a49f-8c8134c0dd2a",
   "metadata": {},
   "outputs": [
    {
     "data": {
      "text/html": [
       "<style>#sk-container-id-6 {color: black;background-color: white;}#sk-container-id-6 pre{padding: 0;}#sk-container-id-6 div.sk-toggleable {background-color: white;}#sk-container-id-6 label.sk-toggleable__label {cursor: pointer;display: block;width: 100%;margin-bottom: 0;padding: 0.3em;box-sizing: border-box;text-align: center;}#sk-container-id-6 label.sk-toggleable__label-arrow:before {content: \"▸\";float: left;margin-right: 0.25em;color: #696969;}#sk-container-id-6 label.sk-toggleable__label-arrow:hover:before {color: black;}#sk-container-id-6 div.sk-estimator:hover label.sk-toggleable__label-arrow:before {color: black;}#sk-container-id-6 div.sk-toggleable__content {max-height: 0;max-width: 0;overflow: hidden;text-align: left;background-color: #f0f8ff;}#sk-container-id-6 div.sk-toggleable__content pre {margin: 0.2em;color: black;border-radius: 0.25em;background-color: #f0f8ff;}#sk-container-id-6 input.sk-toggleable__control:checked~div.sk-toggleable__content {max-height: 200px;max-width: 100%;overflow: auto;}#sk-container-id-6 input.sk-toggleable__control:checked~label.sk-toggleable__label-arrow:before {content: \"▾\";}#sk-container-id-6 div.sk-estimator input.sk-toggleable__control:checked~label.sk-toggleable__label {background-color: #d4ebff;}#sk-container-id-6 div.sk-label input.sk-toggleable__control:checked~label.sk-toggleable__label {background-color: #d4ebff;}#sk-container-id-6 input.sk-hidden--visually {border: 0;clip: rect(1px 1px 1px 1px);clip: rect(1px, 1px, 1px, 1px);height: 1px;margin: -1px;overflow: hidden;padding: 0;position: absolute;width: 1px;}#sk-container-id-6 div.sk-estimator {font-family: monospace;background-color: #f0f8ff;border: 1px dotted black;border-radius: 0.25em;box-sizing: border-box;margin-bottom: 0.5em;}#sk-container-id-6 div.sk-estimator:hover {background-color: #d4ebff;}#sk-container-id-6 div.sk-parallel-item::after {content: \"\";width: 100%;border-bottom: 1px solid gray;flex-grow: 1;}#sk-container-id-6 div.sk-label:hover label.sk-toggleable__label {background-color: #d4ebff;}#sk-container-id-6 div.sk-serial::before {content: \"\";position: absolute;border-left: 1px solid gray;box-sizing: border-box;top: 0;bottom: 0;left: 50%;z-index: 0;}#sk-container-id-6 div.sk-serial {display: flex;flex-direction: column;align-items: center;background-color: white;padding-right: 0.2em;padding-left: 0.2em;position: relative;}#sk-container-id-6 div.sk-item {position: relative;z-index: 1;}#sk-container-id-6 div.sk-parallel {display: flex;align-items: stretch;justify-content: center;background-color: white;position: relative;}#sk-container-id-6 div.sk-item::before, #sk-container-id-6 div.sk-parallel-item::before {content: \"\";position: absolute;border-left: 1px solid gray;box-sizing: border-box;top: 0;bottom: 0;left: 50%;z-index: -1;}#sk-container-id-6 div.sk-parallel-item {display: flex;flex-direction: column;z-index: 1;position: relative;background-color: white;}#sk-container-id-6 div.sk-parallel-item:first-child::after {align-self: flex-end;width: 50%;}#sk-container-id-6 div.sk-parallel-item:last-child::after {align-self: flex-start;width: 50%;}#sk-container-id-6 div.sk-parallel-item:only-child::after {width: 0;}#sk-container-id-6 div.sk-dashed-wrapped {border: 1px dashed gray;margin: 0 0.4em 0.5em 0.4em;box-sizing: border-box;padding-bottom: 0.4em;background-color: white;}#sk-container-id-6 div.sk-label label {font-family: monospace;font-weight: bold;display: inline-block;line-height: 1.2em;}#sk-container-id-6 div.sk-label-container {text-align: center;}#sk-container-id-6 div.sk-container {/* jupyter's `normalize.less` sets `[hidden] { display: none; }` but bootstrap.min.css set `[hidden] { display: none !important; }` so we also need the `!important` here to be able to override the default hidden behavior on the sphinx rendered scikit-learn.org. See: https://github.com/scikit-learn/scikit-learn/issues/21755 */display: inline-block !important;position: relative;}#sk-container-id-6 div.sk-text-repr-fallback {display: none;}</style><div id=\"sk-container-id-6\" class=\"sk-top-container\"><div class=\"sk-text-repr-fallback\"><pre>LogisticRegression(C=11.513953993264469, max_iter=10000)</pre><b>In a Jupyter environment, please rerun this cell to show the HTML representation or trust the notebook. <br />On GitHub, the HTML representation is unable to render, please try loading this page with nbviewer.org.</b></div><div class=\"sk-container\" hidden><div class=\"sk-item\"><div class=\"sk-estimator sk-toggleable\"><input class=\"sk-toggleable__control sk-hidden--visually\" id=\"sk-estimator-id-6\" type=\"checkbox\" checked><label for=\"sk-estimator-id-6\" class=\"sk-toggleable__label sk-toggleable__label-arrow\">LogisticRegression</label><div class=\"sk-toggleable__content\"><pre>LogisticRegression(C=11.513953993264469, max_iter=10000)</pre></div></div></div></div></div>"
      ],
      "text/plain": [
       "LogisticRegression(C=11.513953993264469, max_iter=10000)"
      ]
     },
     "execution_count": 169,
     "metadata": {},
     "output_type": "execute_result"
    }
   ],
   "source": [
    "model = LogisticRegression(penalty='l2', C=opt_alpha, max_iter=10000)\n",
    "model.fit(train_features, train_df.cls)"
   ]
  },
  {
   "cell_type": "code",
   "execution_count": 165,
   "id": "08452575-e09c-4bcb-b632-f4fd6b8f7750",
   "metadata": {},
   "outputs": [],
   "source": [
    "test_df['predicted_class'] = model.predict(test_features)\n",
    "test_df[['class_0_prob','class_1_prob']] = model.predict_proba(test_features)\n",
    "test_df['prediction_certainty'] = test_df.apply(lambda row: row.class_0_prob if row.predicted_class == 0 else row.class_1_prob, axis=1)"
   ]
  },
  {
   "cell_type": "code",
   "execution_count": 170,
   "id": "a923278d-ac4f-4dbb-aa35-4c105d45ee52",
   "metadata": {},
   "outputs": [
    {
     "data": {
      "text/plain": [
       "0.8509272467902995"
      ]
     },
     "execution_count": 170,
     "metadata": {},
     "output_type": "execute_result"
    }
   ],
   "source": [
    "accuracy_score(test_df.predicted_class, test_df.cls)"
   ]
  },
  {
   "cell_type": "markdown",
   "id": "07043468-5bb2-456f-b8d1-9c7be1e52e2d",
   "metadata": {},
   "source": [
    "So we can see that reasonable results can be achieved by very few features."
   ]
  },
  {
   "cell_type": "markdown",
   "id": "92ec2f2a-7bd7-481a-b5ac-44efb7744447",
   "metadata": {},
   "source": [
    "## Using Words + additinal featurs"
   ]
  },
  {
   "cell_type": "code",
   "execution_count": 178,
   "id": "e8c0e035-f825-4639-8412-2c77f987640a",
   "metadata": {},
   "outputs": [],
   "source": [
    "from scipy.sparse import coo_matrix, hstack\n",
    "train_features_spares_matrix = coo_matrix(train_features)\n",
    "train_united_features = hstack((train_bow_counts ,train_features_spares_matrix))\n",
    "\n",
    "test_features_spares_matrix = coo_matrix(test_features)\n",
    "test_united_features = hstack((test_bow_counts ,test_features_spares_matrix))"
   ]
  },
  {
   "cell_type": "code",
   "execution_count": 173,
   "id": "b73f5dba-1608-4467-a0ce-a5e7635448c9",
   "metadata": {},
   "outputs": [],
   "source": [
    "%%capture\n",
    "search_grid = np.logspace(-2, 4, num=50, endpoint=True, base=10.0)\n",
    "auc_by_alpha = []\n",
    "for alpha in search_grid:\n",
    "    model = LogisticRegression(penalty='l2', C=alpha)\n",
    "    avg_score = cross_val_score(model, train_united_features, y = train_df.cls, cv = 10, scoring = 'roc_auc').mean()\n",
    "    auc_by_alpha.append((alpha,avg_score))"
   ]
  },
  {
   "cell_type": "code",
   "execution_count": 174,
   "id": "1ff04e64-4d43-4045-9142-a72401ec83a4",
   "metadata": {},
   "outputs": [
    {
     "data": {
      "application/vnd.plotly.v1+json": {
       "config": {
        "linkText": "Export to plot.ly",
        "plotlyServerURL": "https://plot.ly",
        "showLink": true
       },
       "data": [
        {
         "line": {
          "color": "rgba(255, 153, 51, 1.0)",
          "dash": "solid",
          "shape": "linear",
          "width": 3
         },
         "mode": "lines",
         "name": "AUC",
         "text": "",
         "type": "scatter",
         "x": [
          0.01,
          0.013257113655901088,
          0.017575106248547922,
          0.023299518105153717,
          0.030888435964774818,
          0.040949150623804255,
          0.054286754393238594,
          0.07196856730011521,
          0.09540954763499938,
          0.12648552168552957,
          0.16768329368110083,
          0.22229964825261944,
          0.29470517025518095,
          0.3906939937054617,
          0.517947467923121,
          0.6866488450043002,
          0.9102981779915218,
          1.2067926406393288,
          1.5998587196060574,
          2.1209508879201904,
          2.8117686979742307,
          3.727593720314938,
          4.941713361323833,
          6.551285568595509
         ],
         "y": [
          0.9496241866241005,
          0.9529491065873991,
          0.9561316734669546,
          0.9594273590936435,
          0.9626099248101052,
          0.965326039218394,
          0.9677765147707194,
          0.969943559423567,
          0.9718627591701468,
          0.9736853639559714,
          0.9753236745189602,
          0.9767865874624174,
          0.9780283484757193,
          0.9789625289447261,
          0.9798115526752437,
          0.9804928064539261,
          0.9809656163326472,
          0.9811791426305205,
          0.981238881176283,
          0.9811511828511398,
          0.9810177291168951,
          0.9807724292219472,
          0.9804394307433905,
          0.9801127866676286
         ]
        }
       ],
       "layout": {
        "autosize": true,
        "legend": {
         "bgcolor": "#F5F6F9",
         "font": {
          "color": "#4D5663"
         }
        },
        "paper_bgcolor": "#F5F6F9",
        "plot_bgcolor": "#F5F6F9",
        "shapes": [
         {
          "line": {
           "color": "#db4052",
           "dash": "solid",
           "width": 1
          },
          "type": "line",
          "x0": 0,
          "x1": 1,
          "xref": "paper",
          "y0": [
           0,
           0
          ],
          "y1": [
           0,
           0
          ],
          "yref": "y"
         }
        ],
        "title": {
         "font": {
          "color": "#4D5663"
         },
         "text": "BOW Counts - AUC as a function of learning rate (alpha)"
        },
        "xaxis": {
         "autorange": true,
         "gridcolor": "#E1E5ED",
         "range": [
          0.01,
          6.551285568595509
         ],
         "showgrid": true,
         "tickfont": {
          "color": "#4D5663"
         },
         "title": {
          "font": {
           "color": "#4D5663"
          },
          "text": "alpha"
         },
         "type": "linear",
         "zerolinecolor": "#E1E5ED"
        },
        "yaxis": {
         "autorange": true,
         "gridcolor": "#E1E5ED",
         "range": [
          0.9478678147045349,
          0.9829952530958487
         ],
         "showgrid": true,
         "tickfont": {
          "color": "#4D5663"
         },
         "title": {
          "font": {
           "color": "#4D5663"
          },
          "text": "AUC"
         },
         "type": "linear",
         "zerolinecolor": "#E1E5ED"
        }
       }
      },
      "image/png": "[encoded data removed]",
      "text/html": [
       "<div>                            <div id=\"9323ffe4-c014-4add-884a-da0169d468f7\" class=\"plotly-graph-div\" style=\"height:525px; width:100%;\"></div>            <script type=\"text/javascript\">                require([\"plotly\"], function(Plotly) {                    window.PLOTLYENV=window.PLOTLYENV || {};\n",
       "                    window.PLOTLYENV.BASE_URL='https://plot.ly';                                    if (document.getElementById(\"9323ffe4-c014-4add-884a-da0169d468f7\")) {                    Plotly.newPlot(                        \"9323ffe4-c014-4add-884a-da0169d468f7\",                        [{\"line\":{\"color\":\"rgba(255, 153, 51, 1.0)\",\"dash\":\"solid\",\"shape\":\"linear\",\"width\":3},\"mode\":\"lines\",\"name\":\"AUC\",\"text\":\"\",\"x\":[0.01,0.013257113655901088,0.017575106248547922,0.023299518105153717,0.030888435964774818,0.040949150623804255,0.054286754393238594,0.07196856730011521,0.09540954763499938,0.12648552168552957,0.16768329368110083,0.22229964825261944,0.29470517025518095,0.3906939937054617,0.517947467923121,0.6866488450043002,0.9102981779915218,1.2067926406393288,1.5998587196060574,2.1209508879201904,2.8117686979742307,3.727593720314938,4.941713361323833,6.551285568595509],\"y\":[0.9496241866241005,0.9529491065873991,0.9561316734669546,0.9594273590936435,0.9626099248101052,0.965326039218394,0.9677765147707194,0.969943559423567,0.9718627591701468,0.9736853639559714,0.9753236745189602,0.9767865874624174,0.9780283484757193,0.9789625289447261,0.9798115526752437,0.9804928064539261,0.9809656163326472,0.9811791426305205,0.981238881176283,0.9811511828511398,0.9810177291168951,0.9807724292219472,0.9804394307433905,0.9801127866676286],\"type\":\"scatter\"}],                        {\"legend\":{\"bgcolor\":\"#F5F6F9\",\"font\":{\"color\":\"#4D5663\"}},\"paper_bgcolor\":\"#F5F6F9\",\"plot_bgcolor\":\"#F5F6F9\",\"yaxis\":{\"tickfont\":{\"color\":\"#4D5663\"},\"gridcolor\":\"#E1E5ED\",\"titlefont\":{\"color\":\"#4D5663\"},\"zerolinecolor\":\"#E1E5ED\",\"showgrid\":true,\"title\":\"AUC\"},\"xaxis\":{\"tickfont\":{\"color\":\"#4D5663\"},\"gridcolor\":\"#E1E5ED\",\"titlefont\":{\"color\":\"#4D5663\"},\"zerolinecolor\":\"#E1E5ED\",\"showgrid\":true,\"title\":\"alpha\"},\"titlefont\":{\"color\":\"#4D5663\"},\"title\":\"BOW Counts - AUC as a function of learning rate (alpha)\",\"shapes\":[{\"x0\":0,\"y0\":[0,0],\"x1\":1,\"y1\":[0,0],\"line\":{\"color\":\"#db4052\",\"width\":1,\"dash\":\"solid\"},\"xref\":\"paper\",\"yref\":\"y\",\"type\":\"line\"}]},                        {\"showLink\": true, \"linkText\": \"Export to plot.ly\", \"plotlyServerURL\": \"https://plot.ly\", \"responsive\": true}                    ).then(function(){\n",
       "                            \n",
       "var gd = document.getElementById('9323ffe4-c014-4add-884a-da0169d468f7');\n",
       "var x = new MutationObserver(function (mutations, observer) {{\n",
       "        var display = window.getComputedStyle(gd).display;\n",
       "        if (!display || display === 'none') {{\n",
       "            console.log([gd, 'removed!']);\n",
       "            Plotly.purge(gd);\n",
       "            observer.disconnect();\n",
       "        }}\n",
       "}});\n",
       "\n",
       "// Listen for the removal of the full notebook cells\n",
       "var notebookContainer = gd.closest('#notebook-container');\n",
       "if (notebookContainer) {{\n",
       "    x.observe(notebookContainer, {childList: true});\n",
       "}}\n",
       "\n",
       "// Listen for the clearing of the current output cell\n",
       "var outputEl = gd.closest('.output');\n",
       "if (outputEl) {{\n",
       "    x.observe(outputEl, {childList: true});\n",
       "}}\n",
       "\n",
       "                        })                };                });            </script>        </div>"
      ]
     },
     "metadata": {},
     "output_type": "display_data"
    }
   ],
   "source": [
    "cv_results = DataFrame(auc_by_alpha, columns = ['alpha', 'AUC'])\n",
    "cv_results.query('alpha < 8').set_index('alpha').AUC.iplot(title = 'BOW Counts - AUC as a function of learning rate (alpha)', xTitle = 'alpha', yTitle = 'AUC', width = 3, hline=(0,0))"
   ]
  },
  {
   "cell_type": "code",
   "execution_count": 176,
   "id": "10cd0d05-ed95-466d-b338-04186e94edc3",
   "metadata": {},
   "outputs": [
    {
     "name": "stdout",
     "output_type": "stream",
     "text": [
      "1.5998587196060574 0.981238881176283\n"
     ]
    }
   ],
   "source": [
    "opt_alpha, max_auc = cv_results.loc[cv_results.AUC.idxmax()]\n",
    "print(opt_alpha, max_auc)"
   ]
  },
  {
   "cell_type": "code",
   "execution_count": 179,
   "id": "7175feb9-8b62-4e97-a74b-5b9bdfa6bb28",
   "metadata": {},
   "outputs": [
    {
     "data": {
      "text/html": [
       "<style>#sk-container-id-8 {color: black;background-color: white;}#sk-container-id-8 pre{padding: 0;}#sk-container-id-8 div.sk-toggleable {background-color: white;}#sk-container-id-8 label.sk-toggleable__label {cursor: pointer;display: block;width: 100%;margin-bottom: 0;padding: 0.3em;box-sizing: border-box;text-align: center;}#sk-container-id-8 label.sk-toggleable__label-arrow:before {content: \"▸\";float: left;margin-right: 0.25em;color: #696969;}#sk-container-id-8 label.sk-toggleable__label-arrow:hover:before {color: black;}#sk-container-id-8 div.sk-estimator:hover label.sk-toggleable__label-arrow:before {color: black;}#sk-container-id-8 div.sk-toggleable__content {max-height: 0;max-width: 0;overflow: hidden;text-align: left;background-color: #f0f8ff;}#sk-container-id-8 div.sk-toggleable__content pre {margin: 0.2em;color: black;border-radius: 0.25em;background-color: #f0f8ff;}#sk-container-id-8 input.sk-toggleable__control:checked~div.sk-toggleable__content {max-height: 200px;max-width: 100%;overflow: auto;}#sk-container-id-8 input.sk-toggleable__control:checked~label.sk-toggleable__label-arrow:before {content: \"▾\";}#sk-container-id-8 div.sk-estimator input.sk-toggleable__control:checked~label.sk-toggleable__label {background-color: #d4ebff;}#sk-container-id-8 div.sk-label input.sk-toggleable__control:checked~label.sk-toggleable__label {background-color: #d4ebff;}#sk-container-id-8 input.sk-hidden--visually {border: 0;clip: rect(1px 1px 1px 1px);clip: rect(1px, 1px, 1px, 1px);height: 1px;margin: -1px;overflow: hidden;padding: 0;position: absolute;width: 1px;}#sk-container-id-8 div.sk-estimator {font-family: monospace;background-color: #f0f8ff;border: 1px dotted black;border-radius: 0.25em;box-sizing: border-box;margin-bottom: 0.5em;}#sk-container-id-8 div.sk-estimator:hover {background-color: #d4ebff;}#sk-container-id-8 div.sk-parallel-item::after {content: \"\";width: 100%;border-bottom: 1px solid gray;flex-grow: 1;}#sk-container-id-8 div.sk-label:hover label.sk-toggleable__label {background-color: #d4ebff;}#sk-container-id-8 div.sk-serial::before {content: \"\";position: absolute;border-left: 1px solid gray;box-sizing: border-box;top: 0;bottom: 0;left: 50%;z-index: 0;}#sk-container-id-8 div.sk-serial {display: flex;flex-direction: column;align-items: center;background-color: white;padding-right: 0.2em;padding-left: 0.2em;position: relative;}#sk-container-id-8 div.sk-item {position: relative;z-index: 1;}#sk-container-id-8 div.sk-parallel {display: flex;align-items: stretch;justify-content: center;background-color: white;position: relative;}#sk-container-id-8 div.sk-item::before, #sk-container-id-8 div.sk-parallel-item::before {content: \"\";position: absolute;border-left: 1px solid gray;box-sizing: border-box;top: 0;bottom: 0;left: 50%;z-index: -1;}#sk-container-id-8 div.sk-parallel-item {display: flex;flex-direction: column;z-index: 1;position: relative;background-color: white;}#sk-container-id-8 div.sk-parallel-item:first-child::after {align-self: flex-end;width: 50%;}#sk-container-id-8 div.sk-parallel-item:last-child::after {align-self: flex-start;width: 50%;}#sk-container-id-8 div.sk-parallel-item:only-child::after {width: 0;}#sk-container-id-8 div.sk-dashed-wrapped {border: 1px dashed gray;margin: 0 0.4em 0.5em 0.4em;box-sizing: border-box;padding-bottom: 0.4em;background-color: white;}#sk-container-id-8 div.sk-label label {font-family: monospace;font-weight: bold;display: inline-block;line-height: 1.2em;}#sk-container-id-8 div.sk-label-container {text-align: center;}#sk-container-id-8 div.sk-container {/* jupyter's `normalize.less` sets `[hidden] { display: none; }` but bootstrap.min.css set `[hidden] { display: none !important; }` so we also need the `!important` here to be able to override the default hidden behavior on the sphinx rendered scikit-learn.org. See: https://github.com/scikit-learn/scikit-learn/issues/21755 */display: inline-block !important;position: relative;}#sk-container-id-8 div.sk-text-repr-fallback {display: none;}</style><div id=\"sk-container-id-8\" class=\"sk-top-container\"><div class=\"sk-text-repr-fallback\"><pre>LogisticRegression(C=1.5998587196060574, max_iter=10000)</pre><b>In a Jupyter environment, please rerun this cell to show the HTML representation or trust the notebook. <br />On GitHub, the HTML representation is unable to render, please try loading this page with nbviewer.org.</b></div><div class=\"sk-container\" hidden><div class=\"sk-item\"><div class=\"sk-estimator sk-toggleable\"><input class=\"sk-toggleable__control sk-hidden--visually\" id=\"sk-estimator-id-8\" type=\"checkbox\" checked><label for=\"sk-estimator-id-8\" class=\"sk-toggleable__label sk-toggleable__label-arrow\">LogisticRegression</label><div class=\"sk-toggleable__content\"><pre>LogisticRegression(C=1.5998587196060574, max_iter=10000)</pre></div></div></div></div></div>"
      ],
      "text/plain": [
       "LogisticRegression(C=1.5998587196060574, max_iter=10000)"
      ]
     },
     "execution_count": 179,
     "metadata": {},
     "output_type": "execute_result"
    }
   ],
   "source": [
    "model = LogisticRegression(penalty='l2', C=opt_alpha, max_iter=10000)\n",
    "model.fit(train_united_features, train_df.cls)"
   ]
  },
  {
   "cell_type": "code",
   "execution_count": 180,
   "id": "1e44fdf6-f747-4db0-8871-3aa8df41aed7",
   "metadata": {},
   "outputs": [],
   "source": [
    "test_df['predicted_class'] = model.predict(test_united_features)\n",
    "test_df[['class_0_prob','class_1_prob']] = model.predict_proba(test_united_features)\n",
    "test_df['prediction_certainty'] = test_df.apply(lambda row: row.class_0_prob if row.predicted_class == 0 else row.class_1_prob, axis=1)"
   ]
  },
  {
   "cell_type": "code",
   "execution_count": 181,
   "id": "780c1808-c651-40df-97a4-302cfcfd9831",
   "metadata": {},
   "outputs": [
    {
     "data": {
      "text/plain": [
       "0.9522111269614836"
      ]
     },
     "execution_count": 181,
     "metadata": {},
     "output_type": "execute_result"
    }
   ],
   "source": [
    "accuracy_score(test_df.predicted_class, test_df.cls)"
   ]
  },
  {
   "cell_type": "markdown",
   "id": "fe81767b-ba5f-46b2-b02c-5a12ebdf77cb",
   "metadata": {},
   "source": [
    "And we can see that by including the missing information we are getting some of the benfits of using the non-cleaned vocabulary"
   ]
  }
 ],
 "metadata": {
  "kernelspec": {
   "display_name": "python-ml-kernel",
   "language": "python",
   "name": "python-ml-kernel"
  },
  "language_info": {
   "codemirror_mode": {
    "name": "ipython",
    "version": 3
   },
   "file_extension": ".py",
   "mimetype": "text/x-python",
   "name": "python",
   "nbconvert_exporter": "python",
   "pygments_lexer": "ipython3",
   "version": "3.9.16"
  }
 },
 "nbformat": 4,
 "nbformat_minor": 5
}
