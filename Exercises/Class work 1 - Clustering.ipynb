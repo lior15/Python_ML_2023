{
 "cells": [
  {
   "cell_type": "markdown",
   "id": "3ddac4a9-8613-4b0f-ae4f-b848b5e2ceda",
   "metadata": {},
   "source": [
    "# Clustering - Class work"
   ]
  },
  {
   "cell_type": "markdown",
   "id": "a82c5630-97d1-441b-80d4-06bcd2d134e7",
   "metadata": {},
   "source": [
    "## Clustering"
   ]
  },
  {
   "cell_type": "code",
   "execution_count": 2,
   "id": "17a03555-fc62-4342-a7d8-449dd61fb9cf",
   "metadata": {},
   "outputs": [],
   "source": [
    "import numpy as np\n",
    "import pandas as pd\n",
    "import plotly_express as px"
   ]
  },
  {
   "cell_type": "code",
   "execution_count": 8,
   "id": "119175f9-3cd2-4b6d-a8bb-851bcba72837",
   "metadata": {},
   "outputs": [],
   "source": [
    "# Density-based Spatial Clustering of Applications with Noise (DBSCAN)\n",
    "from sklearn.datasets import make_moons\n",
    "data, cluster = make_moons(n_samples=200,noise=0.05,random_state=0)\n",
    "df = pd.DataFrame(data=data, columns=['x','y'])"
   ]
  },
  {
   "cell_type": "code",
   "execution_count": 9,
   "id": "3c62761e-a4d9-4d0f-a7f8-eb4877903cbd",
   "metadata": {},
   "outputs": [
    {
     "data": {
      "application/vnd.plotly.v1+json": {
       "config": {
        "plotlyServerURL": "https://plot.ly"
       },
       "data": [
        {
         "hovertemplate": "x=%{x}<br>y=%{y}<extra></extra>",
         "legendgroup": "",
         "marker": {
          "color": "#636efa",
          "symbol": "circle"
         },
         "mode": "markers",
         "name": "",
         "orientation": "v",
         "showlegend": false,
         "type": "scatter",
         "x": [
          0.8168054436722707,
          1.6185964197997924,
          -0.02126952714693417,
          -1.0218104063832656,
          1.7665463314754906,
          1.8820286957994972,
          0.9748155088328299,
          0.8879878238122609,
          0.8986515644784479,
          1.1163897425011668,
          -0.36380035733215055,
          0.247024170641561,
          1.8165865808413613,
          1.216390502042343,
          -0.8236696008317257,
          0.9806558330525754,
          0.5409717516934739,
          0.34803099630876505,
          0.3518149694813853,
          -0.7770864200239589,
          1.925908127930592,
          0.8609672257768053,
          0.19990694571886664,
          1.2895300987577587,
          -0.2784763570369318,
          0.24187916342212842,
          1.8498876825048671,
          1.884068687400457,
          0.16582200056416818,
          0.13861368978586056,
          0.8908702411936019,
          -0.2280658689068732,
          0.982792079267752,
          0.042377487114823705,
          0.7642261164780438,
          1.9110893773332713,
          0.4360843186169328,
          0.961869382919592,
          -0.8433668374262108,
          -0.04122465637956635,
          0.5550765263617962,
          -0.43882860432695125,
          0.653264601142176,
          0.10274835236134441,
          1.5486824049196752,
          -0.3731837114917277,
          1.017069779546365,
          -0.7192368482342129,
          0.16135771739633958,
          0.8643404486578421,
          -0.6971753260587878,
          0.32791174584218097,
          1.9804673415232734,
          -0.9047978397904133,
          1.0451539701546235,
          0.7534212951992764,
          0.5496857719575925,
          1.240380864880231,
          0.24918868151527174,
          -0.20756104708796985,
          0.35136403283074286,
          -1.0162875299663354,
          1.7813705609485657,
          0.8742382477677051,
          1.099976438219453,
          -1.0702274431068057,
          -0.15869858336390993,
          1.4656924734521233,
          0.030252086241418986,
          -0.9365943032993429,
          0.6603830717331564,
          -0.9914472810601037,
          0.46339846621608327,
          -0.13200600455849518,
          0.8156699719718332,
          -0.9482094655466501,
          0.05300204890018048,
          0.9264863386493691,
          0.6068999743578272,
          0.7296139130900431,
          1.979602597909764,
          -0.020539019429525213,
          0.6381836350092039,
          2.006391793526921,
          0.023155389583702356,
          -0.35883876754603417,
          0.9541465310577094,
          -0.33921531931468096,
          0.5995049244247563,
          1.9901964358810011,
          0.3312572881288329,
          0.9946042203727616,
          1.9884545708838057,
          -0.6747371789257804,
          2.0075110673830054,
          1.7829833139860742,
          1.7361665281777698,
          0.4064621557860991,
          -1.0250534569332952,
          0.06414295612834892,
          1.3009214480198916,
          1.9742557159417193,
          0.0322838817332117,
          1.0308615615021235,
          -0.9006249190273801,
          0.08068561000841293,
          -0.9880776513911396,
          -0.47394435496615706,
          1.5465193242788804,
          0.23332452661525707,
          -0.5848168737377003,
          0.03748779763987738,
          -0.01943215421438394,
          -0.8532366746585016,
          0.9263553454470914,
          1.4325055318709503,
          0.6062275643607642,
          1.9440155354591948,
          0.5798441410309267,
          0.7431751882408199,
          0.8711668642686966,
          -0.7104574532504682,
          -0.030815679530911702,
          -0.029850502011408805,
          -0.06313346747731736,
          -0.7922321423062557,
          0.9209843419332786,
          0.17794376878604326,
          1.3493482770660188,
          1.9838714326679712,
          1.0010489152347946,
          -0.5425423953566147,
          -0.9969010979463845,
          0.23408510556200285,
          1.2143701857415208,
          1.6010174462148448,
          1.158442017781342,
          -1.0092252336483258,
          2.0186595651405512,
          0.8883986627771667,
          0.10170895814198878,
          -0.012419658392449351,
          0.4456650425441297,
          -0.3569344018353525,
          -0.4384503676249994,
          1.0153417825554019,
          0.23106069503845827,
          1.3509877244099255,
          0.25423420802770863,
          -0.005864564229802818,
          0.475285200881729,
          1.6807176820939662,
          0.8456428246354796,
          0.34218757209999007,
          0.587413675824549,
          -0.1781829238057518,
          1.2586552825460704,
          0.3354281413450259,
          0.5263077386163315,
          0.6424050994621768,
          0.15770292032403394,
          1.1117886295038044,
          0.6037090318050344,
          1.4824711751325772,
          0.39793420785716516,
          1.6724093395333453,
          0.4755129495918799,
          0.7060511649685566,
          1.5641894305659148,
          0.9401285395632449,
          0.6140030118844004,
          -1.0713975737856734,
          -0.9130899576019843,
          -0.7482446872784877,
          0.14688241059397922,
          0.9436201433472216,
          1.844898294618469,
          -0.6682734712780305,
          -0.736241798539231,
          0.6014648171473271,
          1.4743770296438,
          -0.8876000523643851,
          1.928921643040576,
          1.786734223689522,
          1.951302277358737,
          0.3347166616690279,
          -0.16884748553857182,
          0.7706399350039733,
          -0.8870050346267055,
          -0.6288649178796699,
          -0.9300678289880796,
          0.42447857605559847,
          0.8086139233897207,
          0.9400092761501126,
          -0.016091809627127394,
          -0.5363338482051548,
          1.8828174896988241,
          0.1757516099360155,
          0.12423604113741277,
          1.621525675409593
         ],
         "xaxis": "x",
         "y": [
          0.5216446951860096,
          -0.37982927267259636,
          0.27372826219417523,
          -0.07543983836352039,
          -0.17069873903010105,
          -0.042384492149655284,
          0.20999373534508556,
          -0.4893673499774614,
          0.36637761597073587,
          -0.534603852281773,
          0.8279018468093,
          -0.2385667646098657,
          -0.13088387452075112,
          -0.4068576098469539,
          0.6423517820020366,
          0.2085083752576517,
          0.886168225719065,
          -0.3010135103297315,
          0.8882776452917857,
          0.8225387226762046,
          0.012141462489560256,
          -0.47653215576721125,
          0.996723585940277,
          -0.3707108687298649,
          1.025384519138668,
          -0.07627811610988744,
          -0.0977367354267125,
          0.04494020084305657,
          -0.0861312582229225,
          0.8963903579728775,
          0.522658820637642,
          0.8409188163570189,
          -0.46457770822380157,
          0.19457897939000524,
          0.6722333206181572,
          0.2117833888219939,
          -0.2300722059738904,
          0.09923426355245886,
          0.5241433438610638,
          0.3572187272959165,
          -0.42493298043014316,
          0.8594038856640629,
          0.7123538185269372,
          0.06721413959954936,
          -0.340121955365761,
          0.9550641148917607,
          0.19210044324276132,
          0.6547667649926477,
          -0.10771977515303419,
          -0.4594568042976627,
          0.8013373385122284,
          -0.19619019279145,
          0.03848682090613942,
          0.057239379186481865,
          -0.5002034943567774,
          0.6568800450783515,
          0.7363574393412222,
          -0.4757790325188116,
          0.9424619942506756,
          0.9929059405814985,
          -0.2906543154532823,
          0.16290243968668253,
          -0.12449310007040416,
          0.5306534645042185,
          -0.4673376266334291,
          0.2365448033851565,
          1.014974818396321,
          -0.38089770413543883,
          0.9779214218941581,
          0.4567492623850973,
          -0.46576222292873354,
          0.40662093656160053,
          -0.4660541557137799,
          0.5244723391563191,
          -0.42821617471306134,
          0.3771709623371545,
          0.18597405780400095,
          0.4098897474124808,
          0.782793226704067,
          -0.37215252131948773,
          0.12425417277934729,
          0.9760155770055489,
          -0.4991676304205972,
          0.4459764240623266,
          0.24035667041524125,
          1.0271683320323033,
          0.04177432756912159,
          0.9630888784070667,
          -0.39774851649862797,
          0.393600485300844,
          0.9365781994389966,
          0.350633633666261,
          0.2628360971084032,
          0.7641973838723097,
          0.36511659923232437,
          -0.1149040069573774,
          -0.22781554012349436,
          -0.2542290410890008,
          0.24337404172353555,
          0.07759792706746066,
          -0.580897574708886,
          0.30889896752366724,
          1.079377445200174,
          -0.023890818188036622,
          0.30653638897124136,
          0.2913137295135071,
          0.10397649958377632,
          0.9614321241658487,
          -0.35008496710907244,
          0.8964898441608593,
          0.80318956258424,
          1.0232211120900208,
          1.0700103220063364,
          0.39896936917063563,
          0.37695325915960187,
          -0.5014898137468269,
          0.6622953103185207,
          0.1368557256810863,
          -0.3986890662756296,
          0.509983163603108,
          0.5410519067729904,
          0.5728187715771834,
          0.33644614195059047,
          0.995531140141458,
          0.4219417427535722,
          0.6835416467623668,
          0.04171050589628211,
          0.045368927271068664,
          -0.3941652037319292,
          0.5089844518106312,
          0.27158453970062757,
          0.7625761248633086,
          0.4722640334104726,
          -0.15381658468239476,
          -0.408620217466648,
          -0.17940652083652037,
          -0.4040859070191752,
          0.21613589530590888,
          0.503134262368437,
          0.3901709324972805,
          -0.012064806404100223,
          0.4706490457389511,
          0.9459599841351782,
          0.983192061039988,
          0.8837416746075627,
          0.06687468985246445,
          0.011534949165583022,
          -0.44520506939285803,
          1.0205525028465396,
          0.24919627314565285,
          -0.3702843209819343,
          -0.34775295626358516,
          0.45629647471074153,
          0.9061394761785525,
          -0.3507874152214446,
          0.9664154060128509,
          -0.47400089719108845,
          -0.1802334282657278,
          0.9487606821533848,
          0.7771710541481326,
          0.04709417392789691,
          -0.5065277977382304,
          0.8375991171680965,
          -0.3272196086630855,
          -0.3687658842029645,
          -0.09328042789694613,
          0.8554725452174269,
          -0.422418869645473,
          -0.3486062626473723,
          -0.5750887701641074,
          0.8383382282159358,
          0.026693155422241245,
          0.5262643514489188,
          0.5182374227266181,
          0.02972010451978829,
          -0.4482942530235463,
          0.4060192446689547,
          0.6908568183273457,
          0.5995188380968243,
          0.7255170589161934,
          -0.37541022156232856,
          0.5086451717705047,
          0.18201791383211124,
          -0.27470711132263637,
          0.2657454895355267,
          0.980570890133281,
          0.8920641071274974,
          -0.5175033769408777,
          0.3669636560066931,
          0.7908721118201533,
          0.38754884850602656,
          0.932687738705203,
          0.5359992371836193,
          0.2711143095326538,
          0.37369612060742724,
          0.8602683727689542,
          0.24435589021971577,
          -0.00723100475509813,
          1.0079016133820542,
          -0.22328525468058896
         ],
         "yaxis": "y"
        }
       ],
       "layout": {
        "autosize": true,
        "legend": {
         "tracegroupgap": 0
        },
        "margin": {
         "t": 60
        },
        "template": {
         "data": {
          "bar": [
           {
            "error_x": {
             "color": "#2a3f5f"
            },
            "error_y": {
             "color": "#2a3f5f"
            },
            "marker": {
             "line": {
              "color": "#E5ECF6",
              "width": 0.5
             },
             "pattern": {
              "fillmode": "overlay",
              "size": 10,
              "solidity": 0.2
             }
            },
            "type": "bar"
           }
          ],
          "barpolar": [
           {
            "marker": {
             "line": {
              "color": "#E5ECF6",
              "width": 0.5
             },
             "pattern": {
              "fillmode": "overlay",
              "size": 10,
              "solidity": 0.2
             }
            },
            "type": "barpolar"
           }
          ],
          "carpet": [
           {
            "aaxis": {
             "endlinecolor": "#2a3f5f",
             "gridcolor": "white",
             "linecolor": "white",
             "minorgridcolor": "white",
             "startlinecolor": "#2a3f5f"
            },
            "baxis": {
             "endlinecolor": "#2a3f5f",
             "gridcolor": "white",
             "linecolor": "white",
             "minorgridcolor": "white",
             "startlinecolor": "#2a3f5f"
            },
            "type": "carpet"
           }
          ],
          "choropleth": [
           {
            "colorbar": {
             "outlinewidth": 0,
             "ticks": ""
            },
            "type": "choropleth"
           }
          ],
          "contour": [
           {
            "colorbar": {
             "outlinewidth": 0,
             "ticks": ""
            },
            "colorscale": [
             [
              0,
              "#0d0887"
             ],
             [
              0.1111111111111111,
              "#46039f"
             ],
             [
              0.2222222222222222,
              "#7201a8"
             ],
             [
              0.3333333333333333,
              "#9c179e"
             ],
             [
              0.4444444444444444,
              "#bd3786"
             ],
             [
              0.5555555555555556,
              "#d8576b"
             ],
             [
              0.6666666666666666,
              "#ed7953"
             ],
             [
              0.7777777777777778,
              "#fb9f3a"
             ],
             [
              0.8888888888888888,
              "#fdca26"
             ],
             [
              1,
              "#f0f921"
             ]
            ],
            "type": "contour"
           }
          ],
          "contourcarpet": [
           {
            "colorbar": {
             "outlinewidth": 0,
             "ticks": ""
            },
            "type": "contourcarpet"
           }
          ],
          "heatmap": [
           {
            "colorbar": {
             "outlinewidth": 0,
             "ticks": ""
            },
            "colorscale": [
             [
              0,
              "#0d0887"
             ],
             [
              0.1111111111111111,
              "#46039f"
             ],
             [
              0.2222222222222222,
              "#7201a8"
             ],
             [
              0.3333333333333333,
              "#9c179e"
             ],
             [
              0.4444444444444444,
              "#bd3786"
             ],
             [
              0.5555555555555556,
              "#d8576b"
             ],
             [
              0.6666666666666666,
              "#ed7953"
             ],
             [
              0.7777777777777778,
              "#fb9f3a"
             ],
             [
              0.8888888888888888,
              "#fdca26"
             ],
             [
              1,
              "#f0f921"
             ]
            ],
            "type": "heatmap"
           }
          ],
          "heatmapgl": [
           {
            "colorbar": {
             "outlinewidth": 0,
             "ticks": ""
            },
            "colorscale": [
             [
              0,
              "#0d0887"
             ],
             [
              0.1111111111111111,
              "#46039f"
             ],
             [
              0.2222222222222222,
              "#7201a8"
             ],
             [
              0.3333333333333333,
              "#9c179e"
             ],
             [
              0.4444444444444444,
              "#bd3786"
             ],
             [
              0.5555555555555556,
              "#d8576b"
             ],
             [
              0.6666666666666666,
              "#ed7953"
             ],
             [
              0.7777777777777778,
              "#fb9f3a"
             ],
             [
              0.8888888888888888,
              "#fdca26"
             ],
             [
              1,
              "#f0f921"
             ]
            ],
            "type": "heatmapgl"
           }
          ],
          "histogram": [
           {
            "marker": {
             "pattern": {
              "fillmode": "overlay",
              "size": 10,
              "solidity": 0.2
             }
            },
            "type": "histogram"
           }
          ],
          "histogram2d": [
           {
            "colorbar": {
             "outlinewidth": 0,
             "ticks": ""
            },
            "colorscale": [
             [
              0,
              "#0d0887"
             ],
             [
              0.1111111111111111,
              "#46039f"
             ],
             [
              0.2222222222222222,
              "#7201a8"
             ],
             [
              0.3333333333333333,
              "#9c179e"
             ],
             [
              0.4444444444444444,
              "#bd3786"
             ],
             [
              0.5555555555555556,
              "#d8576b"
             ],
             [
              0.6666666666666666,
              "#ed7953"
             ],
             [
              0.7777777777777778,
              "#fb9f3a"
             ],
             [
              0.8888888888888888,
              "#fdca26"
             ],
             [
              1,
              "#f0f921"
             ]
            ],
            "type": "histogram2d"
           }
          ],
          "histogram2dcontour": [
           {
            "colorbar": {
             "outlinewidth": 0,
             "ticks": ""
            },
            "colorscale": [
             [
              0,
              "#0d0887"
             ],
             [
              0.1111111111111111,
              "#46039f"
             ],
             [
              0.2222222222222222,
              "#7201a8"
             ],
             [
              0.3333333333333333,
              "#9c179e"
             ],
             [
              0.4444444444444444,
              "#bd3786"
             ],
             [
              0.5555555555555556,
              "#d8576b"
             ],
             [
              0.6666666666666666,
              "#ed7953"
             ],
             [
              0.7777777777777778,
              "#fb9f3a"
             ],
             [
              0.8888888888888888,
              "#fdca26"
             ],
             [
              1,
              "#f0f921"
             ]
            ],
            "type": "histogram2dcontour"
           }
          ],
          "mesh3d": [
           {
            "colorbar": {
             "outlinewidth": 0,
             "ticks": ""
            },
            "type": "mesh3d"
           }
          ],
          "parcoords": [
           {
            "line": {
             "colorbar": {
              "outlinewidth": 0,
              "ticks": ""
             }
            },
            "type": "parcoords"
           }
          ],
          "pie": [
           {
            "automargin": true,
            "type": "pie"
           }
          ],
          "scatter": [
           {
            "marker": {
             "colorbar": {
              "outlinewidth": 0,
              "ticks": ""
             }
            },
            "type": "scatter"
           }
          ],
          "scatter3d": [
           {
            "line": {
             "colorbar": {
              "outlinewidth": 0,
              "ticks": ""
             }
            },
            "marker": {
             "colorbar": {
              "outlinewidth": 0,
              "ticks": ""
             }
            },
            "type": "scatter3d"
           }
          ],
          "scattercarpet": [
           {
            "marker": {
             "colorbar": {
              "outlinewidth": 0,
              "ticks": ""
             }
            },
            "type": "scattercarpet"
           }
          ],
          "scattergeo": [
           {
            "marker": {
             "colorbar": {
              "outlinewidth": 0,
              "ticks": ""
             }
            },
            "type": "scattergeo"
           }
          ],
          "scattergl": [
           {
            "marker": {
             "colorbar": {
              "outlinewidth": 0,
              "ticks": ""
             }
            },
            "type": "scattergl"
           }
          ],
          "scattermapbox": [
           {
            "marker": {
             "colorbar": {
              "outlinewidth": 0,
              "ticks": ""
             }
            },
            "type": "scattermapbox"
           }
          ],
          "scatterpolar": [
           {
            "marker": {
             "colorbar": {
              "outlinewidth": 0,
              "ticks": ""
             }
            },
            "type": "scatterpolar"
           }
          ],
          "scatterpolargl": [
           {
            "marker": {
             "colorbar": {
              "outlinewidth": 0,
              "ticks": ""
             }
            },
            "type": "scatterpolargl"
           }
          ],
          "scatterternary": [
           {
            "marker": {
             "colorbar": {
              "outlinewidth": 0,
              "ticks": ""
             }
            },
            "type": "scatterternary"
           }
          ],
          "surface": [
           {
            "colorbar": {
             "outlinewidth": 0,
             "ticks": ""
            },
            "colorscale": [
             [
              0,
              "#0d0887"
             ],
             [
              0.1111111111111111,
              "#46039f"
             ],
             [
              0.2222222222222222,
              "#7201a8"
             ],
             [
              0.3333333333333333,
              "#9c179e"
             ],
             [
              0.4444444444444444,
              "#bd3786"
             ],
             [
              0.5555555555555556,
              "#d8576b"
             ],
             [
              0.6666666666666666,
              "#ed7953"
             ],
             [
              0.7777777777777778,
              "#fb9f3a"
             ],
             [
              0.8888888888888888,
              "#fdca26"
             ],
             [
              1,
              "#f0f921"
             ]
            ],
            "type": "surface"
           }
          ],
          "table": [
           {
            "cells": {
             "fill": {
              "color": "#EBF0F8"
             },
             "line": {
              "color": "white"
             }
            },
            "header": {
             "fill": {
              "color": "#C8D4E3"
             },
             "line": {
              "color": "white"
             }
            },
            "type": "table"
           }
          ]
         },
         "layout": {
          "annotationdefaults": {
           "arrowcolor": "#2a3f5f",
           "arrowhead": 0,
           "arrowwidth": 1
          },
          "autotypenumbers": "strict",
          "coloraxis": {
           "colorbar": {
            "outlinewidth": 0,
            "ticks": ""
           }
          },
          "colorscale": {
           "diverging": [
            [
             0,
             "#8e0152"
            ],
            [
             0.1,
             "#c51b7d"
            ],
            [
             0.2,
             "#de77ae"
            ],
            [
             0.3,
             "#f1b6da"
            ],
            [
             0.4,
             "#fde0ef"
            ],
            [
             0.5,
             "#f7f7f7"
            ],
            [
             0.6,
             "#e6f5d0"
            ],
            [
             0.7,
             "#b8e186"
            ],
            [
             0.8,
             "#7fbc41"
            ],
            [
             0.9,
             "#4d9221"
            ],
            [
             1,
             "#276419"
            ]
           ],
           "sequential": [
            [
             0,
             "#0d0887"
            ],
            [
             0.1111111111111111,
             "#46039f"
            ],
            [
             0.2222222222222222,
             "#7201a8"
            ],
            [
             0.3333333333333333,
             "#9c179e"
            ],
            [
             0.4444444444444444,
             "#bd3786"
            ],
            [
             0.5555555555555556,
             "#d8576b"
            ],
            [
             0.6666666666666666,
             "#ed7953"
            ],
            [
             0.7777777777777778,
             "#fb9f3a"
            ],
            [
             0.8888888888888888,
             "#fdca26"
            ],
            [
             1,
             "#f0f921"
            ]
           ],
           "sequentialminus": [
            [
             0,
             "#0d0887"
            ],
            [
             0.1111111111111111,
             "#46039f"
            ],
            [
             0.2222222222222222,
             "#7201a8"
            ],
            [
             0.3333333333333333,
             "#9c179e"
            ],
            [
             0.4444444444444444,
             "#bd3786"
            ],
            [
             0.5555555555555556,
             "#d8576b"
            ],
            [
             0.6666666666666666,
             "#ed7953"
            ],
            [
             0.7777777777777778,
             "#fb9f3a"
            ],
            [
             0.8888888888888888,
             "#fdca26"
            ],
            [
             1,
             "#f0f921"
            ]
           ]
          },
          "colorway": [
           "#636efa",
           "#EF553B",
           "#00cc96",
           "#ab63fa",
           "#FFA15A",
           "#19d3f3",
           "#FF6692",
           "#B6E880",
           "#FF97FF",
           "#FECB52"
          ],
          "font": {
           "color": "#2a3f5f"
          },
          "geo": {
           "bgcolor": "white",
           "lakecolor": "white",
           "landcolor": "#E5ECF6",
           "showlakes": true,
           "showland": true,
           "subunitcolor": "white"
          },
          "hoverlabel": {
           "align": "left"
          },
          "hovermode": "closest",
          "mapbox": {
           "style": "light"
          },
          "paper_bgcolor": "white",
          "plot_bgcolor": "#E5ECF6",
          "polar": {
           "angularaxis": {
            "gridcolor": "white",
            "linecolor": "white",
            "ticks": ""
           },
           "bgcolor": "#E5ECF6",
           "radialaxis": {
            "gridcolor": "white",
            "linecolor": "white",
            "ticks": ""
           }
          },
          "scene": {
           "xaxis": {
            "backgroundcolor": "#E5ECF6",
            "gridcolor": "white",
            "gridwidth": 2,
            "linecolor": "white",
            "showbackground": true,
            "ticks": "",
            "zerolinecolor": "white"
           },
           "yaxis": {
            "backgroundcolor": "#E5ECF6",
            "gridcolor": "white",
            "gridwidth": 2,
            "linecolor": "white",
            "showbackground": true,
            "ticks": "",
            "zerolinecolor": "white"
           },
           "zaxis": {
            "backgroundcolor": "#E5ECF6",
            "gridcolor": "white",
            "gridwidth": 2,
            "linecolor": "white",
            "showbackground": true,
            "ticks": "",
            "zerolinecolor": "white"
           }
          },
          "shapedefaults": {
           "line": {
            "color": "#2a3f5f"
           }
          },
          "ternary": {
           "aaxis": {
            "gridcolor": "white",
            "linecolor": "white",
            "ticks": ""
           },
           "baxis": {
            "gridcolor": "white",
            "linecolor": "white",
            "ticks": ""
           },
           "bgcolor": "#E5ECF6",
           "caxis": {
            "gridcolor": "white",
            "linecolor": "white",
            "ticks": ""
           }
          },
          "title": {
           "x": 0.05
          },
          "xaxis": {
           "automargin": true,
           "gridcolor": "white",
           "linecolor": "white",
           "ticks": "",
           "title": {
            "standoff": 15
           },
           "zerolinecolor": "white",
           "zerolinewidth": 2
          },
          "yaxis": {
           "automargin": true,
           "gridcolor": "white",
           "linecolor": "white",
           "ticks": "",
           "title": {
            "standoff": 15
           },
           "zerolinecolor": "white",
           "zerolinewidth": 2
          }
         }
        },
        "xaxis": {
         "anchor": "y",
         "autorange": true,
         "domain": [
          0,
          1
         ],
         "range": [
          -1.2581632503147469,
          2.2054252416696247
         ],
         "title": {
          "text": "x"
         },
         "type": "linear"
        },
        "yaxis": {
         "anchor": "x",
         "autorange": true,
         "domain": [
          0,
          1
         ],
         "range": [
          -0.7094490526283539,
          1.207928923119642
         ],
         "title": {
          "text": "y"
         },
         "type": "linear"
        }
       }
      },
      "image/png": "[encoded data removed]",
      "text/html": [
       "<div>                            <div id=\"f6eaf84c-6b5c-4e02-a5b7-0feb4f06c53e\" class=\"plotly-graph-div\" style=\"height:525px; width:100%;\"></div>            <script type=\"text/javascript\">                require([\"plotly\"], function(Plotly) {                    window.PLOTLYENV=window.PLOTLYENV || {};                                    if (document.getElementById(\"f6eaf84c-6b5c-4e02-a5b7-0feb4f06c53e\")) {                    Plotly.newPlot(                        \"f6eaf84c-6b5c-4e02-a5b7-0feb4f06c53e\",                        [{\"hovertemplate\":\"x=%{x}<br>y=%{y}<extra></extra>\",\"legendgroup\":\"\",\"marker\":{\"color\":\"#636efa\",\"symbol\":\"circle\"},\"mode\":\"markers\",\"name\":\"\",\"orientation\":\"v\",\"showlegend\":false,\"type\":\"scatter\",\"x\":[0.8168054436722707,1.6185964197997924,-0.02126952714693417,-1.0218104063832656,1.7665463314754906,1.8820286957994972,0.9748155088328299,0.8879878238122609,0.8986515644784479,1.1163897425011668,-0.36380035733215055,0.247024170641561,1.8165865808413613,1.216390502042343,-0.8236696008317257,0.9806558330525754,0.5409717516934739,0.34803099630876505,0.3518149694813853,-0.7770864200239589,1.925908127930592,0.8609672257768053,0.19990694571886664,1.2895300987577587,-0.2784763570369318,0.24187916342212842,1.8498876825048671,1.884068687400457,0.16582200056416818,0.13861368978586056,0.8908702411936019,-0.2280658689068732,0.982792079267752,0.042377487114823705,0.7642261164780438,1.9110893773332713,0.4360843186169328,0.961869382919592,-0.8433668374262108,-0.04122465637956635,0.5550765263617962,-0.43882860432695125,0.653264601142176,0.10274835236134441,1.5486824049196752,-0.3731837114917277,1.017069779546365,-0.7192368482342129,0.16135771739633958,0.8643404486578421,-0.6971753260587878,0.32791174584218097,1.9804673415232734,-0.9047978397904133,1.0451539701546235,0.7534212951992764,0.5496857719575925,1.240380864880231,0.24918868151527174,-0.20756104708796985,0.35136403283074286,-1.0162875299663354,1.7813705609485657,0.8742382477677051,1.099976438219453,-1.0702274431068057,-0.15869858336390993,1.4656924734521233,0.030252086241418986,-0.9365943032993429,0.6603830717331564,-0.9914472810601037,0.46339846621608327,-0.13200600455849518,0.8156699719718332,-0.9482094655466501,0.05300204890018048,0.9264863386493691,0.6068999743578272,0.7296139130900431,1.979602597909764,-0.020539019429525213,0.6381836350092039,2.006391793526921,0.023155389583702356,-0.35883876754603417,0.9541465310577094,-0.33921531931468096,0.5995049244247563,1.9901964358810011,0.3312572881288329,0.9946042203727616,1.9884545708838057,-0.6747371789257804,2.0075110673830054,1.7829833139860742,1.7361665281777698,0.4064621557860991,-1.0250534569332952,0.06414295612834892,1.3009214480198916,1.9742557159417193,0.0322838817332117,1.0308615615021235,-0.9006249190273801,0.08068561000841293,-0.9880776513911396,-0.47394435496615706,1.5465193242788804,0.23332452661525707,-0.5848168737377003,0.03748779763987738,-0.01943215421438394,-0.8532366746585016,0.9263553454470914,1.4325055318709503,0.6062275643607642,1.9440155354591948,0.5798441410309267,0.7431751882408199,0.8711668642686966,-0.7104574532504682,-0.030815679530911702,-0.029850502011408805,-0.06313346747731736,-0.7922321423062557,0.9209843419332786,0.17794376878604326,1.3493482770660188,1.9838714326679712,1.0010489152347946,-0.5425423953566147,-0.9969010979463845,0.23408510556200285,1.2143701857415208,1.6010174462148448,1.158442017781342,-1.0092252336483258,2.0186595651405512,0.8883986627771667,0.10170895814198878,-0.012419658392449351,0.4456650425441297,-0.3569344018353525,-0.4384503676249994,1.0153417825554019,0.23106069503845827,1.3509877244099255,0.25423420802770863,-0.005864564229802818,0.475285200881729,1.6807176820939662,0.8456428246354796,0.34218757209999007,0.587413675824549,-0.1781829238057518,1.2586552825460704,0.3354281413450259,0.5263077386163315,0.6424050994621768,0.15770292032403394,1.1117886295038044,0.6037090318050344,1.4824711751325772,0.39793420785716516,1.6724093395333453,0.4755129495918799,0.7060511649685566,1.5641894305659148,0.9401285395632449,0.6140030118844004,-1.0713975737856734,-0.9130899576019843,-0.7482446872784877,0.14688241059397922,0.9436201433472216,1.844898294618469,-0.6682734712780305,-0.736241798539231,0.6014648171473271,1.4743770296438,-0.8876000523643851,1.928921643040576,1.786734223689522,1.951302277358737,0.3347166616690279,-0.16884748553857182,0.7706399350039733,-0.8870050346267055,-0.6288649178796699,-0.9300678289880796,0.42447857605559847,0.8086139233897207,0.9400092761501126,-0.016091809627127394,-0.5363338482051548,1.8828174896988241,0.1757516099360155,0.12423604113741277,1.621525675409593],\"xaxis\":\"x\",\"y\":[0.5216446951860096,-0.37982927267259636,0.27372826219417523,-0.07543983836352039,-0.17069873903010105,-0.042384492149655284,0.20999373534508556,-0.4893673499774614,0.36637761597073587,-0.534603852281773,0.8279018468093,-0.2385667646098657,-0.13088387452075112,-0.4068576098469539,0.6423517820020366,0.2085083752576517,0.886168225719065,-0.3010135103297315,0.8882776452917857,0.8225387226762046,0.012141462489560256,-0.47653215576721125,0.996723585940277,-0.3707108687298649,1.025384519138668,-0.07627811610988744,-0.0977367354267125,0.04494020084305657,-0.0861312582229225,0.8963903579728775,0.522658820637642,0.8409188163570189,-0.46457770822380157,0.19457897939000524,0.6722333206181572,0.2117833888219939,-0.2300722059738904,0.09923426355245886,0.5241433438610638,0.3572187272959165,-0.42493298043014316,0.8594038856640629,0.7123538185269372,0.06721413959954936,-0.340121955365761,0.9550641148917607,0.19210044324276132,0.6547667649926477,-0.10771977515303419,-0.4594568042976627,0.8013373385122284,-0.19619019279145,0.03848682090613942,0.057239379186481865,-0.5002034943567774,0.6568800450783515,0.7363574393412222,-0.4757790325188116,0.9424619942506756,0.9929059405814985,-0.2906543154532823,0.16290243968668253,-0.12449310007040416,0.5306534645042185,-0.4673376266334291,0.2365448033851565,1.014974818396321,-0.38089770413543883,0.9779214218941581,0.4567492623850973,-0.46576222292873354,0.40662093656160053,-0.4660541557137799,0.5244723391563191,-0.42821617471306134,0.3771709623371545,0.18597405780400095,0.4098897474124808,0.782793226704067,-0.37215252131948773,0.12425417277934729,0.9760155770055489,-0.4991676304205972,0.4459764240623266,0.24035667041524125,1.0271683320323033,0.04177432756912159,0.9630888784070667,-0.39774851649862797,0.393600485300844,0.9365781994389966,0.350633633666261,0.2628360971084032,0.7641973838723097,0.36511659923232437,-0.1149040069573774,-0.22781554012349436,-0.2542290410890008,0.24337404172353555,0.07759792706746066,-0.580897574708886,0.30889896752366724,1.079377445200174,-0.023890818188036622,0.30653638897124136,0.2913137295135071,0.10397649958377632,0.9614321241658487,-0.35008496710907244,0.8964898441608593,0.80318956258424,1.0232211120900208,1.0700103220063364,0.39896936917063563,0.37695325915960187,-0.5014898137468269,0.6622953103185207,0.1368557256810863,-0.3986890662756296,0.509983163603108,0.5410519067729904,0.5728187715771834,0.33644614195059047,0.995531140141458,0.4219417427535722,0.6835416467623668,0.04171050589628211,0.045368927271068664,-0.3941652037319292,0.5089844518106312,0.27158453970062757,0.7625761248633086,0.4722640334104726,-0.15381658468239476,-0.408620217466648,-0.17940652083652037,-0.4040859070191752,0.21613589530590888,0.503134262368437,0.3901709324972805,-0.012064806404100223,0.4706490457389511,0.9459599841351782,0.983192061039988,0.8837416746075627,0.06687468985246445,0.011534949165583022,-0.44520506939285803,1.0205525028465396,0.24919627314565285,-0.3702843209819343,-0.34775295626358516,0.45629647471074153,0.9061394761785525,-0.3507874152214446,0.9664154060128509,-0.47400089719108845,-0.1802334282657278,0.9487606821533848,0.7771710541481326,0.04709417392789691,-0.5065277977382304,0.8375991171680965,-0.3272196086630855,-0.3687658842029645,-0.09328042789694613,0.8554725452174269,-0.422418869645473,-0.3486062626473723,-0.5750887701641074,0.8383382282159358,0.026693155422241245,0.5262643514489188,0.5182374227266181,0.02972010451978829,-0.4482942530235463,0.4060192446689547,0.6908568183273457,0.5995188380968243,0.7255170589161934,-0.37541022156232856,0.5086451717705047,0.18201791383211124,-0.27470711132263637,0.2657454895355267,0.980570890133281,0.8920641071274974,-0.5175033769408777,0.3669636560066931,0.7908721118201533,0.38754884850602656,0.932687738705203,0.5359992371836193,0.2711143095326538,0.37369612060742724,0.8602683727689542,0.24435589021971577,-0.00723100475509813,1.0079016133820542,-0.22328525468058896],\"yaxis\":\"y\"}],                        {\"legend\":{\"tracegroupgap\":0},\"margin\":{\"t\":60},\"template\":{\"data\":{\"bar\":[{\"error_x\":{\"color\":\"#2a3f5f\"},\"error_y\":{\"color\":\"#2a3f5f\"},\"marker\":{\"line\":{\"color\":\"#E5ECF6\",\"width\":0.5},\"pattern\":{\"fillmode\":\"overlay\",\"size\":10,\"solidity\":0.2}},\"type\":\"bar\"}],\"barpolar\":[{\"marker\":{\"line\":{\"color\":\"#E5ECF6\",\"width\":0.5},\"pattern\":{\"fillmode\":\"overlay\",\"size\":10,\"solidity\":0.2}},\"type\":\"barpolar\"}],\"carpet\":[{\"aaxis\":{\"endlinecolor\":\"#2a3f5f\",\"gridcolor\":\"white\",\"linecolor\":\"white\",\"minorgridcolor\":\"white\",\"startlinecolor\":\"#2a3f5f\"},\"baxis\":{\"endlinecolor\":\"#2a3f5f\",\"gridcolor\":\"white\",\"linecolor\":\"white\",\"minorgridcolor\":\"white\",\"startlinecolor\":\"#2a3f5f\"},\"type\":\"carpet\"}],\"choropleth\":[{\"colorbar\":{\"outlinewidth\":0,\"ticks\":\"\"},\"type\":\"choropleth\"}],\"contour\":[{\"colorbar\":{\"outlinewidth\":0,\"ticks\":\"\"},\"colorscale\":[[0.0,\"#0d0887\"],[0.1111111111111111,\"#46039f\"],[0.2222222222222222,\"#7201a8\"],[0.3333333333333333,\"#9c179e\"],[0.4444444444444444,\"#bd3786\"],[0.5555555555555556,\"#d8576b\"],[0.6666666666666666,\"#ed7953\"],[0.7777777777777778,\"#fb9f3a\"],[0.8888888888888888,\"#fdca26\"],[1.0,\"#f0f921\"]],\"type\":\"contour\"}],\"contourcarpet\":[{\"colorbar\":{\"outlinewidth\":0,\"ticks\":\"\"},\"type\":\"contourcarpet\"}],\"heatmap\":[{\"colorbar\":{\"outlinewidth\":0,\"ticks\":\"\"},\"colorscale\":[[0.0,\"#0d0887\"],[0.1111111111111111,\"#46039f\"],[0.2222222222222222,\"#7201a8\"],[0.3333333333333333,\"#9c179e\"],[0.4444444444444444,\"#bd3786\"],[0.5555555555555556,\"#d8576b\"],[0.6666666666666666,\"#ed7953\"],[0.7777777777777778,\"#fb9f3a\"],[0.8888888888888888,\"#fdca26\"],[1.0,\"#f0f921\"]],\"type\":\"heatmap\"}],\"heatmapgl\":[{\"colorbar\":{\"outlinewidth\":0,\"ticks\":\"\"},\"colorscale\":[[0.0,\"#0d0887\"],[0.1111111111111111,\"#46039f\"],[0.2222222222222222,\"#7201a8\"],[0.3333333333333333,\"#9c179e\"],[0.4444444444444444,\"#bd3786\"],[0.5555555555555556,\"#d8576b\"],[0.6666666666666666,\"#ed7953\"],[0.7777777777777778,\"#fb9f3a\"],[0.8888888888888888,\"#fdca26\"],[1.0,\"#f0f921\"]],\"type\":\"heatmapgl\"}],\"histogram\":[{\"marker\":{\"pattern\":{\"fillmode\":\"overlay\",\"size\":10,\"solidity\":0.2}},\"type\":\"histogram\"}],\"histogram2d\":[{\"colorbar\":{\"outlinewidth\":0,\"ticks\":\"\"},\"colorscale\":[[0.0,\"#0d0887\"],[0.1111111111111111,\"#46039f\"],[0.2222222222222222,\"#7201a8\"],[0.3333333333333333,\"#9c179e\"],[0.4444444444444444,\"#bd3786\"],[0.5555555555555556,\"#d8576b\"],[0.6666666666666666,\"#ed7953\"],[0.7777777777777778,\"#fb9f3a\"],[0.8888888888888888,\"#fdca26\"],[1.0,\"#f0f921\"]],\"type\":\"histogram2d\"}],\"histogram2dcontour\":[{\"colorbar\":{\"outlinewidth\":0,\"ticks\":\"\"},\"colorscale\":[[0.0,\"#0d0887\"],[0.1111111111111111,\"#46039f\"],[0.2222222222222222,\"#7201a8\"],[0.3333333333333333,\"#9c179e\"],[0.4444444444444444,\"#bd3786\"],[0.5555555555555556,\"#d8576b\"],[0.6666666666666666,\"#ed7953\"],[0.7777777777777778,\"#fb9f3a\"],[0.8888888888888888,\"#fdca26\"],[1.0,\"#f0f921\"]],\"type\":\"histogram2dcontour\"}],\"mesh3d\":[{\"colorbar\":{\"outlinewidth\":0,\"ticks\":\"\"},\"type\":\"mesh3d\"}],\"parcoords\":[{\"line\":{\"colorbar\":{\"outlinewidth\":0,\"ticks\":\"\"}},\"type\":\"parcoords\"}],\"pie\":[{\"automargin\":true,\"type\":\"pie\"}],\"scatter\":[{\"marker\":{\"colorbar\":{\"outlinewidth\":0,\"ticks\":\"\"}},\"type\":\"scatter\"}],\"scatter3d\":[{\"line\":{\"colorbar\":{\"outlinewidth\":0,\"ticks\":\"\"}},\"marker\":{\"colorbar\":{\"outlinewidth\":0,\"ticks\":\"\"}},\"type\":\"scatter3d\"}],\"scattercarpet\":[{\"marker\":{\"colorbar\":{\"outlinewidth\":0,\"ticks\":\"\"}},\"type\":\"scattercarpet\"}],\"scattergeo\":[{\"marker\":{\"colorbar\":{\"outlinewidth\":0,\"ticks\":\"\"}},\"type\":\"scattergeo\"}],\"scattergl\":[{\"marker\":{\"colorbar\":{\"outlinewidth\":0,\"ticks\":\"\"}},\"type\":\"scattergl\"}],\"scattermapbox\":[{\"marker\":{\"colorbar\":{\"outlinewidth\":0,\"ticks\":\"\"}},\"type\":\"scattermapbox\"}],\"scatterpolar\":[{\"marker\":{\"colorbar\":{\"outlinewidth\":0,\"ticks\":\"\"}},\"type\":\"scatterpolar\"}],\"scatterpolargl\":[{\"marker\":{\"colorbar\":{\"outlinewidth\":0,\"ticks\":\"\"}},\"type\":\"scatterpolargl\"}],\"scatterternary\":[{\"marker\":{\"colorbar\":{\"outlinewidth\":0,\"ticks\":\"\"}},\"type\":\"scatterternary\"}],\"surface\":[{\"colorbar\":{\"outlinewidth\":0,\"ticks\":\"\"},\"colorscale\":[[0.0,\"#0d0887\"],[0.1111111111111111,\"#46039f\"],[0.2222222222222222,\"#7201a8\"],[0.3333333333333333,\"#9c179e\"],[0.4444444444444444,\"#bd3786\"],[0.5555555555555556,\"#d8576b\"],[0.6666666666666666,\"#ed7953\"],[0.7777777777777778,\"#fb9f3a\"],[0.8888888888888888,\"#fdca26\"],[1.0,\"#f0f921\"]],\"type\":\"surface\"}],\"table\":[{\"cells\":{\"fill\":{\"color\":\"#EBF0F8\"},\"line\":{\"color\":\"white\"}},\"header\":{\"fill\":{\"color\":\"#C8D4E3\"},\"line\":{\"color\":\"white\"}},\"type\":\"table\"}]},\"layout\":{\"annotationdefaults\":{\"arrowcolor\":\"#2a3f5f\",\"arrowhead\":0,\"arrowwidth\":1},\"autotypenumbers\":\"strict\",\"coloraxis\":{\"colorbar\":{\"outlinewidth\":0,\"ticks\":\"\"}},\"colorscale\":{\"diverging\":[[0,\"#8e0152\"],[0.1,\"#c51b7d\"],[0.2,\"#de77ae\"],[0.3,\"#f1b6da\"],[0.4,\"#fde0ef\"],[0.5,\"#f7f7f7\"],[0.6,\"#e6f5d0\"],[0.7,\"#b8e186\"],[0.8,\"#7fbc41\"],[0.9,\"#4d9221\"],[1,\"#276419\"]],\"sequential\":[[0.0,\"#0d0887\"],[0.1111111111111111,\"#46039f\"],[0.2222222222222222,\"#7201a8\"],[0.3333333333333333,\"#9c179e\"],[0.4444444444444444,\"#bd3786\"],[0.5555555555555556,\"#d8576b\"],[0.6666666666666666,\"#ed7953\"],[0.7777777777777778,\"#fb9f3a\"],[0.8888888888888888,\"#fdca26\"],[1.0,\"#f0f921\"]],\"sequentialminus\":[[0.0,\"#0d0887\"],[0.1111111111111111,\"#46039f\"],[0.2222222222222222,\"#7201a8\"],[0.3333333333333333,\"#9c179e\"],[0.4444444444444444,\"#bd3786\"],[0.5555555555555556,\"#d8576b\"],[0.6666666666666666,\"#ed7953\"],[0.7777777777777778,\"#fb9f3a\"],[0.8888888888888888,\"#fdca26\"],[1.0,\"#f0f921\"]]},\"colorway\":[\"#636efa\",\"#EF553B\",\"#00cc96\",\"#ab63fa\",\"#FFA15A\",\"#19d3f3\",\"#FF6692\",\"#B6E880\",\"#FF97FF\",\"#FECB52\"],\"font\":{\"color\":\"#2a3f5f\"},\"geo\":{\"bgcolor\":\"white\",\"lakecolor\":\"white\",\"landcolor\":\"#E5ECF6\",\"showlakes\":true,\"showland\":true,\"subunitcolor\":\"white\"},\"hoverlabel\":{\"align\":\"left\"},\"hovermode\":\"closest\",\"mapbox\":{\"style\":\"light\"},\"paper_bgcolor\":\"white\",\"plot_bgcolor\":\"#E5ECF6\",\"polar\":{\"angularaxis\":{\"gridcolor\":\"white\",\"linecolor\":\"white\",\"ticks\":\"\"},\"bgcolor\":\"#E5ECF6\",\"radialaxis\":{\"gridcolor\":\"white\",\"linecolor\":\"white\",\"ticks\":\"\"}},\"scene\":{\"xaxis\":{\"backgroundcolor\":\"#E5ECF6\",\"gridcolor\":\"white\",\"gridwidth\":2,\"linecolor\":\"white\",\"showbackground\":true,\"ticks\":\"\",\"zerolinecolor\":\"white\"},\"yaxis\":{\"backgroundcolor\":\"#E5ECF6\",\"gridcolor\":\"white\",\"gridwidth\":2,\"linecolor\":\"white\",\"showbackground\":true,\"ticks\":\"\",\"zerolinecolor\":\"white\"},\"zaxis\":{\"backgroundcolor\":\"#E5ECF6\",\"gridcolor\":\"white\",\"gridwidth\":2,\"linecolor\":\"white\",\"showbackground\":true,\"ticks\":\"\",\"zerolinecolor\":\"white\"}},\"shapedefaults\":{\"line\":{\"color\":\"#2a3f5f\"}},\"ternary\":{\"aaxis\":{\"gridcolor\":\"white\",\"linecolor\":\"white\",\"ticks\":\"\"},\"baxis\":{\"gridcolor\":\"white\",\"linecolor\":\"white\",\"ticks\":\"\"},\"bgcolor\":\"#E5ECF6\",\"caxis\":{\"gridcolor\":\"white\",\"linecolor\":\"white\",\"ticks\":\"\"}},\"title\":{\"x\":0.05},\"xaxis\":{\"automargin\":true,\"gridcolor\":\"white\",\"linecolor\":\"white\",\"ticks\":\"\",\"title\":{\"standoff\":15},\"zerolinecolor\":\"white\",\"zerolinewidth\":2},\"yaxis\":{\"automargin\":true,\"gridcolor\":\"white\",\"linecolor\":\"white\",\"ticks\":\"\",\"title\":{\"standoff\":15},\"zerolinecolor\":\"white\",\"zerolinewidth\":2}}},\"xaxis\":{\"anchor\":\"y\",\"domain\":[0.0,1.0],\"title\":{\"text\":\"x\"}},\"yaxis\":{\"anchor\":\"x\",\"domain\":[0.0,1.0],\"title\":{\"text\":\"y\"}}},                        {\"responsive\": true}                    ).then(function(){\n",
       "                            \n",
       "var gd = document.getElementById('f6eaf84c-6b5c-4e02-a5b7-0feb4f06c53e');\n",
       "var x = new MutationObserver(function (mutations, observer) {{\n",
       "        var display = window.getComputedStyle(gd).display;\n",
       "        if (!display || display === 'none') {{\n",
       "            console.log([gd, 'removed!']);\n",
       "            Plotly.purge(gd);\n",
       "            observer.disconnect();\n",
       "        }}\n",
       "}});\n",
       "\n",
       "// Listen for the removal of the full notebook cells\n",
       "var notebookContainer = gd.closest('#notebook-container');\n",
       "if (notebookContainer) {{\n",
       "    x.observe(notebookContainer, {childList: true});\n",
       "}}\n",
       "\n",
       "// Listen for the clearing of the current output cell\n",
       "var outputEl = gd.closest('.output');\n",
       "if (outputEl) {{\n",
       "    x.observe(outputEl, {childList: true});\n",
       "}}\n",
       "\n",
       "                        })                };                });            </script>        </div>"
      ]
     },
     "metadata": {},
     "output_type": "display_data"
    }
   ],
   "source": [
    "px.scatter(df, x='x', y='y')"
   ]
  },
  {
   "cell_type": "markdown",
   "id": "7642ac3a-997b-4654-9ccb-c4c135d06a0f",
   "metadata": {},
   "source": [
    "Cluster the data using k-means, hierecical clustering (single and complete linkage) and plot the resulted clusters. "
   ]
  },
  {
   "cell_type": "markdown",
   "id": "eface521-3f0c-438b-a515-b0ed8cd28727",
   "metadata": {},
   "source": [
    "## Implement an Hierarchical clustering algorithm"
   ]
  },
  {
   "cell_type": "markdown",
   "id": "d84f119f-5dd4-46e8-8432-35ec647afbe2",
   "metadata": {},
   "source": [
    "The psuado-code:\n",
    "* Initialize each point as a standalone cluster\n",
    "* Compute the distance between all relevant clusters:\n",
    "  * Compute the pairwise distances between each pair of points from the different clusters (hint: use the `euclidean_distances()` function from sklearn.metrics.pairwise\n",
    "  * The distance between the clusters is one point from the above collection. Which point? this is determined by the linkage function\n",
    "  * stop the process at the requested number of clusters (remember - at each step you combine one cluster)\n",
    "    "
   ]
  },
  {
   "cell_type": "markdown",
   "id": "643ea8fb-431b-4b4b-a672-82f2d7e4bc59",
   "metadata": {},
   "source": [
    "You can implement the above using Numpy or Pandas. With pandas it should be a little easier. For example:\n",
    "* Start with a dataframe holding the points in columns `x` and `y`\n",
    "* Add a column to each row (point) that marks the cluster to which the points belong to. In the beginning, init this column using `df['cluster'] = range(len(df))` thus putting each point in a cluster of its own.\n",
    "* Keep track on the number of clusters using `clusters = df.cluster.unique()`\n",
    "* Compute the distances between clusters using:\n",
    "```python\n",
    "c2c_distances = []\n",
    "for c1 in clusters:\n",
    "    for c2 in clusters:\n",
    "        if c1 != c2:\n",
    "            dist = compute_distance_between_clusters(c1, c2)\n",
    "            c2c_distances.append((c1, c2, dist))\n",
    "```\n",
    "\n",
    "* The implementation of `compute_distance_between_clusters()` should use the sklearn `euclidean_distances()` function. Use `df[df.cluster==cx]` to get the data from the x cluster, and use the `.values` attribute of a dataframe to pass the numpy values to the function. The `euclidean_distances` will return a collection with all pairwise distance. \n",
    "* Choose the correct distance from the collection above, according to the desired linkage behivour\n",
    "* Find the clusters with the minimal distance\n",
    "* Combine the clusters by setting a new, unique, cluster id to the points in both clusters. Use `df.loc[mask, cluster]=your_cluster_values` to \"combine\" the points\n",
    "* Stop the process if needed."
   ]
  },
  {
   "cell_type": "markdown",
   "id": "295de548-4326-427b-a947-569f4d954868",
   "metadata": {},
   "source": [
    "## Find the optimal parameters for DBScan clusering algorithm"
   ]
  },
  {
   "cell_type": "markdown",
   "id": "9b9728b1-413c-4c71-b0fc-a67e1f45cde8",
   "metadata": {},
   "source": [
    "Find the optimal parametrs to cluster the data using the DBScan algorithm. Run on a set of sensible `eps` and `minPt` params, and compute the goodness of clustering using your own function using SSE and n_outliers as inputs to it."
   ]
  }
 ],
 "metadata": {
  "kernelspec": {
   "display_name": "Python 3",
   "language": "python",
   "name": "python3"
  },
  "language_info": {
   "codemirror_mode": {
    "name": "ipython",
    "version": 3
   },
   "file_extension": ".py",
   "mimetype": "text/x-python",
   "name": "python",
   "nbconvert_exporter": "python",
   "pygments_lexer": "ipython3",
   "version": "3.8.8"
  }
 },
 "nbformat": 4,
 "nbformat_minor": 5
}
