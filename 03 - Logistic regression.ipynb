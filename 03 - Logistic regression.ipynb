{
 "cells": [
  {
   "cell_type": "markdown",
   "metadata": {},
   "source": [
    "# Logistic regression - In depth"
   ]
  },
  {
   "cell_type": "code",
   "execution_count": 2,
   "metadata": {},
   "outputs": [],
   "source": [
    "import numpy as np\n",
    "import pandas as pd\n",
    "from sklearn.linear_model import LogisticRegression\n",
    "from sklearn.preprocessing import MinMaxScaler\n",
    "from sklearn.metrics import accuracy_score\n",
    "from src.classification_visualization import load_and_plot, plot_data_with_decsion_boundry, plot_sigmoid_function"
   ]
  },
  {
   "cell_type": "markdown",
   "metadata": {},
   "source": [
    "# 1. The logistic regression model"
   ]
  },
  {
   "cell_type": "markdown",
   "metadata": {},
   "source": [
    "[Logistic regression](https://developers.google.com/machine-learning/crash-course/logistic-regression/video-lecture) is a linear classifer that is able to produce probablities as well as predicted lables. Instead of predicting exactly 0 or 1, logistic regression generates a probability—a value between 0 and 1, exclusive. For example, consider a logistic regression model for spam detection. If the model infers a value of 0.932 on a particular email message, it implies a 93.2% probability that the email message is spam."
   ]
  },
  {
   "cell_type": "markdown",
   "metadata": {},
   "source": [
    "**Logistic regression summary**:  \n",
    "* Type: Linear classifier  \n",
    "* Assumption: The decision boundry is a linear line/surface/hyper-plane  \n",
    "* Model parameters: Weights of the hyper-plane ($\\mathbf{w}$, b)\n",
    "* Loss function: [Log loss](https://developers.google.com/machine-learning/crash-course/logistic-regression/model-training)\n",
    "* Training algorithm: [Gradient decent](https://developers.google.com/machine-learning/crash-course/reducing-loss/gradient-descent)\n",
    "* Inference algorithm: Class A if $\\frac{1}{1+e^{-z}}$ > 0.5 else class B where $z=\\mathbf{w}^\\intercal \\mathbf{x} + b$\n"
   ]
  },
  {
   "cell_type": "markdown",
   "metadata": {},
   "source": [
    "In logistic regression, the training algorithm computes the weights vector for each feature of the input features, and a bias term. In a successful training, the learned weights seperates optimally between the two classes. To classify a new point (vector), $\\mathbf{x}$, we compute:\n",
    "1. $z=\\mathbf{w}^\\intercal \\mathbf{x} + b$ (or in a simple notation, for observation number i: $z_i = b + w_1 * x_{i1} + w_2 * x_{i2} + \\cdots + w_n * x_{in}\n",
    "$)\n",
    "2. sigmoid(z), or $\\frac{1}{1+e^{-z}}$"
   ]
  },
  {
   "cell_type": "markdown",
   "metadata": {},
   "source": [
    "Remember that:\n",
    "* z is proportional to the distance of the point (vector) $\\mathbf{x}$ from the the decision boundry, represented by $\\mathbf{w}$, and can be in the range of $(-\\infty, \\infty)$\n",
    "* The sigmoid job is __only__ to transform z to probability, i.e. map a number from the range $(-\\infty,\\infty)$ to the range $(0, 1)$  \n",
    "* if $z$ = 0, the point is on the decision boundry. Thus, we can't determine to which class it belnogs. The sigmoid function ineed equal to 0.5 when $z$ is 0, indicated a 50-50 probability.\n",
    "* if $z$ > 0, than the point belong to one class, and if $z$ < 0, the point belong the other class. \n",
    "* The bigger and positive $z$ is, the further above the decision boundry the point is, the more certain we are that the point belongs to class one. And indeed, for increasingly positive $z$s, the sigmoid function returns values that are closer and closer to 1. (note that for $z>4$ the probolility is already very close to one, see graph below)\n",
    "* The bigger and negative $z$ is, the further below the decision boundry the point is, the more certain we are that the point belongs to class zero. And indeed, for increasingly negative $z$s, the sigmoid function returns values that are closer and closer to 0 (thus 0 chance of belonging to class 1, and 1 minus 0 chance of belonging to class 0, also note that for $z<-4$ the probolility is already very close to zero, see graph below)"
   ]
  },
  {
   "cell_type": "code",
   "execution_count": 5,
   "metadata": {},
   "outputs": [
    {
     "data": {
      "application/vnd.plotly.v1+json": {
       "config": {
        "plotlyServerURL": "https://plot.ly"
       },
       "data": [
        {
         "hovertemplate": "x=%{x}<br>sig=%{y}<extra></extra>",
         "legendgroup": "",
         "line": {
          "color": "#00CC96",
          "dash": "solid",
          "width": 3
         },
         "mode": "lines",
         "name": "",
         "orientation": "v",
         "showlegend": false,
         "type": "scatter",
         "x": [
          -10,
          -9.8,
          -9.600000000000001,
          -9.400000000000002,
          -9.200000000000003,
          -9.000000000000004,
          -8.800000000000004,
          -8.600000000000005,
          -8.400000000000006,
          -8.200000000000006,
          -8.000000000000007,
          -7.800000000000008,
          -7.6000000000000085,
          -7.400000000000009,
          -7.20000000000001,
          -7.000000000000011,
          -6.800000000000011,
          -6.600000000000012,
          -6.400000000000013,
          -6.2000000000000135,
          -6.000000000000014,
          -5.800000000000015,
          -5.600000000000016,
          -5.400000000000016,
          -5.200000000000017,
          -5.000000000000018,
          -4.8000000000000185,
          -4.600000000000019,
          -4.40000000000002,
          -4.200000000000021,
          -4.000000000000021,
          -3.800000000000022,
          -3.6000000000000227,
          -3.4000000000000234,
          -3.200000000000024,
          -3.000000000000025,
          -2.8000000000000256,
          -2.6000000000000263,
          -2.400000000000027,
          -2.2000000000000277,
          -2.0000000000000284,
          -1.8000000000000291,
          -1.6000000000000298,
          -1.4000000000000306,
          -1.2000000000000313,
          -1.000000000000032,
          -0.8000000000000327,
          -0.6000000000000334,
          -0.4000000000000341,
          -0.20000000000003482,
          -3.552713678800501e-14,
          0.19999999999996376,
          0.39999999999996305,
          0.5999999999999623,
          0.7999999999999616,
          0.9999999999999609,
          1.1999999999999602,
          1.3999999999999595,
          1.5999999999999588,
          1.799999999999958,
          1.9999999999999574,
          2.1999999999999567,
          2.399999999999956,
          2.5999999999999552,
          2.7999999999999545,
          2.999999999999954,
          3.199999999999953,
          3.3999999999999524,
          3.5999999999999517,
          3.799999999999951,
          3.9999999999999503,
          4.1999999999999496,
          4.399999999999949,
          4.599999999999948,
          4.799999999999947,
          4.999999999999947,
          5.199999999999946,
          5.399999999999945,
          5.599999999999945,
          5.799999999999944,
          5.999999999999943,
          6.1999999999999424,
          6.399999999999942,
          6.599999999999941,
          6.79999999999994,
          6.99999999999994,
          7.199999999999939,
          7.399999999999938,
          7.5999999999999375,
          7.799999999999937,
          7.999999999999936,
          8.199999999999935,
          8.399999999999935,
          8.599999999999934,
          8.799999999999933,
          8.999999999999932,
          9.199999999999932,
          9.399999999999931,
          9.59999999999993,
          9.79999999999993
         ],
         "xaxis": "x",
         "y": [
          4.5397868702434395e-05,
          5.5448524722794907e-05,
          6.772414961977011e-05,
          8.271722285166624e-05,
          0.00010102919390777254,
          0.0001233945759862313,
          0.00015071035805975686,
          0.00018407190496342303,
          0.0002248167702332941,
          0.00027457815610133096,
          0.0003353501304664757,
          0.0004095671649860472,
          0.0005002011070795599,
          0.0006108793594343956,
          0.0007460288338366896,
          0.0009110511944006356,
          0.0011125360328603088,
          0.0013585199504289425,
          0.0016588010801744009,
          0.002025320389049855,
          0.002472623156634739,
          0.003018416324708379,
          0.0036842398994359304,
          0.004496273160941107,
          0.0054862988994503125,
          0.0066928509242847375,
          0.008162571153159746,
          0.009951801866904132,
          0.012128434984274003,
          0.014774031693272757,
          0.01798620996209118,
          0.02188127093613,
          0.026596993576865267,
          0.03229546469844978,
          0.03916572279676345,
          0.04742587317756566,
          0.05732417589886736,
          0.06913842034334512,
          0.08317269649392031,
          0.09975048911968266,
          0.11920292202211458,
          0.14185106490048424,
          0.16798161486607135,
          0.1978161114414134,
          0.2314752165009768,
          0.26894142136998883,
          0.31002551887238056,
          0.35434369377419694,
          0.40131233988753984,
          0.4501660026875135,
          0.4999999999999911,
          0.549833997312469,
          0.5986876601124431,
          0.6456563062257868,
          0.6899744811276042,
          0.7310585786299971,
          0.7685247834990105,
          0.8021838885585753,
          0.8320183851339188,
          0.8581489350995071,
          0.8807970779778779,
          0.9002495108803109,
          0.9168273035060743,
          0.9308615796566504,
          0.9426758241011287,
          0.9525741268224311,
          0.9608342772032339,
          0.967704535301548,
          0.9734030064231328,
          0.9781187290638684,
          0.9820137900379076,
          0.9852259683067263,
          0.9878715650157252,
          0.9900481981330951,
          0.9918374288468397,
          0.9933071490757148,
          0.9945137011005493,
          0.9955037268390586,
          0.9963157601005639,
          0.9969815836752914,
          0.9975273768433651,
          0.9979746796109501,
          0.9983411989198255,
          0.9986414800495709,
          0.9988874639671396,
          0.9990889488055994,
          0.9992539711661631,
          0.9993891206405656,
          0.9994997988929205,
          0.9995904328350139,
          0.9996646498695334,
          0.9997254218438986,
          0.9997751832297667,
          0.9998159280950366,
          0.9998492896419403,
          0.9998766054240137,
          0.9998989708060922,
          0.9999172827771484,
          0.9999322758503801,
          0.9999445514752772
         ],
         "yaxis": "y"
        }
       ],
       "layout": {
        "autosize": true,
        "legend": {
         "tracegroupgap": 0
        },
        "margin": {
         "t": 60
        },
        "template": {
         "data": {
          "bar": [
           {
            "error_x": {
             "color": "#2a3f5f"
            },
            "error_y": {
             "color": "#2a3f5f"
            },
            "marker": {
             "line": {
              "color": "white",
              "width": 0.5
             },
             "pattern": {
              "fillmode": "overlay",
              "size": 10,
              "solidity": 0.2
             }
            },
            "type": "bar"
           }
          ],
          "barpolar": [
           {
            "marker": {
             "line": {
              "color": "white",
              "width": 0.5
             },
             "pattern": {
              "fillmode": "overlay",
              "size": 10,
              "solidity": 0.2
             }
            },
            "type": "barpolar"
           }
          ],
          "carpet": [
           {
            "aaxis": {
             "endlinecolor": "#2a3f5f",
             "gridcolor": "#C8D4E3",
             "linecolor": "#C8D4E3",
             "minorgridcolor": "#C8D4E3",
             "startlinecolor": "#2a3f5f"
            },
            "baxis": {
             "endlinecolor": "#2a3f5f",
             "gridcolor": "#C8D4E3",
             "linecolor": "#C8D4E3",
             "minorgridcolor": "#C8D4E3",
             "startlinecolor": "#2a3f5f"
            },
            "type": "carpet"
           }
          ],
          "choropleth": [
           {
            "colorbar": {
             "outlinewidth": 0,
             "ticks": ""
            },
            "type": "choropleth"
           }
          ],
          "contour": [
           {
            "colorbar": {
             "outlinewidth": 0,
             "ticks": ""
            },
            "colorscale": [
             [
              0,
              "#0d0887"
             ],
             [
              0.1111111111111111,
              "#46039f"
             ],
             [
              0.2222222222222222,
              "#7201a8"
             ],
             [
              0.3333333333333333,
              "#9c179e"
             ],
             [
              0.4444444444444444,
              "#bd3786"
             ],
             [
              0.5555555555555556,
              "#d8576b"
             ],
             [
              0.6666666666666666,
              "#ed7953"
             ],
             [
              0.7777777777777778,
              "#fb9f3a"
             ],
             [
              0.8888888888888888,
              "#fdca26"
             ],
             [
              1,
              "#f0f921"
             ]
            ],
            "type": "contour"
           }
          ],
          "contourcarpet": [
           {
            "colorbar": {
             "outlinewidth": 0,
             "ticks": ""
            },
            "type": "contourcarpet"
           }
          ],
          "heatmap": [
           {
            "colorbar": {
             "outlinewidth": 0,
             "ticks": ""
            },
            "colorscale": [
             [
              0,
              "#0d0887"
             ],
             [
              0.1111111111111111,
              "#46039f"
             ],
             [
              0.2222222222222222,
              "#7201a8"
             ],
             [
              0.3333333333333333,
              "#9c179e"
             ],
             [
              0.4444444444444444,
              "#bd3786"
             ],
             [
              0.5555555555555556,
              "#d8576b"
             ],
             [
              0.6666666666666666,
              "#ed7953"
             ],
             [
              0.7777777777777778,
              "#fb9f3a"
             ],
             [
              0.8888888888888888,
              "#fdca26"
             ],
             [
              1,
              "#f0f921"
             ]
            ],
            "type": "heatmap"
           }
          ],
          "heatmapgl": [
           {
            "colorbar": {
             "outlinewidth": 0,
             "ticks": ""
            },
            "colorscale": [
             [
              0,
              "#0d0887"
             ],
             [
              0.1111111111111111,
              "#46039f"
             ],
             [
              0.2222222222222222,
              "#7201a8"
             ],
             [
              0.3333333333333333,
              "#9c179e"
             ],
             [
              0.4444444444444444,
              "#bd3786"
             ],
             [
              0.5555555555555556,
              "#d8576b"
             ],
             [
              0.6666666666666666,
              "#ed7953"
             ],
             [
              0.7777777777777778,
              "#fb9f3a"
             ],
             [
              0.8888888888888888,
              "#fdca26"
             ],
             [
              1,
              "#f0f921"
             ]
            ],
            "type": "heatmapgl"
           }
          ],
          "histogram": [
           {
            "marker": {
             "pattern": {
              "fillmode": "overlay",
              "size": 10,
              "solidity": 0.2
             }
            },
            "type": "histogram"
           }
          ],
          "histogram2d": [
           {
            "colorbar": {
             "outlinewidth": 0,
             "ticks": ""
            },
            "colorscale": [
             [
              0,
              "#0d0887"
             ],
             [
              0.1111111111111111,
              "#46039f"
             ],
             [
              0.2222222222222222,
              "#7201a8"
             ],
             [
              0.3333333333333333,
              "#9c179e"
             ],
             [
              0.4444444444444444,
              "#bd3786"
             ],
             [
              0.5555555555555556,
              "#d8576b"
             ],
             [
              0.6666666666666666,
              "#ed7953"
             ],
             [
              0.7777777777777778,
              "#fb9f3a"
             ],
             [
              0.8888888888888888,
              "#fdca26"
             ],
             [
              1,
              "#f0f921"
             ]
            ],
            "type": "histogram2d"
           }
          ],
          "histogram2dcontour": [
           {
            "colorbar": {
             "outlinewidth": 0,
             "ticks": ""
            },
            "colorscale": [
             [
              0,
              "#0d0887"
             ],
             [
              0.1111111111111111,
              "#46039f"
             ],
             [
              0.2222222222222222,
              "#7201a8"
             ],
             [
              0.3333333333333333,
              "#9c179e"
             ],
             [
              0.4444444444444444,
              "#bd3786"
             ],
             [
              0.5555555555555556,
              "#d8576b"
             ],
             [
              0.6666666666666666,
              "#ed7953"
             ],
             [
              0.7777777777777778,
              "#fb9f3a"
             ],
             [
              0.8888888888888888,
              "#fdca26"
             ],
             [
              1,
              "#f0f921"
             ]
            ],
            "type": "histogram2dcontour"
           }
          ],
          "mesh3d": [
           {
            "colorbar": {
             "outlinewidth": 0,
             "ticks": ""
            },
            "type": "mesh3d"
           }
          ],
          "parcoords": [
           {
            "line": {
             "colorbar": {
              "outlinewidth": 0,
              "ticks": ""
             }
            },
            "type": "parcoords"
           }
          ],
          "pie": [
           {
            "automargin": true,
            "type": "pie"
           }
          ],
          "scatter": [
           {
            "marker": {
             "colorbar": {
              "outlinewidth": 0,
              "ticks": ""
             }
            },
            "type": "scatter"
           }
          ],
          "scatter3d": [
           {
            "line": {
             "colorbar": {
              "outlinewidth": 0,
              "ticks": ""
             }
            },
            "marker": {
             "colorbar": {
              "outlinewidth": 0,
              "ticks": ""
             }
            },
            "type": "scatter3d"
           }
          ],
          "scattercarpet": [
           {
            "marker": {
             "colorbar": {
              "outlinewidth": 0,
              "ticks": ""
             }
            },
            "type": "scattercarpet"
           }
          ],
          "scattergeo": [
           {
            "marker": {
             "colorbar": {
              "outlinewidth": 0,
              "ticks": ""
             }
            },
            "type": "scattergeo"
           }
          ],
          "scattergl": [
           {
            "marker": {
             "colorbar": {
              "outlinewidth": 0,
              "ticks": ""
             }
            },
            "type": "scattergl"
           }
          ],
          "scattermapbox": [
           {
            "marker": {
             "colorbar": {
              "outlinewidth": 0,
              "ticks": ""
             }
            },
            "type": "scattermapbox"
           }
          ],
          "scatterpolar": [
           {
            "marker": {
             "colorbar": {
              "outlinewidth": 0,
              "ticks": ""
             }
            },
            "type": "scatterpolar"
           }
          ],
          "scatterpolargl": [
           {
            "marker": {
             "colorbar": {
              "outlinewidth": 0,
              "ticks": ""
             }
            },
            "type": "scatterpolargl"
           }
          ],
          "scatterternary": [
           {
            "marker": {
             "colorbar": {
              "outlinewidth": 0,
              "ticks": ""
             }
            },
            "type": "scatterternary"
           }
          ],
          "surface": [
           {
            "colorbar": {
             "outlinewidth": 0,
             "ticks": ""
            },
            "colorscale": [
             [
              0,
              "#0d0887"
             ],
             [
              0.1111111111111111,
              "#46039f"
             ],
             [
              0.2222222222222222,
              "#7201a8"
             ],
             [
              0.3333333333333333,
              "#9c179e"
             ],
             [
              0.4444444444444444,
              "#bd3786"
             ],
             [
              0.5555555555555556,
              "#d8576b"
             ],
             [
              0.6666666666666666,
              "#ed7953"
             ],
             [
              0.7777777777777778,
              "#fb9f3a"
             ],
             [
              0.8888888888888888,
              "#fdca26"
             ],
             [
              1,
              "#f0f921"
             ]
            ],
            "type": "surface"
           }
          ],
          "table": [
           {
            "cells": {
             "fill": {
              "color": "#EBF0F8"
             },
             "line": {
              "color": "white"
             }
            },
            "header": {
             "fill": {
              "color": "#C8D4E3"
             },
             "line": {
              "color": "white"
             }
            },
            "type": "table"
           }
          ]
         },
         "layout": {
          "annotationdefaults": {
           "arrowcolor": "#2a3f5f",
           "arrowhead": 0,
           "arrowwidth": 1
          },
          "autotypenumbers": "strict",
          "coloraxis": {
           "colorbar": {
            "outlinewidth": 0,
            "ticks": ""
           }
          },
          "colorscale": {
           "diverging": [
            [
             0,
             "#8e0152"
            ],
            [
             0.1,
             "#c51b7d"
            ],
            [
             0.2,
             "#de77ae"
            ],
            [
             0.3,
             "#f1b6da"
            ],
            [
             0.4,
             "#fde0ef"
            ],
            [
             0.5,
             "#f7f7f7"
            ],
            [
             0.6,
             "#e6f5d0"
            ],
            [
             0.7,
             "#b8e186"
            ],
            [
             0.8,
             "#7fbc41"
            ],
            [
             0.9,
             "#4d9221"
            ],
            [
             1,
             "#276419"
            ]
           ],
           "sequential": [
            [
             0,
             "#0d0887"
            ],
            [
             0.1111111111111111,
             "#46039f"
            ],
            [
             0.2222222222222222,
             "#7201a8"
            ],
            [
             0.3333333333333333,
             "#9c179e"
            ],
            [
             0.4444444444444444,
             "#bd3786"
            ],
            [
             0.5555555555555556,
             "#d8576b"
            ],
            [
             0.6666666666666666,
             "#ed7953"
            ],
            [
             0.7777777777777778,
             "#fb9f3a"
            ],
            [
             0.8888888888888888,
             "#fdca26"
            ],
            [
             1,
             "#f0f921"
            ]
           ],
           "sequentialminus": [
            [
             0,
             "#0d0887"
            ],
            [
             0.1111111111111111,
             "#46039f"
            ],
            [
             0.2222222222222222,
             "#7201a8"
            ],
            [
             0.3333333333333333,
             "#9c179e"
            ],
            [
             0.4444444444444444,
             "#bd3786"
            ],
            [
             0.5555555555555556,
             "#d8576b"
            ],
            [
             0.6666666666666666,
             "#ed7953"
            ],
            [
             0.7777777777777778,
             "#fb9f3a"
            ],
            [
             0.8888888888888888,
             "#fdca26"
            ],
            [
             1,
             "#f0f921"
            ]
           ]
          },
          "colorway": [
           "#636efa",
           "#EF553B",
           "#00cc96",
           "#ab63fa",
           "#FFA15A",
           "#19d3f3",
           "#FF6692",
           "#B6E880",
           "#FF97FF",
           "#FECB52"
          ],
          "font": {
           "color": "#2a3f5f"
          },
          "geo": {
           "bgcolor": "white",
           "lakecolor": "white",
           "landcolor": "white",
           "showlakes": true,
           "showland": true,
           "subunitcolor": "#C8D4E3"
          },
          "hoverlabel": {
           "align": "left"
          },
          "hovermode": "closest",
          "mapbox": {
           "style": "light"
          },
          "paper_bgcolor": "white",
          "plot_bgcolor": "white",
          "polar": {
           "angularaxis": {
            "gridcolor": "#EBF0F8",
            "linecolor": "#EBF0F8",
            "ticks": ""
           },
           "bgcolor": "white",
           "radialaxis": {
            "gridcolor": "#EBF0F8",
            "linecolor": "#EBF0F8",
            "ticks": ""
           }
          },
          "scene": {
           "xaxis": {
            "backgroundcolor": "white",
            "gridcolor": "#DFE8F3",
            "gridwidth": 2,
            "linecolor": "#EBF0F8",
            "showbackground": true,
            "ticks": "",
            "zerolinecolor": "#EBF0F8"
           },
           "yaxis": {
            "backgroundcolor": "white",
            "gridcolor": "#DFE8F3",
            "gridwidth": 2,
            "linecolor": "#EBF0F8",
            "showbackground": true,
            "ticks": "",
            "zerolinecolor": "#EBF0F8"
           },
           "zaxis": {
            "backgroundcolor": "white",
            "gridcolor": "#DFE8F3",
            "gridwidth": 2,
            "linecolor": "#EBF0F8",
            "showbackground": true,
            "ticks": "",
            "zerolinecolor": "#EBF0F8"
           }
          },
          "shapedefaults": {
           "line": {
            "color": "#2a3f5f"
           }
          },
          "ternary": {
           "aaxis": {
            "gridcolor": "#DFE8F3",
            "linecolor": "#A2B1C6",
            "ticks": ""
           },
           "baxis": {
            "gridcolor": "#DFE8F3",
            "linecolor": "#A2B1C6",
            "ticks": ""
           },
           "bgcolor": "white",
           "caxis": {
            "gridcolor": "#DFE8F3",
            "linecolor": "#A2B1C6",
            "ticks": ""
           }
          },
          "title": {
           "x": 0.05
          },
          "xaxis": {
           "automargin": true,
           "gridcolor": "#EBF0F8",
           "linecolor": "#EBF0F8",
           "ticks": "",
           "title": {
            "standoff": 15
           },
           "zerolinecolor": "#EBF0F8",
           "zerolinewidth": 2
          },
          "yaxis": {
           "automargin": true,
           "gridcolor": "#EBF0F8",
           "linecolor": "#EBF0F8",
           "ticks": "",
           "title": {
            "standoff": 15
           },
           "zerolinecolor": "#EBF0F8",
           "zerolinewidth": 2
          }
         }
        },
        "title": {
         "text": "Sigmoid function",
         "x": 0.5
        },
        "xaxis": {
         "anchor": "y",
         "autorange": true,
         "domain": [
          0,
          1
         ],
         "range": [
          -10,
          9.79999999999993
         ],
         "title": {
          "text": "x"
         },
         "type": "linear"
        },
        "yaxis": {
         "anchor": "x",
         "autorange": true,
         "domain": [
          0,
          1
         ],
         "range": [
          -0.05550455510944061,
          1.0554945044534203
         ],
         "title": {
          "text": "sig"
         },
         "type": "linear"
        }
       }
      },
      "image/png": "[encoded data removed]",
      "text/html": [
       "<div>                            <div id=\"3361795d-8848-4372-92b8-e50d22884994\" class=\"plotly-graph-div\" style=\"height:525px; width:100%;\"></div>            <script type=\"text/javascript\">                require([\"plotly\"], function(Plotly) {                    window.PLOTLYENV=window.PLOTLYENV || {};                                    if (document.getElementById(\"3361795d-8848-4372-92b8-e50d22884994\")) {                    Plotly.newPlot(                        \"3361795d-8848-4372-92b8-e50d22884994\",                        [{\"hovertemplate\":\"x=%{x}<br>sig=%{y}<extra></extra>\",\"legendgroup\":\"\",\"line\":{\"color\":\"#00CC96\",\"dash\":\"solid\",\"width\":3},\"mode\":\"lines\",\"name\":\"\",\"orientation\":\"v\",\"showlegend\":false,\"type\":\"scatter\",\"x\":[-10.0,-9.8,-9.600000000000001,-9.400000000000002,-9.200000000000003,-9.000000000000004,-8.800000000000004,-8.600000000000005,-8.400000000000006,-8.200000000000006,-8.000000000000007,-7.800000000000008,-7.6000000000000085,-7.400000000000009,-7.20000000000001,-7.000000000000011,-6.800000000000011,-6.600000000000012,-6.400000000000013,-6.2000000000000135,-6.000000000000014,-5.800000000000015,-5.600000000000016,-5.400000000000016,-5.200000000000017,-5.000000000000018,-4.8000000000000185,-4.600000000000019,-4.40000000000002,-4.200000000000021,-4.000000000000021,-3.800000000000022,-3.6000000000000227,-3.4000000000000234,-3.200000000000024,-3.000000000000025,-2.8000000000000256,-2.6000000000000263,-2.400000000000027,-2.2000000000000277,-2.0000000000000284,-1.8000000000000291,-1.6000000000000298,-1.4000000000000306,-1.2000000000000313,-1.000000000000032,-0.8000000000000327,-0.6000000000000334,-0.4000000000000341,-0.20000000000003482,-3.552713678800501e-14,0.19999999999996376,0.39999999999996305,0.5999999999999623,0.7999999999999616,0.9999999999999609,1.1999999999999602,1.3999999999999595,1.5999999999999588,1.799999999999958,1.9999999999999574,2.1999999999999567,2.399999999999956,2.5999999999999552,2.7999999999999545,2.999999999999954,3.199999999999953,3.3999999999999524,3.5999999999999517,3.799999999999951,3.9999999999999503,4.1999999999999496,4.399999999999949,4.599999999999948,4.799999999999947,4.999999999999947,5.199999999999946,5.399999999999945,5.599999999999945,5.799999999999944,5.999999999999943,6.1999999999999424,6.399999999999942,6.599999999999941,6.79999999999994,6.99999999999994,7.199999999999939,7.399999999999938,7.5999999999999375,7.799999999999937,7.999999999999936,8.199999999999935,8.399999999999935,8.599999999999934,8.799999999999933,8.999999999999932,9.199999999999932,9.399999999999931,9.59999999999993,9.79999999999993],\"xaxis\":\"x\",\"y\":[4.5397868702434395e-05,5.5448524722794907e-05,6.772414961977011e-05,8.271722285166624e-05,0.00010102919390777254,0.0001233945759862313,0.00015071035805975686,0.00018407190496342303,0.0002248167702332941,0.00027457815610133096,0.0003353501304664757,0.0004095671649860472,0.0005002011070795599,0.0006108793594343956,0.0007460288338366896,0.0009110511944006356,0.0011125360328603088,0.0013585199504289425,0.0016588010801744009,0.002025320389049855,0.002472623156634739,0.003018416324708379,0.0036842398994359304,0.004496273160941107,0.0054862988994503125,0.0066928509242847375,0.008162571153159746,0.009951801866904132,0.012128434984274003,0.014774031693272757,0.01798620996209118,0.02188127093613,0.026596993576865267,0.03229546469844978,0.03916572279676345,0.04742587317756566,0.05732417589886736,0.06913842034334512,0.08317269649392031,0.09975048911968266,0.11920292202211458,0.14185106490048424,0.16798161486607135,0.1978161114414134,0.2314752165009768,0.26894142136998883,0.31002551887238056,0.35434369377419694,0.40131233988753984,0.4501660026875135,0.4999999999999911,0.549833997312469,0.5986876601124431,0.6456563062257868,0.6899744811276042,0.7310585786299971,0.7685247834990105,0.8021838885585753,0.8320183851339188,0.8581489350995071,0.8807970779778779,0.9002495108803109,0.9168273035060743,0.9308615796566504,0.9426758241011287,0.9525741268224311,0.9608342772032339,0.967704535301548,0.9734030064231328,0.9781187290638684,0.9820137900379076,0.9852259683067263,0.9878715650157252,0.9900481981330951,0.9918374288468397,0.9933071490757148,0.9945137011005493,0.9955037268390586,0.9963157601005639,0.9969815836752914,0.9975273768433651,0.9979746796109501,0.9983411989198255,0.9986414800495709,0.9988874639671396,0.9990889488055994,0.9992539711661631,0.9993891206405656,0.9994997988929205,0.9995904328350139,0.9996646498695334,0.9997254218438986,0.9997751832297667,0.9998159280950366,0.9998492896419403,0.9998766054240137,0.9998989708060922,0.9999172827771484,0.9999322758503801,0.9999445514752772],\"yaxis\":\"y\"}],                        {\"legend\":{\"tracegroupgap\":0},\"margin\":{\"t\":60},\"template\":{\"data\":{\"bar\":[{\"error_x\":{\"color\":\"#2a3f5f\"},\"error_y\":{\"color\":\"#2a3f5f\"},\"marker\":{\"line\":{\"color\":\"white\",\"width\":0.5},\"pattern\":{\"fillmode\":\"overlay\",\"size\":10,\"solidity\":0.2}},\"type\":\"bar\"}],\"barpolar\":[{\"marker\":{\"line\":{\"color\":\"white\",\"width\":0.5},\"pattern\":{\"fillmode\":\"overlay\",\"size\":10,\"solidity\":0.2}},\"type\":\"barpolar\"}],\"carpet\":[{\"aaxis\":{\"endlinecolor\":\"#2a3f5f\",\"gridcolor\":\"#C8D4E3\",\"linecolor\":\"#C8D4E3\",\"minorgridcolor\":\"#C8D4E3\",\"startlinecolor\":\"#2a3f5f\"},\"baxis\":{\"endlinecolor\":\"#2a3f5f\",\"gridcolor\":\"#C8D4E3\",\"linecolor\":\"#C8D4E3\",\"minorgridcolor\":\"#C8D4E3\",\"startlinecolor\":\"#2a3f5f\"},\"type\":\"carpet\"}],\"choropleth\":[{\"colorbar\":{\"outlinewidth\":0,\"ticks\":\"\"},\"type\":\"choropleth\"}],\"contour\":[{\"colorbar\":{\"outlinewidth\":0,\"ticks\":\"\"},\"colorscale\":[[0.0,\"#0d0887\"],[0.1111111111111111,\"#46039f\"],[0.2222222222222222,\"#7201a8\"],[0.3333333333333333,\"#9c179e\"],[0.4444444444444444,\"#bd3786\"],[0.5555555555555556,\"#d8576b\"],[0.6666666666666666,\"#ed7953\"],[0.7777777777777778,\"#fb9f3a\"],[0.8888888888888888,\"#fdca26\"],[1.0,\"#f0f921\"]],\"type\":\"contour\"}],\"contourcarpet\":[{\"colorbar\":{\"outlinewidth\":0,\"ticks\":\"\"},\"type\":\"contourcarpet\"}],\"heatmap\":[{\"colorbar\":{\"outlinewidth\":0,\"ticks\":\"\"},\"colorscale\":[[0.0,\"#0d0887\"],[0.1111111111111111,\"#46039f\"],[0.2222222222222222,\"#7201a8\"],[0.3333333333333333,\"#9c179e\"],[0.4444444444444444,\"#bd3786\"],[0.5555555555555556,\"#d8576b\"],[0.6666666666666666,\"#ed7953\"],[0.7777777777777778,\"#fb9f3a\"],[0.8888888888888888,\"#fdca26\"],[1.0,\"#f0f921\"]],\"type\":\"heatmap\"}],\"heatmapgl\":[{\"colorbar\":{\"outlinewidth\":0,\"ticks\":\"\"},\"colorscale\":[[0.0,\"#0d0887\"],[0.1111111111111111,\"#46039f\"],[0.2222222222222222,\"#7201a8\"],[0.3333333333333333,\"#9c179e\"],[0.4444444444444444,\"#bd3786\"],[0.5555555555555556,\"#d8576b\"],[0.6666666666666666,\"#ed7953\"],[0.7777777777777778,\"#fb9f3a\"],[0.8888888888888888,\"#fdca26\"],[1.0,\"#f0f921\"]],\"type\":\"heatmapgl\"}],\"histogram\":[{\"marker\":{\"pattern\":{\"fillmode\":\"overlay\",\"size\":10,\"solidity\":0.2}},\"type\":\"histogram\"}],\"histogram2d\":[{\"colorbar\":{\"outlinewidth\":0,\"ticks\":\"\"},\"colorscale\":[[0.0,\"#0d0887\"],[0.1111111111111111,\"#46039f\"],[0.2222222222222222,\"#7201a8\"],[0.3333333333333333,\"#9c179e\"],[0.4444444444444444,\"#bd3786\"],[0.5555555555555556,\"#d8576b\"],[0.6666666666666666,\"#ed7953\"],[0.7777777777777778,\"#fb9f3a\"],[0.8888888888888888,\"#fdca26\"],[1.0,\"#f0f921\"]],\"type\":\"histogram2d\"}],\"histogram2dcontour\":[{\"colorbar\":{\"outlinewidth\":0,\"ticks\":\"\"},\"colorscale\":[[0.0,\"#0d0887\"],[0.1111111111111111,\"#46039f\"],[0.2222222222222222,\"#7201a8\"],[0.3333333333333333,\"#9c179e\"],[0.4444444444444444,\"#bd3786\"],[0.5555555555555556,\"#d8576b\"],[0.6666666666666666,\"#ed7953\"],[0.7777777777777778,\"#fb9f3a\"],[0.8888888888888888,\"#fdca26\"],[1.0,\"#f0f921\"]],\"type\":\"histogram2dcontour\"}],\"mesh3d\":[{\"colorbar\":{\"outlinewidth\":0,\"ticks\":\"\"},\"type\":\"mesh3d\"}],\"parcoords\":[{\"line\":{\"colorbar\":{\"outlinewidth\":0,\"ticks\":\"\"}},\"type\":\"parcoords\"}],\"pie\":[{\"automargin\":true,\"type\":\"pie\"}],\"scatter\":[{\"marker\":{\"colorbar\":{\"outlinewidth\":0,\"ticks\":\"\"}},\"type\":\"scatter\"}],\"scatter3d\":[{\"line\":{\"colorbar\":{\"outlinewidth\":0,\"ticks\":\"\"}},\"marker\":{\"colorbar\":{\"outlinewidth\":0,\"ticks\":\"\"}},\"type\":\"scatter3d\"}],\"scattercarpet\":[{\"marker\":{\"colorbar\":{\"outlinewidth\":0,\"ticks\":\"\"}},\"type\":\"scattercarpet\"}],\"scattergeo\":[{\"marker\":{\"colorbar\":{\"outlinewidth\":0,\"ticks\":\"\"}},\"type\":\"scattergeo\"}],\"scattergl\":[{\"marker\":{\"colorbar\":{\"outlinewidth\":0,\"ticks\":\"\"}},\"type\":\"scattergl\"}],\"scattermapbox\":[{\"marker\":{\"colorbar\":{\"outlinewidth\":0,\"ticks\":\"\"}},\"type\":\"scattermapbox\"}],\"scatterpolar\":[{\"marker\":{\"colorbar\":{\"outlinewidth\":0,\"ticks\":\"\"}},\"type\":\"scatterpolar\"}],\"scatterpolargl\":[{\"marker\":{\"colorbar\":{\"outlinewidth\":0,\"ticks\":\"\"}},\"type\":\"scatterpolargl\"}],\"scatterternary\":[{\"marker\":{\"colorbar\":{\"outlinewidth\":0,\"ticks\":\"\"}},\"type\":\"scatterternary\"}],\"surface\":[{\"colorbar\":{\"outlinewidth\":0,\"ticks\":\"\"},\"colorscale\":[[0.0,\"#0d0887\"],[0.1111111111111111,\"#46039f\"],[0.2222222222222222,\"#7201a8\"],[0.3333333333333333,\"#9c179e\"],[0.4444444444444444,\"#bd3786\"],[0.5555555555555556,\"#d8576b\"],[0.6666666666666666,\"#ed7953\"],[0.7777777777777778,\"#fb9f3a\"],[0.8888888888888888,\"#fdca26\"],[1.0,\"#f0f921\"]],\"type\":\"surface\"}],\"table\":[{\"cells\":{\"fill\":{\"color\":\"#EBF0F8\"},\"line\":{\"color\":\"white\"}},\"header\":{\"fill\":{\"color\":\"#C8D4E3\"},\"line\":{\"color\":\"white\"}},\"type\":\"table\"}]},\"layout\":{\"annotationdefaults\":{\"arrowcolor\":\"#2a3f5f\",\"arrowhead\":0,\"arrowwidth\":1},\"autotypenumbers\":\"strict\",\"coloraxis\":{\"colorbar\":{\"outlinewidth\":0,\"ticks\":\"\"}},\"colorscale\":{\"diverging\":[[0,\"#8e0152\"],[0.1,\"#c51b7d\"],[0.2,\"#de77ae\"],[0.3,\"#f1b6da\"],[0.4,\"#fde0ef\"],[0.5,\"#f7f7f7\"],[0.6,\"#e6f5d0\"],[0.7,\"#b8e186\"],[0.8,\"#7fbc41\"],[0.9,\"#4d9221\"],[1,\"#276419\"]],\"sequential\":[[0.0,\"#0d0887\"],[0.1111111111111111,\"#46039f\"],[0.2222222222222222,\"#7201a8\"],[0.3333333333333333,\"#9c179e\"],[0.4444444444444444,\"#bd3786\"],[0.5555555555555556,\"#d8576b\"],[0.6666666666666666,\"#ed7953\"],[0.7777777777777778,\"#fb9f3a\"],[0.8888888888888888,\"#fdca26\"],[1.0,\"#f0f921\"]],\"sequentialminus\":[[0.0,\"#0d0887\"],[0.1111111111111111,\"#46039f\"],[0.2222222222222222,\"#7201a8\"],[0.3333333333333333,\"#9c179e\"],[0.4444444444444444,\"#bd3786\"],[0.5555555555555556,\"#d8576b\"],[0.6666666666666666,\"#ed7953\"],[0.7777777777777778,\"#fb9f3a\"],[0.8888888888888888,\"#fdca26\"],[1.0,\"#f0f921\"]]},\"colorway\":[\"#636efa\",\"#EF553B\",\"#00cc96\",\"#ab63fa\",\"#FFA15A\",\"#19d3f3\",\"#FF6692\",\"#B6E880\",\"#FF97FF\",\"#FECB52\"],\"font\":{\"color\":\"#2a3f5f\"},\"geo\":{\"bgcolor\":\"white\",\"lakecolor\":\"white\",\"landcolor\":\"white\",\"showlakes\":true,\"showland\":true,\"subunitcolor\":\"#C8D4E3\"},\"hoverlabel\":{\"align\":\"left\"},\"hovermode\":\"closest\",\"mapbox\":{\"style\":\"light\"},\"paper_bgcolor\":\"white\",\"plot_bgcolor\":\"white\",\"polar\":{\"angularaxis\":{\"gridcolor\":\"#EBF0F8\",\"linecolor\":\"#EBF0F8\",\"ticks\":\"\"},\"bgcolor\":\"white\",\"radialaxis\":{\"gridcolor\":\"#EBF0F8\",\"linecolor\":\"#EBF0F8\",\"ticks\":\"\"}},\"scene\":{\"xaxis\":{\"backgroundcolor\":\"white\",\"gridcolor\":\"#DFE8F3\",\"gridwidth\":2,\"linecolor\":\"#EBF0F8\",\"showbackground\":true,\"ticks\":\"\",\"zerolinecolor\":\"#EBF0F8\"},\"yaxis\":{\"backgroundcolor\":\"white\",\"gridcolor\":\"#DFE8F3\",\"gridwidth\":2,\"linecolor\":\"#EBF0F8\",\"showbackground\":true,\"ticks\":\"\",\"zerolinecolor\":\"#EBF0F8\"},\"zaxis\":{\"backgroundcolor\":\"white\",\"gridcolor\":\"#DFE8F3\",\"gridwidth\":2,\"linecolor\":\"#EBF0F8\",\"showbackground\":true,\"ticks\":\"\",\"zerolinecolor\":\"#EBF0F8\"}},\"shapedefaults\":{\"line\":{\"color\":\"#2a3f5f\"}},\"ternary\":{\"aaxis\":{\"gridcolor\":\"#DFE8F3\",\"linecolor\":\"#A2B1C6\",\"ticks\":\"\"},\"baxis\":{\"gridcolor\":\"#DFE8F3\",\"linecolor\":\"#A2B1C6\",\"ticks\":\"\"},\"bgcolor\":\"white\",\"caxis\":{\"gridcolor\":\"#DFE8F3\",\"linecolor\":\"#A2B1C6\",\"ticks\":\"\"}},\"title\":{\"x\":0.05},\"xaxis\":{\"automargin\":true,\"gridcolor\":\"#EBF0F8\",\"linecolor\":\"#EBF0F8\",\"ticks\":\"\",\"title\":{\"standoff\":15},\"zerolinecolor\":\"#EBF0F8\",\"zerolinewidth\":2},\"yaxis\":{\"automargin\":true,\"gridcolor\":\"#EBF0F8\",\"linecolor\":\"#EBF0F8\",\"ticks\":\"\",\"title\":{\"standoff\":15},\"zerolinecolor\":\"#EBF0F8\",\"zerolinewidth\":2}}},\"title\":{\"text\":\"Sigmoid function\",\"x\":0.5},\"xaxis\":{\"anchor\":\"y\",\"domain\":[0.0,1.0],\"title\":{\"text\":\"x\"}},\"yaxis\":{\"anchor\":\"x\",\"domain\":[0.0,1.0],\"title\":{\"text\":\"sig\"}}},                        {\"responsive\": true}                    ).then(function(){\n",
       "                            \n",
       "var gd = document.getElementById('3361795d-8848-4372-92b8-e50d22884994');\n",
       "var x = new MutationObserver(function (mutations, observer) {{\n",
       "        var display = window.getComputedStyle(gd).display;\n",
       "        if (!display || display === 'none') {{\n",
       "            console.log([gd, 'removed!']);\n",
       "            Plotly.purge(gd);\n",
       "            observer.disconnect();\n",
       "        }}\n",
       "}});\n",
       "\n",
       "// Listen for the removal of the full notebook cells\n",
       "var notebookContainer = gd.closest('#notebook-container');\n",
       "if (notebookContainer) {{\n",
       "    x.observe(notebookContainer, {childList: true});\n",
       "}}\n",
       "\n",
       "// Listen for the clearing of the current output cell\n",
       "var outputEl = gd.closest('.output');\n",
       "if (outputEl) {{\n",
       "    x.observe(outputEl, {childList: true});\n",
       "}}\n",
       "\n",
       "                        })                };                });            </script>        </div>"
      ]
     },
     "metadata": {},
     "output_type": "display_data"
    }
   ],
   "source": [
    "plot_sigmoid_function()"
   ]
  },
  {
   "cell_type": "markdown",
   "metadata": {},
   "source": [
    "## The cost function\n",
    "\n",
    "A cost function of the logistic regression model, and of many other classification models (i.e. DNNs) is called __cross-entropy__, or __logloss__ and is defined by the following formula:"
   ]
  },
  {
   "cell_type": "markdown",
   "metadata": {},
   "source": [
    "$$\\text{Log Loss} = J = \\sum_{(x,y)\\in D} -y\\log(\\widehat{y}) - (1 - y)\\log(1 - \\widehat{y})$$\n",
    "\n",
    "\n",
    "where:\n",
    "\n",
    "* $((x,y)\\in D)$ is the data set containing many labeled examples, which are $((x,y))$ pairs.\n",
    "* $y$ is the label in a labeled example.  Since this is logistic regression, every value of $y$ must either be 0 or 1.\n",
    "* $\\widehat{y}$ is the predicted value (somewhere between 0 and 1), given the set of features in $x$."
   ]
  },
  {
   "cell_type": "markdown",
   "metadata": {},
   "source": [
    "Note also that:\n",
    "\n",
    "* when $y_i=0$, the first term cancels out (since $y_i=0$). Therefore, we will consider the two extreme cases for $\\hat{y_i}=0$ in the second term of the equation $((1-y_i)\\log(1-\\hat{y_i}))$:\n",
    "\n",
    "  * when $\\hat{y_i}=0$, we have that $\\log(1-\\hat{y_i})=\\log(1)=0$. Therefore, our cost $J=0$. Note that this makes perfect sense, since $y_i=0$ and $\\hat{y_i}=0$.\n",
    "  * when $\\hat{y_i}=1$, we have that $\\log(1-\\hat{y_i})=\\log(0)=\\infty$. Now, our cost $J=\\infty$. That is, the more different $y_i$ and $\\hat{y_i}$ are, the higher our cost.\n",
    "\n",
    "* when $y_i=1$, the second term cancels out (since $(1-y_i)=0$). Again, we will consider the two extreme cases for $\\hat{y_i}=0$, but now in the first term of the equation $(y_i\\log(\\hat{y_i}))$:\n",
    "  * when $\\hat{y_i}=0$, we have that $\\log(\\hat{y_i})=\\infty$. Therefore, our cost $J=\\infty$. Again, since $y_i$ and $\\hat{y_i}$ are very different, the cost tends to increase.\n",
    "  * when $\\hat{y_i}=1$, we have that $\\log(\\hat{y_i})=\\log(1)=0$. Now, our cost $J=0$. Again, this makes perfect sense, since $y_i=1$ and $\\hat{y_i}=1$."
   ]
  },
  {
   "cell_type": "markdown",
   "metadata": {},
   "source": [
    "To find the minimal log loss, we need to find the optimal values of the weights $b, w_1, ..., w_n$ that minimize the log loss function.\n",
    "The log loss function for logistic regression is convex but does not have a closed-form analytical solution, which means we cannot find the optimal values of the weights by simply setting the gradient to zero and solving for the weights. \n",
    "Instead, we must use numerical optimization techniques, such as gradient descent, to minimize the log loss function iteratively. So, in logistic regression, it is only possible to solve for the minimal log loss numerically, not analytically.  \n",
    "The algorithm we will use to iteratively get closer and closer to the minimal cost is called __gradient decent__. (more about convex optimization problems and gradient decent in the coming sections)"
   ]
  },
  {
   "cell_type": "markdown",
   "metadata": {},
   "source": [
    "## Gradient decent"
   ]
  },
  {
   "cell_type": "markdown",
   "metadata": {},
   "source": [
    "Gradient descent is an iterative optimization algorithm used for minimizing a differentiable function, commonly employed in machine learning and deep learning to optimize the cost or loss functions.\n",
    "The main idea behind gradient descent is to iteratively update the model's parameters (such as weights and biases) in the direction of the negative gradient of the cost function with respect to those parameters. This is done to minimize the cost function, as the negative gradient indicates the direction of the steepest decrease in the function's value. If the cost function is convex, we are (almost) guarnteed to reach the global minimum, thus we will find the optimal paramenters of the model. "
   ]
  },
  {
   "cell_type": "markdown",
   "metadata": {},
   "source": [
    "A convex loss function is bowl-shaped, and have one minima, which is the global minima. On the contrary, non-convex loss function have multiple minimas, some much \"higher\" than the global minima. See the following illustration: "
   ]
  },
  {
   "cell_type": "markdown",
   "metadata": {},
   "source": [
    "\n",
    "![alt](https://i.pinimg.com/originals/89/f9/bd/89f9bddacf547661dfc209d4b31c2c12.png) "
   ]
  },
  {
   "cell_type": "markdown",
   "metadata": {},
   "source": [
    "In gradient decent, we compute the function gradient (slope) value at a the start point, and apdate the model paramenrs by substracting a portion (we call that portion the learinng rate, 0.1 is very common) of the gradient value. by substracting that minor part, we are decending on the loss function at the direction of the gradient, hence the name **Gradient decent**. The apdated weights will have a smaller loss, and we can repeat the process, denecnding on the loss function with each iteration, until reaching a minima. If the loss function is convex **and the learning rate is set small enough** we are guarnteed to reach a minima, and that the minima we've reached is the global minima, which means we've reached the optimal set of model paramenrs. \n",
    "\n",
    "The process can be imagined as walking down a mountain, blind folded, at the fastest rate possible. Which direction will we go? We will use our foot to estimate the slop in each possible direction, and choose the directing with the maximal neative slope (the gradient). Than we will take a small step in that direction (we are blind folded, remember? be carefull!) - we will repeat that until we will safely reach the bottom. "
   ]
  },
  {
   "cell_type": "markdown",
   "metadata": {},
   "source": [
    "The algorithm:\n",
    "1. Initialize the model's parameters with random values or using some initialization technique.\n",
    "2. Compute the cost or loss function for the current set of parameters.\n",
    "3. Calculate the gradient of the cost function with respect to each parameter. The gradient is a vector that represents the partial derivatives of the function concerning each parameter.\n",
    "4. Update the parameters by taking a step in the direction of the negative gradient. The step size is determined by a hyperparameter called the learning rate. A smaller learning rate leads to slower convergence but potentially better accuracy, while a larger learning rate can speed up convergence but may overshoot the optimal solution.\n",
    "5. Repeat steps 2-4 until the algorithm converges, which is typically determined by a maximum number of iterations, a threshold for the change in the cost function, or a threshold for the change in the parameters."
   ]
  },
  {
   "cell_type": "markdown",
   "metadata": {},
   "source": [
    "## Derivites of the cost function with respect to the model parameters"
   ]
  },
  {
   "cell_type": "markdown",
   "metadata": {},
   "source": [
    "To initialize the gradient decent process, we need the equations for the partial derivatives (i.e., the derivatives in respect to each model parameter. Don't worry, there are only 2 type of such derivatives in logistic regression, one for $b$ and one for any $w_i$)."
   ]
  },
  {
   "cell_type": "markdown",
   "metadata": {},
   "source": [
    "The derivatives with respect to $b$ and $w_i$ are as follows: (see the full deriavion process in the cell below):"
   ]
  },
  {
   "cell_type": "markdown",
   "metadata": {},
   "source": [
    "$\\frac{\\partial}{\\partial w_i}J(z) = -\\frac{1}{N}\\sum_j^N (y_j - \\widehat{y}_i)x_i$\n",
    "\n",
    "$\\frac{\\partial}{\\partial b}J(z) = -\\frac{1}{N}\\sum_j^N (y_j - \\widehat{y}_j)$"
   ]
  },
  {
   "cell_type": "markdown",
   "metadata": {},
   "source": [
    "<details><summary>Click here for the full derivation</summary>\n",
    "\n",
    "    \n",
    "To calculate the derivative of our cost function  $J(z)$,  first let's calculate $\\log(\\widehat{y}_i)$:\n",
    "\n",
    "$\\log(\\widehat{y}_i) = log\\frac{1}{1+e^{-z}} = log(1) - log(1+e^{-z}) = -log(1+e^{-z})$\n",
    "\n",
    "$\\log(1-\\widehat{y}_i) = log \\left(1-\\frac{1}{1+e^{-z}}\\right) = log(e^{-z}) - log(1+e^{-z}) = -z -log(1+e^{-z})$\n",
    "\n",
    "Substituting the previous two equations in the cost function formula, we have:\n",
    "\n",
    "\n",
    "$J(z) = -\\frac{1}{N}\\sum_{i}^N \\left[-y_i\\log(1+e^{-z}) + (1-y_i)(-z -\\log(1+e^{-z}))\\right]$\n",
    "\n",
    "Performing the distributions, we can simplify the above equation to:\n",
    "\n",
    "$J(z) = -\\frac{1}{N}\\sum_{i}^N \\left[y_iz -z -\\log(1+e^{-z})\\right]$\n",
    "\n",
    "Since:\n",
    "\n",
    "$-z -\\log(1+e^{-z}) = -\\left[\\log e^{z} + log(1+e^{-z})\\right] = -log(1+e^z)$\n",
    "\n",
    "We have:\n",
    "\n",
    "$J(z) = -\\frac{1}{N}\\sum_{i}^N \\left[y_iz -\\log(1+e^z)\\right]$\n",
    "\n",
    "As the derivative of the difference is equal to the difference of the derivatives, we can calculate each individual derivative with respect to $w$:\n",
    "\n",
    "$\\frac{\\partial}{\\partial w_i}y_iz = y_ix_i,\\quad \\frac{\\partial}{\\partial w_i}\\log(1+e^z) = \\frac{x_ie^z}{1+e^z} = x_i \\widehat{y}_i$\n",
    "\n",
    "and with respect to $b$:\n",
    "\n",
    "$\\frac{\\partial}{\\partial b}y_iz = y_i,\\quad \\frac{\\partial}{\\partial b}\\log(1+e^z) = \\frac{e^z}{1+e^z} = \\widehat{y}_i$\n",
    "\n",
    "Thus, the derivative of our cost function $J(z)$ is:\n",
    "\n",
    "$\\frac{\\partial}{\\partial w_i}J(z) = -\\frac{1}{N}\\sum_i^N (y_i - \\widehat{y}_i)x_i$\n",
    "    \n",
    "$\\frac{\\partial}{\\partial b}J(z) = -\\frac{1}{N}\\sum_i^N (y_i - \\widehat{y}_i)$\n",
    "</details>"
   ]
  },
  {
   "cell_type": "markdown",
   "metadata": {},
   "source": [
    "Thus the Update rules:\n",
    "\n",
    "$w_i \\leftarrow w_i + \\alpha \\sum_i^N (y_i - \\widehat{y}_i)x_i$\n",
    "\n",
    "$b \\leftarrow b + \\alpha \\sum_i^N (y_i - \\widehat{y}_i)$\n",
    "\n",
    "Where $\\alpha$ is a small number, say 0.01, representing the learning rate.  \n",
    "__Note__: Since we want to update the params in the negative direction of the gradient (thus, decent), we end up adding a small portion of the gradient (since the gradient is negative and we subtract a negative value)"
   ]
  },
  {
   "cell_type": "markdown",
   "metadata": {},
   "source": [
    "### Gradient decent implementation"
   ]
  },
  {
   "cell_type": "code",
   "execution_count": 386,
   "metadata": {},
   "outputs": [],
   "source": [
    "class MyLogisticRegression():\n",
    "    def __init__(self, lr=0.01, max_iter=100):\n",
    "        self.lr = lr\n",
    "        self.max_iter = max_iter\n",
    "        self.w = None\n",
    "        self.b = None\n",
    "    \n",
    "    def fit(self, x, y):\n",
    "        self.w = 2*np.random.random((1, x.shape[1])) -1 \n",
    "        self.b = 2*np.random.random() -1\n",
    "        \n",
    "        for step in range(self.max_iter):\n",
    "            z = self.__calc_z(x)\n",
    "            y_pred = self.__sigmoid(z)\n",
    "            error = y - y_pred\n",
    "            #print(f'Error shape: {error.shape}. Sum error: {error.sum()}')\n",
    "            self.w = self.w + self.lr * np.dot(error.T, x)\n",
    "            self.b = self.b + self.lr * error.sum()\n",
    "    \n",
    "    def predict(self, x):\n",
    "        return self.__sigmoid(np.dot(x, self.w.T) + self.b)\n",
    "    \n",
    "    def __sigmoid(self, z):\n",
    "        return 1.0 / (1.0 + np.exp(-z))\n",
    "    \n",
    "    def __calc_z(self, x):\n",
    "        return np.dot(x, self.w.T) + self.b\n",
    "    \n",
    "    def __cost(self, y, y_pred):\n",
    "        return (-y * np.log(y_pred) - (1 - y) * np.log(1 - y_pred)).mean()"
   ]
  },
  {
   "cell_type": "markdown",
   "metadata": {},
   "source": [
    "### Let's test our code"
   ]
  },
  {
   "cell_type": "code",
   "execution_count": 387,
   "metadata": {},
   "outputs": [
    {
     "data": {
      "application/vnd.plotly.v1+json": {
       "config": {
        "plotlyServerURL": "https://plot.ly"
       },
       "data": [
        {
         "hovertemplate": "color=Decision Boundry<br>x=%{x}<br>decision_boundry=%{y}<extra></extra>",
         "legendgroup": "Decision Boundry",
         "line": {
          "color": "DarkSlateGrey",
          "dash": "solid",
          "width": 3
         },
         "mode": "lines",
         "name": "Decision Boundry",
         "orientation": "v",
         "showlegend": true,
         "type": "scatter",
         "x": [
          0.0236702578735328,
          0.038776453900198,
          0.0561777423868257,
          0.0610611915735516,
          0.0718850593570969,
          0.0750486198063961,
          0.0754329141398512,
          0.0810502699094797,
          0.0827978380426508,
          0.083132269245174,
          0.0863273474942444,
          0.1011788830128437,
          0.1075799175965023,
          0.1361201368368482,
          0.1402865989061298,
          0.1413684856623627,
          0.1606493850643292,
          0.1903287298205178,
          0.2064449881567128,
          0.2131945874301738,
          0.2272535738587824,
          0.2325223099010699,
          0.2334230282476954,
          0.2365301282683289,
          0.2377938103996733,
          0.2588268693396488,
          0.2684640207039969,
          0.2711884114387829,
          0.2951386236610384,
          0.305928649826708,
          0.3077238683035521,
          0.308071754238126,
          0.3307159378035134,
          0.330824526103078,
          0.330905684406375,
          0.3363362620776784,
          0.3387315022336928,
          0.3511294974746674,
          0.3557452466081083,
          0.3615013203945364,
          0.3621220360790241,
          0.3704640316166671,
          0.3738546316783278,
          0.3809716420232629,
          0.3851101255271948,
          0.3960122941636996,
          0.3961714745737489,
          0.4067118620494948,
          0.4107647727249742,
          0.4142440423824671,
          0.4169211372934399,
          0.4206762182303624,
          0.4259104167786249,
          0.4318657845785137,
          0.4372097865051602,
          0.4516531702877615,
          0.4544608253771541,
          0.4713053070851513,
          0.4812065807188262,
          0.4848184028683785,
          0.4853074389541287,
          0.4933792050734338,
          0.49674242673811,
          0.4998630912167897,
          0.5109587574495024,
          0.5118161014842773,
          0.512350213722879,
          0.5177103630586166,
          0.5349452730027258,
          0.5350155119592657,
          0.539920416647375,
          0.542655742412281,
          0.5452200498539387,
          0.556553836255919,
          0.5716883444027653,
          0.5864043175573405,
          0.586706013124196,
          0.5915082566892867,
          0.6207516063571855,
          0.6240486501929623,
          0.6677898768493237,
          0.6984193363798428,
          0.700718826469152,
          0.7066395171441364,
          0.7105568287652556,
          0.7349924865690981,
          0.7529654339534266,
          0.769202354287526,
          0.7878362323031434,
          0.8303498763407451,
          0.8429052355779537,
          0.8434967051306888,
          0.8614705842862636,
          0.8616042399382936,
          0.8696119914057336,
          0.8784562401190512,
          0.9435170522386144,
          0.9763267979976992,
          0.9769672084580472,
          0.9830472954546674
         ],
         "xaxis": "x",
         "y": [
          0.5005602811077996,
          0.5015036133770742,
          0.5031559387396806,
          0.5037284691163819,
          0.5051674617587734,
          0.505632295334845,
          0.5056901245356301,
          0.5065691462523995,
          0.506855481984537,
          0.5069109741898521,
          0.5074524109253921,
          0.5102371663677268,
          0.5115734386700702,
          0.5185286916524823,
          0.5196803298326493,
          0.5199850487384696,
          0.5258082249215471,
          0.5362250253950916,
          0.5426195331350253,
          0.545451932109522,
          0.5516441868315891,
          0.5540666246017292,
          0.5544863101163244,
          0.5559465015786321,
          0.5565458962643958,
          0.5669913482921637,
          0.572072930412556,
          0.5735431544986906,
          0.5871068071765321,
          0.5935923387847926,
          0.5946939791237019,
          0.5949082057593563,
          0.6093730315172573,
          0.6094448670713262,
          0.6094985719724515,
          0.6131220811883847,
          0.6147390306054943,
          0.6232919239968124,
          0.6265546804842639,
          0.6306832046469932,
          0.631132369014018,
          0.6372435987216749,
          0.6397672856273381,
          0.6451393920259012,
          0.6483098087835717,
          0.6568257371287965,
          0.6569518372659386,
          0.6654145387317674,
          0.6687276985117998,
          0.6715981266493672,
          0.6738232347220554,
          0.6769684805845995,
          0.681399683120542,
          0.6865080558896153,
          0.6911523974158877,
          0.7039905862309856,
          0.7065346418024843,
          0.7221286924866288,
          0.7315597733271042,
          0.7350488837598453,
          0.7355233103042154,
          0.7434230399988935,
          0.7467530385216665,
          0.7498631099608046,
          0.7610788518143394,
          0.761955721738564,
          0.7625027415018798,
          0.7680240200182846,
          0.7861664451079609,
          0.7862415980370352,
          0.791514056312675,
          0.7944752547730238,
          0.7972649027627314,
          0.8097521726511803,
          0.8268275631259747,
          0.8438700236498902,
          0.8442239458360893,
          0.8498820177315991,
          0.8853325567950262,
          0.8894367178076582,
          0.9459433196224348,
          0.98778956942926,
          0.9910068737683057,
          0.9993394071896984,
          1.0048910069049368,
          1.040213955313026,
          1.066956944728672,
          1.0916722618414727,
          1.1206859289296125,
          1.1894809171390903,
          1.2104892361647257,
          1.211486691566328,
          1.2421315675905165,
          1.2423618662796447,
          1.256225015596646,
          1.2716853658041,
          1.390224427865044,
          1.45321401648844,
          1.4544649264023095,
          1.4663819851007365
         ],
         "yaxis": "y"
        },
        {
         "marker": {
          "line": {
           "color": "DarkSlateGrey",
           "width": 2
          },
          "size": 12
         },
         "mode": "markers",
         "name": "Class A",
         "type": "scatter",
         "x": [
          0.2588268693396488,
          0.1413684856623627,
          0.49674242673811,
          0.5118161014842773,
          0.3387315022336928,
          0.8616042399382936,
          0.0810502699094797,
          0.2131945874301738,
          0.5109587574495024,
          0.0610611915735516,
          0.6207516063571855,
          0.2377938103996733,
          0.5349452730027258,
          0.4713053070851513,
          0.6984193363798428,
          0.3511294974746674,
          0.1606493850643292,
          0.8784562401190512,
          0.4107647727249742,
          0.2365301282683289,
          0.0827978380426508,
          0.0863273474942444,
          0.8303498763407451,
          0.0561777423868257,
          0.4998630912167897,
          0.6677898768493237,
          0.330824526103078,
          0.1075799175965023,
          0.4516531702877615,
          0.3077238683035521,
          0.3960122941636996,
          0.8614705842862636,
          0.4544608253771541,
          0.769202354287526,
          0.4933792050734338,
          0.0754329141398512,
          0.556553836255919,
          0.3851101255271948,
          0.2272535738587824,
          0.2951386236610384,
          0.4259104167786249,
          0.512350213722879,
          0.3961714745737489,
          0.2684640207039969,
          0.9763267979976992,
          0.1402865989061298,
          0.083132269245174,
          0.8429052355779537,
          0.0236702578735328,
          0.330905684406375
         ],
         "y": [
          0.166604652539922,
          0.5779106588166061,
          1.2648742183251709,
          0.9092413675976934,
          1.163353083588889,
          1.3945585955102773,
          0.5135916627650474,
          1.1578043988623423,
          1.1782717746700182,
          1.0897220930236668,
          0.4859287679467836,
          1.1254983467449955,
          1.4265198534796637,
          0.9747850245310165,
          1.3221408626479283,
          0.7774703965043914,
          0.5728478671493955,
          0.6373766542026849,
          0.803096947031251,
          0.8760964508989624,
          1.1354362561122957,
          0.9366932771917886,
          1.426030896192218,
          0.8045836302718925,
          0.9727298587200172,
          0.8613699260747878,
          1.100833783630843,
          0.598795884338627,
          1.1774282744095457,
          0.7829035798087749,
          0.8980734569476017,
          1.692300651004445,
          0.9958605620447624,
          1.5861630079385962,
          1.3109359723886875,
          0.9399204178818688,
          1.0785078227500913,
          0.3428783706224034,
          0.9137066661713822,
          0.7738203265770311,
          1.153750923503175,
          1.4467806656933029,
          0.5284032723197134,
          0.8595457263871971,
          1.7452272647735236,
          0.7633046615956434,
          1.135105204436177,
          0.9604739315099564,
          1.2437850389644791,
          0.9031611791069036
         ]
        },
        {
         "marker": {
          "line": {
           "color": "DarkSlateGrey",
           "width": 2
          },
          "size": 12
         },
         "mode": "markers",
         "name": "Class B",
         "type": "scatter",
         "x": [
          0.3615013203945364,
          0.4853074389541287,
          0.4812065807188262,
          0.3809716420232629,
          0.2064449881567128,
          0.4142440423824671,
          0.8434967051306888,
          0.4848184028683785,
          0.2711884114387829,
          0.2325223099010699,
          0.038776453900198,
          0.7105568287652556,
          0.5452200498539387,
          0.6240486501929623,
          0.0718850593570969,
          0.586706013124196,
          0.9435170522386144,
          0.3738546316783278,
          0.2334230282476954,
          0.9830472954546674,
          0.5716883444027653,
          0.305928649826708,
          0.5864043175573405,
          0.3363362620776784,
          0.4372097865051602,
          0.7066395171441364,
          0.700718826469152,
          0.8696119914057336,
          0.7529654339534266,
          0.308071754238126,
          0.7349924865690981,
          0.1011788830128437,
          0.1361201368368482,
          0.3307159378035134,
          0.3557452466081083,
          0.4067118620494948,
          0.5350155119592657,
          0.3621220360790241,
          0.4318657845785137,
          0.542655742412281,
          0.4169211372934399,
          0.3704640316166671,
          0.9769672084580472,
          0.0750486198063961,
          0.539920416647375,
          0.7878362323031434,
          0.5177103630586166,
          0.1903287298205178,
          0.4206762182303624,
          0.5915082566892867
         ],
         "y": [
          0.3067159658069716,
          1.0738369249338156,
          0.500905046947709,
          0.6743734882237187,
          0.1272514820800621,
          0.3170689698178357,
          0.9411940363247562,
          0.2589656651259076,
          0.3175436488603191,
          0.1693072751317264,
          0.8133610059182825,
          0.7363758829984075,
          0.2367412238283459,
          0.2386464096862264,
          0.052462651538194,
          0.2102546218736292,
          1.5499023140252357,
          0.5988823378835026,
          0.0343396767385488,
          0.9898210502806246,
          0.3541822824998359,
          0.1095923125776441,
          0.8221140413401824,
          0.4867806123626077,
          0.5303949474482252,
          0.6408837114432777,
          1.3898216087029642,
          0.7663987243270738,
          0.889152082376427,
          0.1235639713923248,
          0.95440703278019,
          0.9952421543529346,
          0.049951531501359,
          0.1620669630582774,
          0.0884472850240674,
          0.3075503768691929,
          0.529003652536091,
          0.0245680610318004,
          0.2034581724558994,
          0.7576981724291334,
          0.6420924135371515,
          0.3551671597706611,
          0.8674016902954909,
          0.6691996929407156,
          0.1213998565316791,
          1.097324445056258,
          0.6045057072071875,
          0.0150145569454698,
          0.5943163845938311,
          0.1324175473399258
         ]
        }
       ],
       "layout": {
        "autosize": true,
        "legend": {
         "title": {
          "text": "color"
         },
         "tracegroupgap": 0
        },
        "margin": {
         "t": 60
        },
        "template": {
         "data": {
          "bar": [
           {
            "error_x": {
             "color": "#2a3f5f"
            },
            "error_y": {
             "color": "#2a3f5f"
            },
            "marker": {
             "line": {
              "color": "white",
              "width": 0.5
             },
             "pattern": {
              "fillmode": "overlay",
              "size": 10,
              "solidity": 0.2
             }
            },
            "type": "bar"
           }
          ],
          "barpolar": [
           {
            "marker": {
             "line": {
              "color": "white",
              "width": 0.5
             },
             "pattern": {
              "fillmode": "overlay",
              "size": 10,
              "solidity": 0.2
             }
            },
            "type": "barpolar"
           }
          ],
          "carpet": [
           {
            "aaxis": {
             "endlinecolor": "#2a3f5f",
             "gridcolor": "#C8D4E3",
             "linecolor": "#C8D4E3",
             "minorgridcolor": "#C8D4E3",
             "startlinecolor": "#2a3f5f"
            },
            "baxis": {
             "endlinecolor": "#2a3f5f",
             "gridcolor": "#C8D4E3",
             "linecolor": "#C8D4E3",
             "minorgridcolor": "#C8D4E3",
             "startlinecolor": "#2a3f5f"
            },
            "type": "carpet"
           }
          ],
          "choropleth": [
           {
            "colorbar": {
             "outlinewidth": 0,
             "ticks": ""
            },
            "type": "choropleth"
           }
          ],
          "contour": [
           {
            "colorbar": {
             "outlinewidth": 0,
             "ticks": ""
            },
            "colorscale": [
             [
              0,
              "#0d0887"
             ],
             [
              0.1111111111111111,
              "#46039f"
             ],
             [
              0.2222222222222222,
              "#7201a8"
             ],
             [
              0.3333333333333333,
              "#9c179e"
             ],
             [
              0.4444444444444444,
              "#bd3786"
             ],
             [
              0.5555555555555556,
              "#d8576b"
             ],
             [
              0.6666666666666666,
              "#ed7953"
             ],
             [
              0.7777777777777778,
              "#fb9f3a"
             ],
             [
              0.8888888888888888,
              "#fdca26"
             ],
             [
              1,
              "#f0f921"
             ]
            ],
            "type": "contour"
           }
          ],
          "contourcarpet": [
           {
            "colorbar": {
             "outlinewidth": 0,
             "ticks": ""
            },
            "type": "contourcarpet"
           }
          ],
          "heatmap": [
           {
            "colorbar": {
             "outlinewidth": 0,
             "ticks": ""
            },
            "colorscale": [
             [
              0,
              "#0d0887"
             ],
             [
              0.1111111111111111,
              "#46039f"
             ],
             [
              0.2222222222222222,
              "#7201a8"
             ],
             [
              0.3333333333333333,
              "#9c179e"
             ],
             [
              0.4444444444444444,
              "#bd3786"
             ],
             [
              0.5555555555555556,
              "#d8576b"
             ],
             [
              0.6666666666666666,
              "#ed7953"
             ],
             [
              0.7777777777777778,
              "#fb9f3a"
             ],
             [
              0.8888888888888888,
              "#fdca26"
             ],
             [
              1,
              "#f0f921"
             ]
            ],
            "type": "heatmap"
           }
          ],
          "heatmapgl": [
           {
            "colorbar": {
             "outlinewidth": 0,
             "ticks": ""
            },
            "colorscale": [
             [
              0,
              "#0d0887"
             ],
             [
              0.1111111111111111,
              "#46039f"
             ],
             [
              0.2222222222222222,
              "#7201a8"
             ],
             [
              0.3333333333333333,
              "#9c179e"
             ],
             [
              0.4444444444444444,
              "#bd3786"
             ],
             [
              0.5555555555555556,
              "#d8576b"
             ],
             [
              0.6666666666666666,
              "#ed7953"
             ],
             [
              0.7777777777777778,
              "#fb9f3a"
             ],
             [
              0.8888888888888888,
              "#fdca26"
             ],
             [
              1,
              "#f0f921"
             ]
            ],
            "type": "heatmapgl"
           }
          ],
          "histogram": [
           {
            "marker": {
             "pattern": {
              "fillmode": "overlay",
              "size": 10,
              "solidity": 0.2
             }
            },
            "type": "histogram"
           }
          ],
          "histogram2d": [
           {
            "colorbar": {
             "outlinewidth": 0,
             "ticks": ""
            },
            "colorscale": [
             [
              0,
              "#0d0887"
             ],
             [
              0.1111111111111111,
              "#46039f"
             ],
             [
              0.2222222222222222,
              "#7201a8"
             ],
             [
              0.3333333333333333,
              "#9c179e"
             ],
             [
              0.4444444444444444,
              "#bd3786"
             ],
             [
              0.5555555555555556,
              "#d8576b"
             ],
             [
              0.6666666666666666,
              "#ed7953"
             ],
             [
              0.7777777777777778,
              "#fb9f3a"
             ],
             [
              0.8888888888888888,
              "#fdca26"
             ],
             [
              1,
              "#f0f921"
             ]
            ],
            "type": "histogram2d"
           }
          ],
          "histogram2dcontour": [
           {
            "colorbar": {
             "outlinewidth": 0,
             "ticks": ""
            },
            "colorscale": [
             [
              0,
              "#0d0887"
             ],
             [
              0.1111111111111111,
              "#46039f"
             ],
             [
              0.2222222222222222,
              "#7201a8"
             ],
             [
              0.3333333333333333,
              "#9c179e"
             ],
             [
              0.4444444444444444,
              "#bd3786"
             ],
             [
              0.5555555555555556,
              "#d8576b"
             ],
             [
              0.6666666666666666,
              "#ed7953"
             ],
             [
              0.7777777777777778,
              "#fb9f3a"
             ],
             [
              0.8888888888888888,
              "#fdca26"
             ],
             [
              1,
              "#f0f921"
             ]
            ],
            "type": "histogram2dcontour"
           }
          ],
          "mesh3d": [
           {
            "colorbar": {
             "outlinewidth": 0,
             "ticks": ""
            },
            "type": "mesh3d"
           }
          ],
          "parcoords": [
           {
            "line": {
             "colorbar": {
              "outlinewidth": 0,
              "ticks": ""
             }
            },
            "type": "parcoords"
           }
          ],
          "pie": [
           {
            "automargin": true,
            "type": "pie"
           }
          ],
          "scatter": [
           {
            "marker": {
             "colorbar": {
              "outlinewidth": 0,
              "ticks": ""
             }
            },
            "type": "scatter"
           }
          ],
          "scatter3d": [
           {
            "line": {
             "colorbar": {
              "outlinewidth": 0,
              "ticks": ""
             }
            },
            "marker": {
             "colorbar": {
              "outlinewidth": 0,
              "ticks": ""
             }
            },
            "type": "scatter3d"
           }
          ],
          "scattercarpet": [
           {
            "marker": {
             "colorbar": {
              "outlinewidth": 0,
              "ticks": ""
             }
            },
            "type": "scattercarpet"
           }
          ],
          "scattergeo": [
           {
            "marker": {
             "colorbar": {
              "outlinewidth": 0,
              "ticks": ""
             }
            },
            "type": "scattergeo"
           }
          ],
          "scattergl": [
           {
            "marker": {
             "colorbar": {
              "outlinewidth": 0,
              "ticks": ""
             }
            },
            "type": "scattergl"
           }
          ],
          "scattermapbox": [
           {
            "marker": {
             "colorbar": {
              "outlinewidth": 0,
              "ticks": ""
             }
            },
            "type": "scattermapbox"
           }
          ],
          "scatterpolar": [
           {
            "marker": {
             "colorbar": {
              "outlinewidth": 0,
              "ticks": ""
             }
            },
            "type": "scatterpolar"
           }
          ],
          "scatterpolargl": [
           {
            "marker": {
             "colorbar": {
              "outlinewidth": 0,
              "ticks": ""
             }
            },
            "type": "scatterpolargl"
           }
          ],
          "scatterternary": [
           {
            "marker": {
             "colorbar": {
              "outlinewidth": 0,
              "ticks": ""
             }
            },
            "type": "scatterternary"
           }
          ],
          "surface": [
           {
            "colorbar": {
             "outlinewidth": 0,
             "ticks": ""
            },
            "colorscale": [
             [
              0,
              "#0d0887"
             ],
             [
              0.1111111111111111,
              "#46039f"
             ],
             [
              0.2222222222222222,
              "#7201a8"
             ],
             [
              0.3333333333333333,
              "#9c179e"
             ],
             [
              0.4444444444444444,
              "#bd3786"
             ],
             [
              0.5555555555555556,
              "#d8576b"
             ],
             [
              0.6666666666666666,
              "#ed7953"
             ],
             [
              0.7777777777777778,
              "#fb9f3a"
             ],
             [
              0.8888888888888888,
              "#fdca26"
             ],
             [
              1,
              "#f0f921"
             ]
            ],
            "type": "surface"
           }
          ],
          "table": [
           {
            "cells": {
             "fill": {
              "color": "#EBF0F8"
             },
             "line": {
              "color": "white"
             }
            },
            "header": {
             "fill": {
              "color": "#C8D4E3"
             },
             "line": {
              "color": "white"
             }
            },
            "type": "table"
           }
          ]
         },
         "layout": {
          "annotationdefaults": {
           "arrowcolor": "#2a3f5f",
           "arrowhead": 0,
           "arrowwidth": 1
          },
          "autotypenumbers": "strict",
          "coloraxis": {
           "colorbar": {
            "outlinewidth": 0,
            "ticks": ""
           }
          },
          "colorscale": {
           "diverging": [
            [
             0,
             "#8e0152"
            ],
            [
             0.1,
             "#c51b7d"
            ],
            [
             0.2,
             "#de77ae"
            ],
            [
             0.3,
             "#f1b6da"
            ],
            [
             0.4,
             "#fde0ef"
            ],
            [
             0.5,
             "#f7f7f7"
            ],
            [
             0.6,
             "#e6f5d0"
            ],
            [
             0.7,
             "#b8e186"
            ],
            [
             0.8,
             "#7fbc41"
            ],
            [
             0.9,
             "#4d9221"
            ],
            [
             1,
             "#276419"
            ]
           ],
           "sequential": [
            [
             0,
             "#0d0887"
            ],
            [
             0.1111111111111111,
             "#46039f"
            ],
            [
             0.2222222222222222,
             "#7201a8"
            ],
            [
             0.3333333333333333,
             "#9c179e"
            ],
            [
             0.4444444444444444,
             "#bd3786"
            ],
            [
             0.5555555555555556,
             "#d8576b"
            ],
            [
             0.6666666666666666,
             "#ed7953"
            ],
            [
             0.7777777777777778,
             "#fb9f3a"
            ],
            [
             0.8888888888888888,
             "#fdca26"
            ],
            [
             1,
             "#f0f921"
            ]
           ],
           "sequentialminus": [
            [
             0,
             "#0d0887"
            ],
            [
             0.1111111111111111,
             "#46039f"
            ],
            [
             0.2222222222222222,
             "#7201a8"
            ],
            [
             0.3333333333333333,
             "#9c179e"
            ],
            [
             0.4444444444444444,
             "#bd3786"
            ],
            [
             0.5555555555555556,
             "#d8576b"
            ],
            [
             0.6666666666666666,
             "#ed7953"
            ],
            [
             0.7777777777777778,
             "#fb9f3a"
            ],
            [
             0.8888888888888888,
             "#fdca26"
            ],
            [
             1,
             "#f0f921"
            ]
           ]
          },
          "colorway": [
           "#636efa",
           "#EF553B",
           "#00cc96",
           "#ab63fa",
           "#FFA15A",
           "#19d3f3",
           "#FF6692",
           "#B6E880",
           "#FF97FF",
           "#FECB52"
          ],
          "font": {
           "color": "#2a3f5f"
          },
          "geo": {
           "bgcolor": "white",
           "lakecolor": "white",
           "landcolor": "white",
           "showlakes": true,
           "showland": true,
           "subunitcolor": "#C8D4E3"
          },
          "hoverlabel": {
           "align": "left"
          },
          "hovermode": "closest",
          "mapbox": {
           "style": "light"
          },
          "paper_bgcolor": "white",
          "plot_bgcolor": "white",
          "polar": {
           "angularaxis": {
            "gridcolor": "#EBF0F8",
            "linecolor": "#EBF0F8",
            "ticks": ""
           },
           "bgcolor": "white",
           "radialaxis": {
            "gridcolor": "#EBF0F8",
            "linecolor": "#EBF0F8",
            "ticks": ""
           }
          },
          "scene": {
           "xaxis": {
            "backgroundcolor": "white",
            "gridcolor": "#DFE8F3",
            "gridwidth": 2,
            "linecolor": "#EBF0F8",
            "showbackground": true,
            "ticks": "",
            "zerolinecolor": "#EBF0F8"
           },
           "yaxis": {
            "backgroundcolor": "white",
            "gridcolor": "#DFE8F3",
            "gridwidth": 2,
            "linecolor": "#EBF0F8",
            "showbackground": true,
            "ticks": "",
            "zerolinecolor": "#EBF0F8"
           },
           "zaxis": {
            "backgroundcolor": "white",
            "gridcolor": "#DFE8F3",
            "gridwidth": 2,
            "linecolor": "#EBF0F8",
            "showbackground": true,
            "ticks": "",
            "zerolinecolor": "#EBF0F8"
           }
          },
          "shapedefaults": {
           "line": {
            "color": "#2a3f5f"
           }
          },
          "ternary": {
           "aaxis": {
            "gridcolor": "#DFE8F3",
            "linecolor": "#A2B1C6",
            "ticks": ""
           },
           "baxis": {
            "gridcolor": "#DFE8F3",
            "linecolor": "#A2B1C6",
            "ticks": ""
           },
           "bgcolor": "white",
           "caxis": {
            "gridcolor": "#DFE8F3",
            "linecolor": "#A2B1C6",
            "ticks": ""
           }
          },
          "title": {
           "x": 0.05
          },
          "xaxis": {
           "automargin": true,
           "gridcolor": "#EBF0F8",
           "linecolor": "#EBF0F8",
           "ticks": "",
           "title": {
            "standoff": 15
           },
           "zerolinecolor": "#EBF0F8",
           "zerolinewidth": 2
          },
          "yaxis": {
           "automargin": true,
           "gridcolor": "#EBF0F8",
           "linecolor": "#EBF0F8",
           "ticks": "",
           "title": {
            "standoff": 15
           },
           "zerolinecolor": "#EBF0F8",
           "zerolinewidth": 2
          }
         }
        },
        "title": {
         "text": "None",
         "x": 0.5
        },
        "xaxis": {
         "anchor": "y",
         "autorange": true,
         "domain": [
          0,
          1
         ],
         "range": [
          -0.05122438390414086,
          1.057941937232341
         ],
         "title": {
          "text": "x"
         },
         "type": "linear"
        },
        "yaxis": {
         "anchor": "x",
         "autorange": true,
         "domain": [
          0,
          1
         ],
         "range": [
          -0.15989765668742087,
          1.9201394784064143
         ],
         "title": {
          "text": "decision_boundry"
         },
         "type": "linear"
        }
       }
      },
      "image/png": "[encoded data removed]",
      "text/html": [
       "<div>                            <div id=\"5e454fcb-579c-40e0-a8bf-ec20beab1d20\" class=\"plotly-graph-div\" style=\"height:525px; width:100%;\"></div>            <script type=\"text/javascript\">                require([\"plotly\"], function(Plotly) {                    window.PLOTLYENV=window.PLOTLYENV || {};                                    if (document.getElementById(\"5e454fcb-579c-40e0-a8bf-ec20beab1d20\")) {                    Plotly.newPlot(                        \"5e454fcb-579c-40e0-a8bf-ec20beab1d20\",                        [{\"hovertemplate\":\"color=Decision Boundry<br>x=%{x}<br>decision_boundry=%{y}<extra></extra>\",\"legendgroup\":\"Decision Boundry\",\"line\":{\"color\":\"DarkSlateGrey\",\"dash\":\"solid\",\"width\":3},\"mode\":\"lines\",\"name\":\"Decision Boundry\",\"orientation\":\"v\",\"showlegend\":true,\"type\":\"scatter\",\"x\":[0.0236702578735328,0.038776453900198,0.0561777423868257,0.0610611915735516,0.0718850593570969,0.0750486198063961,0.0754329141398512,0.0810502699094797,0.0827978380426508,0.083132269245174,0.0863273474942444,0.1011788830128437,0.1075799175965023,0.1361201368368482,0.1402865989061298,0.1413684856623627,0.1606493850643292,0.1903287298205178,0.2064449881567128,0.2131945874301738,0.2272535738587824,0.2325223099010699,0.2334230282476954,0.2365301282683289,0.2377938103996733,0.2588268693396488,0.2684640207039969,0.2711884114387829,0.2951386236610384,0.305928649826708,0.3077238683035521,0.308071754238126,0.3307159378035134,0.330824526103078,0.330905684406375,0.3363362620776784,0.3387315022336928,0.3511294974746674,0.3557452466081083,0.3615013203945364,0.3621220360790241,0.3704640316166671,0.3738546316783278,0.3809716420232629,0.3851101255271948,0.3960122941636996,0.3961714745737489,0.4067118620494948,0.4107647727249742,0.4142440423824671,0.4169211372934399,0.4206762182303624,0.4259104167786249,0.4318657845785137,0.4372097865051602,0.4516531702877615,0.4544608253771541,0.4713053070851513,0.4812065807188262,0.4848184028683785,0.4853074389541287,0.4933792050734338,0.49674242673811,0.4998630912167897,0.5109587574495024,0.5118161014842773,0.512350213722879,0.5177103630586166,0.5349452730027258,0.5350155119592657,0.539920416647375,0.542655742412281,0.5452200498539387,0.556553836255919,0.5716883444027653,0.5864043175573405,0.586706013124196,0.5915082566892867,0.6207516063571855,0.6240486501929623,0.6677898768493237,0.6984193363798428,0.700718826469152,0.7066395171441364,0.7105568287652556,0.7349924865690981,0.7529654339534266,0.769202354287526,0.7878362323031434,0.8303498763407451,0.8429052355779537,0.8434967051306888,0.8614705842862636,0.8616042399382936,0.8696119914057336,0.8784562401190512,0.9435170522386144,0.9763267979976992,0.9769672084580472,0.9830472954546674],\"xaxis\":\"x\",\"y\":[0.5005602811077996,0.5015036133770742,0.5031559387396806,0.5037284691163819,0.5051674617587734,0.505632295334845,0.5056901245356301,0.5065691462523995,0.506855481984537,0.5069109741898521,0.5074524109253921,0.5102371663677268,0.5115734386700702,0.5185286916524823,0.5196803298326493,0.5199850487384696,0.5258082249215471,0.5362250253950916,0.5426195331350253,0.545451932109522,0.5516441868315891,0.5540666246017292,0.5544863101163244,0.5559465015786321,0.5565458962643958,0.5669913482921637,0.572072930412556,0.5735431544986906,0.5871068071765321,0.5935923387847926,0.5946939791237019,0.5949082057593563,0.6093730315172573,0.6094448670713262,0.6094985719724515,0.6131220811883847,0.6147390306054943,0.6232919239968124,0.6265546804842639,0.6306832046469932,0.631132369014018,0.6372435987216749,0.6397672856273381,0.6451393920259012,0.6483098087835717,0.6568257371287965,0.6569518372659386,0.6654145387317674,0.6687276985117998,0.6715981266493672,0.6738232347220554,0.6769684805845995,0.681399683120542,0.6865080558896153,0.6911523974158877,0.7039905862309856,0.7065346418024843,0.7221286924866288,0.7315597733271042,0.7350488837598453,0.7355233103042154,0.7434230399988935,0.7467530385216665,0.7498631099608046,0.7610788518143394,0.761955721738564,0.7625027415018798,0.7680240200182846,0.7861664451079609,0.7862415980370352,0.791514056312675,0.7944752547730238,0.7972649027627314,0.8097521726511803,0.8268275631259747,0.8438700236498902,0.8442239458360893,0.8498820177315991,0.8853325567950262,0.8894367178076582,0.9459433196224348,0.98778956942926,0.9910068737683057,0.9993394071896984,1.0048910069049368,1.040213955313026,1.066956944728672,1.0916722618414727,1.1206859289296125,1.1894809171390903,1.2104892361647257,1.211486691566328,1.2421315675905165,1.2423618662796447,1.256225015596646,1.2716853658041,1.390224427865044,1.45321401648844,1.4544649264023095,1.4663819851007365],\"yaxis\":\"y\"},{\"marker\":{\"line\":{\"color\":\"DarkSlateGrey\",\"width\":2},\"size\":12},\"mode\":\"markers\",\"name\":\"Class A\",\"type\":\"scatter\",\"x\":[0.2588268693396488,0.1413684856623627,0.49674242673811,0.5118161014842773,0.3387315022336928,0.8616042399382936,0.0810502699094797,0.2131945874301738,0.5109587574495024,0.0610611915735516,0.6207516063571855,0.2377938103996733,0.5349452730027258,0.4713053070851513,0.6984193363798428,0.3511294974746674,0.1606493850643292,0.8784562401190512,0.4107647727249742,0.2365301282683289,0.0827978380426508,0.0863273474942444,0.8303498763407451,0.0561777423868257,0.4998630912167897,0.6677898768493237,0.330824526103078,0.1075799175965023,0.4516531702877615,0.3077238683035521,0.3960122941636996,0.8614705842862636,0.4544608253771541,0.769202354287526,0.4933792050734338,0.0754329141398512,0.556553836255919,0.3851101255271948,0.2272535738587824,0.2951386236610384,0.4259104167786249,0.512350213722879,0.3961714745737489,0.2684640207039969,0.9763267979976992,0.1402865989061298,0.083132269245174,0.8429052355779537,0.0236702578735328,0.330905684406375],\"y\":[0.166604652539922,0.5779106588166061,1.2648742183251709,0.9092413675976934,1.163353083588889,1.3945585955102773,0.5135916627650474,1.1578043988623423,1.1782717746700182,1.0897220930236668,0.4859287679467836,1.1254983467449955,1.4265198534796637,0.9747850245310165,1.3221408626479283,0.7774703965043914,0.5728478671493955,0.6373766542026849,0.803096947031251,0.8760964508989624,1.1354362561122957,0.9366932771917886,1.426030896192218,0.8045836302718925,0.9727298587200172,0.8613699260747878,1.100833783630843,0.598795884338627,1.1774282744095457,0.7829035798087749,0.8980734569476017,1.692300651004445,0.9958605620447624,1.5861630079385962,1.3109359723886875,0.9399204178818688,1.0785078227500913,0.3428783706224034,0.9137066661713822,0.7738203265770311,1.153750923503175,1.4467806656933029,0.5284032723197134,0.8595457263871971,1.7452272647735236,0.7633046615956434,1.135105204436177,0.9604739315099564,1.2437850389644791,0.9031611791069036]},{\"marker\":{\"line\":{\"color\":\"DarkSlateGrey\",\"width\":2},\"size\":12},\"mode\":\"markers\",\"name\":\"Class B\",\"type\":\"scatter\",\"x\":[0.3615013203945364,0.4853074389541287,0.4812065807188262,0.3809716420232629,0.2064449881567128,0.4142440423824671,0.8434967051306888,0.4848184028683785,0.2711884114387829,0.2325223099010699,0.038776453900198,0.7105568287652556,0.5452200498539387,0.6240486501929623,0.0718850593570969,0.586706013124196,0.9435170522386144,0.3738546316783278,0.2334230282476954,0.9830472954546674,0.5716883444027653,0.305928649826708,0.5864043175573405,0.3363362620776784,0.4372097865051602,0.7066395171441364,0.700718826469152,0.8696119914057336,0.7529654339534266,0.308071754238126,0.7349924865690981,0.1011788830128437,0.1361201368368482,0.3307159378035134,0.3557452466081083,0.4067118620494948,0.5350155119592657,0.3621220360790241,0.4318657845785137,0.542655742412281,0.4169211372934399,0.3704640316166671,0.9769672084580472,0.0750486198063961,0.539920416647375,0.7878362323031434,0.5177103630586166,0.1903287298205178,0.4206762182303624,0.5915082566892867],\"y\":[0.3067159658069716,1.0738369249338156,0.500905046947709,0.6743734882237187,0.1272514820800621,0.3170689698178357,0.9411940363247562,0.2589656651259076,0.3175436488603191,0.1693072751317264,0.8133610059182825,0.7363758829984075,0.2367412238283459,0.2386464096862264,0.052462651538194,0.2102546218736292,1.5499023140252357,0.5988823378835026,0.0343396767385488,0.9898210502806246,0.3541822824998359,0.1095923125776441,0.8221140413401824,0.4867806123626077,0.5303949474482252,0.6408837114432777,1.3898216087029642,0.7663987243270738,0.889152082376427,0.1235639713923248,0.95440703278019,0.9952421543529346,0.049951531501359,0.1620669630582774,0.0884472850240674,0.3075503768691929,0.529003652536091,0.0245680610318004,0.2034581724558994,0.7576981724291334,0.6420924135371515,0.3551671597706611,0.8674016902954909,0.6691996929407156,0.1213998565316791,1.097324445056258,0.6045057072071875,0.0150145569454698,0.5943163845938311,0.1324175473399258]}],                        {\"legend\":{\"title\":{\"text\":\"color\"},\"tracegroupgap\":0},\"margin\":{\"t\":60},\"template\":{\"data\":{\"bar\":[{\"error_x\":{\"color\":\"#2a3f5f\"},\"error_y\":{\"color\":\"#2a3f5f\"},\"marker\":{\"line\":{\"color\":\"white\",\"width\":0.5},\"pattern\":{\"fillmode\":\"overlay\",\"size\":10,\"solidity\":0.2}},\"type\":\"bar\"}],\"barpolar\":[{\"marker\":{\"line\":{\"color\":\"white\",\"width\":0.5},\"pattern\":{\"fillmode\":\"overlay\",\"size\":10,\"solidity\":0.2}},\"type\":\"barpolar\"}],\"carpet\":[{\"aaxis\":{\"endlinecolor\":\"#2a3f5f\",\"gridcolor\":\"#C8D4E3\",\"linecolor\":\"#C8D4E3\",\"minorgridcolor\":\"#C8D4E3\",\"startlinecolor\":\"#2a3f5f\"},\"baxis\":{\"endlinecolor\":\"#2a3f5f\",\"gridcolor\":\"#C8D4E3\",\"linecolor\":\"#C8D4E3\",\"minorgridcolor\":\"#C8D4E3\",\"startlinecolor\":\"#2a3f5f\"},\"type\":\"carpet\"}],\"choropleth\":[{\"colorbar\":{\"outlinewidth\":0,\"ticks\":\"\"},\"type\":\"choropleth\"}],\"contour\":[{\"colorbar\":{\"outlinewidth\":0,\"ticks\":\"\"},\"colorscale\":[[0.0,\"#0d0887\"],[0.1111111111111111,\"#46039f\"],[0.2222222222222222,\"#7201a8\"],[0.3333333333333333,\"#9c179e\"],[0.4444444444444444,\"#bd3786\"],[0.5555555555555556,\"#d8576b\"],[0.6666666666666666,\"#ed7953\"],[0.7777777777777778,\"#fb9f3a\"],[0.8888888888888888,\"#fdca26\"],[1.0,\"#f0f921\"]],\"type\":\"contour\"}],\"contourcarpet\":[{\"colorbar\":{\"outlinewidth\":0,\"ticks\":\"\"},\"type\":\"contourcarpet\"}],\"heatmap\":[{\"colorbar\":{\"outlinewidth\":0,\"ticks\":\"\"},\"colorscale\":[[0.0,\"#0d0887\"],[0.1111111111111111,\"#46039f\"],[0.2222222222222222,\"#7201a8\"],[0.3333333333333333,\"#9c179e\"],[0.4444444444444444,\"#bd3786\"],[0.5555555555555556,\"#d8576b\"],[0.6666666666666666,\"#ed7953\"],[0.7777777777777778,\"#fb9f3a\"],[0.8888888888888888,\"#fdca26\"],[1.0,\"#f0f921\"]],\"type\":\"heatmap\"}],\"heatmapgl\":[{\"colorbar\":{\"outlinewidth\":0,\"ticks\":\"\"},\"colorscale\":[[0.0,\"#0d0887\"],[0.1111111111111111,\"#46039f\"],[0.2222222222222222,\"#7201a8\"],[0.3333333333333333,\"#9c179e\"],[0.4444444444444444,\"#bd3786\"],[0.5555555555555556,\"#d8576b\"],[0.6666666666666666,\"#ed7953\"],[0.7777777777777778,\"#fb9f3a\"],[0.8888888888888888,\"#fdca26\"],[1.0,\"#f0f921\"]],\"type\":\"heatmapgl\"}],\"histogram\":[{\"marker\":{\"pattern\":{\"fillmode\":\"overlay\",\"size\":10,\"solidity\":0.2}},\"type\":\"histogram\"}],\"histogram2d\":[{\"colorbar\":{\"outlinewidth\":0,\"ticks\":\"\"},\"colorscale\":[[0.0,\"#0d0887\"],[0.1111111111111111,\"#46039f\"],[0.2222222222222222,\"#7201a8\"],[0.3333333333333333,\"#9c179e\"],[0.4444444444444444,\"#bd3786\"],[0.5555555555555556,\"#d8576b\"],[0.6666666666666666,\"#ed7953\"],[0.7777777777777778,\"#fb9f3a\"],[0.8888888888888888,\"#fdca26\"],[1.0,\"#f0f921\"]],\"type\":\"histogram2d\"}],\"histogram2dcontour\":[{\"colorbar\":{\"outlinewidth\":0,\"ticks\":\"\"},\"colorscale\":[[0.0,\"#0d0887\"],[0.1111111111111111,\"#46039f\"],[0.2222222222222222,\"#7201a8\"],[0.3333333333333333,\"#9c179e\"],[0.4444444444444444,\"#bd3786\"],[0.5555555555555556,\"#d8576b\"],[0.6666666666666666,\"#ed7953\"],[0.7777777777777778,\"#fb9f3a\"],[0.8888888888888888,\"#fdca26\"],[1.0,\"#f0f921\"]],\"type\":\"histogram2dcontour\"}],\"mesh3d\":[{\"colorbar\":{\"outlinewidth\":0,\"ticks\":\"\"},\"type\":\"mesh3d\"}],\"parcoords\":[{\"line\":{\"colorbar\":{\"outlinewidth\":0,\"ticks\":\"\"}},\"type\":\"parcoords\"}],\"pie\":[{\"automargin\":true,\"type\":\"pie\"}],\"scatter\":[{\"marker\":{\"colorbar\":{\"outlinewidth\":0,\"ticks\":\"\"}},\"type\":\"scatter\"}],\"scatter3d\":[{\"line\":{\"colorbar\":{\"outlinewidth\":0,\"ticks\":\"\"}},\"marker\":{\"colorbar\":{\"outlinewidth\":0,\"ticks\":\"\"}},\"type\":\"scatter3d\"}],\"scattercarpet\":[{\"marker\":{\"colorbar\":{\"outlinewidth\":0,\"ticks\":\"\"}},\"type\":\"scattercarpet\"}],\"scattergeo\":[{\"marker\":{\"colorbar\":{\"outlinewidth\":0,\"ticks\":\"\"}},\"type\":\"scattergeo\"}],\"scattergl\":[{\"marker\":{\"colorbar\":{\"outlinewidth\":0,\"ticks\":\"\"}},\"type\":\"scattergl\"}],\"scattermapbox\":[{\"marker\":{\"colorbar\":{\"outlinewidth\":0,\"ticks\":\"\"}},\"type\":\"scattermapbox\"}],\"scatterpolar\":[{\"marker\":{\"colorbar\":{\"outlinewidth\":0,\"ticks\":\"\"}},\"type\":\"scatterpolar\"}],\"scatterpolargl\":[{\"marker\":{\"colorbar\":{\"outlinewidth\":0,\"ticks\":\"\"}},\"type\":\"scatterpolargl\"}],\"scatterternary\":[{\"marker\":{\"colorbar\":{\"outlinewidth\":0,\"ticks\":\"\"}},\"type\":\"scatterternary\"}],\"surface\":[{\"colorbar\":{\"outlinewidth\":0,\"ticks\":\"\"},\"colorscale\":[[0.0,\"#0d0887\"],[0.1111111111111111,\"#46039f\"],[0.2222222222222222,\"#7201a8\"],[0.3333333333333333,\"#9c179e\"],[0.4444444444444444,\"#bd3786\"],[0.5555555555555556,\"#d8576b\"],[0.6666666666666666,\"#ed7953\"],[0.7777777777777778,\"#fb9f3a\"],[0.8888888888888888,\"#fdca26\"],[1.0,\"#f0f921\"]],\"type\":\"surface\"}],\"table\":[{\"cells\":{\"fill\":{\"color\":\"#EBF0F8\"},\"line\":{\"color\":\"white\"}},\"header\":{\"fill\":{\"color\":\"#C8D4E3\"},\"line\":{\"color\":\"white\"}},\"type\":\"table\"}]},\"layout\":{\"annotationdefaults\":{\"arrowcolor\":\"#2a3f5f\",\"arrowhead\":0,\"arrowwidth\":1},\"autotypenumbers\":\"strict\",\"coloraxis\":{\"colorbar\":{\"outlinewidth\":0,\"ticks\":\"\"}},\"colorscale\":{\"diverging\":[[0,\"#8e0152\"],[0.1,\"#c51b7d\"],[0.2,\"#de77ae\"],[0.3,\"#f1b6da\"],[0.4,\"#fde0ef\"],[0.5,\"#f7f7f7\"],[0.6,\"#e6f5d0\"],[0.7,\"#b8e186\"],[0.8,\"#7fbc41\"],[0.9,\"#4d9221\"],[1,\"#276419\"]],\"sequential\":[[0.0,\"#0d0887\"],[0.1111111111111111,\"#46039f\"],[0.2222222222222222,\"#7201a8\"],[0.3333333333333333,\"#9c179e\"],[0.4444444444444444,\"#bd3786\"],[0.5555555555555556,\"#d8576b\"],[0.6666666666666666,\"#ed7953\"],[0.7777777777777778,\"#fb9f3a\"],[0.8888888888888888,\"#fdca26\"],[1.0,\"#f0f921\"]],\"sequentialminus\":[[0.0,\"#0d0887\"],[0.1111111111111111,\"#46039f\"],[0.2222222222222222,\"#7201a8\"],[0.3333333333333333,\"#9c179e\"],[0.4444444444444444,\"#bd3786\"],[0.5555555555555556,\"#d8576b\"],[0.6666666666666666,\"#ed7953\"],[0.7777777777777778,\"#fb9f3a\"],[0.8888888888888888,\"#fdca26\"],[1.0,\"#f0f921\"]]},\"colorway\":[\"#636efa\",\"#EF553B\",\"#00cc96\",\"#ab63fa\",\"#FFA15A\",\"#19d3f3\",\"#FF6692\",\"#B6E880\",\"#FF97FF\",\"#FECB52\"],\"font\":{\"color\":\"#2a3f5f\"},\"geo\":{\"bgcolor\":\"white\",\"lakecolor\":\"white\",\"landcolor\":\"white\",\"showlakes\":true,\"showland\":true,\"subunitcolor\":\"#C8D4E3\"},\"hoverlabel\":{\"align\":\"left\"},\"hovermode\":\"closest\",\"mapbox\":{\"style\":\"light\"},\"paper_bgcolor\":\"white\",\"plot_bgcolor\":\"white\",\"polar\":{\"angularaxis\":{\"gridcolor\":\"#EBF0F8\",\"linecolor\":\"#EBF0F8\",\"ticks\":\"\"},\"bgcolor\":\"white\",\"radialaxis\":{\"gridcolor\":\"#EBF0F8\",\"linecolor\":\"#EBF0F8\",\"ticks\":\"\"}},\"scene\":{\"xaxis\":{\"backgroundcolor\":\"white\",\"gridcolor\":\"#DFE8F3\",\"gridwidth\":2,\"linecolor\":\"#EBF0F8\",\"showbackground\":true,\"ticks\":\"\",\"zerolinecolor\":\"#EBF0F8\"},\"yaxis\":{\"backgroundcolor\":\"white\",\"gridcolor\":\"#DFE8F3\",\"gridwidth\":2,\"linecolor\":\"#EBF0F8\",\"showbackground\":true,\"ticks\":\"\",\"zerolinecolor\":\"#EBF0F8\"},\"zaxis\":{\"backgroundcolor\":\"white\",\"gridcolor\":\"#DFE8F3\",\"gridwidth\":2,\"linecolor\":\"#EBF0F8\",\"showbackground\":true,\"ticks\":\"\",\"zerolinecolor\":\"#EBF0F8\"}},\"shapedefaults\":{\"line\":{\"color\":\"#2a3f5f\"}},\"ternary\":{\"aaxis\":{\"gridcolor\":\"#DFE8F3\",\"linecolor\":\"#A2B1C6\",\"ticks\":\"\"},\"baxis\":{\"gridcolor\":\"#DFE8F3\",\"linecolor\":\"#A2B1C6\",\"ticks\":\"\"},\"bgcolor\":\"white\",\"caxis\":{\"gridcolor\":\"#DFE8F3\",\"linecolor\":\"#A2B1C6\",\"ticks\":\"\"}},\"title\":{\"x\":0.05},\"xaxis\":{\"automargin\":true,\"gridcolor\":\"#EBF0F8\",\"linecolor\":\"#EBF0F8\",\"ticks\":\"\",\"title\":{\"standoff\":15},\"zerolinecolor\":\"#EBF0F8\",\"zerolinewidth\":2},\"yaxis\":{\"automargin\":true,\"gridcolor\":\"#EBF0F8\",\"linecolor\":\"#EBF0F8\",\"ticks\":\"\",\"title\":{\"standoff\":15},\"zerolinecolor\":\"#EBF0F8\",\"zerolinewidth\":2}}},\"title\":{\"text\":\"None\",\"x\":0.5},\"xaxis\":{\"anchor\":\"y\",\"domain\":[0.0,1.0],\"title\":{\"text\":\"x\"}},\"yaxis\":{\"anchor\":\"x\",\"domain\":[0.0,1.0],\"title\":{\"text\":\"decision_boundry\"}}},                        {\"responsive\": true}                    ).then(function(){\n",
       "                            \n",
       "var gd = document.getElementById('5e454fcb-579c-40e0-a8bf-ec20beab1d20');\n",
       "var x = new MutationObserver(function (mutations, observer) {{\n",
       "        var display = window.getComputedStyle(gd).display;\n",
       "        if (!display || display === 'none') {{\n",
       "            console.log([gd, 'removed!']);\n",
       "            Plotly.purge(gd);\n",
       "            observer.disconnect();\n",
       "        }}\n",
       "}});\n",
       "\n",
       "// Listen for the removal of the full notebook cells\n",
       "var notebookContainer = gd.closest('#notebook-container');\n",
       "if (notebookContainer) {{\n",
       "    x.observe(notebookContainer, {childList: true});\n",
       "}}\n",
       "\n",
       "// Listen for the clearing of the current output cell\n",
       "var outputEl = gd.closest('.output');\n",
       "if (outputEl) {{\n",
       "    x.observe(outputEl, {childList: true});\n",
       "}}\n",
       "\n",
       "                        })                };                });            </script>        </div>"
      ]
     },
     "metadata": {},
     "output_type": "display_data"
    }
   ],
   "source": [
    "data, fig = load_and_plot('data/classification_problem.csv')\n",
    "fig.show()"
   ]
  },
  {
   "cell_type": "code",
   "execution_count": 388,
   "metadata": {},
   "outputs": [
    {
     "name": "stdout",
     "output_type": "stream",
     "text": [
      "(100, 2) (100, 1)\n"
     ]
    }
   ],
   "source": [
    "x, y = data[['x','y']].values, data['class_id'].map({'A':0, 'B':1}).values\n",
    "y = np.expand_dims(y, 1)\n",
    "print(x.shape, y.shape)"
   ]
  },
  {
   "cell_type": "code",
   "execution_count": 389,
   "metadata": {
    "tags": []
   },
   "outputs": [
    {
     "name": "stdout",
     "output_type": "stream",
     "text": [
      "coef_: [[ 4.67667728 -4.71955701]]\n",
      "intercept_: 1.4805159943623485\n"
     ]
    }
   ],
   "source": [
    "our_lr_clf = MyLogisticRegression(max_iter=10000, lr=0.01)\n",
    "our_lr_clf.fit(x, y)\n",
    "print('coef_:', our_lr_clf.w)\n",
    "print('intercept_:', our_lr_clf.b)"
   ]
  },
  {
   "cell_type": "markdown",
   "metadata": {},
   "source": [
    "### Using sklearn"
   ]
  },
  {
   "cell_type": "code",
   "execution_count": 390,
   "metadata": {},
   "outputs": [],
   "source": [
    "from sklearn.linear_model import LogisticRegression"
   ]
  },
  {
   "cell_type": "code",
   "execution_count": 391,
   "metadata": {},
   "outputs": [
    {
     "data": {
      "text/plain": [
       "LogisticRegression(penalty='none')"
      ]
     },
     "execution_count": 391,
     "metadata": {},
     "output_type": "execute_result"
    }
   ],
   "source": [
    "log_reg = LogisticRegression(fit_intercept=True, penalty='none')\n",
    "log_reg.fit(x, y.squeeze())"
   ]
  },
  {
   "cell_type": "code",
   "execution_count": 392,
   "metadata": {},
   "outputs": [
    {
     "name": "stdout",
     "output_type": "stream",
     "text": [
      "[[ 4.67668108 -4.71955843]]\n",
      "1.480518879700615\n"
     ]
    }
   ],
   "source": [
    "print(log_reg.coef_)\n",
    "print(log_reg.intercept_[0])"
   ]
  },
  {
   "cell_type": "markdown",
   "metadata": {},
   "source": [
    "# Refrences"
   ]
  },
  {
   "cell_type": "markdown",
   "metadata": {},
   "source": [
    "1. [Logistic Regression from Scratch in Python](https://beckernick.github.io/logistic-regression-from-scratch/)\n",
    "2. [Derivative of cost function for logistic Regression](https://math.stackexchange.com/questions/477207/derivative-of-cost-function-for-logistic-regression)"
   ]
  }
 ],
 "metadata": {
  "kernelspec": {
   "display_name": "Python 3",
   "language": "python",
   "name": "python3"
  },
  "language_info": {
   "codemirror_mode": {
    "name": "ipython",
    "version": 3
   },
   "file_extension": ".py",
   "mimetype": "text/x-python",
   "name": "python",
   "nbconvert_exporter": "python",
   "pygments_lexer": "ipython3",
   "version": "3.8.8"
  }
 },
 "nbformat": 4,
 "nbformat_minor": 4
}
