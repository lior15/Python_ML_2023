{
 "cells": [
  {
   "cell_type": "markdown",
   "id": "1a73e714-bd92-4200-8104-4dab17f3399a",
   "metadata": {},
   "source": [
    "## Modeling - Method and Techniques"
   ]
  },
  {
   "cell_type": "code",
   "execution_count": 1,
   "id": "e598925d-50e5-4cc9-a813-dae7a5363dc2",
   "metadata": {},
   "outputs": [],
   "source": [
    "from sklearn.datasets import make_circles\n",
    "import pandas as pd\n",
    "import ipywidgets as widgets\n",
    "import plotly_express as px"
   ]
  },
  {
   "cell_type": "markdown",
   "id": "1d2ed691-fd7f-4f00-b8f3-c8906e25d867",
   "metadata": {},
   "source": [
    "## Datasets - Signal vs Noise"
   ]
  },
  {
   "cell_type": "markdown",
   "id": "5dce871c-ccca-43a5-a162-791f4fc5ac75",
   "metadata": {},
   "source": [
    "In every dataset, there's the true underlying pattern, which can be simple or very complex, and noise stemming from errors, measurment issues, anomalies, hidden variables, the nature of the data itself (random data) etc. The stronger the pattern is in comparsion to the noise (AKA Signal to Noise ratio), the easier it will be to get good error rates on a test set.  \n",
    "\n",
    "For example:"
   ]
  },
  {
   "cell_type": "code",
   "execution_count": 2,
   "id": "fea447fd-1874-4efe-9373-aec587c7be21",
   "metadata": {},
   "outputs": [],
   "source": [
    "def make_circles_dataframe(n_samples, noise_level):\n",
    "    points, label = make_circles(n_samples=n_samples, noise=noise_level)\n",
    "    circles_df = pd.DataFrame(points, columns=['x','y'])\n",
    "    circles_df['label'] = label\n",
    "    circles_df.label = circles_df.label.map({0:'A', 1:'B'})\n",
    "    return circles_df"
   ]
  },
  {
   "cell_type": "code",
   "execution_count": 3,
   "id": "812817c4-e054-4ffc-9874-20ff74834d14",
   "metadata": {},
   "outputs": [
    {
     "data": {
      "text/html": [
       "<div>\n",
       "<style scoped>\n",
       "    .dataframe tbody tr th:only-of-type {\n",
       "        vertical-align: middle;\n",
       "    }\n",
       "\n",
       "    .dataframe tbody tr th {\n",
       "        vertical-align: top;\n",
       "    }\n",
       "\n",
       "    .dataframe thead th {\n",
       "        text-align: right;\n",
       "    }\n",
       "</style>\n",
       "<table border=\"1\" class=\"dataframe\">\n",
       "  <thead>\n",
       "    <tr style=\"text-align: right;\">\n",
       "      <th></th>\n",
       "      <th>x</th>\n",
       "      <th>y</th>\n",
       "      <th>label</th>\n",
       "    </tr>\n",
       "  </thead>\n",
       "  <tbody>\n",
       "    <tr>\n",
       "      <th>0</th>\n",
       "      <td>-0.793692</td>\n",
       "      <td>-0.100267</td>\n",
       "      <td>B</td>\n",
       "    </tr>\n",
       "    <tr>\n",
       "      <th>1</th>\n",
       "      <td>0.622770</td>\n",
       "      <td>-0.502153</td>\n",
       "      <td>B</td>\n",
       "    </tr>\n",
       "    <tr>\n",
       "      <th>2</th>\n",
       "      <td>0.863923</td>\n",
       "      <td>-0.503623</td>\n",
       "      <td>A</td>\n",
       "    </tr>\n",
       "    <tr>\n",
       "      <th>3</th>\n",
       "      <td>0.130110</td>\n",
       "      <td>0.789349</td>\n",
       "      <td>B</td>\n",
       "    </tr>\n",
       "    <tr>\n",
       "      <th>4</th>\n",
       "      <td>0.169606</td>\n",
       "      <td>0.781814</td>\n",
       "      <td>B</td>\n",
       "    </tr>\n",
       "  </tbody>\n",
       "</table>\n",
       "</div>"
      ],
      "text/plain": [
       "          x         y label\n",
       "0 -0.793692 -0.100267     B\n",
       "1  0.622770 -0.502153     B\n",
       "2  0.863923 -0.503623     A\n",
       "3  0.130110  0.789349     B\n",
       "4  0.169606  0.781814     B"
      ]
     },
     "execution_count": 3,
     "metadata": {},
     "output_type": "execute_result"
    }
   ],
   "source": [
    "circles_df = make_circles_dataframe(n_samples=500, noise_level=0)\n",
    "circles_df.head()"
   ]
  },
  {
   "cell_type": "code",
   "execution_count": 33,
   "id": "6723d8d9-ad7f-4311-9bc0-e93b02f925d1",
   "metadata": {},
   "outputs": [
    {
     "data": {
      "application/vnd.jupyter.widget-view+json": {
       "model_id": "6a51f72a10dd4aeca958b908d2207cb8",
       "version_major": 2,
       "version_minor": 0
      },
      "text/plain": [
       "interactive(children=(FloatSlider(value=0.0, description='noise_level', max=0.5, step=0.05), Output()), _dom_c…"
      ]
     },
     "metadata": {},
     "output_type": "display_data"
    }
   ],
   "source": [
    "@widgets.interact\n",
    "def plot_noisy_circles(noise_level = widgets.FloatSlider(value=0, min=0, max=0.5, step=0.05)):\n",
    "    df = make_circles_dataframe(1000, noise_level)\n",
    "    return px.scatter(df, x='x', y='y', color = 'label')"
   ]
  },
  {
   "cell_type": "markdown",
   "id": "00d68fbe-8e5e-404d-8e71-fa76717a6de5",
   "metadata": {},
   "source": [
    "## Models capacity"
   ]
  },
  {
   "cell_type": "markdown",
   "id": "0754a49b-d2c7-4465-a4c6-e81e0d19332c",
   "metadata": {},
   "source": [
    "Models capacity and models VC dimension are different terms for a models ability to fit itself to the data. Models with high capacity can fit data of seperate classes with minimal to no errors (think 1NN) by creating highly complex decision boundries or fitting patterns. Models with low capacity fit very simple and limited functions as decision boundries/fitting functions. **A linear classifier, for example, is the lowest capacity classifier.**. "
   ]
  },
  {
   "cell_type": "markdown",
   "id": "9a72fd2a-c18c-4e71-8c5e-c58086c4609e",
   "metadata": {},
   "source": [
    "Low capacity classifiers cannot fit to the varialbility in the data, and thus deviates significantly from the optimal error rate achievable. They have **High bias**. On the bright side, low capacity models create very consistent results and are much less sensitive to the amount of data or the specific random training examples. This makes them yield a very consistent test set results, thus, having a **Low variance**.  "
   ]
  },
  {
   "cell_type": "markdown",
   "id": "d42fe506-2a4c-4988-9356-cc6a9d009c18",
   "metadata": {},
   "source": [
    "High capacity classifiers can fit to the varialbility in the data, both of **the pattern** AND **the noise**, and thus can fit to the pattern in the data perfectly, in theory able to achieve the optimal error rate. They have **Low bias**. On the other, darker side, high capacity models may create very inconsistent results by fitting not only to the complex pattern, but also to the noise. They are very sensitive to the amount of data or the specific random training examples. This makes them prone to inconsistent test set results **If not restrained correctly**,  thus, having a **High variance**.  \n",
    "\n",
    "To \"restrain\" a high capacity model, we can:\n",
    "* Penelize it for being too complex (AKA regularization)\n",
    "* High capacity models have parameters (AKA **Hyper parameters**) that control their allowed complexity, e.g. K in KNNs, or min_samples_split in Random Forest. \n",
    "* Average the results of multiple high capacity models (an approach used by Random Forest for example)\n",
    "* Boosting, Bagging, Dropouts Etc. "
   ]
  },
  {
   "cell_type": "markdown",
   "id": "fa332e33-4f5a-419d-82a8-57799bae5cd3",
   "metadata": {},
   "source": [
    "### Increasing Linear models capacity"
   ]
  },
  {
   "cell_type": "markdown",
   "id": "ba20f611-5fb7-4c2a-8516-414d391480a3",
   "metadata": {},
   "source": [
    "Linear models capacity can be increased by modifying the inputs. This is called \"input space expension\" or \"feature augmentation\". Common methods to expend the input space is to include input squares (or higher polynomials), input logarithms, cross input product etc. \n",
    "\n",
    "The model is still a linear combination of its input, but now the inputs include non linear input features combinations so more complex patterns can be fitted."
   ]
  },
  {
   "cell_type": "markdown",
   "id": "c6378dd8-6386-464b-b5ca-a57bef0f9207",
   "metadata": {},
   "source": [
    "<span style='background :yellow' > Use a noise free circles data from above and fit it with a linear classifier. What is the accuracy? Now, add to the features the squares of each feature and re-fit the linear model, what is the accuracy this time?</span>"
   ]
  },
  {
   "cell_type": "markdown",
   "id": "5633d024-86de-4323-a12e-66f5f4ec1bac",
   "metadata": {},
   "source": [
    "**Hint**"
   ]
  },
  {
   "cell_type": "code",
   "execution_count": 20,
   "id": "5fd77da0-da1b-4bf6-b02e-ac64b5923838",
   "metadata": {},
   "outputs": [],
   "source": [
    "circles_df['x_squered'] = circles_df.x * circles_df.x\n",
    "circles_df['y_squered'] = circles_df.y * circles_df.y\n",
    "circles_df['xy'] = circles_df.x * circles_df.y"
   ]
  },
  {
   "cell_type": "code",
   "execution_count": 21,
   "id": "48093e64-fa8e-438a-b2a5-30806368b790",
   "metadata": {},
   "outputs": [
    {
     "data": {
      "text/html": [
       "<div>\n",
       "<style scoped>\n",
       "    .dataframe tbody tr th:only-of-type {\n",
       "        vertical-align: middle;\n",
       "    }\n",
       "\n",
       "    .dataframe tbody tr th {\n",
       "        vertical-align: top;\n",
       "    }\n",
       "\n",
       "    .dataframe thead th {\n",
       "        text-align: right;\n",
       "    }\n",
       "</style>\n",
       "<table border=\"1\" class=\"dataframe\">\n",
       "  <thead>\n",
       "    <tr style=\"text-align: right;\">\n",
       "      <th></th>\n",
       "      <th>x</th>\n",
       "      <th>x_squered</th>\n",
       "      <th>y</th>\n",
       "      <th>y_squered</th>\n",
       "      <th>xy</th>\n",
       "      <th>label</th>\n",
       "    </tr>\n",
       "  </thead>\n",
       "  <tbody>\n",
       "    <tr>\n",
       "      <th>0</th>\n",
       "      <td>0.543371</td>\n",
       "      <td>0.295252</td>\n",
       "      <td>-0.249941</td>\n",
       "      <td>0.062470</td>\n",
       "      <td>-0.135811</td>\n",
       "      <td>B</td>\n",
       "    </tr>\n",
       "    <tr>\n",
       "      <th>1</th>\n",
       "      <td>0.686893</td>\n",
       "      <td>0.471822</td>\n",
       "      <td>0.460542</td>\n",
       "      <td>0.212099</td>\n",
       "      <td>0.316343</td>\n",
       "      <td>B</td>\n",
       "    </tr>\n",
       "    <tr>\n",
       "      <th>2</th>\n",
       "      <td>1.053083</td>\n",
       "      <td>1.108983</td>\n",
       "      <td>-0.049107</td>\n",
       "      <td>0.002411</td>\n",
       "      <td>-0.051713</td>\n",
       "      <td>A</td>\n",
       "    </tr>\n",
       "    <tr>\n",
       "      <th>3</th>\n",
       "      <td>0.351931</td>\n",
       "      <td>0.123855</td>\n",
       "      <td>-0.689128</td>\n",
       "      <td>0.474898</td>\n",
       "      <td>-0.242526</td>\n",
       "      <td>B</td>\n",
       "    </tr>\n",
       "    <tr>\n",
       "      <th>4</th>\n",
       "      <td>-0.331060</td>\n",
       "      <td>0.109601</td>\n",
       "      <td>0.806490</td>\n",
       "      <td>0.650426</td>\n",
       "      <td>-0.266997</td>\n",
       "      <td>B</td>\n",
       "    </tr>\n",
       "  </tbody>\n",
       "</table>\n",
       "</div>"
      ],
      "text/plain": [
       "          x  x_squered         y  y_squered        xy label\n",
       "0  0.543371   0.295252 -0.249941   0.062470 -0.135811     B\n",
       "1  0.686893   0.471822  0.460542   0.212099  0.316343     B\n",
       "2  1.053083   1.108983 -0.049107   0.002411 -0.051713     A\n",
       "3  0.351931   0.123855 -0.689128   0.474898 -0.242526     B\n",
       "4 -0.331060   0.109601  0.806490   0.650426 -0.266997     B"
      ]
     },
     "execution_count": 21,
     "metadata": {},
     "output_type": "execute_result"
    }
   ],
   "source": [
    "circles_df[['x','x_squered','y','y_squered','xy','label']].head()"
   ]
  },
  {
   "cell_type": "markdown",
   "id": "4865d61d-10bb-4a45-9047-785441e6255b",
   "metadata": {},
   "source": [
    "## The goal of Modeling"
   ]
  },
  {
   "cell_type": "markdown",
   "id": "70fc3e2e-2626-4d1e-9cc4-909905fe96d0",
   "metadata": {},
   "source": [
    "**_The goal in fitting a model to a dataset is to identify the pattern, no matter how complex it is, and avoid fitting the noise, i.e. AVOID OVERFITTING_**"
   ]
  },
  {
   "cell_type": "markdown",
   "id": "17f9aa5e-6425-4e8b-9ab4-046e46eea2b8",
   "metadata": {},
   "source": [
    "### Overfitting"
   ]
  },
  {
   "cell_type": "markdown",
   "id": "a6deb6dd-edbd-4183-8dd4-52f74d5edeb2",
   "metadata": {},
   "source": [
    "What is overfitting?\n",
    "\n",
    "* Theoretically - The tendency of a model to fit to the noise in the data, as well or without fitting the true patterns in the data\n",
    "* Empirically - When a model performs very well for training data but has poor performance on the test data. "
   ]
  },
  {
   "cell_type": "markdown",
   "id": "67fba801-a20d-45e1-be8e-15e463038ecb",
   "metadata": {},
   "source": [
    "**Occam's razor** - \"entities should not be multiplied beyond necessity\" - If two theories give similar results, the simple one should be preferred."
   ]
  },
  {
   "cell_type": "markdown",
   "id": "b1c275cc-d3d7-4bf5-84ca-4517b7050ee2",
   "metadata": {},
   "source": [
    "<img src=\"https://www.researchgate.net/publication/349186066/figure/fig1/AS:989978611953666@1613040702298/Example-of-overfitting-in-classification-a-Decision-boundary-that-best-fits-training.png\" style=\"margin:auto\"/>"
   ]
  },
  {
   "cell_type": "markdown",
   "id": "1f30232d-2e25-48f1-bd3c-66669e44f2b2",
   "metadata": {},
   "source": [
    "<span style='background :yellow' > Question - what type of classification problem is depicted above? What is the difference between the two decision boundries?: </span>"
   ]
  },
  {
   "cell_type": "markdown",
   "id": "030386a8-dba1-4ac5-ab92-e08982ef5f62",
   "metadata": {},
   "source": [
    "### Bias, Variance and Overfitting"
   ]
  },
  {
   "cell_type": "code",
   "execution_count": 7,
   "id": "9818ba6c-d5f4-4677-a931-39c12a627703",
   "metadata": {},
   "outputs": [
    {
     "data": {
      "image/jpeg": "[encoded data removed]",
      "text/html": [
       "\n",
       "        <iframe\n",
       "            width=\"400\"\n",
       "            height=\"300\"\n",
       "            src=\"https://www.youtube.com/embed/EuBBz3bI-aA\"\n",
       "            frameborder=\"0\"\n",
       "            allowfullscreen\n",
       "            \n",
       "        ></iframe>\n",
       "        "
      ],
      "text/plain": [
       "<IPython.lib.display.YouTubeVideo at 0x7fa9c890a6a0>"
      ]
     },
     "execution_count": 7,
     "metadata": {},
     "output_type": "execute_result"
    }
   ],
   "source": [
    "from IPython.display import YouTubeVideo\n",
    "\n",
    "YouTubeVideo('EuBBz3bI-aA')"
   ]
  },
  {
   "cell_type": "markdown",
   "id": "5b5995dc-be72-458a-baa4-f99cc842a657",
   "metadata": {},
   "source": [
    "### Modeling methodoligy - HPS + CV"
   ]
  },
  {
   "cell_type": "markdown",
   "id": "f80cd56e-aad0-4029-b56c-490f5e36d355",
   "metadata": {},
   "source": [
    "Again, our goal is to fit the model to the pattern with minimal fit to the noise. The method will be to fit increasing capacity models and evaluate them on a left aside set (validation/test set). The model capacity can be tuned (increased or decreased) using either the model's **hyper parameters** or decreased using regularization techniques. \n",
    "This is basically a search procedure,  will answer two questions:\n",
    "\n",
    "1. What are the best model hyper-parameters.\n",
    "1. What is the minimal achievable error with the selected model.\n",
    "\n",
    "Therefore, for best results, it is best to use a model and model params with very high fitting capacity."
   ]
  },
  {
   "cell_type": "markdown",
   "id": "7c2ccd95-8e19-4da3-aa7e-2daa5633fafe",
   "metadata": {},
   "source": [
    "**Note:** \n",
    "\n",
    "* The process of finding the optimal model hyper parameters is called **Hyper paramter tuning** or **Hyper paramter search** or **HPS**\n",
    "* The process of training on a subset and testing on another subset is called **Cross validation** or **CV**"
   ]
  },
  {
   "cell_type": "markdown",
   "id": "cc126c72-5d7e-4b92-acf1-1d30cc70a57a",
   "metadata": {},
   "source": [
    "### Cross validation techniques"
   ]
  },
  {
   "cell_type": "markdown",
   "id": "0e32edbd-f6c7-46f4-b1c0-d3114c2e5ea9",
   "metadata": {},
   "source": [
    "#### Leave-One-Out Cross-Validation (LOOCV)"
   ]
  },
  {
   "cell_type": "markdown",
   "id": "a08eab0c-1bd5-460f-b6b4-e7e332d651f6",
   "metadata": {},
   "source": [
    "LeaveOneOut cross-validation is an exhaustive cross-validation technique in which 1 sample point is used as a validation set and the remaining n-1 samples are used as the training set:"
   ]
  },
  {
   "cell_type": "markdown",
   "id": "05eff98e-e4da-41af-91b1-a5d6279eab8c",
   "metadata": {},
   "source": [
    "1. Split a dataset into a training set and a testing set, using all but one observation as part of the training set\n",
    "1. Build the model using only data from the training set.\n",
    "1. Use the model to predict the response value of the one observation left out of the model and calculate the MSE.\n",
    "1. Repeat for every observation in the dataset"
   ]
  },
  {
   "cell_type": "markdown",
   "id": "caf2203e-b0a6-402d-9c99-c27f619ebfa1",
   "metadata": {},
   "source": [
    "Pros:\n",
    "1. Provides a much less biased measure of test metric since we are making full use of the dataset for the training part. \n",
    "1. It tends not to overestimate the test metric compared to using a single test set."
   ]
  },
  {
   "cell_type": "markdown",
   "id": "ebf26115-682f-4d4a-aa3d-e4af34ba01e3",
   "metadata": {},
   "source": [
    "Cons:\n",
    "\n",
    "1. Can be a time-consuming process to use when n is large.\n",
    "1. Can also be time-consuming if a model is particularly complex and takes a long time to fit to a dataset.\n",
    "1. Can be computationally expensive.\n",
    "1. Does not fit time-serious datasets - Examples from the future will be used to predict values from the past"
   ]
  },
  {
   "cell_type": "markdown",
   "id": "5d0b8af1-896f-4d2d-9438-d945b9c57f28",
   "metadata": {},
   "source": [
    "Python Code:"
   ]
  },
  {
   "cell_type": "code",
   "execution_count": 8,
   "id": "7c92b91a-a034-4562-9f8d-95e830abf04a",
   "metadata": {},
   "outputs": [],
   "source": [
    "from src.datasets import load_2d_iris\n",
    "X, Y = load_2d_iris()"
   ]
  },
  {
   "cell_type": "code",
   "execution_count": 9,
   "id": "bc79f9a0-e03c-44c8-8e94-f16f2afd05fd",
   "metadata": {},
   "outputs": [
    {
     "name": "stdout",
     "output_type": "stream",
     "text": [
      "Cross Validation Scores are [0. 0. 0. 1. 0. 1. 0. 1. 1. 1. 1. 1. 1. 1. 1. 0. 1. 0. 1. 1. 1. 1. 0. 1.\n",
      " 0. 0. 0. 0. 1. 1. 1. 1. 1. 0. 1. 0. 0. 1. 1. 1. 1. 0. 1. 1. 1. 1. 1. 1.\n",
      " 1. 1. 1. 0. 1. 1. 1. 1. 0. 1. 0. 1. 1. 1. 1. 0. 0. 1. 1. 1. 1. 0. 1. 0.\n",
      " 1. 1. 1. 1. 0. 0. 1. 1. 1. 1. 1. 1. 0. 1. 1. 1. 0. 1. 0. 1. 0. 1. 1. 0.\n",
      " 0. 1. 1. 0.]\n",
      "Average Cross Validation score :0.68\n"
     ]
    }
   ],
   "source": [
    "from sklearn.model_selection import LeavePOut, cross_val_score\n",
    "from sklearn.ensemble import RandomForestClassifier\n",
    "lpo=LeavePOut(p=1)\n",
    "lpo.get_n_splits(X)\n",
    "tree=RandomForestClassifier(n_estimators=10,max_depth=5,n_jobs=-1)\n",
    "score=cross_val_score(tree,X,Y,cv=lpo)\n",
    "print(\"Cross Validation Scores are {}\".format(score))\n",
    "print(\"Average Cross Validation score :{}\".format(score.mean()))"
   ]
  },
  {
   "cell_type": "markdown",
   "id": "090b3636-b53d-4aa6-a2c8-ae67ac8e5b88",
   "metadata": {},
   "source": [
    "#### HoldOut Cross-validation or Train-Test Split"
   ]
  },
  {
   "cell_type": "markdown",
   "id": "d6be0641-834b-48ac-ad57-73b8defea7bb",
   "metadata": {},
   "source": [
    "In this technique of cross-validation, the whole dataset is randomly partitioned into a training set and validation set. Using a rule of thumb nearly 70% of the whole dataset is used as a training set and the remaining 30% is used as the validation set."
   ]
  },
  {
   "cell_type": "markdown",
   "id": "ef107f1d-8608-4f65-9508-61c966715574",
   "metadata": {},
   "source": [
    "![alt](https://editor.analyticsvidhya.com/uploads/18265Screenshot-from-2020-10-06-16-35-50-768x432.png)"
   ]
  },
  {
   "cell_type": "markdown",
   "id": "39609dc0-5735-49c9-913c-4f35e1291c33",
   "metadata": {},
   "source": [
    "Pros:\n",
    "\n",
    "1. Quick To Execute: As we have to split the dataset into training and validation set just once and the model will be built just once on the training set so gets executed quickly.\n",
    "\n",
    "Cons:\n",
    "\n",
    "1. Less Suitable for an imbalanced dataset: Suppose we have an imbalanced dataset that has class ‘0’ and class ‘1’. Let’s say 90% of data belongs to class ‘0’ and the remaining 10% data to class ‘1’.\n",
    "On doing train-test split with train set size as 80% and test data size as 20% of the dataset. It may happen that all 80% data of class ‘0’ may be in the training set and all data of class ‘1’ in the test set. This is not likely (as we should sample randomaly) but can happen.\n",
    "\n",
    "2. A large chunk of data gets deprived of training the model. In the case of a small dataset, a part will be kept aside for testing the model which may have important characteristics which our model may miss out on as it has not trained on that data."
   ]
  },
  {
   "cell_type": "code",
   "execution_count": 10,
   "id": "448cc4f0-3f55-454b-8210-d168e07bdc52",
   "metadata": {},
   "outputs": [
    {
     "name": "stdout",
     "output_type": "stream",
     "text": [
      "Accuracy score on training set is 0.7428571428571429\n",
      "Accuracy score on test set is 0.7333333333333333\n"
     ]
    }
   ],
   "source": [
    "from sklearn.linear_model import LogisticRegression\n",
    "from sklearn.model_selection import train_test_split\n",
    "from sklearn.metrics import accuracy_score\n",
    "\n",
    "logreg=LogisticRegression()\n",
    "x_train,x_test,y_train,y_test=train_test_split(X,Y,test_size=0.3,random_state=42)\n",
    "logreg.fit(x_train,y_train)\n",
    "predict=logreg.predict(x_test)\n",
    "print(\"Accuracy score on training set is {}\".format(accuracy_score(logreg.predict(x_train),y_train)))\n",
    "print(\"Accuracy score on test set is {}\".format(accuracy_score(predict,y_test)))"
   ]
  },
  {
   "cell_type": "markdown",
   "id": "e92e1f6c-6287-4878-af4f-fb384287b0c1",
   "metadata": {},
   "source": [
    "#### K-Fold Cross-Validation"
   ]
  },
  {
   "cell_type": "markdown",
   "id": "d8f07009-e0d0-4791-92e5-ca4b11218d08",
   "metadata": {},
   "source": [
    "In this technique of K-Fold cross-validation, the whole dataset is partitioned into K parts of equal size. Each partition is called a “Fold“, So as we have K parts we call it K-Folds. One Fold is used as a validation set and the remaining K-1 folds are used as the training set.\n",
    "The technique is repeated K times until each fold is used as a validation set and the remaining folds as the training set.\n",
    "\n",
    "The final accuracy of the model is computed by taking the mean accuracy of the k-models validation data, and from the k metrics we can also compute the model variance."
   ]
  },
  {
   "cell_type": "markdown",
   "id": "3b17c611-c05b-48d0-b355-fb051d8efeac",
   "metadata": {},
   "source": [
    "![alt](https://editor.analyticsvidhya.com/uploads/16042grid_search_cross_validation.png)"
   ]
  },
  {
   "cell_type": "markdown",
   "id": "af9fac23-26c0-497f-911c-8172f0462ed4",
   "metadata": {},
   "source": [
    "Pros:\n",
    "\n",
    "1. The whole dataset is used as both a training set and validation set\n",
    "1. We can get a sense of both the model accuracy and variance \n",
    "\n",
    "Cons:\n",
    "\n",
    "1. Care should be taken if used with imbalanced datasets,  As discussed in the case of HoldOut cross-validation.\n",
    "\n",
    "2. Not suitable for Time Series data: For Time Series data the order of the samples matter. But in K-Fold Cross-Validation, samples are selected in random order.\n",
    "\n",
    " "
   ]
  },
  {
   "cell_type": "markdown",
   "id": "f51fd74c-c492-4335-8120-c3b8305dcc66",
   "metadata": {},
   "source": [
    "Python code:"
   ]
  },
  {
   "cell_type": "code",
   "execution_count": 11,
   "id": "bab60219-efb3-4c1d-95ea-4b1f2d7dfad5",
   "metadata": {},
   "outputs": [
    {
     "name": "stdout",
     "output_type": "stream",
     "text": [
      "Cross Validation Scores are [0.55 0.35 0.9  0.55 0.45]\n",
      "Average Cross Validation score :0.56\n",
      "STD of Cross Validation score :0.1854723699099141\n"
     ]
    }
   ],
   "source": [
    "from sklearn.model_selection import KFold\n",
    "logreg=LogisticRegression(max_iter = 1000)\n",
    "kf=KFold(n_splits=5)\n",
    "score=cross_val_score(logreg,X,Y,cv=kf)\n",
    "print(\"Cross Validation Scores are {}\".format(score))\n",
    "print(\"Average Cross Validation score :{}\".format(score.mean()))\n",
    "print(\"STD of Cross Validation score :{}\".format(score.std()))"
   ]
  },
  {
   "cell_type": "markdown",
   "id": "4a167922-69ef-4faf-b650-448ff21fb24f",
   "metadata": {},
   "source": [
    "### Stratified K-Fold Cross-Validation"
   ]
  },
  {
   "cell_type": "markdown",
   "id": "c1c9633a-3cdf-4b01-8c0f-cc3a5aa5409d",
   "metadata": {},
   "source": [
    "Stratified K-Fold is an enhanced version of K-Fold cross-validation which is mainly used for imbalanced datasets. Just like K-fold, the whole dataset is divided into K-folds of equal size.\n",
    "\n",
    "But in this technique, each fold will have the same ratio of instances of target variable as in the whole datasets."
   ]
  },
  {
   "cell_type": "markdown",
   "id": "ed1046da-8b4e-4fe1-a87d-38ea7173d36c",
   "metadata": {},
   "source": [
    "![alt](https://i.stack.imgur.com/B9CCp.png)"
   ]
  },
  {
   "cell_type": "markdown",
   "id": "91b862d0-43c2-49d8-939c-ef2c737d7647",
   "metadata": {},
   "source": [
    "Pros:\n",
    "\n",
    "1. Works perfectly well for Imbalanced Data: Each fold in stratified cross-validation will have a representation of data of all classes in the same ratio as in the whole dataset.\n",
    "\n",
    "Cons:\n",
    "\n",
    "1. Not suitable for Time Series data: For Time Series data the order of the samples matter. But in Stratified Cross-Validation, samples are selected in random order."
   ]
  },
  {
   "cell_type": "markdown",
   "id": "a2fec254-86ff-4b97-a309-6b1f76a8436b",
   "metadata": {},
   "source": [
    "Python code:"
   ]
  },
  {
   "cell_type": "code",
   "execution_count": 12,
   "id": "756dfeee-cb71-4880-b5bf-0c81e2122250",
   "metadata": {},
   "outputs": [
    {
     "name": "stdout",
     "output_type": "stream",
     "text": [
      "Cross Validation Scores are [0.6  0.8  0.6  0.85 0.85]\n",
      "Average Cross Validation score :0.74\n",
      "STD of Cross Validation score :0.11575836902790225\n"
     ]
    }
   ],
   "source": [
    "from sklearn.model_selection import StratifiedKFold\n",
    "logreg=LogisticRegression(max_iter=1000)\n",
    "stratifiedkf=StratifiedKFold(n_splits=5)\n",
    "score=cross_val_score(logreg,X,Y,cv=stratifiedkf)\n",
    "print(\"Cross Validation Scores are {}\".format(score))\n",
    "print(\"Average Cross Validation score :{}\".format(score.mean()))\n",
    "print(\"STD of Cross Validation score :{}\".format(score.std()))"
   ]
  },
  {
   "cell_type": "markdown",
   "id": "6668e6a1-aab0-48cb-b9ab-d2bdf8fdedc7",
   "metadata": {},
   "source": [
    "### Hyper parameter search"
   ]
  },
  {
   "cell_type": "markdown",
   "id": "a2ae5330-df9e-47c0-acd4-21036699d03e",
   "metadata": {},
   "source": [
    "basically, we will create a grid of potential model hyper parameters, from parameters yielding low capacity model to parameters yielding high capacity model and also a grid of regularization magnitudes.\n",
    "We will split the set to a training set and validation set, train a series of models corresponding to all combination of parameters and evaluate the parametrs goodness on the validation set."
   ]
  },
  {
   "cell_type": "markdown",
   "id": "755db9a9-d181-4cf6-8b39-a1415805c5f5",
   "metadata": {},
   "source": [
    "#### Example - SVM with RBF kernel"
   ]
  },
  {
   "cell_type": "markdown",
   "id": "82000bf3-8d15-4bf5-a557-b061e28bf41c",
   "metadata": {},
   "source": [
    "For example, Radial Basis Function (RBF) kernel SVM has two hyper parameters: gamma and C. Intuitively:\n",
    "* The gamma parameter defines how far the influence of a single training example reaches, with low values meaning ‘far’ and high values meaning ‘close’. The gamma parameters can be seen as the inverse of the radius of influence of samples selected by the model as support vectors.\n",
    "* The C parameter trades off correct classification of training examples against maximization of the decision function’s margin. \n",
    "  * For larger values of C, a smaller margin will be accepted if the decision function is better at classifying all training points correctly. \n",
    "  * A lower C will encourage a larger margin, therefore a simpler decision function, at the cost of training accuracy. \n",
    "  * In other words **C behaves as a regularization parameter in the SVM.**"
   ]
  },
  {
   "cell_type": "code",
   "execution_count": 13,
   "id": "7e53b7dc-fe91-479c-b73e-c6f7be308dc7",
   "metadata": {},
   "outputs": [],
   "source": [
    "from sklearn.svm import SVC"
   ]
  },
  {
   "cell_type": "code",
   "execution_count": 14,
   "id": "908b7333-91ca-41c4-9108-e5e38af8beac",
   "metadata": {},
   "outputs": [],
   "source": [
    "circles_df = make_circles_dataframe(10000, noise_level=0.1)"
   ]
  },
  {
   "cell_type": "code",
   "execution_count": 16,
   "id": "e6df22c7-cd00-4a22-aaea-a222c0db6eea",
   "metadata": {},
   "outputs": [
    {
     "data": {
      "text/html": [
       "<div>\n",
       "<style scoped>\n",
       "    .dataframe tbody tr th:only-of-type {\n",
       "        vertical-align: middle;\n",
       "    }\n",
       "\n",
       "    .dataframe tbody tr th {\n",
       "        vertical-align: top;\n",
       "    }\n",
       "\n",
       "    .dataframe thead th {\n",
       "        text-align: right;\n",
       "    }\n",
       "</style>\n",
       "<table border=\"1\" class=\"dataframe\">\n",
       "  <thead>\n",
       "    <tr style=\"text-align: right;\">\n",
       "      <th></th>\n",
       "      <th>x</th>\n",
       "      <th>y</th>\n",
       "      <th>label</th>\n",
       "    </tr>\n",
       "  </thead>\n",
       "  <tbody>\n",
       "    <tr>\n",
       "      <th>0</th>\n",
       "      <td>0.543371</td>\n",
       "      <td>-0.249941</td>\n",
       "      <td>B</td>\n",
       "    </tr>\n",
       "    <tr>\n",
       "      <th>1</th>\n",
       "      <td>0.686893</td>\n",
       "      <td>0.460542</td>\n",
       "      <td>B</td>\n",
       "    </tr>\n",
       "    <tr>\n",
       "      <th>2</th>\n",
       "      <td>1.053083</td>\n",
       "      <td>-0.049107</td>\n",
       "      <td>A</td>\n",
       "    </tr>\n",
       "    <tr>\n",
       "      <th>3</th>\n",
       "      <td>0.351931</td>\n",
       "      <td>-0.689128</td>\n",
       "      <td>B</td>\n",
       "    </tr>\n",
       "    <tr>\n",
       "      <th>4</th>\n",
       "      <td>-0.331060</td>\n",
       "      <td>0.806490</td>\n",
       "      <td>B</td>\n",
       "    </tr>\n",
       "    <tr>\n",
       "      <th>5</th>\n",
       "      <td>-0.851722</td>\n",
       "      <td>-0.114812</td>\n",
       "      <td>A</td>\n",
       "    </tr>\n",
       "    <tr>\n",
       "      <th>6</th>\n",
       "      <td>-0.459339</td>\n",
       "      <td>0.995637</td>\n",
       "      <td>A</td>\n",
       "    </tr>\n",
       "    <tr>\n",
       "      <th>7</th>\n",
       "      <td>0.748843</td>\n",
       "      <td>-0.438057</td>\n",
       "      <td>B</td>\n",
       "    </tr>\n",
       "    <tr>\n",
       "      <th>8</th>\n",
       "      <td>-0.891100</td>\n",
       "      <td>-0.431872</td>\n",
       "      <td>A</td>\n",
       "    </tr>\n",
       "    <tr>\n",
       "      <th>9</th>\n",
       "      <td>-0.069626</td>\n",
       "      <td>-0.877368</td>\n",
       "      <td>B</td>\n",
       "    </tr>\n",
       "  </tbody>\n",
       "</table>\n",
       "</div>"
      ],
      "text/plain": [
       "          x         y label\n",
       "0  0.543371 -0.249941     B\n",
       "1  0.686893  0.460542     B\n",
       "2  1.053083 -0.049107     A\n",
       "3  0.351931 -0.689128     B\n",
       "4 -0.331060  0.806490     B\n",
       "5 -0.851722 -0.114812     A\n",
       "6 -0.459339  0.995637     A\n",
       "7  0.748843 -0.438057     B\n",
       "8 -0.891100 -0.431872     A\n",
       "9 -0.069626 -0.877368     B"
      ]
     },
     "execution_count": 16,
     "metadata": {},
     "output_type": "execute_result"
    }
   ],
   "source": [
    "circles_df.head(10)"
   ]
  },
  {
   "cell_type": "code",
   "execution_count": 29,
   "id": "7176f643-f579-490f-bc5d-d7d0a965401f",
   "metadata": {},
   "outputs": [],
   "source": [
    "C_range = [1e-2, 1, 1e2]\n",
    "gamma_range = [1e-1, 1, 1e1]\n",
    "k_folds = 10\n",
    "result = []\n",
    "n_samples = [10000]\n",
    "noise_levels = [0.2]\n",
    "clf_types = ['log_reg', 'knn']\n",
    "for nl in noise_levels:\n",
    "    for n_sample in n_samples:\n",
    "        df = circles_df.head(n_sample)\n",
    "        for k in range(k_folds):\n",
    "            x_train,x_test,y_train,y_test=train_test_split(X,Y,test_size=0.3,random_state=k)\n",
    "            for gamma in gamma_range:\n",
    "                for C in C_range:\n",
    "                    clf = SVC(kernel='rbf', C=C, gamma=gamma)\n",
    "                    clf.fit(x_train, y_train)\n",
    "                    y_test_pred = clf.predict(x_test)\n",
    "                    result.append((C, gamma, k, accuracy_score(y_test, y_test_pred)))"
   ]
  },
  {
   "cell_type": "code",
   "execution_count": 30,
   "id": "4f30192b-cdff-4173-b4a8-752d5ae5333a",
   "metadata": {},
   "outputs": [
    {
     "data": {
      "text/html": [
       "<div>\n",
       "<style scoped>\n",
       "    .dataframe tbody tr th:only-of-type {\n",
       "        vertical-align: middle;\n",
       "    }\n",
       "\n",
       "    .dataframe tbody tr th {\n",
       "        vertical-align: top;\n",
       "    }\n",
       "\n",
       "    .dataframe thead th {\n",
       "        text-align: right;\n",
       "    }\n",
       "</style>\n",
       "<table border=\"1\" class=\"dataframe\">\n",
       "  <thead>\n",
       "    <tr style=\"text-align: right;\">\n",
       "      <th></th>\n",
       "      <th>C</th>\n",
       "      <th>gamma</th>\n",
       "      <th>k</th>\n",
       "      <th>acc</th>\n",
       "    </tr>\n",
       "  </thead>\n",
       "  <tbody>\n",
       "    <tr>\n",
       "      <th>0</th>\n",
       "      <td>0.01</td>\n",
       "      <td>0.1</td>\n",
       "      <td>0</td>\n",
       "      <td>0.600000</td>\n",
       "    </tr>\n",
       "    <tr>\n",
       "      <th>1</th>\n",
       "      <td>1.00</td>\n",
       "      <td>0.1</td>\n",
       "      <td>0</td>\n",
       "      <td>0.566667</td>\n",
       "    </tr>\n",
       "    <tr>\n",
       "      <th>2</th>\n",
       "      <td>100.00</td>\n",
       "      <td>0.1</td>\n",
       "      <td>0</td>\n",
       "      <td>0.566667</td>\n",
       "    </tr>\n",
       "    <tr>\n",
       "      <th>3</th>\n",
       "      <td>0.01</td>\n",
       "      <td>1.0</td>\n",
       "      <td>0</td>\n",
       "      <td>0.533333</td>\n",
       "    </tr>\n",
       "    <tr>\n",
       "      <th>4</th>\n",
       "      <td>1.00</td>\n",
       "      <td>1.0</td>\n",
       "      <td>0</td>\n",
       "      <td>0.600000</td>\n",
       "    </tr>\n",
       "    <tr>\n",
       "      <th>...</th>\n",
       "      <td>...</td>\n",
       "      <td>...</td>\n",
       "      <td>...</td>\n",
       "      <td>...</td>\n",
       "    </tr>\n",
       "    <tr>\n",
       "      <th>85</th>\n",
       "      <td>1.00</td>\n",
       "      <td>1.0</td>\n",
       "      <td>9</td>\n",
       "      <td>0.766667</td>\n",
       "    </tr>\n",
       "    <tr>\n",
       "      <th>86</th>\n",
       "      <td>100.00</td>\n",
       "      <td>1.0</td>\n",
       "      <td>9</td>\n",
       "      <td>0.600000</td>\n",
       "    </tr>\n",
       "    <tr>\n",
       "      <th>87</th>\n",
       "      <td>0.01</td>\n",
       "      <td>10.0</td>\n",
       "      <td>9</td>\n",
       "      <td>0.400000</td>\n",
       "    </tr>\n",
       "    <tr>\n",
       "      <th>88</th>\n",
       "      <td>1.00</td>\n",
       "      <td>10.0</td>\n",
       "      <td>9</td>\n",
       "      <td>0.600000</td>\n",
       "    </tr>\n",
       "    <tr>\n",
       "      <th>89</th>\n",
       "      <td>100.00</td>\n",
       "      <td>10.0</td>\n",
       "      <td>9</td>\n",
       "      <td>0.500000</td>\n",
       "    </tr>\n",
       "  </tbody>\n",
       "</table>\n",
       "<p>90 rows × 4 columns</p>\n",
       "</div>"
      ],
      "text/plain": [
       "         C  gamma  k       acc\n",
       "0     0.01    0.1  0  0.600000\n",
       "1     1.00    0.1  0  0.566667\n",
       "2   100.00    0.1  0  0.566667\n",
       "3     0.01    1.0  0  0.533333\n",
       "4     1.00    1.0  0  0.600000\n",
       "..     ...    ... ..       ...\n",
       "85    1.00    1.0  9  0.766667\n",
       "86  100.00    1.0  9  0.600000\n",
       "87    0.01   10.0  9  0.400000\n",
       "88    1.00   10.0  9  0.600000\n",
       "89  100.00   10.0  9  0.500000\n",
       "\n",
       "[90 rows x 4 columns]"
      ]
     },
     "execution_count": 30,
     "metadata": {},
     "output_type": "execute_result"
    }
   ],
   "source": [
    "results = pd.DataFrame(result, columns = ['C','gamma','k','acc'])\n",
    "results"
   ]
  },
  {
   "cell_type": "code",
   "execution_count": 31,
   "id": "e2d49015-cc71-430f-af4b-395e8b362d47",
   "metadata": {},
   "outputs": [
    {
     "data": {
      "text/html": [
       "<div>\n",
       "<style scoped>\n",
       "    .dataframe tbody tr th:only-of-type {\n",
       "        vertical-align: middle;\n",
       "    }\n",
       "\n",
       "    .dataframe tbody tr th {\n",
       "        vertical-align: top;\n",
       "    }\n",
       "\n",
       "    .dataframe thead th {\n",
       "        text-align: right;\n",
       "    }\n",
       "</style>\n",
       "<table border=\"1\" class=\"dataframe\">\n",
       "  <thead>\n",
       "    <tr style=\"text-align: right;\">\n",
       "      <th></th>\n",
       "      <th></th>\n",
       "      <th>mean</th>\n",
       "      <th>std</th>\n",
       "      <th>max</th>\n",
       "    </tr>\n",
       "    <tr>\n",
       "      <th>C</th>\n",
       "      <th>gamma</th>\n",
       "      <th></th>\n",
       "      <th></th>\n",
       "      <th></th>\n",
       "    </tr>\n",
       "  </thead>\n",
       "  <tbody>\n",
       "    <tr>\n",
       "      <th rowspan=\"3\" valign=\"top\">0.01</th>\n",
       "      <th>0.1</th>\n",
       "      <td>0.453333</td>\n",
       "      <td>0.057090</td>\n",
       "      <td>0.600000</td>\n",
       "    </tr>\n",
       "    <tr>\n",
       "      <th>1.0</th>\n",
       "      <td>0.446667</td>\n",
       "      <td>0.039126</td>\n",
       "      <td>0.533333</td>\n",
       "    </tr>\n",
       "    <tr>\n",
       "      <th>10.0</th>\n",
       "      <td>0.443333</td>\n",
       "      <td>0.031623</td>\n",
       "      <td>0.500000</td>\n",
       "    </tr>\n",
       "    <tr>\n",
       "      <th rowspan=\"3\" valign=\"top\">1.00</th>\n",
       "      <th>0.1</th>\n",
       "      <td>0.690000</td>\n",
       "      <td>0.125757</td>\n",
       "      <td>0.966667</td>\n",
       "    </tr>\n",
       "    <tr>\n",
       "      <th>1.0</th>\n",
       "      <td>0.656667</td>\n",
       "      <td>0.081725</td>\n",
       "      <td>0.833333</td>\n",
       "    </tr>\n",
       "    <tr>\n",
       "      <th>10.0</th>\n",
       "      <td>0.593333</td>\n",
       "      <td>0.075031</td>\n",
       "      <td>0.733333</td>\n",
       "    </tr>\n",
       "    <tr>\n",
       "      <th rowspan=\"3\" valign=\"top\">100.00</th>\n",
       "      <th>0.1</th>\n",
       "      <td>0.666667</td>\n",
       "      <td>0.078567</td>\n",
       "      <td>0.866667</td>\n",
       "    </tr>\n",
       "    <tr>\n",
       "      <th>1.0</th>\n",
       "      <td>0.586667</td>\n",
       "      <td>0.074037</td>\n",
       "      <td>0.733333</td>\n",
       "    </tr>\n",
       "    <tr>\n",
       "      <th>10.0</th>\n",
       "      <td>0.563333</td>\n",
       "      <td>0.074453</td>\n",
       "      <td>0.733333</td>\n",
       "    </tr>\n",
       "  </tbody>\n",
       "</table>\n",
       "</div>"
      ],
      "text/plain": [
       "                  mean       std       max\n",
       "C      gamma                              \n",
       "0.01   0.1    0.453333  0.057090  0.600000\n",
       "       1.0    0.446667  0.039126  0.533333\n",
       "       10.0   0.443333  0.031623  0.500000\n",
       "1.00   0.1    0.690000  0.125757  0.966667\n",
       "       1.0    0.656667  0.081725  0.833333\n",
       "       10.0   0.593333  0.075031  0.733333\n",
       "100.00 0.1    0.666667  0.078567  0.866667\n",
       "       1.0    0.586667  0.074037  0.733333\n",
       "       10.0   0.563333  0.074453  0.733333"
      ]
     },
     "execution_count": 31,
     "metadata": {},
     "output_type": "execute_result"
    }
   ],
   "source": [
    "results.groupby(['C', 'gamma']).acc.agg(['mean', 'std','max'])"
   ]
  },
  {
   "cell_type": "code",
   "execution_count": 32,
   "id": "0cf8339b-a62f-4986-85f5-1c3c77212f10",
   "metadata": {},
   "outputs": [
    {
     "data": {
      "text/html": [
       "<div>\n",
       "<style scoped>\n",
       "    .dataframe tbody tr th:only-of-type {\n",
       "        vertical-align: middle;\n",
       "    }\n",
       "\n",
       "    .dataframe tbody tr th {\n",
       "        vertical-align: top;\n",
       "    }\n",
       "\n",
       "    .dataframe thead th {\n",
       "        text-align: right;\n",
       "    }\n",
       "</style>\n",
       "<table border=\"1\" class=\"dataframe\">\n",
       "  <thead>\n",
       "    <tr style=\"text-align: right;\">\n",
       "      <th>gamma</th>\n",
       "      <th>0.1</th>\n",
       "      <th>1.0</th>\n",
       "      <th>10.0</th>\n",
       "    </tr>\n",
       "    <tr>\n",
       "      <th>C</th>\n",
       "      <th></th>\n",
       "      <th></th>\n",
       "      <th></th>\n",
       "    </tr>\n",
       "  </thead>\n",
       "  <tbody>\n",
       "    <tr>\n",
       "      <th>0.01</th>\n",
       "      <td>0.453333</td>\n",
       "      <td>0.446667</td>\n",
       "      <td>0.443333</td>\n",
       "    </tr>\n",
       "    <tr>\n",
       "      <th>1.00</th>\n",
       "      <td>0.690000</td>\n",
       "      <td>0.656667</td>\n",
       "      <td>0.593333</td>\n",
       "    </tr>\n",
       "    <tr>\n",
       "      <th>100.00</th>\n",
       "      <td>0.666667</td>\n",
       "      <td>0.586667</td>\n",
       "      <td>0.563333</td>\n",
       "    </tr>\n",
       "  </tbody>\n",
       "</table>\n",
       "</div>"
      ],
      "text/plain": [
       "gamma       0.1       1.0       10.0\n",
       "C                                   \n",
       "0.01    0.453333  0.446667  0.443333\n",
       "1.00    0.690000  0.656667  0.593333\n",
       "100.00  0.666667  0.586667  0.563333"
      ]
     },
     "execution_count": 32,
     "metadata": {},
     "output_type": "execute_result"
    }
   ],
   "source": [
    "results.pivot_table(values = 'acc', index='C', columns='gamma', aggfunc='mean')"
   ]
  },
  {
   "cell_type": "markdown",
   "id": "96cf3879-323e-4f6b-92df-d1e7350aa6c2",
   "metadata": {},
   "source": [
    "### Regularization"
   ]
  },
  {
   "cell_type": "markdown",
   "id": "5eee41dd-4b3b-4cec-88b2-8ce4245c83d0",
   "metadata": {},
   "source": [
    "Regularization is Loss function adjustments to inforce small/zero weights. The two most popular regularization additions are:\n",
    "* Ridge regression - $Loss = Error(y,\\bar{y}) + \\lambda \\sum_{i=1}^{n}{w_i}^2$\n",
    "* Lasso regression - $Loss = Error(y,\\bar{y}) + \\lambda \\sum_{i=1}^{n}{|{w_i}|}$\n",
    "\n",
    "The intuition is that making sure none of the model params gets too big restrain the model capacity of fitting complicated decision boundries. The model is penelized  "
   ]
  },
  {
   "cell_type": "markdown",
   "id": "7634f054-91b2-448d-823b-7c387c8f8aa0",
   "metadata": {},
   "source": [
    "#### Ridge regression"
   ]
  },
  {
   "cell_type": "code",
   "execution_count": 18,
   "id": "8ac98fee-dee4-4c4c-8b1c-b597a8ac1d19",
   "metadata": {},
   "outputs": [
    {
     "data": {
      "image/jpeg": "[encoded data removed]",
      "text/html": [
       "\n",
       "        <iframe\n",
       "            width=\"400\"\n",
       "            height=\"300\"\n",
       "            src=\"https://www.youtube.com/embed/Q81RR3yKn30\"\n",
       "            frameborder=\"0\"\n",
       "            allowfullscreen\n",
       "            \n",
       "        ></iframe>\n",
       "        "
      ],
      "text/plain": [
       "<IPython.lib.display.YouTubeVideo at 0x7fa9c9fae730>"
      ]
     },
     "execution_count": 18,
     "metadata": {},
     "output_type": "execute_result"
    }
   ],
   "source": [
    "from IPython.display import YouTubeVideo\n",
    "\n",
    "YouTubeVideo('Q81RR3yKn30')"
   ]
  },
  {
   "cell_type": "markdown",
   "id": "18054f2d-b21e-45b1-ba4b-037fb0575949",
   "metadata": {},
   "source": [
    "#### Lasso regression"
   ]
  },
  {
   "cell_type": "code",
   "execution_count": 19,
   "id": "d13df5f4-e363-41ec-b559-997d6d9156c5",
   "metadata": {},
   "outputs": [
    {
     "data": {
      "image/jpeg": "[encoded data removed]",
      "text/html": [
       "\n",
       "        <iframe\n",
       "            width=\"400\"\n",
       "            height=\"300\"\n",
       "            src=\"https://www.youtube.com/embed/NGf0voTMlcs\"\n",
       "            frameborder=\"0\"\n",
       "            allowfullscreen\n",
       "            \n",
       "        ></iframe>\n",
       "        "
      ],
      "text/plain": [
       "<IPython.lib.display.YouTubeVideo at 0x7fa9b8fd5190>"
      ]
     },
     "execution_count": 19,
     "metadata": {},
     "output_type": "execute_result"
    }
   ],
   "source": [
    "from IPython.display import YouTubeVideo\n",
    "\n",
    "YouTubeVideo('NGf0voTMlcs')"
   ]
  }
 ],
 "metadata": {
  "kernelspec": {
   "display_name": "Python 3",
   "language": "python",
   "name": "python3"
  },
  "language_info": {
   "codemirror_mode": {
    "name": "ipython",
    "version": 3
   },
   "file_extension": ".py",
   "mimetype": "text/x-python",
   "name": "python",
   "nbconvert_exporter": "python",
   "pygments_lexer": "ipython3",
   "version": "3.8.8"
  }
 },
 "nbformat": 4,
 "nbformat_minor": 5
}
