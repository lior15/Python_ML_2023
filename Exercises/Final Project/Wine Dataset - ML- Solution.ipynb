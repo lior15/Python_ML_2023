{
 "cells": [
  {
   "cell_type": "markdown",
   "metadata": {},
   "source": [
    "# Wines Points prediction "
   ]
  },
  {
   "cell_type": "markdown",
   "metadata": {},
   "source": [
    "Submission Date : 3.6.2023\n",
    "Task: Predict the wine score given the inputs\n",
    "Instructions:\n",
    " * Use logistic regression as benchmark model\n",
    " * Use sklearn pipeliens + cv + grid search with sklearn models (e.g. KNNs, RandomForest, etc.)\n",
    " * Compare all models on proper metric (your choice)"
   ]
  },
  {
   "cell_type": "markdown",
   "metadata": {},
   "source": [
    "For DNN course project:\n",
    "* Use sklearn pipeliens with tensorflow models (w/wo embeddings, LSTMs, RNNs, Transformers etc.)\n",
    "* Compare all models on proper metric (your choice)"
   ]
  },
  {
   "cell_type": "code",
   "execution_count": 1,
   "metadata": {},
   "outputs": [],
   "source": [
    "%load_ext autoreload\n",
    "%autoreload 2\n",
    "import sys; sys.path.append('../')"
   ]
  },
  {
   "cell_type": "markdown",
   "metadata": {},
   "source": [
    "Here we will try to predict the points a wine will get based on known characteristics (i.e. features, in the ML terminology). The mine point in this stage is to establish a simple, ideally super cost effective, basline.\n",
    "In the real world there is a tradeoff between complexity and perforamnce, and the DS job, among others, is to present a tradeoff tables of what performance is achivalbel at what complexity level. \n",
    "\n",
    "to which models with increased complexity and resource demands will be compared. Complexity should then be translated into cost. For example:\n",
    " * Compute cost \n",
    " * Maintenance cost\n",
    " * Serving costs (i.e. is new platform needed?) \n",
    " "
   ]
  },
  {
   "cell_type": "markdown",
   "metadata": {},
   "source": [
    "## Loading the data"
   ]
  },
  {
   "cell_type": "code",
   "execution_count": 1,
   "metadata": {},
   "outputs": [
    {
     "data": {
      "text/html": [
       "        <script type=\"text/javascript\">\n",
       "        window.PlotlyConfig = {MathJaxConfig: 'local'};\n",
       "        if (window.MathJax) {MathJax.Hub.Config({SVG: {font: \"STIX-Web\"}});}\n",
       "        if (typeof require !== 'undefined') {\n",
       "        require.undef(\"plotly\");\n",
       "        requirejs.config({\n",
       "            paths: {\n",
       "                'plotly': ['https://cdn.plot.ly/plotly-2.9.0.min']\n",
       "            }\n",
       "        });\n",
       "        require(['plotly'], function(Plotly) {\n",
       "            window._Plotly = Plotly;\n",
       "        });\n",
       "        }\n",
       "        </script>\n",
       "        "
      ]
     },
     "metadata": {},
     "output_type": "display_data"
    }
   ],
   "source": [
    "import pandas as pd\n",
    "import cufflinks as cf; cf.go_offline()"
   ]
  },
  {
   "cell_type": "code",
   "execution_count": 2,
   "metadata": {},
   "outputs": [
    {
     "data": {
      "text/plain": [
       "(111931, 16)"
      ]
     },
     "execution_count": 2,
     "metadata": {},
     "output_type": "execute_result"
    }
   ],
   "source": [
    "wine_reviews = pd.read_csv(\"clean_wine_reviews_data.csv\")\n",
    "wine_reviews.shape"
   ]
  },
  {
   "cell_type": "code",
   "execution_count": 4,
   "metadata": {},
   "outputs": [
    {
     "data": {
      "text/html": [
       "<div>\n",
       "<style scoped>\n",
       "    .dataframe tbody tr th:only-of-type {\n",
       "        vertical-align: middle;\n",
       "    }\n",
       "\n",
       "    .dataframe tbody tr th {\n",
       "        vertical-align: top;\n",
       "    }\n",
       "\n",
       "    .dataframe thead th {\n",
       "        text-align: right;\n",
       "    }\n",
       "</style>\n",
       "<table border=\"1\" class=\"dataframe\">\n",
       "  <thead>\n",
       "    <tr style=\"text-align: right;\">\n",
       "      <th></th>\n",
       "      <th>Unnamed: 0</th>\n",
       "      <th>country</th>\n",
       "      <th>description</th>\n",
       "      <th>designation</th>\n",
       "      <th>points</th>\n",
       "      <th>price</th>\n",
       "      <th>province</th>\n",
       "      <th>region_1</th>\n",
       "      <th>region_2</th>\n",
       "      <th>taster_name</th>\n",
       "      <th>taster_twitter_handle</th>\n",
       "      <th>title</th>\n",
       "      <th>variety</th>\n",
       "      <th>winery</th>\n",
       "      <th>year</th>\n",
       "      <th>wine_category</th>\n",
       "    </tr>\n",
       "  </thead>\n",
       "  <tbody>\n",
       "    <tr>\n",
       "      <th>0</th>\n",
       "      <td>0</td>\n",
       "      <td>Italy</td>\n",
       "      <td>Aromas include tropical fruit broom brimstone ...</td>\n",
       "      <td>Vulkà Bianco</td>\n",
       "      <td>87</td>\n",
       "      <td>39.928286</td>\n",
       "      <td>Sicily &amp; Sardinia</td>\n",
       "      <td>Etna</td>\n",
       "      <td>Unknown</td>\n",
       "      <td>Kerin O’Keefe</td>\n",
       "      <td>@kerinokeefe</td>\n",
       "      <td>Nicosia 2013 Vulkà Bianco  (Etna)</td>\n",
       "      <td>White Blend</td>\n",
       "      <td>Nicosia</td>\n",
       "      <td>2013.0</td>\n",
       "      <td>White</td>\n",
       "    </tr>\n",
       "    <tr>\n",
       "      <th>1</th>\n",
       "      <td>1</td>\n",
       "      <td>Portugal</td>\n",
       "      <td>This ripe fruity wine smooth still structured ...</td>\n",
       "      <td>Avidagos</td>\n",
       "      <td>87</td>\n",
       "      <td>15.000000</td>\n",
       "      <td>Douro</td>\n",
       "      <td>Unknown</td>\n",
       "      <td>Unknown</td>\n",
       "      <td>Roger Voss</td>\n",
       "      <td>@vossroger</td>\n",
       "      <td>Quinta dos Avidagos 2011 Avidagos Red (Douro)</td>\n",
       "      <td>Portuguese Red</td>\n",
       "      <td>Quinta dos Avidagos</td>\n",
       "      <td>2011.0</td>\n",
       "      <td>Red</td>\n",
       "    </tr>\n",
       "    <tr>\n",
       "      <th>2</th>\n",
       "      <td>2</td>\n",
       "      <td>US</td>\n",
       "      <td>Tart snappy flavors lime flesh rind dominate S...</td>\n",
       "      <td>Unknown</td>\n",
       "      <td>87</td>\n",
       "      <td>14.000000</td>\n",
       "      <td>Oregon</td>\n",
       "      <td>Willamette Valley</td>\n",
       "      <td>Willamette Valley</td>\n",
       "      <td>Paul Gregutt</td>\n",
       "      <td>@paulgwine</td>\n",
       "      <td>Rainstorm 2013 Pinot Gris (Willamette Valley)</td>\n",
       "      <td>Pinot Gris</td>\n",
       "      <td>Rainstorm</td>\n",
       "      <td>2013.0</td>\n",
       "      <td>White</td>\n",
       "    </tr>\n",
       "    <tr>\n",
       "      <th>3</th>\n",
       "      <td>3</td>\n",
       "      <td>US</td>\n",
       "      <td>Pineapple rind lemon pith orange blossom start...</td>\n",
       "      <td>Reserve Late Harvest</td>\n",
       "      <td>87</td>\n",
       "      <td>13.000000</td>\n",
       "      <td>Michigan</td>\n",
       "      <td>Lake Michigan Shore</td>\n",
       "      <td>Unknown</td>\n",
       "      <td>Alexander Peartree</td>\n",
       "      <td>Unknown</td>\n",
       "      <td>St. Julian 2013 Reserve Late Harvest Riesling ...</td>\n",
       "      <td>Riesling</td>\n",
       "      <td>St. Julian</td>\n",
       "      <td>2013.0</td>\n",
       "      <td>White</td>\n",
       "    </tr>\n",
       "    <tr>\n",
       "      <th>4</th>\n",
       "      <td>4</td>\n",
       "      <td>US</td>\n",
       "      <td>Much like regular bottling 2012 comes across r...</td>\n",
       "      <td>Vintner's Reserve Wild Child Block</td>\n",
       "      <td>87</td>\n",
       "      <td>65.000000</td>\n",
       "      <td>Oregon</td>\n",
       "      <td>Willamette Valley</td>\n",
       "      <td>Willamette Valley</td>\n",
       "      <td>Paul Gregutt</td>\n",
       "      <td>@paulgwine</td>\n",
       "      <td>Sweet Cheeks 2012 Vintner's Reserve Wild Child...</td>\n",
       "      <td>Pinot Noir</td>\n",
       "      <td>Sweet Cheeks</td>\n",
       "      <td>2012.0</td>\n",
       "      <td>Red</td>\n",
       "    </tr>\n",
       "  </tbody>\n",
       "</table>\n",
       "</div>"
      ],
      "text/plain": [
       "   Unnamed: 0   country                                        description  \\\n",
       "0           0     Italy  Aromas include tropical fruit broom brimstone ...   \n",
       "1           1  Portugal  This ripe fruity wine smooth still structured ...   \n",
       "2           2        US  Tart snappy flavors lime flesh rind dominate S...   \n",
       "3           3        US  Pineapple rind lemon pith orange blossom start...   \n",
       "4           4        US  Much like regular bottling 2012 comes across r...   \n",
       "\n",
       "                          designation  points      price           province  \\\n",
       "0                        Vulkà Bianco      87  39.928286  Sicily & Sardinia   \n",
       "1                            Avidagos      87  15.000000              Douro   \n",
       "2                             Unknown      87  14.000000             Oregon   \n",
       "3                Reserve Late Harvest      87  13.000000           Michigan   \n",
       "4  Vintner's Reserve Wild Child Block      87  65.000000             Oregon   \n",
       "\n",
       "              region_1           region_2         taster_name  \\\n",
       "0                 Etna            Unknown       Kerin O’Keefe   \n",
       "1              Unknown            Unknown          Roger Voss   \n",
       "2    Willamette Valley  Willamette Valley        Paul Gregutt   \n",
       "3  Lake Michigan Shore            Unknown  Alexander Peartree   \n",
       "4    Willamette Valley  Willamette Valley        Paul Gregutt   \n",
       "\n",
       "  taster_twitter_handle                                              title  \\\n",
       "0          @kerinokeefe                  Nicosia 2013 Vulkà Bianco  (Etna)   \n",
       "1            @vossroger      Quinta dos Avidagos 2011 Avidagos Red (Douro)   \n",
       "2           @paulgwine       Rainstorm 2013 Pinot Gris (Willamette Valley)   \n",
       "3               Unknown  St. Julian 2013 Reserve Late Harvest Riesling ...   \n",
       "4           @paulgwine   Sweet Cheeks 2012 Vintner's Reserve Wild Child...   \n",
       "\n",
       "          variety               winery    year wine_category  \n",
       "0     White Blend              Nicosia  2013.0         White  \n",
       "1  Portuguese Red  Quinta dos Avidagos  2011.0           Red  \n",
       "2      Pinot Gris            Rainstorm  2013.0         White  \n",
       "3        Riesling           St. Julian  2013.0         White  \n",
       "4      Pinot Noir         Sweet Cheeks  2012.0           Red  "
      ]
     },
     "execution_count": 4,
     "metadata": {},
     "output_type": "execute_result"
    }
   ],
   "source": [
    "wine_reviews.head()"
   ]
  },
  {
   "cell_type": "markdown",
   "metadata": {},
   "source": [
    "# Linear Regression without textual column"
   ]
  },
  {
   "cell_type": "code",
   "execution_count": 3,
   "metadata": {},
   "outputs": [
    {
     "name": "stdout",
     "output_type": "stream",
     "text": [
      "Pipeline(steps=[('preprocessor',\n",
      "                 ColumnTransformer(transformers=[('numeric',\n",
      "                                                  Pipeline(steps=[('imputer',\n",
      "                                                                   SimpleImputer()),\n",
      "                                                                  ('standardscaler',\n",
      "                                                                   StandardScaler())]),\n",
      "                                                  ['price', 'year']),\n",
      "                                                 ('category',\n",
      "                                                  Pipeline(steps=[('imputer',\n",
      "                                                                   SimpleImputer(fill_value='Unknown',\n",
      "                                                                                 strategy='constant')),\n",
      "                                                                  ('onehotencoding',\n",
      "                                                                   OneHotEncoder(handle_unknown='ignore'))]),\n",
      "                                                  ['country', 'taster_name',\n",
      "                                                   'variety', 'designation',\n",
      "                                                   'province', 'winery',\n",
      "                                                   'wine_category',\n",
      "                                                   'region_1'])])),\n",
      "                ('regressor', LinearRegression())])\n"
     ]
    }
   ],
   "source": [
    "from sklearn.compose import ColumnTransformer\n",
    "from sklearn.pipeline import Pipeline\n",
    "from sklearn.impute import SimpleImputer\n",
    "from sklearn.preprocessing import StandardScaler, OneHotEncoder\n",
    "from sklearn.tree import DecisionTreeRegressor\n",
    "from sklearn.decomposition import PCA\n",
    "from sklearn.linear_model import LinearRegression\n",
    "from sklearn.feature_extraction.text import CountVectorizer\n",
    "from sklearn.model_selection import GridSearchCV, train_test_split\n",
    "from sklearn.metrics import mean_squared_error\n",
    "from sklearn.neighbors import KNeighborsRegressor\n",
    "from sklearn.ensemble import RandomForestRegressor\n",
    "from sklearn.tree import DecisionTreeRegressor\n",
    "\n",
    "y = pd.DataFrame(wine_reviews, columns=['points'])\n",
    "x = wine_reviews.drop('points', axis=1)\n",
    "\n",
    "X_train, X_test, y_train, y_test = train_test_split(x, y, test_size=0.25, random_state=29)\n",
    "\n",
    "categorical_features = ['country', 'taster_name','variety','designation','province','winery','wine_category','region_1']\n",
    "numerical_features = ['price','year']\n",
    "text_feature = 'description'\n",
    "\n",
    "category_transformer = Pipeline(steps=[\n",
    "    ('imputer', SimpleImputer(strategy='constant', fill_value='Unknown')),\n",
    "    ('onehotencoding', OneHotEncoder(handle_unknown='ignore'))\n",
    "])\n",
    "\n",
    "numeric_transformer = Pipeline(steps=[\n",
    "    ('imputer', SimpleImputer(strategy='mean')),\n",
    "    ('standardscaler', StandardScaler())\n",
    "])\n",
    "\n",
    "# text_tansformer = Pipeline(steps=[\n",
    "#     ('countvectorizer', CountVectorizer(max_features = 1500))\n",
    "# ])\n",
    "\n",
    "preprocessing = ColumnTransformer(\n",
    "    transformers=[\n",
    "        ('numeric', numeric_transformer, numerical_features),\n",
    "        ('category', category_transformer, categorical_features),\n",
    "        # ('text',text_tansformer , text_feature) \n",
    "    ], remainder='drop')\n",
    "\n",
    "pipeline = Pipeline(steps=[\n",
    "    ('preprocessor', preprocessing),\n",
    "    ('regressor', LinearRegression())\n",
    "])\n",
    "\n",
    "print(pipeline)\n",
    "\n",
    "param_grid = [{\n",
    "    'regressor': [LinearRegression()],\n",
    "    'regressor__fit_intercept': [True, False],\n",
    "    'regressor__n_jobs':[5,10,15]\n",
    "}]\n",
    "\n",
    "# Perform Grid Search on linear regression\n",
    "grid_search = GridSearchCV(pipeline, param_grid, cv=5, scoring='r2',verbose=3)\n",
    "grid_search.fit(X_train, y_train)\n",
    "\n"
   ]
  },
  {
   "cell_type": "code",
   "execution_count": 6,
   "metadata": {},
   "outputs": [],
   "source": [
    "best_model = grid_search.best_estimator_"
   ]
  },
  {
   "cell_type": "code",
   "execution_count": 7,
   "metadata": {},
   "outputs": [
    {
     "data": {
      "text/plain": [
       "Pipeline(steps=[('preprocessor',\n",
       "                 ColumnTransformer(transformers=[('numeric',\n",
       "                                                  Pipeline(steps=[('imputer',\n",
       "                                                                   SimpleImputer()),\n",
       "                                                                  ('standardscaler',\n",
       "                                                                   StandardScaler())]),\n",
       "                                                  ['price', 'year']),\n",
       "                                                 ('category',\n",
       "                                                  Pipeline(steps=[('imputer',\n",
       "                                                                   SimpleImputer(fill_value='Unknown',\n",
       "                                                                                 strategy='constant')),\n",
       "                                                                  ('onehotencoding',\n",
       "                                                                   OneHotEncoder(handle_unknown='ignore'))]),\n",
       "                                                  ['country', 'taster_name',\n",
       "                                                   'variety', 'designation',\n",
       "                                                   'province', 'winery',\n",
       "                                                   'wine_category',\n",
       "                                                   'region_1'])])),\n",
       "                ('regressor', LinearRegression(n_jobs=5))])"
      ]
     },
     "execution_count": 7,
     "metadata": {},
     "output_type": "execute_result"
    }
   ],
   "source": [
    "best_model"
   ]
  },
  {
   "cell_type": "code",
   "execution_count": 11,
   "metadata": {},
   "outputs": [],
   "source": [
    "summary_df = pd.DataFrame(columns = ['method', 'mean_fit_time', 'parameters', 'train_r2', 'test_MSE','test_r2'])"
   ]
  },
  {
   "cell_type": "code",
   "execution_count": 9,
   "metadata": {},
   "outputs": [],
   "source": [
    "best_model.fit(X_train, y_train)\n",
    "prediction = best_model.predict(X_test)"
   ]
  },
  {
   "cell_type": "code",
   "execution_count": 10,
   "metadata": {},
   "outputs": [
    {
     "name": "stdout",
     "output_type": "stream",
     "text": [
      "5.648516085395559 0.3863580195018157\n"
     ]
    }
   ],
   "source": [
    "from sklearn.metrics import r2_score\n",
    "prediction_mse = mean_squared_error(y_test, prediction)\n",
    "prediction_r2 = r2_score(y_test, prediction)\n",
    "print (prediction_mse, prediction_r2)"
   ]
  },
  {
   "cell_type": "code",
   "execution_count": 11,
   "metadata": {},
   "outputs": [],
   "source": [
    "all_results = pd.DataFrame(grid_search.cv_results_).sort_values(by='rank_test_score',ascending=True)\n",
    "\n",
    "best_result = all_results.iloc[0]\n",
    "all_results.head()\n",
    "\n",
    "summary_df.loc[len(summary_df.index)] = ['Linear Regression without text', best_result.mean_fit_time, best_result.params, best_result.mean_test_score, prediction_mse, prediction_r2]"
   ]
  },
  {
   "cell_type": "code",
   "execution_count": 12,
   "metadata": {},
   "outputs": [
    {
     "data": {
      "text/html": [
       "<div>\n",
       "<style scoped>\n",
       "    .dataframe tbody tr th:only-of-type {\n",
       "        vertical-align: middle;\n",
       "    }\n",
       "\n",
       "    .dataframe tbody tr th {\n",
       "        vertical-align: top;\n",
       "    }\n",
       "\n",
       "    .dataframe thead th {\n",
       "        text-align: right;\n",
       "    }\n",
       "</style>\n",
       "<table border=\"1\" class=\"dataframe\">\n",
       "  <thead>\n",
       "    <tr style=\"text-align: right;\">\n",
       "      <th></th>\n",
       "      <th>method</th>\n",
       "      <th>mean_fit_time</th>\n",
       "      <th>parameters</th>\n",
       "      <th>train_r2</th>\n",
       "      <th>test_MSE</th>\n",
       "      <th>test_r2</th>\n",
       "    </tr>\n",
       "  </thead>\n",
       "  <tbody>\n",
       "    <tr>\n",
       "      <th>0</th>\n",
       "      <td>Linear Regression without text</td>\n",
       "      <td>33.147654</td>\n",
       "      <td>{'regressor': LinearRegression(n_jobs=5), 'reg...</td>\n",
       "      <td>0.336666</td>\n",
       "      <td>5.648516</td>\n",
       "      <td>0.386358</td>\n",
       "    </tr>\n",
       "  </tbody>\n",
       "</table>\n",
       "</div>"
      ],
      "text/plain": [
       "                           method  mean_fit_time  \\\n",
       "0  Linear Regression without text      33.147654   \n",
       "\n",
       "                                          parameters  train_r2  test_MSE  \\\n",
       "0  {'regressor': LinearRegression(n_jobs=5), 'reg...  0.336666  5.648516   \n",
       "\n",
       "    test_r2  \n",
       "0  0.386358  "
      ]
     },
     "execution_count": 12,
     "metadata": {},
     "output_type": "execute_result"
    }
   ],
   "source": [
    "summary_df"
   ]
  },
  {
   "cell_type": "markdown",
   "metadata": {
    "tags": []
   },
   "source": [
    "# Ridge"
   ]
  },
  {
   "cell_type": "code",
   "execution_count": 13,
   "metadata": {},
   "outputs": [
    {
     "name": "stdout",
     "output_type": "stream",
     "text": [
      "Fitting 5 folds for each of 5 candidates, totalling 25 fits\n",
      "[CV 1/5; 1/5] START regressor=Ridge(), regressor__alpha=0.001...................\n",
      "[CV 1/5; 1/5] END regressor=Ridge(), regressor__alpha=0.001;, score=0.391 total time=   2.4s\n",
      "[CV 2/5; 1/5] START regressor=Ridge(), regressor__alpha=0.001...................\n",
      "[CV 2/5; 1/5] END regressor=Ridge(), regressor__alpha=0.001;, score=0.382 total time=   2.1s\n",
      "[CV 3/5; 1/5] START regressor=Ridge(), regressor__alpha=0.001...................\n",
      "[CV 3/5; 1/5] END regressor=Ridge(), regressor__alpha=0.001;, score=0.403 total time=   2.0s\n",
      "[CV 4/5; 1/5] START regressor=Ridge(), regressor__alpha=0.001...................\n",
      "[CV 4/5; 1/5] END regressor=Ridge(), regressor__alpha=0.001;, score=0.387 total time=   1.9s\n",
      "[CV 5/5; 1/5] START regressor=Ridge(), regressor__alpha=0.001...................\n",
      "[CV 5/5; 1/5] END regressor=Ridge(), regressor__alpha=0.001;, score=0.397 total time=   1.9s\n",
      "[CV 1/5; 2/5] START regressor=Ridge(), regressor__alpha=0.01....................\n",
      "[CV 1/5; 2/5] END regressor=Ridge(), regressor__alpha=0.01;, score=0.398 total time=   1.9s\n",
      "[CV 2/5; 2/5] START regressor=Ridge(), regressor__alpha=0.01....................\n",
      "[CV 2/5; 2/5] END regressor=Ridge(), regressor__alpha=0.01;, score=0.388 total time=   2.1s\n",
      "[CV 3/5; 2/5] START regressor=Ridge(), regressor__alpha=0.01....................\n",
      "[CV 3/5; 2/5] END regressor=Ridge(), regressor__alpha=0.01;, score=0.407 total time=   2.4s\n",
      "[CV 4/5; 2/5] START regressor=Ridge(), regressor__alpha=0.01....................\n",
      "[CV 4/5; 2/5] END regressor=Ridge(), regressor__alpha=0.01;, score=0.392 total time=   2.3s\n",
      "[CV 5/5; 2/5] START regressor=Ridge(), regressor__alpha=0.01....................\n",
      "[CV 5/5; 2/5] END regressor=Ridge(), regressor__alpha=0.01;, score=0.401 total time=   1.9s\n",
      "[CV 1/5; 3/5] START regressor=Ridge(), regressor__alpha=0.1.....................\n",
      "[CV 1/5; 3/5] END regressor=Ridge(), regressor__alpha=0.1;, score=0.433 total time=   2.2s\n",
      "[CV 2/5; 3/5] START regressor=Ridge(), regressor__alpha=0.1.....................\n",
      "[CV 2/5; 3/5] END regressor=Ridge(), regressor__alpha=0.1;, score=0.424 total time=   2.0s\n",
      "[CV 3/5; 3/5] START regressor=Ridge(), regressor__alpha=0.1.....................\n",
      "[CV 3/5; 3/5] END regressor=Ridge(), regressor__alpha=0.1;, score=0.440 total time=   1.9s\n",
      "[CV 4/5; 3/5] START regressor=Ridge(), regressor__alpha=0.1.....................\n",
      "[CV 4/5; 3/5] END regressor=Ridge(), regressor__alpha=0.1;, score=0.429 total time=   2.0s\n",
      "[CV 5/5; 3/5] START regressor=Ridge(), regressor__alpha=0.1.....................\n",
      "[CV 5/5; 3/5] END regressor=Ridge(), regressor__alpha=0.1;, score=0.434 total time=   2.2s\n",
      "[CV 1/5; 4/5] START regressor=Ridge(), regressor__alpha=1.......................\n",
      "[CV 1/5; 4/5] END regressor=Ridge(), regressor__alpha=1;, score=0.497 total time=   1.5s\n",
      "[CV 2/5; 4/5] START regressor=Ridge(), regressor__alpha=1.......................\n",
      "[CV 2/5; 4/5] END regressor=Ridge(), regressor__alpha=1;, score=0.490 total time=   1.4s\n",
      "[CV 3/5; 4/5] START regressor=Ridge(), regressor__alpha=1.......................\n",
      "[CV 3/5; 4/5] END regressor=Ridge(), regressor__alpha=1;, score=0.500 total time=   1.4s\n",
      "[CV 4/5; 4/5] START regressor=Ridge(), regressor__alpha=1.......................\n",
      "[CV 4/5; 4/5] END regressor=Ridge(), regressor__alpha=1;, score=0.495 total time=   1.5s\n",
      "[CV 5/5; 4/5] START regressor=Ridge(), regressor__alpha=1.......................\n",
      "[CV 5/5; 4/5] END regressor=Ridge(), regressor__alpha=1;, score=0.498 total time=   1.6s\n",
      "[CV 1/5; 5/5] START regressor=Ridge(), regressor__alpha=10......................\n",
      "[CV 1/5; 5/5] END regressor=Ridge(), regressor__alpha=10;, score=0.494 total time=   1.2s\n",
      "[CV 2/5; 5/5] START regressor=Ridge(), regressor__alpha=10......................\n",
      "[CV 2/5; 5/5] END regressor=Ridge(), regressor__alpha=10;, score=0.492 total time=   1.1s\n",
      "[CV 3/5; 5/5] START regressor=Ridge(), regressor__alpha=10......................\n",
      "[CV 3/5; 5/5] END regressor=Ridge(), regressor__alpha=10;, score=0.493 total time=   1.2s\n",
      "[CV 4/5; 5/5] START regressor=Ridge(), regressor__alpha=10......................\n",
      "[CV 4/5; 5/5] END regressor=Ridge(), regressor__alpha=10;, score=0.493 total time=   1.1s\n",
      "[CV 5/5; 5/5] START regressor=Ridge(), regressor__alpha=10......................\n",
      "[CV 5/5; 5/5] END regressor=Ridge(), regressor__alpha=10;, score=0.494 total time=   1.2s\n"
     ]
    },
    {
     "data": {
      "text/plain": [
       "GridSearchCV(cv=5,\n",
       "             estimator=Pipeline(steps=[('preprocessor',\n",
       "                                        ColumnTransformer(transformers=[('numeric',\n",
       "                                                                         Pipeline(steps=[('imputer',\n",
       "                                                                                          SimpleImputer()),\n",
       "                                                                                         ('standardscaler',\n",
       "                                                                                          StandardScaler())]),\n",
       "                                                                         ['price',\n",
       "                                                                          'year']),\n",
       "                                                                        ('category',\n",
       "                                                                         Pipeline(steps=[('imputer',\n",
       "                                                                                          SimpleImputer(fill_value='Unknown',\n",
       "                                                                                                        strategy='constant')),\n",
       "                                                                                         ('onehotencoding',\n",
       "                                                                                          OneHotEncoder(handle_unknown='ignore'))]),\n",
       "                                                                         ['country',\n",
       "                                                                          'taster_name',\n",
       "                                                                          'variety',\n",
       "                                                                          'designation',\n",
       "                                                                          'province',\n",
       "                                                                          'winery',\n",
       "                                                                          'wine_category',\n",
       "                                                                          'region_1'])])),\n",
       "                                       ('regressor', Ridge())]),\n",
       "             param_grid={'regressor': [Ridge(alpha=1)],\n",
       "                         'regressor__alpha': [0.001, 0.01, 0.1, 1, 10]},\n",
       "             scoring='r2', verbose=42)"
      ]
     },
     "execution_count": 13,
     "metadata": {},
     "output_type": "execute_result"
    }
   ],
   "source": [
    "from sklearn.linear_model import Lasso, Ridge\n",
    "\n",
    "ridge_pipeline = Pipeline([\n",
    "    ('preprocessor', preprocessing),\n",
    "    ('regressor', Ridge())\n",
    "])\n",
    "\n",
    "\n",
    "param_grid = {\n",
    "    'regressor': [Ridge()],\n",
    "    'regressor__alpha': [0.001,0.01,0.1,1,10]\n",
    "}\n",
    "\n",
    "grid_search = GridSearchCV(ridge_pipeline, param_grid, cv = 5, scoring = 'r2', verbose = 42)\n",
    "grid_search.fit(X_train, y_train)\n"
   ]
  },
  {
   "cell_type": "code",
   "execution_count": 14,
   "metadata": {},
   "outputs": [],
   "source": [
    "# pipeline.fit(X_train, y_train)\n",
    "\n",
    "best_model = grid_search.best_estimator_\n",
    "best_model.fit(X_train, y_train)\n",
    "prediction = best_model.predict(X_test)"
   ]
  },
  {
   "cell_type": "code",
   "execution_count": 15,
   "metadata": {},
   "outputs": [
    {
     "name": "stdout",
     "output_type": "stream",
     "text": [
      "4.499047774688376 0.5112336505593242\n"
     ]
    }
   ],
   "source": [
    "prediction_mse = mean_squared_error(y_test, prediction)\n",
    "prediction_r2 = r2_score(y_test, prediction)\n",
    "print (prediction_mse, prediction_r2)"
   ]
  },
  {
   "cell_type": "code",
   "execution_count": 16,
   "metadata": {},
   "outputs": [],
   "source": [
    "all_results = pd.DataFrame(grid_search.cv_results_).sort_values(by='rank_test_score',ascending=True)\n",
    "\n",
    "best_result = all_results.iloc[0]\n",
    "all_results.head()\n",
    "\n",
    "summary_df.loc[len(summary_df.index)] = ['Ridge without text', best_result.mean_fit_time, best_result.params, best_result.mean_test_score, prediction_mse, prediction_r2]"
   ]
  },
  {
   "cell_type": "code",
   "execution_count": 17,
   "metadata": {},
   "outputs": [
    {
     "data": {
      "text/html": [
       "<div>\n",
       "<style scoped>\n",
       "    .dataframe tbody tr th:only-of-type {\n",
       "        vertical-align: middle;\n",
       "    }\n",
       "\n",
       "    .dataframe tbody tr th {\n",
       "        vertical-align: top;\n",
       "    }\n",
       "\n",
       "    .dataframe thead th {\n",
       "        text-align: right;\n",
       "    }\n",
       "</style>\n",
       "<table border=\"1\" class=\"dataframe\">\n",
       "  <thead>\n",
       "    <tr style=\"text-align: right;\">\n",
       "      <th></th>\n",
       "      <th>method</th>\n",
       "      <th>mean_fit_time</th>\n",
       "      <th>parameters</th>\n",
       "      <th>train_r2</th>\n",
       "      <th>test_MSE</th>\n",
       "      <th>test_r2</th>\n",
       "    </tr>\n",
       "  </thead>\n",
       "  <tbody>\n",
       "    <tr>\n",
       "      <th>0</th>\n",
       "      <td>Linear Regression without text</td>\n",
       "      <td>33.147654</td>\n",
       "      <td>{'regressor': LinearRegression(n_jobs=5), 'reg...</td>\n",
       "      <td>0.336666</td>\n",
       "      <td>5.648516</td>\n",
       "      <td>0.386358</td>\n",
       "    </tr>\n",
       "    <tr>\n",
       "      <th>1</th>\n",
       "      <td>Ridge without text</td>\n",
       "      <td>1.339875</td>\n",
       "      <td>{'regressor': Ridge(alpha=1), 'regressor__alph...</td>\n",
       "      <td>0.496035</td>\n",
       "      <td>4.499048</td>\n",
       "      <td>0.511234</td>\n",
       "    </tr>\n",
       "  </tbody>\n",
       "</table>\n",
       "</div>"
      ],
      "text/plain": [
       "                           method  mean_fit_time  \\\n",
       "0  Linear Regression without text      33.147654   \n",
       "1              Ridge without text       1.339875   \n",
       "\n",
       "                                          parameters  train_r2  test_MSE  \\\n",
       "0  {'regressor': LinearRegression(n_jobs=5), 'reg...  0.336666  5.648516   \n",
       "1  {'regressor': Ridge(alpha=1), 'regressor__alph...  0.496035  4.499048   \n",
       "\n",
       "    test_r2  \n",
       "0  0.386358  \n",
       "1  0.511234  "
      ]
     },
     "execution_count": 17,
     "metadata": {},
     "output_type": "execute_result"
    }
   ],
   "source": [
    "summary_df"
   ]
  },
  {
   "cell_type": "markdown",
   "metadata": {},
   "source": [
    "# Lasso"
   ]
  },
  {
   "cell_type": "code",
   "execution_count": 18,
   "metadata": {},
   "outputs": [
    {
     "name": "stdout",
     "output_type": "stream",
     "text": [
      "Fitting 5 folds for each of 5 candidates, totalling 25 fits\n",
      "[CV 1/5; 1/5] START regressor=Lasso(), regressor__alpha=0.01....................\n",
      "[CV 1/5; 1/5] END regressor=Lasso(), regressor__alpha=0.01;, score=0.354 total time= 5.5min\n",
      "[CV 2/5; 1/5] START regressor=Lasso(), regressor__alpha=0.01....................\n",
      "[CV 2/5; 1/5] END regressor=Lasso(), regressor__alpha=0.01;, score=0.353 total time= 3.5min\n",
      "[CV 3/5; 1/5] START regressor=Lasso(), regressor__alpha=0.01....................\n",
      "[CV 3/5; 1/5] END regressor=Lasso(), regressor__alpha=0.01;, score=0.353 total time= 2.9min\n",
      "[CV 4/5; 1/5] START regressor=Lasso(), regressor__alpha=0.01....................\n",
      "[CV 4/5; 1/5] END regressor=Lasso(), regressor__alpha=0.01;, score=0.351 total time= 4.1min\n",
      "[CV 5/5; 1/5] START regressor=Lasso(), regressor__alpha=0.01....................\n",
      "[CV 5/5; 1/5] END regressor=Lasso(), regressor__alpha=0.01;, score=0.352 total time= 5.5min\n",
      "[CV 1/5; 2/5] START regressor=Lasso(), regressor__alpha=0.001...................\n",
      "[CV 1/5; 2/5] END regressor=Lasso(), regressor__alpha=0.001;, score=0.407 total time=17.5min\n",
      "[CV 2/5; 2/5] START regressor=Lasso(), regressor__alpha=0.001...................\n",
      "[CV 2/5; 2/5] END regressor=Lasso(), regressor__alpha=0.001;, score=0.407 total time=21.3min\n",
      "[CV 3/5; 2/5] START regressor=Lasso(), regressor__alpha=0.001...................\n",
      "[CV 3/5; 2/5] END regressor=Lasso(), regressor__alpha=0.001;, score=0.406 total time=16.8min\n",
      "[CV 4/5; 2/5] START regressor=Lasso(), regressor__alpha=0.001...................\n",
      "[CV 4/5; 2/5] END regressor=Lasso(), regressor__alpha=0.001;, score=0.406 total time=21.2min\n",
      "[CV 5/5; 2/5] START regressor=Lasso(), regressor__alpha=0.001...................\n",
      "[CV 5/5; 2/5] END regressor=Lasso(), regressor__alpha=0.001;, score=0.406 total time=16.0min\n",
      "[CV 1/5; 3/5] START regressor=Lasso(), regressor__alpha=0.1.....................\n",
      "[CV 1/5; 3/5] END regressor=Lasso(), regressor__alpha=0.1;, score=0.292 total time=  26.1s\n",
      "[CV 2/5; 3/5] START regressor=Lasso(), regressor__alpha=0.1.....................\n",
      "[CV 2/5; 3/5] END regressor=Lasso(), regressor__alpha=0.1;, score=0.291 total time=  25.8s\n",
      "[CV 3/5; 3/5] START regressor=Lasso(), regressor__alpha=0.1.....................\n",
      "[CV 3/5; 3/5] END regressor=Lasso(), regressor__alpha=0.1;, score=0.291 total time=  25.5s\n",
      "[CV 4/5; 3/5] START regressor=Lasso(), regressor__alpha=0.1.....................\n",
      "[CV 4/5; 3/5] END regressor=Lasso(), regressor__alpha=0.1;, score=0.285 total time=  29.1s\n",
      "[CV 5/5; 3/5] START regressor=Lasso(), regressor__alpha=0.1.....................\n",
      "[CV 5/5; 3/5] END regressor=Lasso(), regressor__alpha=0.1;, score=0.288 total time=  26.6s\n",
      "[CV 1/5; 4/5] START regressor=Lasso(), regressor__alpha=1.......................\n",
      "[CV 1/5; 4/5] END regressor=Lasso(), regressor__alpha=1;, score=0.165 total time=  10.1s\n",
      "[CV 2/5; 4/5] START regressor=Lasso(), regressor__alpha=1.......................\n",
      "[CV 2/5; 4/5] END regressor=Lasso(), regressor__alpha=1;, score=0.167 total time=  10.6s\n",
      "[CV 3/5; 4/5] START regressor=Lasso(), regressor__alpha=1.......................\n",
      "[CV 3/5; 4/5] END regressor=Lasso(), regressor__alpha=1;, score=0.166 total time=  10.5s\n",
      "[CV 4/5; 4/5] START regressor=Lasso(), regressor__alpha=1.......................\n",
      "[CV 4/5; 4/5] END regressor=Lasso(), regressor__alpha=1;, score=0.165 total time=  10.1s\n",
      "[CV 5/5; 4/5] START regressor=Lasso(), regressor__alpha=1.......................\n",
      "[CV 5/5; 4/5] END regressor=Lasso(), regressor__alpha=1;, score=0.165 total time=  10.7s\n",
      "[CV 1/5; 5/5] START regressor=Lasso(), regressor__alpha=10......................\n",
      "[CV 1/5; 5/5] END regressor=Lasso(), regressor__alpha=10;, score=-0.000 total time=   6.4s\n",
      "[CV 2/5; 5/5] START regressor=Lasso(), regressor__alpha=10......................\n",
      "[CV 2/5; 5/5] END regressor=Lasso(), regressor__alpha=10;, score=-0.000 total time=   7.1s\n",
      "[CV 3/5; 5/5] START regressor=Lasso(), regressor__alpha=10......................\n",
      "[CV 3/5; 5/5] END regressor=Lasso(), regressor__alpha=10;, score=-0.000 total time=   6.3s\n",
      "[CV 4/5; 5/5] START regressor=Lasso(), regressor__alpha=10......................\n",
      "[CV 4/5; 5/5] END regressor=Lasso(), regressor__alpha=10;, score=-0.000 total time=   7.6s\n",
      "[CV 5/5; 5/5] START regressor=Lasso(), regressor__alpha=10......................\n",
      "[CV 5/5; 5/5] END regressor=Lasso(), regressor__alpha=10;, score=-0.000 total time=   8.2s\n"
     ]
    },
    {
     "data": {
      "text/plain": [
       "GridSearchCV(cv=5,\n",
       "             estimator=Pipeline(steps=[('preprocessor',\n",
       "                                        ColumnTransformer(transformers=[('numeric',\n",
       "                                                                         Pipeline(steps=[('imputer',\n",
       "                                                                                          SimpleImputer()),\n",
       "                                                                                         ('standardscaler',\n",
       "                                                                                          StandardScaler())]),\n",
       "                                                                         ['price',\n",
       "                                                                          'year']),\n",
       "                                                                        ('category',\n",
       "                                                                         Pipeline(steps=[('imputer',\n",
       "                                                                                          SimpleImputer(fill_value='Unknown',\n",
       "                                                                                                        strategy='constant')),\n",
       "                                                                                         ('onehotencoding',\n",
       "                                                                                          OneHotEncoder(handle_unknown='ignore'))]),\n",
       "                                                                         ['country',\n",
       "                                                                          'taster_name',\n",
       "                                                                          'variety',\n",
       "                                                                          'designation',\n",
       "                                                                          'province',\n",
       "                                                                          'winery',\n",
       "                                                                          'wine_category',\n",
       "                                                                          'region_1'])])),\n",
       "                                       ('regressor', Lasso())]),\n",
       "             param_grid={'regressor': [Lasso(alpha=0.001)],\n",
       "                         'regressor__alpha': [0.01, 0.001, 0.1, 1, 10]},\n",
       "             scoring='r2', verbose=42)"
      ]
     },
     "execution_count": 18,
     "metadata": {},
     "output_type": "execute_result"
    }
   ],
   "source": [
    "from sklearn.linear_model import Lasso, Ridge\n",
    "\n",
    "lasso_pipeline = Pipeline([\n",
    "    ('preprocessor', preprocessing),\n",
    "    ('regressor', Lasso())\n",
    "])\n",
    "\n",
    "\n",
    "param_grid = {\n",
    "    'regressor': [Lasso()],\n",
    "    'regressor__alpha': [0.01, 0.001, 0.1,1,10]\n",
    "}\n",
    "\n",
    "grid_search = GridSearchCV(lasso_pipeline, param_grid, cv = 5, scoring = 'r2', verbose = 42)\n",
    "grid_search.fit(X_train, y_train)"
   ]
  },
  {
   "cell_type": "code",
   "execution_count": 20,
   "metadata": {},
   "outputs": [],
   "source": [
    "# pipeline.fit(X_train, y_train)\n",
    "\n",
    "best_model = grid_search.best_estimator_\n",
    "\n",
    "best_model.fit(X_train, y_train)\n",
    "\n",
    "prediction = best_model.predict(X_test)"
   ]
  },
  {
   "cell_type": "code",
   "execution_count": 21,
   "metadata": {},
   "outputs": [
    {
     "name": "stdout",
     "output_type": "stream",
     "text": [
      "5.395524170616086 0.41384248750867847\n"
     ]
    }
   ],
   "source": [
    "prediction_mse = mean_squared_error(y_test, prediction)\n",
    "prediction_r2 = r2_score(y_test, prediction)\n",
    "print (prediction_mse, prediction_r2)"
   ]
  },
  {
   "cell_type": "code",
   "execution_count": 22,
   "metadata": {},
   "outputs": [],
   "source": [
    "all_results = pd.DataFrame(grid_search.cv_results_).sort_values(by='rank_test_score',ascending=True)\n",
    "\n",
    "best_result = all_results.iloc[0]\n",
    "all_results.head()\n",
    "\n",
    "summary_df.loc[len(summary_df.index)] = ['Lasso without text', best_result.mean_fit_time, best_result.params, best_result.mean_test_score, prediction_mse, prediction_r2]"
   ]
  },
  {
   "cell_type": "code",
   "execution_count": 23,
   "metadata": {},
   "outputs": [
    {
     "data": {
      "text/html": [
       "<div>\n",
       "<style scoped>\n",
       "    .dataframe tbody tr th:only-of-type {\n",
       "        vertical-align: middle;\n",
       "    }\n",
       "\n",
       "    .dataframe tbody tr th {\n",
       "        vertical-align: top;\n",
       "    }\n",
       "\n",
       "    .dataframe thead th {\n",
       "        text-align: right;\n",
       "    }\n",
       "</style>\n",
       "<table border=\"1\" class=\"dataframe\">\n",
       "  <thead>\n",
       "    <tr style=\"text-align: right;\">\n",
       "      <th></th>\n",
       "      <th>method</th>\n",
       "      <th>mean_fit_time</th>\n",
       "      <th>parameters</th>\n",
       "      <th>train_r2</th>\n",
       "      <th>test_MSE</th>\n",
       "      <th>test_r2</th>\n",
       "    </tr>\n",
       "  </thead>\n",
       "  <tbody>\n",
       "    <tr>\n",
       "      <th>0</th>\n",
       "      <td>Linear Regression without text</td>\n",
       "      <td>33.147654</td>\n",
       "      <td>{'regressor': LinearRegression(n_jobs=5), 'reg...</td>\n",
       "      <td>0.336666</td>\n",
       "      <td>5.648516</td>\n",
       "      <td>0.386358</td>\n",
       "    </tr>\n",
       "    <tr>\n",
       "      <th>1</th>\n",
       "      <td>Ridge without text</td>\n",
       "      <td>1.339875</td>\n",
       "      <td>{'regressor': Ridge(alpha=1), 'regressor__alph...</td>\n",
       "      <td>0.496035</td>\n",
       "      <td>4.499048</td>\n",
       "      <td>0.511234</td>\n",
       "    </tr>\n",
       "    <tr>\n",
       "      <th>2</th>\n",
       "      <td>Lasso without text</td>\n",
       "      <td>1114.591888</td>\n",
       "      <td>{'regressor': Lasso(alpha=0.001), 'regressor__...</td>\n",
       "      <td>0.406582</td>\n",
       "      <td>5.395524</td>\n",
       "      <td>0.413842</td>\n",
       "    </tr>\n",
       "  </tbody>\n",
       "</table>\n",
       "</div>"
      ],
      "text/plain": [
       "                           method  mean_fit_time  \\\n",
       "0  Linear Regression without text      33.147654   \n",
       "1              Ridge without text       1.339875   \n",
       "2              Lasso without text    1114.591888   \n",
       "\n",
       "                                          parameters  train_r2  test_MSE  \\\n",
       "0  {'regressor': LinearRegression(n_jobs=5), 'reg...  0.336666  5.648516   \n",
       "1  {'regressor': Ridge(alpha=1), 'regressor__alph...  0.496035  4.499048   \n",
       "2  {'regressor': Lasso(alpha=0.001), 'regressor__...  0.406582  5.395524   \n",
       "\n",
       "    test_r2  \n",
       "0  0.386358  \n",
       "1  0.511234  \n",
       "2  0.413842  "
      ]
     },
     "execution_count": 23,
     "metadata": {},
     "output_type": "execute_result"
    }
   ],
   "source": [
    "summary_df"
   ]
  },
  {
   "cell_type": "markdown",
   "metadata": {},
   "source": [
    "# Random forest without textual column"
   ]
  },
  {
   "cell_type": "code",
   "execution_count": 25,
   "metadata": {},
   "outputs": [
    {
     "name": "stdout",
     "output_type": "stream",
     "text": [
      "Fitting 5 folds for each of 9 candidates, totalling 45 fits\n",
      "[CV 1/5; 1/9] START regressor=RandomForestRegressor(), regressor__max_depth=5, regressor__min_samples_leaf=10\n"
     ]
    },
    {
     "name": "stderr",
     "output_type": "stream",
     "text": [
      "C:\\Users\\lior\\anaconda3\\lib\\site-packages\\sklearn\\pipeline.py:394: DataConversionWarning:\n",
      "\n",
      "A column-vector y was passed when a 1d array was expected. Please change the shape of y to (n_samples,), for example using ravel().\n",
      "\n"
     ]
    },
    {
     "name": "stdout",
     "output_type": "stream",
     "text": [
      "[CV 1/5; 1/9] END regressor=RandomForestRegressor(), regressor__max_depth=5, regressor__min_samples_leaf=10;, score=0.374 total time=  29.9s\n",
      "[CV 2/5; 1/9] START regressor=RandomForestRegressor(), regressor__max_depth=5, regressor__min_samples_leaf=10\n"
     ]
    },
    {
     "name": "stderr",
     "output_type": "stream",
     "text": [
      "C:\\Users\\lior\\anaconda3\\lib\\site-packages\\sklearn\\pipeline.py:394: DataConversionWarning:\n",
      "\n",
      "A column-vector y was passed when a 1d array was expected. Please change the shape of y to (n_samples,), for example using ravel().\n",
      "\n"
     ]
    },
    {
     "name": "stdout",
     "output_type": "stream",
     "text": [
      "[CV 2/5; 1/9] END regressor=RandomForestRegressor(), regressor__max_depth=5, regressor__min_samples_leaf=10;, score=0.375 total time=  29.3s\n",
      "[CV 3/5; 1/9] START regressor=RandomForestRegressor(), regressor__max_depth=5, regressor__min_samples_leaf=10\n"
     ]
    },
    {
     "name": "stderr",
     "output_type": "stream",
     "text": [
      "C:\\Users\\lior\\anaconda3\\lib\\site-packages\\sklearn\\pipeline.py:394: DataConversionWarning:\n",
      "\n",
      "A column-vector y was passed when a 1d array was expected. Please change the shape of y to (n_samples,), for example using ravel().\n",
      "\n"
     ]
    },
    {
     "name": "stdout",
     "output_type": "stream",
     "text": [
      "[CV 3/5; 1/9] END regressor=RandomForestRegressor(), regressor__max_depth=5, regressor__min_samples_leaf=10;, score=0.376 total time=  32.5s\n",
      "[CV 4/5; 1/9] START regressor=RandomForestRegressor(), regressor__max_depth=5, regressor__min_samples_leaf=10\n"
     ]
    },
    {
     "name": "stderr",
     "output_type": "stream",
     "text": [
      "C:\\Users\\lior\\anaconda3\\lib\\site-packages\\sklearn\\pipeline.py:394: DataConversionWarning:\n",
      "\n",
      "A column-vector y was passed when a 1d array was expected. Please change the shape of y to (n_samples,), for example using ravel().\n",
      "\n"
     ]
    },
    {
     "name": "stdout",
     "output_type": "stream",
     "text": [
      "[CV 4/5; 1/9] END regressor=RandomForestRegressor(), regressor__max_depth=5, regressor__min_samples_leaf=10;, score=0.368 total time=  29.6s\n",
      "[CV 5/5; 1/9] START regressor=RandomForestRegressor(), regressor__max_depth=5, regressor__min_samples_leaf=10\n"
     ]
    },
    {
     "name": "stderr",
     "output_type": "stream",
     "text": [
      "C:\\Users\\lior\\anaconda3\\lib\\site-packages\\sklearn\\pipeline.py:394: DataConversionWarning:\n",
      "\n",
      "A column-vector y was passed when a 1d array was expected. Please change the shape of y to (n_samples,), for example using ravel().\n",
      "\n"
     ]
    },
    {
     "name": "stdout",
     "output_type": "stream",
     "text": [
      "[CV 5/5; 1/9] END regressor=RandomForestRegressor(), regressor__max_depth=5, regressor__min_samples_leaf=10;, score=0.373 total time=  29.2s\n",
      "[CV 1/5; 2/9] START regressor=RandomForestRegressor(), regressor__max_depth=5, regressor__min_samples_leaf=20\n"
     ]
    },
    {
     "name": "stderr",
     "output_type": "stream",
     "text": [
      "C:\\Users\\lior\\anaconda3\\lib\\site-packages\\sklearn\\pipeline.py:394: DataConversionWarning:\n",
      "\n",
      "A column-vector y was passed when a 1d array was expected. Please change the shape of y to (n_samples,), for example using ravel().\n",
      "\n"
     ]
    },
    {
     "name": "stdout",
     "output_type": "stream",
     "text": [
      "[CV 1/5; 2/9] END regressor=RandomForestRegressor(), regressor__max_depth=5, regressor__min_samples_leaf=20;, score=0.373 total time=  29.1s\n",
      "[CV 2/5; 2/9] START regressor=RandomForestRegressor(), regressor__max_depth=5, regressor__min_samples_leaf=20\n"
     ]
    },
    {
     "name": "stderr",
     "output_type": "stream",
     "text": [
      "C:\\Users\\lior\\anaconda3\\lib\\site-packages\\sklearn\\pipeline.py:394: DataConversionWarning:\n",
      "\n",
      "A column-vector y was passed when a 1d array was expected. Please change the shape of y to (n_samples,), for example using ravel().\n",
      "\n"
     ]
    },
    {
     "name": "stdout",
     "output_type": "stream",
     "text": [
      "[CV 2/5; 2/9] END regressor=RandomForestRegressor(), regressor__max_depth=5, regressor__min_samples_leaf=20;, score=0.374 total time=  32.0s\n",
      "[CV 3/5; 2/9] START regressor=RandomForestRegressor(), regressor__max_depth=5, regressor__min_samples_leaf=20\n"
     ]
    },
    {
     "name": "stderr",
     "output_type": "stream",
     "text": [
      "C:\\Users\\lior\\anaconda3\\lib\\site-packages\\sklearn\\pipeline.py:394: DataConversionWarning:\n",
      "\n",
      "A column-vector y was passed when a 1d array was expected. Please change the shape of y to (n_samples,), for example using ravel().\n",
      "\n"
     ]
    },
    {
     "name": "stdout",
     "output_type": "stream",
     "text": [
      "[CV 3/5; 2/9] END regressor=RandomForestRegressor(), regressor__max_depth=5, regressor__min_samples_leaf=20;, score=0.376 total time=  29.9s\n",
      "[CV 4/5; 2/9] START regressor=RandomForestRegressor(), regressor__max_depth=5, regressor__min_samples_leaf=20\n"
     ]
    },
    {
     "name": "stderr",
     "output_type": "stream",
     "text": [
      "C:\\Users\\lior\\anaconda3\\lib\\site-packages\\sklearn\\pipeline.py:394: DataConversionWarning:\n",
      "\n",
      "A column-vector y was passed when a 1d array was expected. Please change the shape of y to (n_samples,), for example using ravel().\n",
      "\n"
     ]
    },
    {
     "name": "stdout",
     "output_type": "stream",
     "text": [
      "[CV 4/5; 2/9] END regressor=RandomForestRegressor(), regressor__max_depth=5, regressor__min_samples_leaf=20;, score=0.368 total time=  29.5s\n",
      "[CV 5/5; 2/9] START regressor=RandomForestRegressor(), regressor__max_depth=5, regressor__min_samples_leaf=20\n"
     ]
    },
    {
     "name": "stderr",
     "output_type": "stream",
     "text": [
      "C:\\Users\\lior\\anaconda3\\lib\\site-packages\\sklearn\\pipeline.py:394: DataConversionWarning:\n",
      "\n",
      "A column-vector y was passed when a 1d array was expected. Please change the shape of y to (n_samples,), for example using ravel().\n",
      "\n"
     ]
    },
    {
     "name": "stdout",
     "output_type": "stream",
     "text": [
      "[CV 5/5; 2/9] END regressor=RandomForestRegressor(), regressor__max_depth=5, regressor__min_samples_leaf=20;, score=0.373 total time=  29.4s\n",
      "[CV 1/5; 3/9] START regressor=RandomForestRegressor(), regressor__max_depth=5, regressor__min_samples_leaf=30\n"
     ]
    },
    {
     "name": "stderr",
     "output_type": "stream",
     "text": [
      "C:\\Users\\lior\\anaconda3\\lib\\site-packages\\sklearn\\pipeline.py:394: DataConversionWarning:\n",
      "\n",
      "A column-vector y was passed when a 1d array was expected. Please change the shape of y to (n_samples,), for example using ravel().\n",
      "\n"
     ]
    },
    {
     "name": "stdout",
     "output_type": "stream",
     "text": [
      "[CV 1/5; 3/9] END regressor=RandomForestRegressor(), regressor__max_depth=5, regressor__min_samples_leaf=30;, score=0.374 total time=  32.6s\n",
      "[CV 2/5; 3/9] START regressor=RandomForestRegressor(), regressor__max_depth=5, regressor__min_samples_leaf=30\n"
     ]
    },
    {
     "name": "stderr",
     "output_type": "stream",
     "text": [
      "C:\\Users\\lior\\anaconda3\\lib\\site-packages\\sklearn\\pipeline.py:394: DataConversionWarning:\n",
      "\n",
      "A column-vector y was passed when a 1d array was expected. Please change the shape of y to (n_samples,), for example using ravel().\n",
      "\n"
     ]
    },
    {
     "name": "stdout",
     "output_type": "stream",
     "text": [
      "[CV 2/5; 3/9] END regressor=RandomForestRegressor(), regressor__max_depth=5, regressor__min_samples_leaf=30;, score=0.375 total time=  29.4s\n",
      "[CV 3/5; 3/9] START regressor=RandomForestRegressor(), regressor__max_depth=5, regressor__min_samples_leaf=30\n"
     ]
    },
    {
     "name": "stderr",
     "output_type": "stream",
     "text": [
      "C:\\Users\\lior\\anaconda3\\lib\\site-packages\\sklearn\\pipeline.py:394: DataConversionWarning:\n",
      "\n",
      "A column-vector y was passed when a 1d array was expected. Please change the shape of y to (n_samples,), for example using ravel().\n",
      "\n"
     ]
    },
    {
     "name": "stdout",
     "output_type": "stream",
     "text": [
      "[CV 3/5; 3/9] END regressor=RandomForestRegressor(), regressor__max_depth=5, regressor__min_samples_leaf=30;, score=0.376 total time=  30.1s\n",
      "[CV 4/5; 3/9] START regressor=RandomForestRegressor(), regressor__max_depth=5, regressor__min_samples_leaf=30\n"
     ]
    },
    {
     "name": "stderr",
     "output_type": "stream",
     "text": [
      "C:\\Users\\lior\\anaconda3\\lib\\site-packages\\sklearn\\pipeline.py:394: DataConversionWarning:\n",
      "\n",
      "A column-vector y was passed when a 1d array was expected. Please change the shape of y to (n_samples,), for example using ravel().\n",
      "\n"
     ]
    },
    {
     "name": "stdout",
     "output_type": "stream",
     "text": [
      "[CV 4/5; 3/9] END regressor=RandomForestRegressor(), regressor__max_depth=5, regressor__min_samples_leaf=30;, score=0.368 total time=  29.9s\n",
      "[CV 5/5; 3/9] START regressor=RandomForestRegressor(), regressor__max_depth=5, regressor__min_samples_leaf=30\n"
     ]
    },
    {
     "name": "stderr",
     "output_type": "stream",
     "text": [
      "C:\\Users\\lior\\anaconda3\\lib\\site-packages\\sklearn\\pipeline.py:394: DataConversionWarning:\n",
      "\n",
      "A column-vector y was passed when a 1d array was expected. Please change the shape of y to (n_samples,), for example using ravel().\n",
      "\n"
     ]
    },
    {
     "name": "stdout",
     "output_type": "stream",
     "text": [
      "[CV 5/5; 3/9] END regressor=RandomForestRegressor(), regressor__max_depth=5, regressor__min_samples_leaf=30;, score=0.373 total time=  32.7s\n",
      "[CV 1/5; 4/9] START regressor=RandomForestRegressor(), regressor__max_depth=10, regressor__min_samples_leaf=10\n"
     ]
    },
    {
     "name": "stderr",
     "output_type": "stream",
     "text": [
      "C:\\Users\\lior\\anaconda3\\lib\\site-packages\\sklearn\\pipeline.py:394: DataConversionWarning:\n",
      "\n",
      "A column-vector y was passed when a 1d array was expected. Please change the shape of y to (n_samples,), for example using ravel().\n",
      "\n"
     ]
    },
    {
     "name": "stdout",
     "output_type": "stream",
     "text": [
      "[CV 1/5; 4/9] END regressor=RandomForestRegressor(), regressor__max_depth=10, regressor__min_samples_leaf=10;, score=0.418 total time= 2.4min\n",
      "[CV 2/5; 4/9] START regressor=RandomForestRegressor(), regressor__max_depth=10, regressor__min_samples_leaf=10\n"
     ]
    },
    {
     "name": "stderr",
     "output_type": "stream",
     "text": [
      "C:\\Users\\lior\\anaconda3\\lib\\site-packages\\sklearn\\pipeline.py:394: DataConversionWarning:\n",
      "\n",
      "A column-vector y was passed when a 1d array was expected. Please change the shape of y to (n_samples,), for example using ravel().\n",
      "\n"
     ]
    },
    {
     "name": "stdout",
     "output_type": "stream",
     "text": [
      "[CV 2/5; 4/9] END regressor=RandomForestRegressor(), regressor__max_depth=10, regressor__min_samples_leaf=10;, score=0.424 total time= 2.4min\n",
      "[CV 3/5; 4/9] START regressor=RandomForestRegressor(), regressor__max_depth=10, regressor__min_samples_leaf=10\n"
     ]
    },
    {
     "name": "stderr",
     "output_type": "stream",
     "text": [
      "C:\\Users\\lior\\anaconda3\\lib\\site-packages\\sklearn\\pipeline.py:394: DataConversionWarning:\n",
      "\n",
      "A column-vector y was passed when a 1d array was expected. Please change the shape of y to (n_samples,), for example using ravel().\n",
      "\n"
     ]
    },
    {
     "name": "stdout",
     "output_type": "stream",
     "text": [
      "[CV 3/5; 4/9] END regressor=RandomForestRegressor(), regressor__max_depth=10, regressor__min_samples_leaf=10;, score=0.424 total time= 2.4min\n",
      "[CV 4/5; 4/9] START regressor=RandomForestRegressor(), regressor__max_depth=10, regressor__min_samples_leaf=10\n"
     ]
    },
    {
     "name": "stderr",
     "output_type": "stream",
     "text": [
      "C:\\Users\\lior\\anaconda3\\lib\\site-packages\\sklearn\\pipeline.py:394: DataConversionWarning:\n",
      "\n",
      "A column-vector y was passed when a 1d array was expected. Please change the shape of y to (n_samples,), for example using ravel().\n",
      "\n"
     ]
    },
    {
     "name": "stdout",
     "output_type": "stream",
     "text": [
      "[CV 4/5; 4/9] END regressor=RandomForestRegressor(), regressor__max_depth=10, regressor__min_samples_leaf=10;, score=0.418 total time= 2.4min\n",
      "[CV 5/5; 4/9] START regressor=RandomForestRegressor(), regressor__max_depth=10, regressor__min_samples_leaf=10\n"
     ]
    },
    {
     "name": "stderr",
     "output_type": "stream",
     "text": [
      "C:\\Users\\lior\\anaconda3\\lib\\site-packages\\sklearn\\pipeline.py:394: DataConversionWarning:\n",
      "\n",
      "A column-vector y was passed when a 1d array was expected. Please change the shape of y to (n_samples,), for example using ravel().\n",
      "\n"
     ]
    },
    {
     "name": "stdout",
     "output_type": "stream",
     "text": [
      "[CV 5/5; 4/9] END regressor=RandomForestRegressor(), regressor__max_depth=10, regressor__min_samples_leaf=10;, score=0.417 total time= 2.4min\n",
      "[CV 1/5; 5/9] START regressor=RandomForestRegressor(), regressor__max_depth=10, regressor__min_samples_leaf=20\n"
     ]
    },
    {
     "name": "stderr",
     "output_type": "stream",
     "text": [
      "C:\\Users\\lior\\anaconda3\\lib\\site-packages\\sklearn\\pipeline.py:394: DataConversionWarning:\n",
      "\n",
      "A column-vector y was passed when a 1d array was expected. Please change the shape of y to (n_samples,), for example using ravel().\n",
      "\n"
     ]
    },
    {
     "name": "stdout",
     "output_type": "stream",
     "text": [
      "[CV 1/5; 5/9] END regressor=RandomForestRegressor(), regressor__max_depth=10, regressor__min_samples_leaf=20;, score=0.415 total time= 2.3min\n",
      "[CV 2/5; 5/9] START regressor=RandomForestRegressor(), regressor__max_depth=10, regressor__min_samples_leaf=20\n"
     ]
    },
    {
     "name": "stderr",
     "output_type": "stream",
     "text": [
      "C:\\Users\\lior\\anaconda3\\lib\\site-packages\\sklearn\\pipeline.py:394: DataConversionWarning:\n",
      "\n",
      "A column-vector y was passed when a 1d array was expected. Please change the shape of y to (n_samples,), for example using ravel().\n",
      "\n"
     ]
    },
    {
     "name": "stdout",
     "output_type": "stream",
     "text": [
      "[CV 2/5; 5/9] END regressor=RandomForestRegressor(), regressor__max_depth=10, regressor__min_samples_leaf=20;, score=0.421 total time= 2.3min\n",
      "[CV 3/5; 5/9] START regressor=RandomForestRegressor(), regressor__max_depth=10, regressor__min_samples_leaf=20\n"
     ]
    },
    {
     "name": "stderr",
     "output_type": "stream",
     "text": [
      "C:\\Users\\lior\\anaconda3\\lib\\site-packages\\sklearn\\pipeline.py:394: DataConversionWarning:\n",
      "\n",
      "A column-vector y was passed when a 1d array was expected. Please change the shape of y to (n_samples,), for example using ravel().\n",
      "\n"
     ]
    },
    {
     "name": "stdout",
     "output_type": "stream",
     "text": [
      "[CV 3/5; 5/9] END regressor=RandomForestRegressor(), regressor__max_depth=10, regressor__min_samples_leaf=20;, score=0.422 total time= 2.3min\n",
      "[CV 4/5; 5/9] START regressor=RandomForestRegressor(), regressor__max_depth=10, regressor__min_samples_leaf=20\n"
     ]
    },
    {
     "name": "stderr",
     "output_type": "stream",
     "text": [
      "C:\\Users\\lior\\anaconda3\\lib\\site-packages\\sklearn\\pipeline.py:394: DataConversionWarning:\n",
      "\n",
      "A column-vector y was passed when a 1d array was expected. Please change the shape of y to (n_samples,), for example using ravel().\n",
      "\n"
     ]
    },
    {
     "name": "stdout",
     "output_type": "stream",
     "text": [
      "[CV 4/5; 5/9] END regressor=RandomForestRegressor(), regressor__max_depth=10, regressor__min_samples_leaf=20;, score=0.417 total time= 2.3min\n",
      "[CV 5/5; 5/9] START regressor=RandomForestRegressor(), regressor__max_depth=10, regressor__min_samples_leaf=20\n"
     ]
    },
    {
     "name": "stderr",
     "output_type": "stream",
     "text": [
      "C:\\Users\\lior\\anaconda3\\lib\\site-packages\\sklearn\\pipeline.py:394: DataConversionWarning:\n",
      "\n",
      "A column-vector y was passed when a 1d array was expected. Please change the shape of y to (n_samples,), for example using ravel().\n",
      "\n"
     ]
    },
    {
     "name": "stdout",
     "output_type": "stream",
     "text": [
      "[CV 5/5; 5/9] END regressor=RandomForestRegressor(), regressor__max_depth=10, regressor__min_samples_leaf=20;, score=0.415 total time= 2.3min\n",
      "[CV 1/5; 6/9] START regressor=RandomForestRegressor(), regressor__max_depth=10, regressor__min_samples_leaf=30\n"
     ]
    },
    {
     "name": "stderr",
     "output_type": "stream",
     "text": [
      "C:\\Users\\lior\\anaconda3\\lib\\site-packages\\sklearn\\pipeline.py:394: DataConversionWarning:\n",
      "\n",
      "A column-vector y was passed when a 1d array was expected. Please change the shape of y to (n_samples,), for example using ravel().\n",
      "\n"
     ]
    },
    {
     "name": "stdout",
     "output_type": "stream",
     "text": [
      "[CV 1/5; 6/9] END regressor=RandomForestRegressor(), regressor__max_depth=10, regressor__min_samples_leaf=30;, score=0.413 total time= 2.2min\n",
      "[CV 2/5; 6/9] START regressor=RandomForestRegressor(), regressor__max_depth=10, regressor__min_samples_leaf=30\n"
     ]
    },
    {
     "name": "stderr",
     "output_type": "stream",
     "text": [
      "C:\\Users\\lior\\anaconda3\\lib\\site-packages\\sklearn\\pipeline.py:394: DataConversionWarning:\n",
      "\n",
      "A column-vector y was passed when a 1d array was expected. Please change the shape of y to (n_samples,), for example using ravel().\n",
      "\n"
     ]
    },
    {
     "name": "stdout",
     "output_type": "stream",
     "text": [
      "[CV 2/5; 6/9] END regressor=RandomForestRegressor(), regressor__max_depth=10, regressor__min_samples_leaf=30;, score=0.418 total time= 2.1min\n",
      "[CV 3/5; 6/9] START regressor=RandomForestRegressor(), regressor__max_depth=10, regressor__min_samples_leaf=30\n"
     ]
    },
    {
     "name": "stderr",
     "output_type": "stream",
     "text": [
      "C:\\Users\\lior\\anaconda3\\lib\\site-packages\\sklearn\\pipeline.py:394: DataConversionWarning:\n",
      "\n",
      "A column-vector y was passed when a 1d array was expected. Please change the shape of y to (n_samples,), for example using ravel().\n",
      "\n"
     ]
    },
    {
     "name": "stdout",
     "output_type": "stream",
     "text": [
      "[CV 3/5; 6/9] END regressor=RandomForestRegressor(), regressor__max_depth=10, regressor__min_samples_leaf=30;, score=0.419 total time= 2.2min\n",
      "[CV 4/5; 6/9] START regressor=RandomForestRegressor(), regressor__max_depth=10, regressor__min_samples_leaf=30\n"
     ]
    },
    {
     "name": "stderr",
     "output_type": "stream",
     "text": [
      "C:\\Users\\lior\\anaconda3\\lib\\site-packages\\sklearn\\pipeline.py:394: DataConversionWarning:\n",
      "\n",
      "A column-vector y was passed when a 1d array was expected. Please change the shape of y to (n_samples,), for example using ravel().\n",
      "\n"
     ]
    },
    {
     "name": "stdout",
     "output_type": "stream",
     "text": [
      "[CV 4/5; 6/9] END regressor=RandomForestRegressor(), regressor__max_depth=10, regressor__min_samples_leaf=30;, score=0.414 total time= 2.2min\n",
      "[CV 5/5; 6/9] START regressor=RandomForestRegressor(), regressor__max_depth=10, regressor__min_samples_leaf=30\n"
     ]
    },
    {
     "name": "stderr",
     "output_type": "stream",
     "text": [
      "C:\\Users\\lior\\anaconda3\\lib\\site-packages\\sklearn\\pipeline.py:394: DataConversionWarning:\n",
      "\n",
      "A column-vector y was passed when a 1d array was expected. Please change the shape of y to (n_samples,), for example using ravel().\n",
      "\n"
     ]
    },
    {
     "name": "stdout",
     "output_type": "stream",
     "text": [
      "[CV 5/5; 6/9] END regressor=RandomForestRegressor(), regressor__max_depth=10, regressor__min_samples_leaf=30;, score=0.413 total time= 2.2min\n",
      "[CV 1/5; 7/9] START regressor=RandomForestRegressor(), regressor__max_depth=15, regressor__min_samples_leaf=10\n"
     ]
    },
    {
     "name": "stderr",
     "output_type": "stream",
     "text": [
      "C:\\Users\\lior\\anaconda3\\lib\\site-packages\\sklearn\\pipeline.py:394: DataConversionWarning:\n",
      "\n",
      "A column-vector y was passed when a 1d array was expected. Please change the shape of y to (n_samples,), for example using ravel().\n",
      "\n"
     ]
    },
    {
     "name": "stdout",
     "output_type": "stream",
     "text": [
      "[CV 1/5; 7/9] END regressor=RandomForestRegressor(), regressor__max_depth=15, regressor__min_samples_leaf=10;, score=0.440 total time= 5.0min\n",
      "[CV 2/5; 7/9] START regressor=RandomForestRegressor(), regressor__max_depth=15, regressor__min_samples_leaf=10\n"
     ]
    },
    {
     "name": "stderr",
     "output_type": "stream",
     "text": [
      "C:\\Users\\lior\\anaconda3\\lib\\site-packages\\sklearn\\pipeline.py:394: DataConversionWarning:\n",
      "\n",
      "A column-vector y was passed when a 1d array was expected. Please change the shape of y to (n_samples,), for example using ravel().\n",
      "\n"
     ]
    },
    {
     "name": "stdout",
     "output_type": "stream",
     "text": [
      "[CV 2/5; 7/9] END regressor=RandomForestRegressor(), regressor__max_depth=15, regressor__min_samples_leaf=10;, score=0.447 total time= 5.4min\n",
      "[CV 3/5; 7/9] START regressor=RandomForestRegressor(), regressor__max_depth=15, regressor__min_samples_leaf=10\n"
     ]
    },
    {
     "name": "stderr",
     "output_type": "stream",
     "text": [
      "C:\\Users\\lior\\anaconda3\\lib\\site-packages\\sklearn\\pipeline.py:394: DataConversionWarning:\n",
      "\n",
      "A column-vector y was passed when a 1d array was expected. Please change the shape of y to (n_samples,), for example using ravel().\n",
      "\n"
     ]
    },
    {
     "name": "stdout",
     "output_type": "stream",
     "text": [
      "[CV 3/5; 7/9] END regressor=RandomForestRegressor(), regressor__max_depth=15, regressor__min_samples_leaf=10;, score=0.445 total time= 5.9min\n",
      "[CV 4/5; 7/9] START regressor=RandomForestRegressor(), regressor__max_depth=15, regressor__min_samples_leaf=10\n"
     ]
    },
    {
     "name": "stderr",
     "output_type": "stream",
     "text": [
      "C:\\Users\\lior\\anaconda3\\lib\\site-packages\\sklearn\\pipeline.py:394: DataConversionWarning:\n",
      "\n",
      "A column-vector y was passed when a 1d array was expected. Please change the shape of y to (n_samples,), for example using ravel().\n",
      "\n"
     ]
    },
    {
     "name": "stdout",
     "output_type": "stream",
     "text": [
      "[CV 4/5; 7/9] END regressor=RandomForestRegressor(), regressor__max_depth=15, regressor__min_samples_leaf=10;, score=0.441 total time= 5.6min\n",
      "[CV 5/5; 7/9] START regressor=RandomForestRegressor(), regressor__max_depth=15, regressor__min_samples_leaf=10\n"
     ]
    },
    {
     "name": "stderr",
     "output_type": "stream",
     "text": [
      "C:\\Users\\lior\\anaconda3\\lib\\site-packages\\sklearn\\pipeline.py:394: DataConversionWarning:\n",
      "\n",
      "A column-vector y was passed when a 1d array was expected. Please change the shape of y to (n_samples,), for example using ravel().\n",
      "\n"
     ]
    },
    {
     "name": "stdout",
     "output_type": "stream",
     "text": [
      "[CV 5/5; 7/9] END regressor=RandomForestRegressor(), regressor__max_depth=15, regressor__min_samples_leaf=10;, score=0.439 total time= 5.6min\n",
      "[CV 1/5; 8/9] START regressor=RandomForestRegressor(), regressor__max_depth=15, regressor__min_samples_leaf=20\n"
     ]
    },
    {
     "name": "stderr",
     "output_type": "stream",
     "text": [
      "C:\\Users\\lior\\anaconda3\\lib\\site-packages\\sklearn\\pipeline.py:394: DataConversionWarning:\n",
      "\n",
      "A column-vector y was passed when a 1d array was expected. Please change the shape of y to (n_samples,), for example using ravel().\n",
      "\n"
     ]
    },
    {
     "name": "stdout",
     "output_type": "stream",
     "text": [
      "[CV 1/5; 8/9] END regressor=RandomForestRegressor(), regressor__max_depth=15, regressor__min_samples_leaf=20;, score=0.435 total time= 4.7min\n",
      "[CV 2/5; 8/9] START regressor=RandomForestRegressor(), regressor__max_depth=15, regressor__min_samples_leaf=20\n"
     ]
    },
    {
     "name": "stderr",
     "output_type": "stream",
     "text": [
      "C:\\Users\\lior\\anaconda3\\lib\\site-packages\\sklearn\\pipeline.py:394: DataConversionWarning:\n",
      "\n",
      "A column-vector y was passed when a 1d array was expected. Please change the shape of y to (n_samples,), for example using ravel().\n",
      "\n"
     ]
    },
    {
     "name": "stdout",
     "output_type": "stream",
     "text": [
      "[CV 2/5; 8/9] END regressor=RandomForestRegressor(), regressor__max_depth=15, regressor__min_samples_leaf=20;, score=0.441 total time= 4.7min\n",
      "[CV 3/5; 8/9] START regressor=RandomForestRegressor(), regressor__max_depth=15, regressor__min_samples_leaf=20\n"
     ]
    },
    {
     "name": "stderr",
     "output_type": "stream",
     "text": [
      "C:\\Users\\lior\\anaconda3\\lib\\site-packages\\sklearn\\pipeline.py:394: DataConversionWarning:\n",
      "\n",
      "A column-vector y was passed when a 1d array was expected. Please change the shape of y to (n_samples,), for example using ravel().\n",
      "\n"
     ]
    },
    {
     "name": "stdout",
     "output_type": "stream",
     "text": [
      "[CV 3/5; 8/9] END regressor=RandomForestRegressor(), regressor__max_depth=15, regressor__min_samples_leaf=20;, score=0.438 total time= 4.7min\n",
      "[CV 4/5; 8/9] START regressor=RandomForestRegressor(), regressor__max_depth=15, regressor__min_samples_leaf=20\n"
     ]
    },
    {
     "name": "stderr",
     "output_type": "stream",
     "text": [
      "C:\\Users\\lior\\anaconda3\\lib\\site-packages\\sklearn\\pipeline.py:394: DataConversionWarning:\n",
      "\n",
      "A column-vector y was passed when a 1d array was expected. Please change the shape of y to (n_samples,), for example using ravel().\n",
      "\n"
     ]
    },
    {
     "name": "stdout",
     "output_type": "stream",
     "text": [
      "[CV 4/5; 8/9] END regressor=RandomForestRegressor(), regressor__max_depth=15, regressor__min_samples_leaf=20;, score=0.436 total time= 4.7min\n",
      "[CV 5/5; 8/9] START regressor=RandomForestRegressor(), regressor__max_depth=15, regressor__min_samples_leaf=20\n"
     ]
    },
    {
     "name": "stderr",
     "output_type": "stream",
     "text": [
      "C:\\Users\\lior\\anaconda3\\lib\\site-packages\\sklearn\\pipeline.py:394: DataConversionWarning:\n",
      "\n",
      "A column-vector y was passed when a 1d array was expected. Please change the shape of y to (n_samples,), for example using ravel().\n",
      "\n"
     ]
    },
    {
     "name": "stdout",
     "output_type": "stream",
     "text": [
      "[CV 5/5; 8/9] END regressor=RandomForestRegressor(), regressor__max_depth=15, regressor__min_samples_leaf=20;, score=0.435 total time= 4.5min\n",
      "[CV 1/5; 9/9] START regressor=RandomForestRegressor(), regressor__max_depth=15, regressor__min_samples_leaf=30\n"
     ]
    },
    {
     "name": "stderr",
     "output_type": "stream",
     "text": [
      "C:\\Users\\lior\\anaconda3\\lib\\site-packages\\sklearn\\pipeline.py:394: DataConversionWarning:\n",
      "\n",
      "A column-vector y was passed when a 1d array was expected. Please change the shape of y to (n_samples,), for example using ravel().\n",
      "\n"
     ]
    },
    {
     "name": "stdout",
     "output_type": "stream",
     "text": [
      "[CV 1/5; 9/9] END regressor=RandomForestRegressor(), regressor__max_depth=15, regressor__min_samples_leaf=30;, score=0.430 total time= 3.9min\n",
      "[CV 2/5; 9/9] START regressor=RandomForestRegressor(), regressor__max_depth=15, regressor__min_samples_leaf=30\n"
     ]
    },
    {
     "name": "stderr",
     "output_type": "stream",
     "text": [
      "C:\\Users\\lior\\anaconda3\\lib\\site-packages\\sklearn\\pipeline.py:394: DataConversionWarning:\n",
      "\n",
      "A column-vector y was passed when a 1d array was expected. Please change the shape of y to (n_samples,), for example using ravel().\n",
      "\n"
     ]
    },
    {
     "name": "stdout",
     "output_type": "stream",
     "text": [
      "[CV 2/5; 9/9] END regressor=RandomForestRegressor(), regressor__max_depth=15, regressor__min_samples_leaf=30;, score=0.436 total time= 3.8min\n",
      "[CV 3/5; 9/9] START regressor=RandomForestRegressor(), regressor__max_depth=15, regressor__min_samples_leaf=30\n"
     ]
    },
    {
     "name": "stderr",
     "output_type": "stream",
     "text": [
      "C:\\Users\\lior\\anaconda3\\lib\\site-packages\\sklearn\\pipeline.py:394: DataConversionWarning:\n",
      "\n",
      "A column-vector y was passed when a 1d array was expected. Please change the shape of y to (n_samples,), for example using ravel().\n",
      "\n"
     ]
    },
    {
     "name": "stdout",
     "output_type": "stream",
     "text": [
      "[CV 3/5; 9/9] END regressor=RandomForestRegressor(), regressor__max_depth=15, regressor__min_samples_leaf=30;, score=0.433 total time= 3.9min\n",
      "[CV 4/5; 9/9] START regressor=RandomForestRegressor(), regressor__max_depth=15, regressor__min_samples_leaf=30\n"
     ]
    },
    {
     "name": "stderr",
     "output_type": "stream",
     "text": [
      "C:\\Users\\lior\\anaconda3\\lib\\site-packages\\sklearn\\pipeline.py:394: DataConversionWarning:\n",
      "\n",
      "A column-vector y was passed when a 1d array was expected. Please change the shape of y to (n_samples,), for example using ravel().\n",
      "\n"
     ]
    },
    {
     "name": "stdout",
     "output_type": "stream",
     "text": [
      "[CV 4/5; 9/9] END regressor=RandomForestRegressor(), regressor__max_depth=15, regressor__min_samples_leaf=30;, score=0.433 total time= 3.9min\n",
      "[CV 5/5; 9/9] START regressor=RandomForestRegressor(), regressor__max_depth=15, regressor__min_samples_leaf=30\n"
     ]
    },
    {
     "name": "stderr",
     "output_type": "stream",
     "text": [
      "C:\\Users\\lior\\anaconda3\\lib\\site-packages\\sklearn\\pipeline.py:394: DataConversionWarning:\n",
      "\n",
      "A column-vector y was passed when a 1d array was expected. Please change the shape of y to (n_samples,), for example using ravel().\n",
      "\n"
     ]
    },
    {
     "name": "stdout",
     "output_type": "stream",
     "text": [
      "[CV 5/5; 9/9] END regressor=RandomForestRegressor(), regressor__max_depth=15, regressor__min_samples_leaf=30;, score=0.430 total time= 3.9min\n"
     ]
    },
    {
     "name": "stderr",
     "output_type": "stream",
     "text": [
      "C:\\Users\\lior\\anaconda3\\lib\\site-packages\\sklearn\\pipeline.py:394: DataConversionWarning:\n",
      "\n",
      "A column-vector y was passed when a 1d array was expected. Please change the shape of y to (n_samples,), for example using ravel().\n",
      "\n"
     ]
    },
    {
     "data": {
      "text/plain": [
       "GridSearchCV(cv=5,\n",
       "             estimator=Pipeline(steps=[('preprocessor',\n",
       "                                        ColumnTransformer(transformers=[('numeric',\n",
       "                                                                         Pipeline(steps=[('imputer',\n",
       "                                                                                          SimpleImputer()),\n",
       "                                                                                         ('standardscaler',\n",
       "                                                                                          StandardScaler())]),\n",
       "                                                                         ['price',\n",
       "                                                                          'year']),\n",
       "                                                                        ('category',\n",
       "                                                                         Pipeline(steps=[('imputer',\n",
       "                                                                                          SimpleImputer(fill_value='Unknown',\n",
       "                                                                                                        strategy='constant')),\n",
       "                                                                                         ('onehotencoding',\n",
       "                                                                                          OneHotEncoder(handle_unknown='ignore'))]),\n",
       "                                                                         ['country',\n",
       "                                                                          'taster_name',\n",
       "                                                                          'variety',\n",
       "                                                                          'designation',\n",
       "                                                                          'province',\n",
       "                                                                          'winery',\n",
       "                                                                          'wine_category',\n",
       "                                                                          'region_1'])])),\n",
       "                                       ('regressor', RandomForestRegressor())]),\n",
       "             param_grid={'regressor': [RandomForestRegressor(max_depth=15,\n",
       "                                                             min_samples_leaf=10)],\n",
       "                         'regressor__max_depth': [5, 10, 15],\n",
       "                         'regressor__min_samples_leaf': [10, 20, 30]},\n",
       "             scoring='r2', verbose=42)"
      ]
     },
     "execution_count": 25,
     "metadata": {},
     "output_type": "execute_result"
    }
   ],
   "source": [
    "\n",
    "# random_forest_pipeline = Pipeline([\n",
    "#     ('preprocessor', preprocessing),\n",
    "#     ('regressor', RandomForestRegressor())\n",
    "# ])\n",
    "\n",
    "\n",
    "# param_grid = {\n",
    "#     'regressor': [RandomForestRegressor()],\n",
    "#     'regressor__max_depth': [5, 10, 15],\n",
    "#     'regressor__min_samples_leaf':[10, 20, 30]\n",
    "# }\n",
    "\n",
    "# grid_search = GridSearchCV(random_forest_pipeline, param_grid, cv = 5, scoring = 'r2', verbose = 42)\n",
    "# grid_search.fit(X_train, y_train)"
   ]
  },
  {
   "cell_type": "code",
   "execution_count": 26,
   "metadata": {},
   "outputs": [
    {
     "name": "stderr",
     "output_type": "stream",
     "text": [
      "C:\\Users\\lior\\anaconda3\\lib\\site-packages\\sklearn\\pipeline.py:394: DataConversionWarning:\n",
      "\n",
      "A column-vector y was passed when a 1d array was expected. Please change the shape of y to (n_samples,), for example using ravel().\n",
      "\n"
     ]
    }
   ],
   "source": [
    "\n",
    "# best_model = grid_search.best_estimator_\n",
    "\n",
    "# best_model.fit(X_train, y_train)\n",
    "\n",
    "# prediction = best_model.predict(X_test)"
   ]
  },
  {
   "cell_type": "code",
   "execution_count": 27,
   "metadata": {},
   "outputs": [
    {
     "name": "stdout",
     "output_type": "stream",
     "text": [
      "5.0620565177349475 0.4500696572382894\n"
     ]
    }
   ],
   "source": [
    "# prediction_mse = mean_squared_error(y_test, prediction)\n",
    "# prediction_r2 = r2_score(y_test, prediction)\n",
    "# print (prediction_mse, prediction_r2)"
   ]
  },
  {
   "cell_type": "code",
   "execution_count": 28,
   "metadata": {},
   "outputs": [],
   "source": [
    "# all_results = pd.DataFrame(grid_search.cv_results_).sort_values(by='rank_test_score',ascending=True)\n",
    "\n",
    "# best_result = all_results.iloc[0]\n",
    "# all_results.head()\n",
    "\n",
    "# summary_df.loc[len(summary_df.index)] = ['Random Forest without text', best_result.mean_fit_time, best_result.params, best_result.mean_test_score, prediction_mse, prediction_r2]"
   ]
  },
  {
   "cell_type": "code",
   "execution_count": 29,
   "metadata": {},
   "outputs": [
    {
     "data": {
      "text/html": [
       "<div>\n",
       "<style scoped>\n",
       "    .dataframe tbody tr th:only-of-type {\n",
       "        vertical-align: middle;\n",
       "    }\n",
       "\n",
       "    .dataframe tbody tr th {\n",
       "        vertical-align: top;\n",
       "    }\n",
       "\n",
       "    .dataframe thead th {\n",
       "        text-align: right;\n",
       "    }\n",
       "</style>\n",
       "<table border=\"1\" class=\"dataframe\">\n",
       "  <thead>\n",
       "    <tr style=\"text-align: right;\">\n",
       "      <th></th>\n",
       "      <th>method</th>\n",
       "      <th>mean_fit_time</th>\n",
       "      <th>parameters</th>\n",
       "      <th>train_r2</th>\n",
       "      <th>test_MSE</th>\n",
       "      <th>test_r2</th>\n",
       "    </tr>\n",
       "  </thead>\n",
       "  <tbody>\n",
       "    <tr>\n",
       "      <th>0</th>\n",
       "      <td>Linear Regression without text</td>\n",
       "      <td>33.147654</td>\n",
       "      <td>{'regressor': LinearRegression(n_jobs=5), 'reg...</td>\n",
       "      <td>0.336666</td>\n",
       "      <td>5.648516</td>\n",
       "      <td>0.386358</td>\n",
       "    </tr>\n",
       "    <tr>\n",
       "      <th>1</th>\n",
       "      <td>Ridge without text</td>\n",
       "      <td>1.339875</td>\n",
       "      <td>{'regressor': Ridge(alpha=1), 'regressor__alph...</td>\n",
       "      <td>0.496035</td>\n",
       "      <td>4.499048</td>\n",
       "      <td>0.511234</td>\n",
       "    </tr>\n",
       "    <tr>\n",
       "      <th>2</th>\n",
       "      <td>Lasso without text</td>\n",
       "      <td>1114.591888</td>\n",
       "      <td>{'regressor': Lasso(alpha=0.001), 'regressor__...</td>\n",
       "      <td>0.406582</td>\n",
       "      <td>5.395524</td>\n",
       "      <td>0.413842</td>\n",
       "    </tr>\n",
       "    <tr>\n",
       "      <th>3</th>\n",
       "      <td>Random Forest without text</td>\n",
       "      <td>329.572775</td>\n",
       "      <td>{'regressor': RandomForestRegressor(max_depth=...</td>\n",
       "      <td>0.442481</td>\n",
       "      <td>5.062057</td>\n",
       "      <td>0.450070</td>\n",
       "    </tr>\n",
       "  </tbody>\n",
       "</table>\n",
       "</div>"
      ],
      "text/plain": [
       "                           method  mean_fit_time  \\\n",
       "0  Linear Regression without text      33.147654   \n",
       "1              Ridge without text       1.339875   \n",
       "2              Lasso without text    1114.591888   \n",
       "3      Random Forest without text     329.572775   \n",
       "\n",
       "                                          parameters  train_r2  test_MSE  \\\n",
       "0  {'regressor': LinearRegression(n_jobs=5), 'reg...  0.336666  5.648516   \n",
       "1  {'regressor': Ridge(alpha=1), 'regressor__alph...  0.496035  4.499048   \n",
       "2  {'regressor': Lasso(alpha=0.001), 'regressor__...  0.406582  5.395524   \n",
       "3  {'regressor': RandomForestRegressor(max_depth=...  0.442481  5.062057   \n",
       "\n",
       "    test_r2  \n",
       "0  0.386358  \n",
       "1  0.511234  \n",
       "2  0.413842  \n",
       "3  0.450070  "
      ]
     },
     "execution_count": 29,
     "metadata": {},
     "output_type": "execute_result"
    }
   ],
   "source": [
    "# summary_df"
   ]
  },
  {
   "cell_type": "code",
   "execution_count": null,
   "metadata": {},
   "outputs": [],
   "source": []
  },
  {
   "cell_type": "markdown",
   "metadata": {},
   "source": [
    "# KNN without textual column"
   ]
  },
  {
   "cell_type": "code",
   "execution_count": null,
   "metadata": {},
   "outputs": [],
   "source": []
  },
  {
   "cell_type": "code",
   "execution_count": 30,
   "metadata": {},
   "outputs": [
    {
     "name": "stdout",
     "output_type": "stream",
     "text": [
      "Fitting 5 folds for each of 8 candidates, totalling 40 fits\n",
      "[CV 1/5; 1/8] START regressor=KNeighborsRegressor(), regressor__n_neighbors=10, regressor__weights=uniform\n",
      "[CV 1/5; 1/8] END regressor=KNeighborsRegressor(), regressor__n_neighbors=10, regressor__weights=uniform;, score=0.478 total time=  54.8s\n",
      "[CV 2/5; 1/8] START regressor=KNeighborsRegressor(), regressor__n_neighbors=10, regressor__weights=uniform\n",
      "[CV 2/5; 1/8] END regressor=KNeighborsRegressor(), regressor__n_neighbors=10, regressor__weights=uniform;, score=0.480 total time=  49.0s\n",
      "[CV 3/5; 1/8] START regressor=KNeighborsRegressor(), regressor__n_neighbors=10, regressor__weights=uniform\n",
      "[CV 3/5; 1/8] END regressor=KNeighborsRegressor(), regressor__n_neighbors=10, regressor__weights=uniform;, score=0.486 total time=  49.8s\n",
      "[CV 4/5; 1/8] START regressor=KNeighborsRegressor(), regressor__n_neighbors=10, regressor__weights=uniform\n",
      "[CV 4/5; 1/8] END regressor=KNeighborsRegressor(), regressor__n_neighbors=10, regressor__weights=uniform;, score=0.485 total time=  50.6s\n",
      "[CV 5/5; 1/8] START regressor=KNeighborsRegressor(), regressor__n_neighbors=10, regressor__weights=uniform\n",
      "[CV 5/5; 1/8] END regressor=KNeighborsRegressor(), regressor__n_neighbors=10, regressor__weights=uniform;, score=0.486 total time=  44.7s\n",
      "[CV 1/5; 2/8] START regressor=KNeighborsRegressor(), regressor__n_neighbors=10, regressor__weights=distance\n",
      "[CV 1/5; 2/8] END regressor=KNeighborsRegressor(), regressor__n_neighbors=10, regressor__weights=distance;, score=0.492 total time=  49.1s\n",
      "[CV 2/5; 2/8] START regressor=KNeighborsRegressor(), regressor__n_neighbors=10, regressor__weights=distance\n",
      "[CV 2/5; 2/8] END regressor=KNeighborsRegressor(), regressor__n_neighbors=10, regressor__weights=distance;, score=0.493 total time=  46.4s\n",
      "[CV 3/5; 2/8] START regressor=KNeighborsRegressor(), regressor__n_neighbors=10, regressor__weights=distance\n",
      "[CV 3/5; 2/8] END regressor=KNeighborsRegressor(), regressor__n_neighbors=10, regressor__weights=distance;, score=0.500 total time=  43.7s\n",
      "[CV 4/5; 2/8] START regressor=KNeighborsRegressor(), regressor__n_neighbors=10, regressor__weights=distance\n",
      "[CV 4/5; 2/8] END regressor=KNeighborsRegressor(), regressor__n_neighbors=10, regressor__weights=distance;, score=0.500 total time=  47.8s\n",
      "[CV 5/5; 2/8] START regressor=KNeighborsRegressor(), regressor__n_neighbors=10, regressor__weights=distance\n",
      "[CV 5/5; 2/8] END regressor=KNeighborsRegressor(), regressor__n_neighbors=10, regressor__weights=distance;, score=0.499 total time=  43.8s\n",
      "[CV 1/5; 3/8] START regressor=KNeighborsRegressor(), regressor__n_neighbors=20, regressor__weights=uniform\n",
      "[CV 1/5; 3/8] END regressor=KNeighborsRegressor(), regressor__n_neighbors=20, regressor__weights=uniform;, score=0.478 total time=  47.2s\n",
      "[CV 2/5; 3/8] START regressor=KNeighborsRegressor(), regressor__n_neighbors=20, regressor__weights=uniform\n",
      "[CV 2/5; 3/8] END regressor=KNeighborsRegressor(), regressor__n_neighbors=20, regressor__weights=uniform;, score=0.478 total time=  47.9s\n",
      "[CV 3/5; 3/8] START regressor=KNeighborsRegressor(), regressor__n_neighbors=20, regressor__weights=uniform\n",
      "[CV 3/5; 3/8] END regressor=KNeighborsRegressor(), regressor__n_neighbors=20, regressor__weights=uniform;, score=0.482 total time=  43.5s\n",
      "[CV 4/5; 3/8] START regressor=KNeighborsRegressor(), regressor__n_neighbors=20, regressor__weights=uniform\n",
      "[CV 4/5; 3/8] END regressor=KNeighborsRegressor(), regressor__n_neighbors=20, regressor__weights=uniform;, score=0.477 total time=  47.9s\n",
      "[CV 5/5; 3/8] START regressor=KNeighborsRegressor(), regressor__n_neighbors=20, regressor__weights=uniform\n",
      "[CV 5/5; 3/8] END regressor=KNeighborsRegressor(), regressor__n_neighbors=20, regressor__weights=uniform;, score=0.481 total time=  45.2s\n",
      "[CV 1/5; 4/8] START regressor=KNeighborsRegressor(), regressor__n_neighbors=20, regressor__weights=distance\n",
      "[CV 1/5; 4/8] END regressor=KNeighborsRegressor(), regressor__n_neighbors=20, regressor__weights=distance;, score=0.493 total time=  46.5s\n",
      "[CV 2/5; 4/8] START regressor=KNeighborsRegressor(), regressor__n_neighbors=20, regressor__weights=distance\n",
      "[CV 2/5; 4/8] END regressor=KNeighborsRegressor(), regressor__n_neighbors=20, regressor__weights=distance;, score=0.492 total time=  48.2s\n",
      "[CV 3/5; 4/8] START regressor=KNeighborsRegressor(), regressor__n_neighbors=20, regressor__weights=distance\n",
      "[CV 3/5; 4/8] END regressor=KNeighborsRegressor(), regressor__n_neighbors=20, regressor__weights=distance;, score=0.498 total time=  43.4s\n",
      "[CV 4/5; 4/8] START regressor=KNeighborsRegressor(), regressor__n_neighbors=20, regressor__weights=distance\n",
      "[CV 4/5; 4/8] END regressor=KNeighborsRegressor(), regressor__n_neighbors=20, regressor__weights=distance;, score=0.494 total time=  45.8s\n",
      "[CV 5/5; 4/8] START regressor=KNeighborsRegressor(), regressor__n_neighbors=20, regressor__weights=distance\n",
      "[CV 5/5; 4/8] END regressor=KNeighborsRegressor(), regressor__n_neighbors=20, regressor__weights=distance;, score=0.496 total time=  45.7s\n",
      "[CV 1/5; 5/8] START regressor=KNeighborsRegressor(), regressor__n_neighbors=40, regressor__weights=uniform\n",
      "[CV 1/5; 5/8] END regressor=KNeighborsRegressor(), regressor__n_neighbors=40, regressor__weights=uniform;, score=0.465 total time=  46.6s\n",
      "[CV 2/5; 5/8] START regressor=KNeighborsRegressor(), regressor__n_neighbors=40, regressor__weights=uniform\n",
      "[CV 2/5; 5/8] END regressor=KNeighborsRegressor(), regressor__n_neighbors=40, regressor__weights=uniform;, score=0.462 total time=  48.4s\n",
      "[CV 3/5; 5/8] START regressor=KNeighborsRegressor(), regressor__n_neighbors=40, regressor__weights=uniform\n",
      "[CV 3/5; 5/8] END regressor=KNeighborsRegressor(), regressor__n_neighbors=40, regressor__weights=uniform;, score=0.462 total time=  44.2s\n",
      "[CV 4/5; 5/8] START regressor=KNeighborsRegressor(), regressor__n_neighbors=40, regressor__weights=uniform\n",
      "[CV 4/5; 5/8] END regressor=KNeighborsRegressor(), regressor__n_neighbors=40, regressor__weights=uniform;, score=0.464 total time=  44.8s\n",
      "[CV 5/5; 5/8] START regressor=KNeighborsRegressor(), regressor__n_neighbors=40, regressor__weights=uniform\n",
      "[CV 5/5; 5/8] END regressor=KNeighborsRegressor(), regressor__n_neighbors=40, regressor__weights=uniform;, score=0.466 total time=  47.4s\n",
      "[CV 1/5; 6/8] START regressor=KNeighborsRegressor(), regressor__n_neighbors=40, regressor__weights=distance\n",
      "[CV 1/5; 6/8] END regressor=KNeighborsRegressor(), regressor__n_neighbors=40, regressor__weights=distance;, score=0.478 total time=  46.6s\n",
      "[CV 2/5; 6/8] START regressor=KNeighborsRegressor(), regressor__n_neighbors=40, regressor__weights=distance\n",
      "[CV 2/5; 6/8] END regressor=KNeighborsRegressor(), regressor__n_neighbors=40, regressor__weights=distance;, score=0.475 total time=  48.1s\n",
      "[CV 3/5; 6/8] START regressor=KNeighborsRegressor(), regressor__n_neighbors=40, regressor__weights=distance\n",
      "[CV 3/5; 6/8] END regressor=KNeighborsRegressor(), regressor__n_neighbors=40, regressor__weights=distance;, score=0.478 total time=  43.3s\n",
      "[CV 4/5; 6/8] START regressor=KNeighborsRegressor(), regressor__n_neighbors=40, regressor__weights=distance\n",
      "[CV 4/5; 6/8] END regressor=KNeighborsRegressor(), regressor__n_neighbors=40, regressor__weights=distance;, score=0.479 total time=  44.5s\n",
      "[CV 5/5; 6/8] START regressor=KNeighborsRegressor(), regressor__n_neighbors=40, regressor__weights=distance\n",
      "[CV 5/5; 6/8] END regressor=KNeighborsRegressor(), regressor__n_neighbors=40, regressor__weights=distance;, score=0.480 total time=  47.5s\n",
      "[CV 1/5; 7/8] START regressor=KNeighborsRegressor(), regressor__n_neighbors=100, regressor__weights=uniform\n",
      "[CV 1/5; 7/8] END regressor=KNeighborsRegressor(), regressor__n_neighbors=100, regressor__weights=uniform;, score=0.436 total time=  47.0s\n",
      "[CV 2/5; 7/8] START regressor=KNeighborsRegressor(), regressor__n_neighbors=100, regressor__weights=uniform\n",
      "[CV 2/5; 7/8] END regressor=KNeighborsRegressor(), regressor__n_neighbors=100, regressor__weights=uniform;, score=0.437 total time=  47.7s\n",
      "[CV 3/5; 7/8] START regressor=KNeighborsRegressor(), regressor__n_neighbors=100, regressor__weights=uniform\n",
      "[CV 3/5; 7/8] END regressor=KNeighborsRegressor(), regressor__n_neighbors=100, regressor__weights=uniform;, score=0.436 total time=  44.9s\n",
      "[CV 4/5; 7/8] START regressor=KNeighborsRegressor(), regressor__n_neighbors=100, regressor__weights=uniform\n",
      "[CV 4/5; 7/8] END regressor=KNeighborsRegressor(), regressor__n_neighbors=100, regressor__weights=uniform;, score=0.437 total time=  45.4s\n",
      "[CV 5/5; 7/8] START regressor=KNeighborsRegressor(), regressor__n_neighbors=100, regressor__weights=uniform\n",
      "[CV 5/5; 7/8] END regressor=KNeighborsRegressor(), regressor__n_neighbors=100, regressor__weights=uniform;, score=0.438 total time=  47.8s\n",
      "[CV 1/5; 8/8] START regressor=KNeighborsRegressor(), regressor__n_neighbors=100, regressor__weights=distance\n",
      "[CV 1/5; 8/8] END regressor=KNeighborsRegressor(), regressor__n_neighbors=100, regressor__weights=distance;, score=0.447 total time=  46.6s\n",
      "[CV 2/5; 8/8] START regressor=KNeighborsRegressor(), regressor__n_neighbors=100, regressor__weights=distance\n",
      "[CV 2/5; 8/8] END regressor=KNeighborsRegressor(), regressor__n_neighbors=100, regressor__weights=distance;, score=0.447 total time=  45.9s\n",
      "[CV 3/5; 8/8] START regressor=KNeighborsRegressor(), regressor__n_neighbors=100, regressor__weights=distance\n",
      "[CV 3/5; 8/8] END regressor=KNeighborsRegressor(), regressor__n_neighbors=100, regressor__weights=distance;, score=0.447 total time=  46.1s\n",
      "[CV 4/5; 8/8] START regressor=KNeighborsRegressor(), regressor__n_neighbors=100, regressor__weights=distance\n",
      "[CV 4/5; 8/8] END regressor=KNeighborsRegressor(), regressor__n_neighbors=100, regressor__weights=distance;, score=0.449 total time=  44.8s\n",
      "[CV 5/5; 8/8] START regressor=KNeighborsRegressor(), regressor__n_neighbors=100, regressor__weights=distance\n",
      "[CV 5/5; 8/8] END regressor=KNeighborsRegressor(), regressor__n_neighbors=100, regressor__weights=distance;, score=0.449 total time=  48.9s\n"
     ]
    },
    {
     "data": {
      "text/plain": [
       "GridSearchCV(cv=5,\n",
       "             estimator=Pipeline(steps=[('preprocessor',\n",
       "                                        ColumnTransformer(transformers=[('numeric',\n",
       "                                                                         Pipeline(steps=[('imputer',\n",
       "                                                                                          SimpleImputer()),\n",
       "                                                                                         ('standardscaler',\n",
       "                                                                                          StandardScaler())]),\n",
       "                                                                         ['price',\n",
       "                                                                          'year']),\n",
       "                                                                        ('category',\n",
       "                                                                         Pipeline(steps=[('imputer',\n",
       "                                                                                          SimpleImputer(fill_value='Unknown',\n",
       "                                                                                                        strategy='constant')),\n",
       "                                                                                         ('onehotencoding',\n",
       "                                                                                          OneHotEncoder(handle_unknown='ignore'))]),\n",
       "                                                                         ['country',\n",
       "                                                                          'taster_name',\n",
       "                                                                          'variety',\n",
       "                                                                          'designation',\n",
       "                                                                          'province',\n",
       "                                                                          'winery',\n",
       "                                                                          'wine_category',\n",
       "                                                                          'region_1'])])),\n",
       "                                       ('regressor', KNeighborsRegressor())]),\n",
       "             param_grid={'regressor': [KNeighborsRegressor(n_neighbors=10,\n",
       "                                                           weights='distance')],\n",
       "                         'regressor__n_neighbors': [10, 20, 40, 100],\n",
       "                         'regressor__weights': ['uniform', 'distance']},\n",
       "             scoring='r2', verbose=42)"
      ]
     },
     "execution_count": 30,
     "metadata": {},
     "output_type": "execute_result"
    }
   ],
   "source": [
    "knn_pipeline = Pipeline([\n",
    "    ('preprocessor', preprocessing),\n",
    "    ('regressor', KNeighborsRegressor())\n",
    "])\n",
    "\n",
    "\n",
    "param_grid = {\n",
    "    'regressor': [KNeighborsRegressor()],\n",
    "    'regressor__n_neighbors': [10, 20, 40, 100],\n",
    "    'regressor__weights': ['uniform', 'distance']\n",
    "}\n",
    "\n",
    "grid_search = GridSearchCV(knn_pipeline, param_grid, cv = 5, scoring = 'r2', verbose = 42)\n",
    "grid_search.fit(X_train, y_train)"
   ]
  },
  {
   "cell_type": "code",
   "execution_count": 31,
   "metadata": {},
   "outputs": [],
   "source": [
    "# pipeline.fit(X_train, y_train)\n",
    "\n",
    "best_model = grid_search.best_estimator_\n",
    "\n",
    "best_model.fit(X_train, y_train)\n",
    "\n",
    "prediction = best_model.predict(X_test)"
   ]
  },
  {
   "cell_type": "code",
   "execution_count": 32,
   "metadata": {},
   "outputs": [
    {
     "name": "stdout",
     "output_type": "stream",
     "text": [
      "4.504860725595334 0.5106021447526385\n"
     ]
    }
   ],
   "source": [
    "prediction_mse = mean_squared_error(y_test, prediction)\n",
    "prediction_r2 = r2_score(y_test, prediction)\n",
    "print (prediction_mse, prediction_r2)"
   ]
  },
  {
   "cell_type": "code",
   "execution_count": 35,
   "metadata": {},
   "outputs": [],
   "source": [
    "all_results = pd.DataFrame(grid_search.cv_results_).sort_values(by='rank_test_score',ascending=True)\n",
    "\n",
    "best_result = all_results.iloc[0]\n",
    "all_results.head()\n",
    "\n",
    "summary_df.loc[len(summary_df.index)] = ['KNN without text', best_result.mean_fit_time, best_result.params, best_result.mean_test_score, prediction_mse, prediction_r2]"
   ]
  },
  {
   "cell_type": "code",
   "execution_count": 37,
   "metadata": {},
   "outputs": [
    {
     "data": {
      "text/html": [
       "<div>\n",
       "<style scoped>\n",
       "    .dataframe tbody tr th:only-of-type {\n",
       "        vertical-align: middle;\n",
       "    }\n",
       "\n",
       "    .dataframe tbody tr th {\n",
       "        vertical-align: top;\n",
       "    }\n",
       "\n",
       "    .dataframe thead th {\n",
       "        text-align: right;\n",
       "    }\n",
       "</style>\n",
       "<table border=\"1\" class=\"dataframe\">\n",
       "  <thead>\n",
       "    <tr style=\"text-align: right;\">\n",
       "      <th></th>\n",
       "      <th>method</th>\n",
       "      <th>mean_fit_time</th>\n",
       "      <th>parameters</th>\n",
       "      <th>train_r2</th>\n",
       "      <th>test_MSE</th>\n",
       "      <th>test_r2</th>\n",
       "    </tr>\n",
       "  </thead>\n",
       "  <tbody>\n",
       "    <tr>\n",
       "      <th>0</th>\n",
       "      <td>Linear Regression without text</td>\n",
       "      <td>33.147654</td>\n",
       "      <td>{'regressor': LinearRegression(n_jobs=5), 'reg...</td>\n",
       "      <td>0.336666</td>\n",
       "      <td>5.648516</td>\n",
       "      <td>0.386358</td>\n",
       "    </tr>\n",
       "    <tr>\n",
       "      <th>1</th>\n",
       "      <td>Ridge without text</td>\n",
       "      <td>1.339875</td>\n",
       "      <td>{'regressor': Ridge(alpha=1), 'regressor__alph...</td>\n",
       "      <td>0.496035</td>\n",
       "      <td>4.499048</td>\n",
       "      <td>0.511234</td>\n",
       "    </tr>\n",
       "    <tr>\n",
       "      <th>2</th>\n",
       "      <td>Lasso without text</td>\n",
       "      <td>1114.591888</td>\n",
       "      <td>{'regressor': Lasso(alpha=0.001), 'regressor__...</td>\n",
       "      <td>0.406582</td>\n",
       "      <td>5.395524</td>\n",
       "      <td>0.413842</td>\n",
       "    </tr>\n",
       "    <tr>\n",
       "      <th>3</th>\n",
       "      <td>Random Forest without text</td>\n",
       "      <td>329.572775</td>\n",
       "      <td>{'regressor': RandomForestRegressor(max_depth=...</td>\n",
       "      <td>0.442481</td>\n",
       "      <td>5.062057</td>\n",
       "      <td>0.450070</td>\n",
       "    </tr>\n",
       "    <tr>\n",
       "      <th>5</th>\n",
       "      <td>KNN without text</td>\n",
       "      <td>0.532665</td>\n",
       "      <td>{'regressor': KNeighborsRegressor(n_neighbors=...</td>\n",
       "      <td>0.496814</td>\n",
       "      <td>4.504861</td>\n",
       "      <td>0.510602</td>\n",
       "    </tr>\n",
       "  </tbody>\n",
       "</table>\n",
       "</div>"
      ],
      "text/plain": [
       "                           method  mean_fit_time  \\\n",
       "0  Linear Regression without text      33.147654   \n",
       "1              Ridge without text       1.339875   \n",
       "2              Lasso without text    1114.591888   \n",
       "3      Random Forest without text     329.572775   \n",
       "5                KNN without text       0.532665   \n",
       "\n",
       "                                          parameters  train_r2  test_MSE  \\\n",
       "0  {'regressor': LinearRegression(n_jobs=5), 'reg...  0.336666  5.648516   \n",
       "1  {'regressor': Ridge(alpha=1), 'regressor__alph...  0.496035  4.499048   \n",
       "2  {'regressor': Lasso(alpha=0.001), 'regressor__...  0.406582  5.395524   \n",
       "3  {'regressor': RandomForestRegressor(max_depth=...  0.442481  5.062057   \n",
       "5  {'regressor': KNeighborsRegressor(n_neighbors=...  0.496814  4.504861   \n",
       "\n",
       "    test_r2  \n",
       "0  0.386358  \n",
       "1  0.511234  \n",
       "2  0.413842  \n",
       "3  0.450070  \n",
       "5  0.510602  "
      ]
     },
     "execution_count": 37,
     "metadata": {},
     "output_type": "execute_result"
    }
   ],
   "source": []
  },
  {
   "cell_type": "markdown",
   "metadata": {},
   "source": [
    "# linear regression with Bag of words"
   ]
  },
  {
   "cell_type": "code",
   "execution_count": null,
   "metadata": {},
   "outputs": [],
   "source": []
  },
  {
   "cell_type": "code",
   "execution_count": 38,
   "metadata": {},
   "outputs": [
    {
     "name": "stdout",
     "output_type": "stream",
     "text": [
      "Pipeline(steps=[('preprocessor',\n",
      "                 ColumnTransformer(transformers=[('numeric',\n",
      "                                                  Pipeline(steps=[('imputer',\n",
      "                                                                   SimpleImputer()),\n",
      "                                                                  ('standardscaler',\n",
      "                                                                   StandardScaler())]),\n",
      "                                                  ['price', 'year']),\n",
      "                                                 ('category',\n",
      "                                                  Pipeline(steps=[('imputer',\n",
      "                                                                   SimpleImputer(fill_value='Unknown',\n",
      "                                                                                 strategy='constant')),\n",
      "                                                                  ('onehotencoding',\n",
      "                                                                   OneHotEncoder(handle_unknown='ignore'))]),\n",
      "                                                  ['country', 'taster_name',\n",
      "                                                   'variety', 'designation',\n",
      "                                                   'province', 'winery',\n",
      "                                                   'wine_category',\n",
      "                                                   'region_1']),\n",
      "                                                 ('text',\n",
      "                                                  Pipeline(steps=[('countvectorizer',\n",
      "                                                                   CountVectorizer(max_features=1500))]),\n",
      "                                                  'description')])),\n",
      "                ('regressor', LinearRegression())])\n",
      "Fitting 5 folds for each of 6 candidates, totalling 30 fits\n",
      "[CV 1/5; 1/6] START regressor=LinearRegression(), regressor__fit_intercept=True, regressor__n_jobs=5\n",
      "[CV 1/5; 1/6] END regressor=LinearRegression(), regressor__fit_intercept=True, regressor__n_jobs=5;, score=0.642 total time= 2.0min\n",
      "[CV 2/5; 1/6] START regressor=LinearRegression(), regressor__fit_intercept=True, regressor__n_jobs=5\n",
      "[CV 2/5; 1/6] END regressor=LinearRegression(), regressor__fit_intercept=True, regressor__n_jobs=5;, score=0.633 total time= 2.6min\n",
      "[CV 3/5; 1/6] START regressor=LinearRegression(), regressor__fit_intercept=True, regressor__n_jobs=5\n",
      "[CV 3/5; 1/6] END regressor=LinearRegression(), regressor__fit_intercept=True, regressor__n_jobs=5;, score=0.632 total time= 2.2min\n",
      "[CV 4/5; 1/6] START regressor=LinearRegression(), regressor__fit_intercept=True, regressor__n_jobs=5\n",
      "[CV 4/5; 1/6] END regressor=LinearRegression(), regressor__fit_intercept=True, regressor__n_jobs=5;, score=0.632 total time= 2.3min\n",
      "[CV 5/5; 1/6] START regressor=LinearRegression(), regressor__fit_intercept=True, regressor__n_jobs=5\n",
      "[CV 5/5; 1/6] END regressor=LinearRegression(), regressor__fit_intercept=True, regressor__n_jobs=5;, score=0.634 total time= 2.6min\n",
      "[CV 1/5; 2/6] START regressor=LinearRegression(), regressor__fit_intercept=True, regressor__n_jobs=10\n",
      "[CV 1/5; 2/6] END regressor=LinearRegression(), regressor__fit_intercept=True, regressor__n_jobs=10;, score=0.642 total time= 2.0min\n",
      "[CV 2/5; 2/6] START regressor=LinearRegression(), regressor__fit_intercept=True, regressor__n_jobs=10\n",
      "[CV 2/5; 2/6] END regressor=LinearRegression(), regressor__fit_intercept=True, regressor__n_jobs=10;, score=0.633 total time= 2.6min\n",
      "[CV 3/5; 2/6] START regressor=LinearRegression(), regressor__fit_intercept=True, regressor__n_jobs=10\n",
      "[CV 3/5; 2/6] END regressor=LinearRegression(), regressor__fit_intercept=True, regressor__n_jobs=10;, score=0.632 total time= 2.1min\n",
      "[CV 4/5; 2/6] START regressor=LinearRegression(), regressor__fit_intercept=True, regressor__n_jobs=10\n",
      "[CV 4/5; 2/6] END regressor=LinearRegression(), regressor__fit_intercept=True, regressor__n_jobs=10;, score=0.632 total time= 2.2min\n",
      "[CV 5/5; 2/6] START regressor=LinearRegression(), regressor__fit_intercept=True, regressor__n_jobs=10\n",
      "[CV 5/5; 2/6] END regressor=LinearRegression(), regressor__fit_intercept=True, regressor__n_jobs=10;, score=0.634 total time= 2.5min\n",
      "[CV 1/5; 3/6] START regressor=LinearRegression(), regressor__fit_intercept=True, regressor__n_jobs=15\n",
      "[CV 1/5; 3/6] END regressor=LinearRegression(), regressor__fit_intercept=True, regressor__n_jobs=15;, score=0.642 total time= 2.0min\n",
      "[CV 2/5; 3/6] START regressor=LinearRegression(), regressor__fit_intercept=True, regressor__n_jobs=15\n",
      "[CV 2/5; 3/6] END regressor=LinearRegression(), regressor__fit_intercept=True, regressor__n_jobs=15;, score=0.633 total time= 2.7min\n",
      "[CV 3/5; 3/6] START regressor=LinearRegression(), regressor__fit_intercept=True, regressor__n_jobs=15\n",
      "[CV 3/5; 3/6] END regressor=LinearRegression(), regressor__fit_intercept=True, regressor__n_jobs=15;, score=0.632 total time= 2.2min\n",
      "[CV 4/5; 3/6] START regressor=LinearRegression(), regressor__fit_intercept=True, regressor__n_jobs=15\n",
      "[CV 4/5; 3/6] END regressor=LinearRegression(), regressor__fit_intercept=True, regressor__n_jobs=15;, score=0.632 total time= 2.2min\n",
      "[CV 5/5; 3/6] START regressor=LinearRegression(), regressor__fit_intercept=True, regressor__n_jobs=15\n",
      "[CV 5/5; 3/6] END regressor=LinearRegression(), regressor__fit_intercept=True, regressor__n_jobs=15;, score=0.634 total time= 2.6min\n",
      "[CV 1/5; 4/6] START regressor=LinearRegression(), regressor__fit_intercept=False, regressor__n_jobs=5\n",
      "[CV 1/5; 4/6] END regressor=LinearRegression(), regressor__fit_intercept=False, regressor__n_jobs=5;, score=0.641 total time= 2.0min\n",
      "[CV 2/5; 4/6] START regressor=LinearRegression(), regressor__fit_intercept=False, regressor__n_jobs=5\n",
      "[CV 2/5; 4/6] END regressor=LinearRegression(), regressor__fit_intercept=False, regressor__n_jobs=5;, score=0.633 total time= 2.6min\n",
      "[CV 3/5; 4/6] START regressor=LinearRegression(), regressor__fit_intercept=False, regressor__n_jobs=5\n",
      "[CV 3/5; 4/6] END regressor=LinearRegression(), regressor__fit_intercept=False, regressor__n_jobs=5;, score=0.632 total time= 2.3min\n",
      "[CV 4/5; 4/6] START regressor=LinearRegression(), regressor__fit_intercept=False, regressor__n_jobs=5\n",
      "[CV 4/5; 4/6] END regressor=LinearRegression(), regressor__fit_intercept=False, regressor__n_jobs=5;, score=0.632 total time= 2.3min\n",
      "[CV 5/5; 4/6] START regressor=LinearRegression(), regressor__fit_intercept=False, regressor__n_jobs=5\n",
      "[CV 5/5; 4/6] END regressor=LinearRegression(), regressor__fit_intercept=False, regressor__n_jobs=5;, score=0.634 total time= 2.6min\n",
      "[CV 1/5; 5/6] START regressor=LinearRegression(), regressor__fit_intercept=False, regressor__n_jobs=10\n",
      "[CV 1/5; 5/6] END regressor=LinearRegression(), regressor__fit_intercept=False, regressor__n_jobs=10;, score=0.641 total time= 2.0min\n",
      "[CV 2/5; 5/6] START regressor=LinearRegression(), regressor__fit_intercept=False, regressor__n_jobs=10\n",
      "[CV 2/5; 5/6] END regressor=LinearRegression(), regressor__fit_intercept=False, regressor__n_jobs=10;, score=0.633 total time= 2.6min\n",
      "[CV 3/5; 5/6] START regressor=LinearRegression(), regressor__fit_intercept=False, regressor__n_jobs=10\n",
      "[CV 3/5; 5/6] END regressor=LinearRegression(), regressor__fit_intercept=False, regressor__n_jobs=10;, score=0.632 total time= 2.3min\n",
      "[CV 4/5; 5/6] START regressor=LinearRegression(), regressor__fit_intercept=False, regressor__n_jobs=10\n",
      "[CV 4/5; 5/6] END regressor=LinearRegression(), regressor__fit_intercept=False, regressor__n_jobs=10;, score=0.632 total time= 2.3min\n",
      "[CV 5/5; 5/6] START regressor=LinearRegression(), regressor__fit_intercept=False, regressor__n_jobs=10\n",
      "[CV 5/5; 5/6] END regressor=LinearRegression(), regressor__fit_intercept=False, regressor__n_jobs=10;, score=0.634 total time= 2.6min\n",
      "[CV 1/5; 6/6] START regressor=LinearRegression(), regressor__fit_intercept=False, regressor__n_jobs=15\n",
      "[CV 1/5; 6/6] END regressor=LinearRegression(), regressor__fit_intercept=False, regressor__n_jobs=15;, score=0.641 total time= 2.0min\n",
      "[CV 2/5; 6/6] START regressor=LinearRegression(), regressor__fit_intercept=False, regressor__n_jobs=15\n",
      "[CV 2/5; 6/6] END regressor=LinearRegression(), regressor__fit_intercept=False, regressor__n_jobs=15;, score=0.633 total time= 2.6min\n",
      "[CV 3/5; 6/6] START regressor=LinearRegression(), regressor__fit_intercept=False, regressor__n_jobs=15\n",
      "[CV 3/5; 6/6] END regressor=LinearRegression(), regressor__fit_intercept=False, regressor__n_jobs=15;, score=0.632 total time= 2.3min\n",
      "[CV 4/5; 6/6] START regressor=LinearRegression(), regressor__fit_intercept=False, regressor__n_jobs=15\n",
      "[CV 4/5; 6/6] END regressor=LinearRegression(), regressor__fit_intercept=False, regressor__n_jobs=15;, score=0.632 total time= 2.3min\n",
      "[CV 5/5; 6/6] START regressor=LinearRegression(), regressor__fit_intercept=False, regressor__n_jobs=15\n",
      "[CV 5/5; 6/6] END regressor=LinearRegression(), regressor__fit_intercept=False, regressor__n_jobs=15;, score=0.634 total time= 2.6min\n"
     ]
    },
    {
     "data": {
      "text/plain": [
       "GridSearchCV(cv=5,\n",
       "             estimator=Pipeline(steps=[('preprocessor',\n",
       "                                        ColumnTransformer(transformers=[('numeric',\n",
       "                                                                         Pipeline(steps=[('imputer',\n",
       "                                                                                          SimpleImputer()),\n",
       "                                                                                         ('standardscaler',\n",
       "                                                                                          StandardScaler())]),\n",
       "                                                                         ['price',\n",
       "                                                                          'year']),\n",
       "                                                                        ('category',\n",
       "                                                                         Pipeline(steps=[('imputer',\n",
       "                                                                                          SimpleImputer(fill_value='Unknown',\n",
       "                                                                                                        strategy='constant')),\n",
       "                                                                                         ('onehotencoding',\n",
       "                                                                                          OneHotEncoder(handle_unknown='ign...\n",
       "                                                                          'variety',\n",
       "                                                                          'designation',\n",
       "                                                                          'province',\n",
       "                                                                          'winery',\n",
       "                                                                          'wine_category',\n",
       "                                                                          'region_1']),\n",
       "                                                                        ('text',\n",
       "                                                                         Pipeline(steps=[('countvectorizer',\n",
       "                                                                                          CountVectorizer(max_features=1500))]),\n",
       "                                                                         'description')])),\n",
       "                                       ('regressor', LinearRegression())]),\n",
       "             param_grid=[{'regressor': [LinearRegression(n_jobs=5)],\n",
       "                          'regressor__fit_intercept': [True, False],\n",
       "                          'regressor__n_jobs': [5, 10, 15]}],\n",
       "             scoring='r2', verbose=42)"
      ]
     },
     "execution_count": 38,
     "metadata": {},
     "output_type": "execute_result"
    }
   ],
   "source": [
    "\n",
    "text_tansformer = Pipeline(steps=[\n",
    "    ('countvectorizer', CountVectorizer(max_features = 1500))\n",
    "])\n",
    "\n",
    "preprocessing = ColumnTransformer(\n",
    "    transformers=[\n",
    "        ('numeric', numeric_transformer, numerical_features),\n",
    "        ('category', category_transformer, categorical_features),\n",
    "        ('text',text_tansformer , text_feature) \n",
    "    ], remainder='drop')\n",
    "\n",
    "pipeline = Pipeline(steps=[\n",
    "    ('preprocessor', preprocessing),\n",
    "    ('regressor', LinearRegression())\n",
    "])\n",
    "\n",
    "print(pipeline)\n",
    "\n",
    "param_grid = [{\n",
    "    'regressor': [LinearRegression()],\n",
    "    'regressor__fit_intercept': [True, False],\n",
    "    'regressor__n_jobs':[5,10,15]\n",
    "}]\n",
    "\n",
    "# Perform Grid Search on linear regression\n",
    "grid_search = GridSearchCV(pipeline, param_grid, cv=5, scoring='r2',verbose=42)\n",
    "grid_search.fit(X_train, y_train)\n",
    "\n"
   ]
  },
  {
   "cell_type": "code",
   "execution_count": 39,
   "metadata": {},
   "outputs": [],
   "source": [
    "best_model = grid_search.best_estimator_\n",
    "best_model.fit(X_train, y_train)\n",
    "prediction = best_model.predict(X_test)"
   ]
  },
  {
   "cell_type": "code",
   "execution_count": 40,
   "metadata": {},
   "outputs": [
    {
     "name": "stdout",
     "output_type": "stream",
     "text": [
      "3.0901796494252696 0.6642898893266205\n"
     ]
    }
   ],
   "source": [
    "prediction_mse = mean_squared_error(y_test, prediction)\n",
    "prediction_r2 = r2_score(y_test, prediction)\n",
    "print (prediction_mse, prediction_r2)"
   ]
  },
  {
   "cell_type": "code",
   "execution_count": 44,
   "metadata": {},
   "outputs": [],
   "source": [
    "all_results = pd.DataFrame(grid_search.cv_results_).sort_values(by='rank_test_score',ascending=True)\n",
    "\n",
    "best_result = all_results.iloc[0]\n",
    "all_results.head()\n",
    "\n",
    "summary_df.loc[len(summary_df.index)] = ['Linear Regression with bag of words', best_result.mean_fit_time, best_result.params, best_result.mean_test_score, prediction_mse, prediction_r2]"
   ]
  },
  {
   "cell_type": "code",
   "execution_count": 53,
   "metadata": {},
   "outputs": [
    {
     "data": {
      "text/html": [
       "<div>\n",
       "<style scoped>\n",
       "    .dataframe tbody tr th:only-of-type {\n",
       "        vertical-align: middle;\n",
       "    }\n",
       "\n",
       "    .dataframe tbody tr th {\n",
       "        vertical-align: top;\n",
       "    }\n",
       "\n",
       "    .dataframe thead th {\n",
       "        text-align: right;\n",
       "    }\n",
       "</style>\n",
       "<table border=\"1\" class=\"dataframe\">\n",
       "  <thead>\n",
       "    <tr style=\"text-align: right;\">\n",
       "      <th></th>\n",
       "      <th>method</th>\n",
       "      <th>mean_fit_time</th>\n",
       "      <th>parameters</th>\n",
       "      <th>train_r2</th>\n",
       "      <th>test_MSE</th>\n",
       "      <th>test_r2</th>\n",
       "    </tr>\n",
       "  </thead>\n",
       "  <tbody>\n",
       "    <tr>\n",
       "      <th>0</th>\n",
       "      <td>Linear Regression without text</td>\n",
       "      <td>33.147654</td>\n",
       "      <td>{'regressor': LinearRegression(n_jobs=5), 'reg...</td>\n",
       "      <td>0.336666</td>\n",
       "      <td>5.648516</td>\n",
       "      <td>0.386358</td>\n",
       "    </tr>\n",
       "    <tr>\n",
       "      <th>1</th>\n",
       "      <td>Ridge without text</td>\n",
       "      <td>1.339875</td>\n",
       "      <td>{'regressor': Ridge(alpha=1), 'regressor__alph...</td>\n",
       "      <td>0.496035</td>\n",
       "      <td>4.499048</td>\n",
       "      <td>0.511234</td>\n",
       "    </tr>\n",
       "    <tr>\n",
       "      <th>2</th>\n",
       "      <td>Lasso without text</td>\n",
       "      <td>1114.591888</td>\n",
       "      <td>{'regressor': Lasso(alpha=0.001), 'regressor__...</td>\n",
       "      <td>0.406582</td>\n",
       "      <td>5.395524</td>\n",
       "      <td>0.413842</td>\n",
       "    </tr>\n",
       "    <tr>\n",
       "      <th>3</th>\n",
       "      <td>Random Forest without text</td>\n",
       "      <td>329.572775</td>\n",
       "      <td>{'regressor': RandomForestRegressor(max_depth=...</td>\n",
       "      <td>0.442481</td>\n",
       "      <td>5.062057</td>\n",
       "      <td>0.450070</td>\n",
       "    </tr>\n",
       "    <tr>\n",
       "      <th>4</th>\n",
       "      <td>KNN without text</td>\n",
       "      <td>0.532665</td>\n",
       "      <td>{'regressor': KNeighborsRegressor(n_neighbors=...</td>\n",
       "      <td>0.496814</td>\n",
       "      <td>4.504861</td>\n",
       "      <td>0.510602</td>\n",
       "    </tr>\n",
       "    <tr>\n",
       "      <th>5</th>\n",
       "      <td>Linear Regression with bag of words</td>\n",
       "      <td>138.784838</td>\n",
       "      <td>{'regressor': LinearRegression(n_jobs=5), 'reg...</td>\n",
       "      <td>0.634735</td>\n",
       "      <td>3.090180</td>\n",
       "      <td>0.664290</td>\n",
       "    </tr>\n",
       "  </tbody>\n",
       "</table>\n",
       "</div>"
      ],
      "text/plain": [
       "                                method  mean_fit_time  \\\n",
       "0       Linear Regression without text      33.147654   \n",
       "1                   Ridge without text       1.339875   \n",
       "2                   Lasso without text    1114.591888   \n",
       "3           Random Forest without text     329.572775   \n",
       "4                     KNN without text       0.532665   \n",
       "5  Linear Regression with bag of words     138.784838   \n",
       "\n",
       "                                          parameters  train_r2  test_MSE  \\\n",
       "0  {'regressor': LinearRegression(n_jobs=5), 'reg...  0.336666  5.648516   \n",
       "1  {'regressor': Ridge(alpha=1), 'regressor__alph...  0.496035  4.499048   \n",
       "2  {'regressor': Lasso(alpha=0.001), 'regressor__...  0.406582  5.395524   \n",
       "3  {'regressor': RandomForestRegressor(max_depth=...  0.442481  5.062057   \n",
       "4  {'regressor': KNeighborsRegressor(n_neighbors=...  0.496814  4.504861   \n",
       "5  {'regressor': LinearRegression(n_jobs=5), 'reg...  0.634735  3.090180   \n",
       "\n",
       "    test_r2  \n",
       "0  0.386358  \n",
       "1  0.511234  \n",
       "2  0.413842  \n",
       "3  0.450070  \n",
       "4  0.510602  \n",
       "5  0.664290  "
      ]
     },
     "execution_count": 53,
     "metadata": {},
     "output_type": "execute_result"
    }
   ],
   "source": [
    "summary_df"
   ]
  },
  {
   "cell_type": "markdown",
   "metadata": {},
   "source": [
    "# linear regression with TFIDF"
   ]
  },
  {
   "cell_type": "code",
   "execution_count": null,
   "metadata": {},
   "outputs": [
    {
     "name": "stdout",
     "output_type": "stream",
     "text": [
      "Pipeline(steps=[('preprocessor',\n",
      "                 ColumnTransformer(transformers=[('numeric',\n",
      "                                                  Pipeline(steps=[('imputer',\n",
      "                                                                   SimpleImputer()),\n",
      "                                                                  ('standardscaler',\n",
      "                                                                   StandardScaler())]),\n",
      "                                                  ['price', 'year']),\n",
      "                                                 ('category',\n",
      "                                                  Pipeline(steps=[('imputer',\n",
      "                                                                   SimpleImputer(fill_value='Unknown',\n",
      "                                                                                 strategy='constant')),\n",
      "                                                                  ('onehotencoding',\n",
      "                                                                   OneHotEncoder(handle_unknown='ignore'))]),\n",
      "                                                  ['country', 'taster_name',\n",
      "                                                   'variety', 'designation',\n",
      "                                                   'province', 'winery',\n",
      "                                                   'wine_category',\n",
      "                                                   'region_1']),\n",
      "                                                 ('text',\n",
      "                                                  Pipeline(steps=[('tfidf',\n",
      "                                                                   TfidfVectorizer(stop_words='english'))]),\n",
      "                                                  'description')])),\n",
      "                ('regressor', LinearRegression())])\n",
      "Fitting 5 folds for each of 6 candidates, totalling 30 fits\n",
      "[CV 1/5; 1/6] START regressor=LinearRegression(), regressor__fit_intercept=True, regressor__n_jobs=5\n"
     ]
    }
   ],
   "source": [
    "from sklearn.feature_extraction.text import TfidfVectorizer\n",
    "text_tansformer = Pipeline(steps=[\n",
    "    ('tfidf',TfidfVectorizer(stop_words = 'english'))\n",
    "])\n",
    "\n",
    "preprocessing = ColumnTransformer(\n",
    "    transformers=[\n",
    "        ('numeric', numeric_transformer, numerical_features),\n",
    "        ('category', category_transformer, categorical_features),\n",
    "        ('text',text_tansformer , text_feature) \n",
    "    ], remainder='drop')\n",
    "\n",
    "pipeline = Pipeline(steps=[\n",
    "    ('preprocessor', preprocessing),\n",
    "    ('regressor', LinearRegression())\n",
    "])\n",
    "\n",
    "print(pipeline)\n",
    "\n",
    "param_grid = [{\n",
    "    'regressor': [LinearRegression()],\n",
    "    'regressor__fit_intercept': [True, False],\n",
    "    'regressor__n_jobs':[5,10,15]\n",
    "}]\n",
    "\n",
    "# Perform Grid Search on linear regression\n",
    "grid_search = GridSearchCV(pipeline, param_grid, cv=5, scoring='r2',verbose=42)\n",
    "grid_search.fit(X_train, y_train)\n"
   ]
  },
  {
   "cell_type": "code",
   "execution_count": null,
   "metadata": {},
   "outputs": [],
   "source": [
    "best_model = grid_search.best_estimator_\n",
    "best_model.fit(X_train, y_train)\n",
    "prediction = best_model.predict(X_test)"
   ]
  },
  {
   "cell_type": "code",
   "execution_count": null,
   "metadata": {},
   "outputs": [],
   "source": [
    "prediction_mse = mean_squared_error(y_test, prediction)\n",
    "prediction_r2 = r2_score(y_test, prediction)\n",
    "print (prediction_mse, prediction_r2)"
   ]
  },
  {
   "cell_type": "code",
   "execution_count": null,
   "metadata": {},
   "outputs": [],
   "source": [
    "all_results = pd.DataFrame(grid_search.cv_results_).sort_values(by='rank_test_score',ascending=True)\n",
    "\n",
    "best_result = all_results.iloc[0]\n",
    "all_results.head()\n",
    "\n",
    "summary_df.loc[len(summary_df.index)] = ['Linear Regression with TFIDF', best_result.mean_fit_time, best_result.params, best_result.mean_test_score, prediction_mse, prediction_r2]"
   ]
  },
  {
   "cell_type": "code",
   "execution_count": null,
   "metadata": {},
   "outputs": [],
   "source": [
    "summary_df"
   ]
  },
  {
   "cell_type": "markdown",
   "metadata": {},
   "source": [
    "# Ridge with BoW"
   ]
  },
  {
   "cell_type": "code",
   "execution_count": 54,
   "metadata": {},
   "outputs": [
    {
     "name": "stdout",
     "output_type": "stream",
     "text": [
      "Fitting 5 folds for each of 5 candidates, totalling 25 fits\n",
      "[CV 1/5; 1/5] START regressor=Ridge(), regressor__alpha=0.001...................\n",
      "[CV 1/5; 1/5] END regressor=Ridge(), regressor__alpha=0.001;, score=0.667 total time=  11.1s\n",
      "[CV 2/5; 1/5] START regressor=Ridge(), regressor__alpha=0.001...................\n",
      "[CV 2/5; 1/5] END regressor=Ridge(), regressor__alpha=0.001;, score=0.666 total time=  11.4s\n",
      "[CV 3/5; 1/5] START regressor=Ridge(), regressor__alpha=0.001...................\n",
      "[CV 3/5; 1/5] END regressor=Ridge(), regressor__alpha=0.001;, score=0.673 total time=  11.2s\n",
      "[CV 4/5; 1/5] START regressor=Ridge(), regressor__alpha=0.001...................\n",
      "[CV 4/5; 1/5] END regressor=Ridge(), regressor__alpha=0.001;, score=0.664 total time=   9.4s\n",
      "[CV 5/5; 1/5] START regressor=Ridge(), regressor__alpha=0.001...................\n",
      "[CV 5/5; 1/5] END regressor=Ridge(), regressor__alpha=0.001;, score=0.672 total time=   9.3s\n",
      "[CV 1/5; 2/5] START regressor=Ridge(), regressor__alpha=0.01....................\n",
      "[CV 1/5; 2/5] END regressor=Ridge(), regressor__alpha=0.01;, score=0.672 total time=   9.4s\n",
      "[CV 2/5; 2/5] START regressor=Ridge(), regressor__alpha=0.01....................\n",
      "[CV 2/5; 2/5] END regressor=Ridge(), regressor__alpha=0.01;, score=0.670 total time=   8.8s\n",
      "[CV 3/5; 2/5] START regressor=Ridge(), regressor__alpha=0.01....................\n",
      "[CV 3/5; 2/5] END regressor=Ridge(), regressor__alpha=0.01;, score=0.676 total time=   9.7s\n",
      "[CV 4/5; 2/5] START regressor=Ridge(), regressor__alpha=0.01....................\n",
      "[CV 4/5; 2/5] END regressor=Ridge(), regressor__alpha=0.01;, score=0.668 total time=   9.1s\n",
      "[CV 5/5; 2/5] START regressor=Ridge(), regressor__alpha=0.01....................\n",
      "[CV 5/5; 2/5] END regressor=Ridge(), regressor__alpha=0.01;, score=0.676 total time=   9.4s\n",
      "[CV 1/5; 3/5] START regressor=Ridge(), regressor__alpha=0.1.....................\n",
      "[CV 1/5; 3/5] END regressor=Ridge(), regressor__alpha=0.1;, score=0.696 total time=   8.4s\n",
      "[CV 2/5; 3/5] START regressor=Ridge(), regressor__alpha=0.1.....................\n",
      "[CV 2/5; 3/5] END regressor=Ridge(), regressor__alpha=0.1;, score=0.694 total time=   8.1s\n",
      "[CV 3/5; 3/5] START regressor=Ridge(), regressor__alpha=0.1.....................\n",
      "[CV 3/5; 3/5] END regressor=Ridge(), regressor__alpha=0.1;, score=0.700 total time=   8.3s\n",
      "[CV 4/5; 3/5] START regressor=Ridge(), regressor__alpha=0.1.....................\n",
      "[CV 4/5; 3/5] END regressor=Ridge(), regressor__alpha=0.1;, score=0.690 total time=   9.2s\n",
      "[CV 5/5; 3/5] START regressor=Ridge(), regressor__alpha=0.1.....................\n",
      "[CV 5/5; 3/5] END regressor=Ridge(), regressor__alpha=0.1;, score=0.699 total time=  10.3s\n",
      "[CV 1/5; 4/5] START regressor=Ridge(), regressor__alpha=1.......................\n",
      "[CV 1/5; 4/5] END regressor=Ridge(), regressor__alpha=1;, score=0.738 total time=   6.5s\n",
      "[CV 2/5; 4/5] START regressor=Ridge(), regressor__alpha=1.......................\n",
      "[CV 2/5; 4/5] END regressor=Ridge(), regressor__alpha=1;, score=0.736 total time=   6.7s\n",
      "[CV 3/5; 4/5] START regressor=Ridge(), regressor__alpha=1.......................\n",
      "[CV 3/5; 4/5] END regressor=Ridge(), regressor__alpha=1;, score=0.737 total time=   5.5s\n",
      "[CV 4/5; 4/5] START regressor=Ridge(), regressor__alpha=1.......................\n",
      "[CV 4/5; 4/5] END regressor=Ridge(), regressor__alpha=1;, score=0.731 total time=   5.9s\n",
      "[CV 5/5; 4/5] START regressor=Ridge(), regressor__alpha=1.......................\n",
      "[CV 5/5; 4/5] END regressor=Ridge(), regressor__alpha=1;, score=0.740 total time=   6.6s\n",
      "[CV 1/5; 5/5] START regressor=Ridge(), regressor__alpha=10......................\n",
      "[CV 1/5; 5/5] END regressor=Ridge(), regressor__alpha=10;, score=0.749 total time=   4.4s\n",
      "[CV 2/5; 5/5] START regressor=Ridge(), regressor__alpha=10......................\n",
      "[CV 2/5; 5/5] END regressor=Ridge(), regressor__alpha=10;, score=0.747 total time=   4.4s\n",
      "[CV 3/5; 5/5] START regressor=Ridge(), regressor__alpha=10......................\n",
      "[CV 3/5; 5/5] END regressor=Ridge(), regressor__alpha=10;, score=0.746 total time=   5.0s\n",
      "[CV 4/5; 5/5] START regressor=Ridge(), regressor__alpha=10......................\n",
      "[CV 4/5; 5/5] END regressor=Ridge(), regressor__alpha=10;, score=0.741 total time=   4.4s\n",
      "[CV 5/5; 5/5] START regressor=Ridge(), regressor__alpha=10......................\n",
      "[CV 5/5; 5/5] END regressor=Ridge(), regressor__alpha=10;, score=0.751 total time=   4.3s\n"
     ]
    },
    {
     "data": {
      "text/plain": [
       "GridSearchCV(cv=5,\n",
       "             estimator=Pipeline(steps=[('preprocessor',\n",
       "                                        ColumnTransformer(transformers=[('numeric',\n",
       "                                                                         Pipeline(steps=[('imputer',\n",
       "                                                                                          SimpleImputer()),\n",
       "                                                                                         ('standardscaler',\n",
       "                                                                                          StandardScaler())]),\n",
       "                                                                         ['price',\n",
       "                                                                          'year']),\n",
       "                                                                        ('category',\n",
       "                                                                         Pipeline(steps=[('imputer',\n",
       "                                                                                          SimpleImputer(fill_value='Unknown',\n",
       "                                                                                                        strategy='constant')),\n",
       "                                                                                         ('onehotencoding',\n",
       "                                                                                          OneHotEncoder(handle_unknown='ignore'))]),\n",
       "                                                                         ['country',\n",
       "                                                                          'taster_name',\n",
       "                                                                          'variety',\n",
       "                                                                          'designation',\n",
       "                                                                          'province',\n",
       "                                                                          'winery',\n",
       "                                                                          'wine_category',\n",
       "                                                                          'region_1']),\n",
       "                                                                        ('text',\n",
       "                                                                         Pipeline(steps=[('countvectorizer',\n",
       "                                                                                          CountVectorizer(max_features=1500))]),\n",
       "                                                                         'description')])),\n",
       "                                       ('regressor', Ridge())]),\n",
       "             param_grid={'regressor': [Ridge(alpha=10)],\n",
       "                         'regressor__alpha': [0.001, 0.01, 0.1, 1, 10]},\n",
       "             scoring='r2', verbose=42)"
      ]
     },
     "execution_count": 54,
     "metadata": {},
     "output_type": "execute_result"
    }
   ],
   "source": [
    "from sklearn.linear_model import Lasso, Ridge\n",
    "\n",
    "ridge_pipeline = Pipeline([\n",
    "    ('preprocessor', preprocessing),\n",
    "    ('regressor', Ridge())\n",
    "])\n",
    "\n",
    "\n",
    "param_grid = {\n",
    "    'regressor': [Ridge()],\n",
    "    'regressor__alpha': [0.001,0.01,0.1,1,10]\n",
    "}\n",
    "\n",
    "grid_search = GridSearchCV(ridge_pipeline, param_grid, cv = 5, scoring = 'r2', verbose = 42)\n",
    "grid_search.fit(X_train, y_train)"
   ]
  },
  {
   "cell_type": "code",
   "execution_count": 55,
   "metadata": {},
   "outputs": [],
   "source": [
    "best_model = grid_search.best_estimator_\n",
    "best_model.fit(X_train, y_train)\n",
    "prediction = best_model.predict(X_test)"
   ]
  },
  {
   "cell_type": "code",
   "execution_count": 56,
   "metadata": {},
   "outputs": [
    {
     "name": "stdout",
     "output_type": "stream",
     "text": [
      "2.3059104010313902 0.7494911222792112\n"
     ]
    }
   ],
   "source": [
    "prediction_mse = mean_squared_error(y_test, prediction)\n",
    "prediction_r2 = r2_score(y_test, prediction)\n",
    "print (prediction_mse, prediction_r2)"
   ]
  },
  {
   "cell_type": "code",
   "execution_count": 57,
   "metadata": {},
   "outputs": [],
   "source": [
    "all_results = pd.DataFrame(grid_search.cv_results_).sort_values(by='rank_test_score',ascending=True)\n",
    "\n",
    "best_result = all_results.iloc[0]\n",
    "all_results.head()\n",
    "\n",
    "summary_df.loc[len(summary_df.index)] = ['Ridge with bag of words', best_result.mean_fit_time, best_result.params, best_result.mean_test_score, prediction_mse, prediction_r2]"
   ]
  },
  {
   "cell_type": "code",
   "execution_count": 62,
   "metadata": {},
   "outputs": [
    {
     "data": {
      "text/plain": [
       "{'regressor': RandomForestRegressor(max_depth=15, min_samples_leaf=10),\n",
       " 'regressor__max_depth': 15,\n",
       " 'regressor__min_samples_leaf': 10}"
      ]
     },
     "execution_count": 62,
     "metadata": {},
     "output_type": "execute_result"
    }
   ],
   "source": [
    "summary_df"
   ]
  },
  {
   "cell_type": "markdown",
   "metadata": {},
   "source": [
    "# Random forest with bag of words"
   ]
  },
  {
   "cell_type": "code",
   "execution_count": 5,
   "metadata": {},
   "outputs": [
    {
     "name": "stdout",
     "output_type": "stream",
     "text": [
      "Fitting 5 folds for each of 4 candidates, totalling 20 fits\n",
      "[CV 1/5; 1/4] START regressor=RandomForestRegressor(), regressor__max_depth=5, regressor__min_samples_leaf=5\n"
     ]
    },
    {
     "name": "stderr",
     "output_type": "stream",
     "text": [
      "C:\\Users\\lior\\anaconda3\\lib\\site-packages\\sklearn\\pipeline.py:394: DataConversionWarning:\n",
      "\n",
      "A column-vector y was passed when a 1d array was expected. Please change the shape of y to (n_samples,), for example using ravel().\n",
      "\n"
     ]
    },
    {
     "name": "stdout",
     "output_type": "stream",
     "text": [
      "[CV 1/5; 1/4] END regressor=RandomForestRegressor(), regressor__max_depth=5, regressor__min_samples_leaf=5;, score=0.374 total time=  30.5s\n",
      "[CV 2/5; 1/4] START regressor=RandomForestRegressor(), regressor__max_depth=5, regressor__min_samples_leaf=5\n"
     ]
    },
    {
     "name": "stderr",
     "output_type": "stream",
     "text": [
      "C:\\Users\\lior\\anaconda3\\lib\\site-packages\\sklearn\\pipeline.py:394: DataConversionWarning:\n",
      "\n",
      "A column-vector y was passed when a 1d array was expected. Please change the shape of y to (n_samples,), for example using ravel().\n",
      "\n"
     ]
    },
    {
     "name": "stdout",
     "output_type": "stream",
     "text": [
      "[CV 2/5; 1/4] END regressor=RandomForestRegressor(), regressor__max_depth=5, regressor__min_samples_leaf=5;, score=0.375 total time=  30.0s\n",
      "[CV 3/5; 1/4] START regressor=RandomForestRegressor(), regressor__max_depth=5, regressor__min_samples_leaf=5\n"
     ]
    },
    {
     "name": "stderr",
     "output_type": "stream",
     "text": [
      "C:\\Users\\lior\\anaconda3\\lib\\site-packages\\sklearn\\pipeline.py:394: DataConversionWarning:\n",
      "\n",
      "A column-vector y was passed when a 1d array was expected. Please change the shape of y to (n_samples,), for example using ravel().\n",
      "\n"
     ]
    },
    {
     "name": "stdout",
     "output_type": "stream",
     "text": [
      "[CV 3/5; 1/4] END regressor=RandomForestRegressor(), regressor__max_depth=5, regressor__min_samples_leaf=5;, score=0.376 total time=  32.4s\n",
      "[CV 4/5; 1/4] START regressor=RandomForestRegressor(), regressor__max_depth=5, regressor__min_samples_leaf=5\n"
     ]
    },
    {
     "name": "stderr",
     "output_type": "stream",
     "text": [
      "C:\\Users\\lior\\anaconda3\\lib\\site-packages\\sklearn\\pipeline.py:394: DataConversionWarning:\n",
      "\n",
      "A column-vector y was passed when a 1d array was expected. Please change the shape of y to (n_samples,), for example using ravel().\n",
      "\n"
     ]
    },
    {
     "name": "stdout",
     "output_type": "stream",
     "text": [
      "[CV 4/5; 1/4] END regressor=RandomForestRegressor(), regressor__max_depth=5, regressor__min_samples_leaf=5;, score=0.368 total time=  32.3s\n",
      "[CV 5/5; 1/4] START regressor=RandomForestRegressor(), regressor__max_depth=5, regressor__min_samples_leaf=5\n"
     ]
    },
    {
     "name": "stderr",
     "output_type": "stream",
     "text": [
      "C:\\Users\\lior\\anaconda3\\lib\\site-packages\\sklearn\\pipeline.py:394: DataConversionWarning:\n",
      "\n",
      "A column-vector y was passed when a 1d array was expected. Please change the shape of y to (n_samples,), for example using ravel().\n",
      "\n"
     ]
    },
    {
     "name": "stdout",
     "output_type": "stream",
     "text": [
      "[CV 5/5; 1/4] END regressor=RandomForestRegressor(), regressor__max_depth=5, regressor__min_samples_leaf=5;, score=0.373 total time=  30.3s\n",
      "[CV 1/5; 2/4] START regressor=RandomForestRegressor(), regressor__max_depth=5, regressor__min_samples_leaf=10\n"
     ]
    },
    {
     "name": "stderr",
     "output_type": "stream",
     "text": [
      "C:\\Users\\lior\\anaconda3\\lib\\site-packages\\sklearn\\pipeline.py:394: DataConversionWarning:\n",
      "\n",
      "A column-vector y was passed when a 1d array was expected. Please change the shape of y to (n_samples,), for example using ravel().\n",
      "\n"
     ]
    },
    {
     "name": "stdout",
     "output_type": "stream",
     "text": [
      "[CV 1/5; 2/4] END regressor=RandomForestRegressor(), regressor__max_depth=5, regressor__min_samples_leaf=10;, score=0.374 total time=  30.2s\n",
      "[CV 2/5; 2/4] START regressor=RandomForestRegressor(), regressor__max_depth=5, regressor__min_samples_leaf=10\n"
     ]
    },
    {
     "name": "stderr",
     "output_type": "stream",
     "text": [
      "C:\\Users\\lior\\anaconda3\\lib\\site-packages\\sklearn\\pipeline.py:394: DataConversionWarning:\n",
      "\n",
      "A column-vector y was passed when a 1d array was expected. Please change the shape of y to (n_samples,), for example using ravel().\n",
      "\n"
     ]
    },
    {
     "name": "stdout",
     "output_type": "stream",
     "text": [
      "[CV 2/5; 2/4] END regressor=RandomForestRegressor(), regressor__max_depth=5, regressor__min_samples_leaf=10;, score=0.376 total time=  32.9s\n",
      "[CV 3/5; 2/4] START regressor=RandomForestRegressor(), regressor__max_depth=5, regressor__min_samples_leaf=10\n"
     ]
    },
    {
     "name": "stderr",
     "output_type": "stream",
     "text": [
      "C:\\Users\\lior\\anaconda3\\lib\\site-packages\\sklearn\\pipeline.py:394: DataConversionWarning:\n",
      "\n",
      "A column-vector y was passed when a 1d array was expected. Please change the shape of y to (n_samples,), for example using ravel().\n",
      "\n"
     ]
    },
    {
     "name": "stdout",
     "output_type": "stream",
     "text": [
      "[CV 3/5; 2/4] END regressor=RandomForestRegressor(), regressor__max_depth=5, regressor__min_samples_leaf=10;, score=0.376 total time=  30.7s\n",
      "[CV 4/5; 2/4] START regressor=RandomForestRegressor(), regressor__max_depth=5, regressor__min_samples_leaf=10\n"
     ]
    },
    {
     "name": "stderr",
     "output_type": "stream",
     "text": [
      "C:\\Users\\lior\\anaconda3\\lib\\site-packages\\sklearn\\pipeline.py:394: DataConversionWarning:\n",
      "\n",
      "A column-vector y was passed when a 1d array was expected. Please change the shape of y to (n_samples,), for example using ravel().\n",
      "\n"
     ]
    },
    {
     "name": "stdout",
     "output_type": "stream",
     "text": [
      "[CV 4/5; 2/4] END regressor=RandomForestRegressor(), regressor__max_depth=5, regressor__min_samples_leaf=10;, score=0.368 total time=  30.6s\n",
      "[CV 5/5; 2/4] START regressor=RandomForestRegressor(), regressor__max_depth=5, regressor__min_samples_leaf=10\n"
     ]
    },
    {
     "name": "stderr",
     "output_type": "stream",
     "text": [
      "C:\\Users\\lior\\anaconda3\\lib\\site-packages\\sklearn\\pipeline.py:394: DataConversionWarning:\n",
      "\n",
      "A column-vector y was passed when a 1d array was expected. Please change the shape of y to (n_samples,), for example using ravel().\n",
      "\n"
     ]
    },
    {
     "name": "stdout",
     "output_type": "stream",
     "text": [
      "[CV 5/5; 2/4] END regressor=RandomForestRegressor(), regressor__max_depth=5, regressor__min_samples_leaf=10;, score=0.373 total time=  31.5s\n",
      "[CV 1/5; 3/4] START regressor=RandomForestRegressor(), regressor__max_depth=10, regressor__min_samples_leaf=5\n"
     ]
    },
    {
     "name": "stderr",
     "output_type": "stream",
     "text": [
      "C:\\Users\\lior\\anaconda3\\lib\\site-packages\\sklearn\\pipeline.py:394: DataConversionWarning:\n",
      "\n",
      "A column-vector y was passed when a 1d array was expected. Please change the shape of y to (n_samples,), for example using ravel().\n",
      "\n"
     ]
    },
    {
     "name": "stdout",
     "output_type": "stream",
     "text": [
      "[CV 1/5; 3/4] END regressor=RandomForestRegressor(), regressor__max_depth=10, regressor__min_samples_leaf=5;, score=0.419 total time= 2.8min\n",
      "[CV 2/5; 3/4] START regressor=RandomForestRegressor(), regressor__max_depth=10, regressor__min_samples_leaf=5\n"
     ]
    },
    {
     "name": "stderr",
     "output_type": "stream",
     "text": [
      "C:\\Users\\lior\\anaconda3\\lib\\site-packages\\sklearn\\pipeline.py:394: DataConversionWarning:\n",
      "\n",
      "A column-vector y was passed when a 1d array was expected. Please change the shape of y to (n_samples,), for example using ravel().\n",
      "\n"
     ]
    },
    {
     "name": "stdout",
     "output_type": "stream",
     "text": [
      "[CV 2/5; 3/4] END regressor=RandomForestRegressor(), regressor__max_depth=10, regressor__min_samples_leaf=5;, score=0.426 total time= 2.4min\n",
      "[CV 3/5; 3/4] START regressor=RandomForestRegressor(), regressor__max_depth=10, regressor__min_samples_leaf=5\n"
     ]
    },
    {
     "name": "stderr",
     "output_type": "stream",
     "text": [
      "C:\\Users\\lior\\anaconda3\\lib\\site-packages\\sklearn\\pipeline.py:394: DataConversionWarning:\n",
      "\n",
      "A column-vector y was passed when a 1d array was expected. Please change the shape of y to (n_samples,), for example using ravel().\n",
      "\n"
     ]
    },
    {
     "name": "stdout",
     "output_type": "stream",
     "text": [
      "[CV 3/5; 3/4] END regressor=RandomForestRegressor(), regressor__max_depth=10, regressor__min_samples_leaf=5;, score=0.426 total time= 2.5min\n",
      "[CV 4/5; 3/4] START regressor=RandomForestRegressor(), regressor__max_depth=10, regressor__min_samples_leaf=5\n"
     ]
    },
    {
     "name": "stderr",
     "output_type": "stream",
     "text": [
      "C:\\Users\\lior\\anaconda3\\lib\\site-packages\\sklearn\\pipeline.py:394: DataConversionWarning:\n",
      "\n",
      "A column-vector y was passed when a 1d array was expected. Please change the shape of y to (n_samples,), for example using ravel().\n",
      "\n"
     ]
    },
    {
     "name": "stdout",
     "output_type": "stream",
     "text": [
      "[CV 4/5; 3/4] END regressor=RandomForestRegressor(), regressor__max_depth=10, regressor__min_samples_leaf=5;, score=0.418 total time= 2.6min\n",
      "[CV 5/5; 3/4] START regressor=RandomForestRegressor(), regressor__max_depth=10, regressor__min_samples_leaf=5\n"
     ]
    },
    {
     "name": "stderr",
     "output_type": "stream",
     "text": [
      "C:\\Users\\lior\\anaconda3\\lib\\site-packages\\sklearn\\pipeline.py:394: DataConversionWarning:\n",
      "\n",
      "A column-vector y was passed when a 1d array was expected. Please change the shape of y to (n_samples,), for example using ravel().\n",
      "\n"
     ]
    },
    {
     "name": "stdout",
     "output_type": "stream",
     "text": [
      "[CV 5/5; 3/4] END regressor=RandomForestRegressor(), regressor__max_depth=10, regressor__min_samples_leaf=5;, score=0.418 total time= 2.6min\n",
      "[CV 1/5; 4/4] START regressor=RandomForestRegressor(), regressor__max_depth=10, regressor__min_samples_leaf=10\n"
     ]
    },
    {
     "name": "stderr",
     "output_type": "stream",
     "text": [
      "C:\\Users\\lior\\anaconda3\\lib\\site-packages\\sklearn\\pipeline.py:394: DataConversionWarning:\n",
      "\n",
      "A column-vector y was passed when a 1d array was expected. Please change the shape of y to (n_samples,), for example using ravel().\n",
      "\n"
     ]
    },
    {
     "name": "stdout",
     "output_type": "stream",
     "text": [
      "[CV 1/5; 4/4] END regressor=RandomForestRegressor(), regressor__max_depth=10, regressor__min_samples_leaf=10;, score=0.418 total time= 2.6min\n",
      "[CV 2/5; 4/4] START regressor=RandomForestRegressor(), regressor__max_depth=10, regressor__min_samples_leaf=10\n"
     ]
    },
    {
     "name": "stderr",
     "output_type": "stream",
     "text": [
      "C:\\Users\\lior\\anaconda3\\lib\\site-packages\\sklearn\\pipeline.py:394: DataConversionWarning:\n",
      "\n",
      "A column-vector y was passed when a 1d array was expected. Please change the shape of y to (n_samples,), for example using ravel().\n",
      "\n"
     ]
    },
    {
     "name": "stdout",
     "output_type": "stream",
     "text": [
      "[CV 2/5; 4/4] END regressor=RandomForestRegressor(), regressor__max_depth=10, regressor__min_samples_leaf=10;, score=0.425 total time= 2.5min\n",
      "[CV 3/5; 4/4] START regressor=RandomForestRegressor(), regressor__max_depth=10, regressor__min_samples_leaf=10\n"
     ]
    },
    {
     "name": "stderr",
     "output_type": "stream",
     "text": [
      "C:\\Users\\lior\\anaconda3\\lib\\site-packages\\sklearn\\pipeline.py:394: DataConversionWarning:\n",
      "\n",
      "A column-vector y was passed when a 1d array was expected. Please change the shape of y to (n_samples,), for example using ravel().\n",
      "\n"
     ]
    },
    {
     "name": "stdout",
     "output_type": "stream",
     "text": [
      "[CV 3/5; 4/4] END regressor=RandomForestRegressor(), regressor__max_depth=10, regressor__min_samples_leaf=10;, score=0.425 total time= 2.5min\n",
      "[CV 4/5; 4/4] START regressor=RandomForestRegressor(), regressor__max_depth=10, regressor__min_samples_leaf=10\n"
     ]
    },
    {
     "name": "stderr",
     "output_type": "stream",
     "text": [
      "C:\\Users\\lior\\anaconda3\\lib\\site-packages\\sklearn\\pipeline.py:394: DataConversionWarning:\n",
      "\n",
      "A column-vector y was passed when a 1d array was expected. Please change the shape of y to (n_samples,), for example using ravel().\n",
      "\n"
     ]
    },
    {
     "name": "stdout",
     "output_type": "stream",
     "text": [
      "[CV 4/5; 4/4] END regressor=RandomForestRegressor(), regressor__max_depth=10, regressor__min_samples_leaf=10;, score=0.418 total time= 2.5min\n",
      "[CV 5/5; 4/4] START regressor=RandomForestRegressor(), regressor__max_depth=10, regressor__min_samples_leaf=10\n"
     ]
    },
    {
     "name": "stderr",
     "output_type": "stream",
     "text": [
      "C:\\Users\\lior\\anaconda3\\lib\\site-packages\\sklearn\\pipeline.py:394: DataConversionWarning:\n",
      "\n",
      "A column-vector y was passed when a 1d array was expected. Please change the shape of y to (n_samples,), for example using ravel().\n",
      "\n"
     ]
    },
    {
     "name": "stdout",
     "output_type": "stream",
     "text": [
      "[CV 5/5; 4/4] END regressor=RandomForestRegressor(), regressor__max_depth=10, regressor__min_samples_leaf=10;, score=0.417 total time= 2.5min\n"
     ]
    },
    {
     "name": "stderr",
     "output_type": "stream",
     "text": [
      "C:\\Users\\lior\\anaconda3\\lib\\site-packages\\sklearn\\pipeline.py:394: DataConversionWarning:\n",
      "\n",
      "A column-vector y was passed when a 1d array was expected. Please change the shape of y to (n_samples,), for example using ravel().\n",
      "\n"
     ]
    },
    {
     "data": {
      "text/plain": [
       "GridSearchCV(cv=5,\n",
       "             estimator=Pipeline(steps=[('preprocessor',\n",
       "                                        ColumnTransformer(transformers=[('numeric',\n",
       "                                                                         Pipeline(steps=[('imputer',\n",
       "                                                                                          SimpleImputer()),\n",
       "                                                                                         ('standardscaler',\n",
       "                                                                                          StandardScaler())]),\n",
       "                                                                         ['price',\n",
       "                                                                          'year']),\n",
       "                                                                        ('category',\n",
       "                                                                         Pipeline(steps=[('imputer',\n",
       "                                                                                          SimpleImputer(fill_value='Unknown',\n",
       "                                                                                                        strategy='constant')),\n",
       "                                                                                         ('onehotencoding',\n",
       "                                                                                          OneHotEncoder(handle_unknown='ignore'))]),\n",
       "                                                                         ['country',\n",
       "                                                                          'taster_name',\n",
       "                                                                          'variety',\n",
       "                                                                          'designation',\n",
       "                                                                          'province',\n",
       "                                                                          'winery',\n",
       "                                                                          'wine_category',\n",
       "                                                                          'region_1'])])),\n",
       "                                       ('regressor', RandomForestRegressor())]),\n",
       "             param_grid={'regressor': [RandomForestRegressor(max_depth=10,\n",
       "                                                             min_samples_leaf=5)],\n",
       "                         'regressor__max_depth': [5, 10],\n",
       "                         'regressor__min_samples_leaf': [5, 10]},\n",
       "             scoring='r2', verbose=42)"
      ]
     },
     "execution_count": 5,
     "metadata": {},
     "output_type": "execute_result"
    }
   ],
   "source": [
    "\n",
    "# random_forest_pipeline = Pipeline([\n",
    "#     ('preprocessor', preprocessing),\n",
    "#     ('regressor', RandomForestRegressor())\n",
    "# ])\n",
    "\n",
    "\n",
    "# param_grid = {\n",
    "#     'regressor': [RandomForestRegressor()],\n",
    "#     'regressor__max_depth': [5, 10],\n",
    "#     'regressor__min_samples_leaf':[5, 10]\n",
    "# }\n",
    "\n",
    "# grid_search = GridSearchCV(random_forest_pipeline, param_grid, cv = 5, scoring = 'r2', verbose = 42)\n",
    "# grid_search.fit(X_train, y_train)"
   ]
  },
  {
   "cell_type": "code",
   "execution_count": 6,
   "metadata": {},
   "outputs": [
    {
     "name": "stderr",
     "output_type": "stream",
     "text": [
      "C:\\Users\\lior\\anaconda3\\lib\\site-packages\\sklearn\\pipeline.py:394: DataConversionWarning:\n",
      "\n",
      "A column-vector y was passed when a 1d array was expected. Please change the shape of y to (n_samples,), for example using ravel().\n",
      "\n"
     ]
    }
   ],
   "source": [
    "\n",
    "# best_model = grid_search.best_estimator_\n",
    "\n",
    "# best_model.fit(X_train, y_train)\n",
    "\n",
    "# prediction = best_model.predict(X_test)"
   ]
  },
  {
   "cell_type": "code",
   "execution_count": 9,
   "metadata": {},
   "outputs": [
    {
     "name": "stdout",
     "output_type": "stream",
     "text": [
      "5.253596249084397 0.4292612151072204\n"
     ]
    }
   ],
   "source": [
    "# from sklearn.metrics import r2_score\n",
    "# prediction_mse = mean_squared_error(y_test, prediction)\n",
    "# prediction_r2 = r2_score(y_test, prediction)\n",
    "# print (prediction_mse, prediction_r2)"
   ]
  },
  {
   "cell_type": "code",
   "execution_count": 12,
   "metadata": {},
   "outputs": [],
   "source": [
    "all_results = pd.DataFrame(grid_search.cv_results_).sort_values(by='rank_test_score',ascending=True)\n",
    "\n",
    "best_result = all_results.iloc[0]\n",
    "all_results.head()\n",
    "\n",
    "summary_df.loc[len(summary_df.index)] = ['Ridge with bag of words', best_result.mean_fit_time, best_result.params, best_result.mean_test_score, prediction_mse, prediction_r2]"
   ]
  },
  {
   "cell_type": "code",
   "execution_count": 25,
   "metadata": {},
   "outputs": [],
   "source": [
    "summary_df.loc[6] = [\"Linear Regression with bag of words\",4.4,\"{'regressor': [Ridge(alpha=10)],'regressor__alpha': [0.001, 0.01, 0.1, 1, 10]}\",0.749,2.3059104010313902,0.7494911222792112]"
   ]
  },
  {
   "cell_type": "code",
   "execution_count": 27,
   "metadata": {},
   "outputs": [],
   "source": [
    "summary_df.to_csv(\"summary_df.csv\")"
   ]
  },
  {
   "cell_type": "code",
   "execution_count": null,
   "metadata": {},
   "outputs": [],
   "source": []
  },
  {
   "cell_type": "code",
   "execution_count": null,
   "metadata": {},
   "outputs": [],
   "source": [
    "# ridge with tfidf"
   ]
  },
  {
   "cell_type": "code",
   "execution_count": 54,
   "metadata": {},
   "outputs": [
    {
     "name": "stdout",
     "output_type": "stream",
     "text": [
      "Fitting 5 folds for each of 5 candidates, totalling 25 fits\n",
      "[CV 1/5; 1/5] START regressor=Ridge(), regressor__alpha=0.001...................\n",
      "[CV 1/5; 1/5] END regressor=Ridge(), regressor__alpha=0.001;, score=0.667 total time=  11.1s\n",
      "[CV 2/5; 1/5] START regressor=Ridge(), regressor__alpha=0.001...................\n",
      "[CV 2/5; 1/5] END regressor=Ridge(), regressor__alpha=0.001;, score=0.666 total time=  11.4s\n",
      "[CV 3/5; 1/5] START regressor=Ridge(), regressor__alpha=0.001...................\n",
      "[CV 3/5; 1/5] END regressor=Ridge(), regressor__alpha=0.001;, score=0.673 total time=  11.2s\n",
      "[CV 4/5; 1/5] START regressor=Ridge(), regressor__alpha=0.001...................\n",
      "[CV 4/5; 1/5] END regressor=Ridge(), regressor__alpha=0.001;, score=0.664 total time=   9.4s\n",
      "[CV 5/5; 1/5] START regressor=Ridge(), regressor__alpha=0.001...................\n",
      "[CV 5/5; 1/5] END regressor=Ridge(), regressor__alpha=0.001;, score=0.672 total time=   9.3s\n",
      "[CV 1/5; 2/5] START regressor=Ridge(), regressor__alpha=0.01....................\n",
      "[CV 1/5; 2/5] END regressor=Ridge(), regressor__alpha=0.01;, score=0.672 total time=   9.4s\n",
      "[CV 2/5; 2/5] START regressor=Ridge(), regressor__alpha=0.01....................\n",
      "[CV 2/5; 2/5] END regressor=Ridge(), regressor__alpha=0.01;, score=0.670 total time=   8.8s\n",
      "[CV 3/5; 2/5] START regressor=Ridge(), regressor__alpha=0.01....................\n",
      "[CV 3/5; 2/5] END regressor=Ridge(), regressor__alpha=0.01;, score=0.676 total time=   9.7s\n",
      "[CV 4/5; 2/5] START regressor=Ridge(), regressor__alpha=0.01....................\n",
      "[CV 4/5; 2/5] END regressor=Ridge(), regressor__alpha=0.01;, score=0.668 total time=   9.1s\n",
      "[CV 5/5; 2/5] START regressor=Ridge(), regressor__alpha=0.01....................\n",
      "[CV 5/5; 2/5] END regressor=Ridge(), regressor__alpha=0.01;, score=0.676 total time=   9.4s\n",
      "[CV 1/5; 3/5] START regressor=Ridge(), regressor__alpha=0.1.....................\n",
      "[CV 1/5; 3/5] END regressor=Ridge(), regressor__alpha=0.1;, score=0.696 total time=   8.4s\n",
      "[CV 2/5; 3/5] START regressor=Ridge(), regressor__alpha=0.1.....................\n",
      "[CV 2/5; 3/5] END regressor=Ridge(), regressor__alpha=0.1;, score=0.694 total time=   8.1s\n",
      "[CV 3/5; 3/5] START regressor=Ridge(), regressor__alpha=0.1.....................\n",
      "[CV 3/5; 3/5] END regressor=Ridge(), regressor__alpha=0.1;, score=0.700 total time=   8.3s\n",
      "[CV 4/5; 3/5] START regressor=Ridge(), regressor__alpha=0.1.....................\n",
      "[CV 4/5; 3/5] END regressor=Ridge(), regressor__alpha=0.1;, score=0.690 total time=   9.2s\n",
      "[CV 5/5; 3/5] START regressor=Ridge(), regressor__alpha=0.1.....................\n",
      "[CV 5/5; 3/5] END regressor=Ridge(), regressor__alpha=0.1;, score=0.699 total time=  10.3s\n",
      "[CV 1/5; 4/5] START regressor=Ridge(), regressor__alpha=1.......................\n",
      "[CV 1/5; 4/5] END regressor=Ridge(), regressor__alpha=1;, score=0.738 total time=   6.5s\n",
      "[CV 2/5; 4/5] START regressor=Ridge(), regressor__alpha=1.......................\n",
      "[CV 2/5; 4/5] END regressor=Ridge(), regressor__alpha=1;, score=0.736 total time=   6.7s\n",
      "[CV 3/5; 4/5] START regressor=Ridge(), regressor__alpha=1.......................\n",
      "[CV 3/5; 4/5] END regressor=Ridge(), regressor__alpha=1;, score=0.737 total time=   5.5s\n",
      "[CV 4/5; 4/5] START regressor=Ridge(), regressor__alpha=1.......................\n",
      "[CV 4/5; 4/5] END regressor=Ridge(), regressor__alpha=1;, score=0.731 total time=   5.9s\n",
      "[CV 5/5; 4/5] START regressor=Ridge(), regressor__alpha=1.......................\n",
      "[CV 5/5; 4/5] END regressor=Ridge(), regressor__alpha=1;, score=0.740 total time=   6.6s\n",
      "[CV 1/5; 5/5] START regressor=Ridge(), regressor__alpha=10......................\n",
      "[CV 1/5; 5/5] END regressor=Ridge(), regressor__alpha=10;, score=0.749 total time=   4.4s\n",
      "[CV 2/5; 5/5] START regressor=Ridge(), regressor__alpha=10......................\n",
      "[CV 2/5; 5/5] END regressor=Ridge(), regressor__alpha=10;, score=0.747 total time=   4.4s\n",
      "[CV 3/5; 5/5] START regressor=Ridge(), regressor__alpha=10......................\n",
      "[CV 3/5; 5/5] END regressor=Ridge(), regressor__alpha=10;, score=0.746 total time=   5.0s\n",
      "[CV 4/5; 5/5] START regressor=Ridge(), regressor__alpha=10......................\n",
      "[CV 4/5; 5/5] END regressor=Ridge(), regressor__alpha=10;, score=0.741 total time=   4.4s\n",
      "[CV 5/5; 5/5] START regressor=Ridge(), regressor__alpha=10......................\n",
      "[CV 5/5; 5/5] END regressor=Ridge(), regressor__alpha=10;, score=0.751 total time=   4.3s\n"
     ]
    },
    {
     "data": {
      "text/plain": [
       "GridSearchCV(cv=5,\n",
       "             estimator=Pipeline(steps=[('preprocessor',\n",
       "                                        ColumnTransformer(transformers=[('numeric',\n",
       "                                                                         Pipeline(steps=[('imputer',\n",
       "                                                                                          SimpleImputer()),\n",
       "                                                                                         ('standardscaler',\n",
       "                                                                                          StandardScaler())]),\n",
       "                                                                         ['price',\n",
       "                                                                          'year']),\n",
       "                                                                        ('category',\n",
       "                                                                         Pipeline(steps=[('imputer',\n",
       "                                                                                          SimpleImputer(fill_value='Unknown',\n",
       "                                                                                                        strategy='constant')),\n",
       "                                                                                         ('onehotencoding',\n",
       "                                                                                          OneHotEncoder(handle_unknown='ignore'))]),\n",
       "                                                                         ['country',\n",
       "                                                                          'taster_name',\n",
       "                                                                          'variety',\n",
       "                                                                          'designation',\n",
       "                                                                          'province',\n",
       "                                                                          'winery',\n",
       "                                                                          'wine_category',\n",
       "                                                                          'region_1']),\n",
       "                                                                        ('text',\n",
       "                                                                         Pipeline(steps=[('countvectorizer',\n",
       "                                                                                          CountVectorizer(max_features=1500))]),\n",
       "                                                                         'description')])),\n",
       "                                       ('regressor', Ridge())]),\n",
       "             param_grid={'regressor': [Ridge(alpha=10)],\n",
       "                         'regressor__alpha': [0.001, 0.01, 0.1, 1, 10]},\n",
       "             scoring='r2', verbose=42)"
      ]
     },
     "execution_count": 54,
     "metadata": {},
     "output_type": "execute_result"
    }
   ],
   "source": [
    "from sklearn.linear_model import Lasso, Ridge\n",
    "\n",
    "ridge_pipeline = Pipeline([\n",
    "    ('preprocessor', preprocessing),\n",
    "    ('regressor', Ridge())\n",
    "])\n",
    "\n",
    "\n",
    "param_grid = {\n",
    "    'regressor': [Ridge()],\n",
    "    'regressor__alpha': [0.001,0.01,0.1,1,10]\n",
    "}\n",
    "\n",
    "grid_search = GridSearchCV(ridge_pipeline, param_grid, cv = 5, scoring = 'r2', verbose = 42)\n",
    "grid_search.fit(X_train, y_train)"
   ]
  },
  {
   "cell_type": "code",
   "execution_count": 55,
   "metadata": {},
   "outputs": [],
   "source": [
    "best_model = grid_search.best_estimator_\n",
    "best_model.fit(X_train, y_train)\n",
    "prediction = best_model.predict(X_test)"
   ]
  },
  {
   "cell_type": "code",
   "execution_count": 56,
   "metadata": {},
   "outputs": [
    {
     "name": "stdout",
     "output_type": "stream",
     "text": [
      "2.3059104010313902 0.7494911222792112\n"
     ]
    }
   ],
   "source": [
    "prediction_mse = mean_squared_error(y_test, prediction)\n",
    "prediction_r2 = r2_score(y_test, prediction)\n",
    "print (prediction_mse, prediction_r2)"
   ]
  },
  {
   "cell_type": "code",
   "execution_count": 57,
   "metadata": {},
   "outputs": [],
   "source": [
    "all_results = pd.DataFrame(grid_search.cv_results_).sort_values(by='rank_test_score',ascending=True)\n",
    "\n",
    "best_result = all_results.iloc[0]\n",
    "all_results.head()\n",
    "\n",
    "summary_df.loc[len(summary_df.index)] = ['Ridge with bag of words', best_result.mean_fit_time, best_result.params, best_result.mean_test_score, prediction_mse, prediction_r2]"
   ]
  },
  {
   "cell_type": "code",
   "execution_count": 62,
   "metadata": {},
   "outputs": [
    {
     "data": {
      "text/plain": [
       "{'regressor': RandomForestRegressor(max_depth=15, min_samples_leaf=10),\n",
       " 'regressor__max_depth': 15,\n",
       " 'regressor__min_samples_leaf': 10}"
      ]
     },
     "execution_count": 62,
     "metadata": {},
     "output_type": "execute_result"
    }
   ],
   "source": [
    "summary_df"
   ]
  }
 ],
 "metadata": {
  "kernelspec": {
   "display_name": "Python 3 (ipykernel)",
   "language": "python",
   "name": "python3"
  },
  "language_info": {
   "codemirror_mode": {
    "name": "ipython",
    "version": 3
   },
   "file_extension": ".py",
   "mimetype": "text/x-python",
   "name": "python",
   "nbconvert_exporter": "python",
   "pygments_lexer": "ipython3",
   "version": "3.9.12"
  }
 },
 "nbformat": 4,
 "nbformat_minor": 4
}
